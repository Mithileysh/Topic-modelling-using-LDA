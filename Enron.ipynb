{
 "cells": [
  {
   "cell_type": "markdown",
   "metadata": {},
   "source": [
    "# Topic Modelling of the Enron corpus, using LDA (Latent Dirichlet Allocation)"
   ]
  },
  {
   "cell_type": "markdown",
   "metadata": {},
   "source": [
    "We will look at the \"sent\" directory of each of the 150 employees of Enron. We need to import the data and in turn, clean up the data. Info from [here](https://rforwork.info/2013/11/03/a-rather-nosy-topic-model-analysis-of-the-enron-email-corpus/) and here [here](https://rstudio-pubs-static.s3.amazonaws.com/79360_850b2a69980c4488b1db95987a24867a.html) proved to be very useful. Also see http://www.colorado.edu/ics/sites/default/files/attached-files/01-11_0.pdf "
   ]
  },
  {
   "cell_type": "code",
   "execution_count": 1,
   "metadata": {
    "collapsed": false
   },
   "outputs": [
    {
     "name": "stdout",
     "output_type": "stream",
     "text": [
      "Installed autotime.py. To use it, type:\n",
      "  %load_ext autotime\n"
     ]
    },
    {
     "name": "stderr",
     "output_type": "stream",
     "text": [
      "/home/peter/anaconda3/lib/python3.5/site-packages/IPython/core/magics/extension.py:47: UserWarning: %install_ext` is deprecated, please distribute your extension(s)as a python packages.\n",
      "  \"as a python packages.\", UserWarning)\n"
     ]
    }
   ],
   "source": [
    "# We use the following magic commands to time the cells in the notebook\n",
    "%install_ext https://raw.github.com/cpcloud/ipython-autotime/master/autotime.py\n",
    "%load_ext autotime\n",
    "\n",
    "from os import listdir, chdir\n",
    "import re"
   ]
  },
  {
   "cell_type": "markdown",
   "metadata": {},
   "source": [
    "We are going to place all the emails of each user into one large list. In order to utalise the LDA algorithm we require there to me multiple documents. The obvious question that arises is whether to consider each email as a seperate document, or to consider the collection of each user's emails as a seperate document. For example:\n",
    "\n",
    "Consider person $A$ has emails $A_1$, $A_2$, $A_3$ and person $B$ has emails $B_1$ and $B_2$. Then we can create a list that is L = [$A_1$, $A_2$, $A_3$, $B_1$, $B_2$] or L = [$A_1A_2A_3$, $B_1B_2$]. For now, all the emails are going to be treated as seperate documents. \n",
    "\n",
    "Once the LDA algorithm has been implemented, we want to be able to list all the documents that fall under a given catagory. \n",
    "\n",
    "We now set up the regular expressions to remove the 'clutter' from the emails.\n",
    "(Note, they are purposefully long to avoid successive searches through large data)\n",
    "\n",
    "An alternate set of regular expressions are also included. These are seperated and thus take longer to iterate. "
   ]
  },
  {
   "cell_type": "code",
   "execution_count": 2,
   "metadata": {
    "collapsed": false
   },
   "outputs": [
    {
     "name": "stdout",
     "output_type": "stream",
     "text": [
      "time: 18.9 ms\n"
     ]
    }
   ],
   "source": [
    "# Defining regular expressions \n",
    "\n",
    "re0 = re.compile('>')\n",
    "re1 = re.compile('(Message-ID(.*?\\n)*X-FileName.*?\\n)|'\n",
    "                 '(To:(.*?\\n)*?Subject.*?\\n)|'\n",
    "                 '(< (Message-ID(.*?\\n)*.*?X-FileName.*?\\n))')\n",
    "re2 = re.compile('(.+)@(.+)') # Remove emails\n",
    "re3 = re.compile('\\s(-----)(.*?)(-----)\\s', re.DOTALL)\n",
    "re4 = re.compile('''\\s(\\*\\*\\*\\*\\*)(.*?)(\\*\\*\\*\\*\\*)\\s''', re.DOTALL)\n",
    "re5 = re.compile('\\s(_____)(.*?)(_____)\\s', re.DOTALL)\n",
    "re6 = re.compile('\\n( )*-.*')\n",
    "re7 = re.compile('\\n( )*\\d.*')\n",
    "re8 = re.compile('(\\n( )*[\\w]+($|( )*\\n))|(\\n( )*(\\w)+(\\s)+(\\w)+(( )*\\n)|$)|(\\n( )*(\\w)+(\\s)+(\\w)+(\\s)+(\\w)+(( )*\\n)|$)')\n",
    "re9 = re.compile('.*orwarded.*')\n",
    "re10 = re.compile('From.*|Sent.*|cc.*|Subject.*|Embedded.*|http.*|\\w+\\.\\w+|.*\\d\\d/\\d\\d/\\d\\d\\d\\d.*')\n",
    "re11 = re.compile(' [\\d:;,.]+ ')\n",
    "\n"
   ]
  },
  {
   "cell_type": "markdown",
   "metadata": {},
   "source": [
    "We now build a list of strings - each string being an email (document). Each document is filtered according to the regular expressions above. We also build a dictionary, namely, docs_num_dict that stores for each iteration of a name, the corresponding name and as well as a list of the filtered text."
   ]
  },
  {
   "cell_type": "code",
   "execution_count": 3,
   "metadata": {
    "collapsed": false
   },
   "outputs": [
    {
     "name": "stdout",
     "output_type": "stream",
     "text": [
      "time: 2min 12s\n"
     ]
    }
   ],
   "source": [
    "from collections import defaultdict\n",
    "\n",
    "docs = []\n",
    "docs_num_dict = [] # Stores email sender's name and number\n",
    "\n",
    "chdir('/home/peter/Downloads/enron')\n",
    "# For each user we extract all the emails in their inbox\n",
    "\n",
    "names = [i for i in listdir()]\n",
    "m = 0\n",
    "for name in names:\n",
    "    sent = '/home/peter/Downloads/enron/' + str(name) + '/sent'   \n",
    "    try: \n",
    "        chdir(sent)\n",
    "        d = []\n",
    "        for email in listdir():          \n",
    "            text = open(email,'r').read()\n",
    "            # Regular expressions are used below to remove 'clutter'\n",
    "            text = re.sub(re0, ' ', text)\n",
    "            text = re.sub(re1, ' ', text)\n",
    "            text = re.sub(re2, ' ', text)\n",
    "            text = re.sub(re3, ' ', text)\n",
    "            text = re.sub(re4, ' ', text)\n",
    "            text = re.sub(re5, ' ', text)\n",
    "            text = re.sub(re6, ' ', text)\n",
    "            text = re.sub(re7, ' ', text)\n",
    "            text = re.sub(re8, ' ', text)\n",
    "            text = re.sub(re9, ' ', text)\n",
    "            text = re.sub(re10, ' ', text)\n",
    "            text = re.sub(re11, ' ', text)\n",
    "            docs.append(text)\n",
    "            d.append(text)\n",
    "        docs_num_dict.append((m,[name,d]))\n",
    "        m += 1\n",
    "    except:\n",
    "        pass\n",
    "    \n",
    "docs_num_dict = dict(docs_num_dict)"
   ]
  },
  {
   "cell_type": "markdown",
   "metadata": {},
   "source": [
    "We can make use of either a) Stemming or b) Lemmatizing to find word roots. See [here](http://textminingonline.com/dive-into-nltk-part-iv-stemming-and-lemmatization) for a more detailed explination of the two. Right below, the lemmatizer is implemented. \n",
    "\n",
    "The stemmer generally cuts off prefixes of words according to some set rules. Thus words like 'facilitate' and shortened to 'faci' - this can be confusing and requires that the words are 're-built' before displayed. The lemmatizer also used set rules for words of a certain form, but it has the advantage of comparing words to a dictionary.\n",
    "\n",
    "In general, the lemmatizer will have preference of use. \n",
    "\n",
    "While creating a new 'texts' variable that stores the filtered documents, we also edit the docs_num_dict to update the words according to the tokenize,stop word, lemmatize procedure."
   ]
  },
  {
   "cell_type": "markdown",
   "metadata": {},
   "source": [
    "### Using the lemmatizer (consider using this instead of the stemmer):"
   ]
  },
  {
   "cell_type": "code",
   "execution_count": 4,
   "metadata": {
    "collapsed": false
   },
   "outputs": [
    {
     "name": "stdout",
     "output_type": "stream",
     "text": [
      "time: 53.1 s\n"
     ]
    }
   ],
   "source": [
    "# To build the dictionary\n",
    "from collections import defaultdict\n",
    "d = defaultdict(int)\n",
    "\n",
    "# We now employ the techniques as outline in the second link at the top - see **\n",
    "from stop_words import get_stop_words\n",
    "from nltk.stem.wordnet import WordNetLemmatizer\n",
    "from nltk.tokenize import RegexpTokenizer\n",
    "tokenizer = RegexpTokenizer(r'\\w+')\n",
    "\n",
    "texts = []\n",
    "\n",
    "for i in range(0,len(docs_num_dict.items())):\n",
    "    new_docs_num_dict_1 = []\n",
    "    for doc in docs_num_dict[i][1]:\n",
    "        # Tokenization\n",
    "        raw = doc.lower()\n",
    "        tokens = tokenizer.tokenize(raw)\n",
    "\n",
    "        # Removing stop words\n",
    "\n",
    "        # create English stop words list\n",
    "        en_stop = get_stop_words('en')\n",
    "\n",
    "        # remove stop words from tokens\n",
    "        stopped_tokens = [i for i in tokens if not i in en_stop]\n",
    "\n",
    "        # Stemming \n",
    "\n",
    "        # Create wordnet_lemmatizer of class WordNetLemmatizer\n",
    "        wordnet_lemmatizer = WordNetLemmatizer()\n",
    "\n",
    "        # lemmatize token\n",
    "        lemmatized_tokens = [wordnet_lemmatizer.lemmatize(i) for i in stopped_tokens]\n",
    "\n",
    "        texts.append(lemmatized_tokens)\n",
    "        new_docs_num_dict_1.append(lemmatized_tokens)\n",
    "\n",
    "        # We now build the dictionary\n",
    "        for word in lemmatized_tokens:\n",
    "            d[word] += 1  \n",
    "    docs_num_dict[i][1] = new_docs_num_dict_1\n"
   ]
  },
  {
   "cell_type": "markdown",
   "metadata": {},
   "source": [
    "The texts file as well as the dictinary d (this counts the total number of times a given word is used in the corpus) is saved."
   ]
  },
  {
   "cell_type": "code",
   "execution_count": 5,
   "metadata": {
    "collapsed": false
   },
   "outputs": [
    {
     "name": "stdout",
     "output_type": "stream",
     "text": [
      "time: 3.52 s\n"
     ]
    }
   ],
   "source": [
    "import json\n",
    "\n",
    "chdir('/home/peter/Topic_Modelling/LDA/')\n",
    "\n",
    "# Save the texts file as texts_raw (will be edited again below)\n",
    "with open('texts_raw.jsn','w') as f:\n",
    "    json.dump(texts,f)\n",
    "f.close()\n",
    "\n",
    "# Save the dictionary d\n",
    "with open('d.jsn','w') as f:\n",
    "    json.dump(d,f)\n",
    "f.close()"
   ]
  },
  {
   "cell_type": "code",
   "execution_count": 6,
   "metadata": {
    "collapsed": false
   },
   "outputs": [
    {
     "name": "stdout",
     "output_type": "stream",
     "text": [
      "time: 610 ms\n"
     ]
    }
   ],
   "source": [
    "import json\n",
    "\n",
    "chdir('/home/peter/Topic_Modelling/LDA/')\n",
    "\n",
    "# Loading the raw texts file\n",
    "with open('texts_raw.jsn','r') as f:\n",
    "    texts = json.load(f)\n",
    "f.close()\n",
    "    \n",
    "# Loading the dictionary d \n",
    "with open('d.jsn','r') as f:\n",
    "    d = json.load(f)\n",
    "f.close()"
   ]
  },
  {
   "cell_type": "markdown",
   "metadata": {},
   "source": [
    "We now build the dictionary of dictionaries, docs_name_dict. The dictinary associates to the names of each employee, a dictionary that stores all the words used by the given person, as well as the number of times they used each of these words. "
   ]
  },
  {
   "cell_type": "code",
   "execution_count": 7,
   "metadata": {
    "collapsed": false
   },
   "outputs": [
    {
     "name": "stdout",
     "output_type": "stream",
     "text": [
      "time: 969 ms\n"
     ]
    }
   ],
   "source": [
    "from collections import defaultdict\n",
    "docs_name_dict = []\n",
    "\n",
    "for i in range(0,len(docs_num_dict.items())):\n",
    "    temp_dict = defaultdict(int)\n",
    "    for j in docs_num_dict[i][1]:\n",
    "        for k in j:\n",
    "            temp_dict[k] += 1\n",
    "    # Append the temporary dictionary to docs_name_dict\n",
    "    docs_name_dict.append((docs_num_dict[i][0],temp_dict)) \n",
    "docs_name_dict = dict(docs_name_dict)"
   ]
  },
  {
   "cell_type": "markdown",
   "metadata": {},
   "source": [
    "We now want to remove the words from our documents that cause clutter. We will remove all the words that appear in more than 20% of documents as well as removing all the words that occur in less than 4 of the documents. We have a dictionary that counts the number of times a word in present across all the $\\pm57000$ documents. \n",
    "\n",
    "To further enhance the quality of the text we analyse, the loops below remove all words of length 1 or 2. "
   ]
  },
  {
   "cell_type": "code",
   "execution_count": 8,
   "metadata": {
    "collapsed": false
   },
   "outputs": [
    {
     "name": "stdout",
     "output_type": "stream",
     "text": [
      "time: 21.6 s\n"
     ]
    }
   ],
   "source": [
    "num_docs = len(texts)\n",
    "temp_texts = texts\n",
    "texts= []\n",
    "upper_lim = int(0.20*num_docs)\n",
    "\n",
    "for doc in temp_texts:\n",
    "    temp_doc = []\n",
    "    for word in doc:\n",
    "        # If the word is in the required interval, we add it to a NEW texts variable\n",
    "        if 4 < d[word] < upper_lim and len(word) > 2:\n",
    "            temp_doc.append(word)\n",
    "        # If the word is not in the required interval, \n",
    "        # we lower the index of the word in the docs_name_dict dictinoary\n",
    "        else:\n",
    "            for group in docs_name_dict.items():\n",
    "                person = group[0]\n",
    "                if word in docs_name_dict[person]:\n",
    "                    if docs_name_dict[person][word] > 1:\n",
    "                        docs_name_dict[person][word] -= 1\n",
    "                    else:\n",
    "                        del docs_name_dict[person][word]\n",
    "    texts.append(temp_doc)"
   ]
  },
  {
   "cell_type": "markdown",
   "metadata": {},
   "source": [
    "We proceed to save the refined texts file and the dictionary, docs_name_dict."
   ]
  },
  {
   "cell_type": "code",
   "execution_count": 9,
   "metadata": {
    "collapsed": false
   },
   "outputs": [
    {
     "name": "stdout",
     "output_type": "stream",
     "text": [
      "time: 2.66 s\n"
     ]
    }
   ],
   "source": [
    "import json\n",
    "chdir('/home/peter/Topic_Modelling/LDA/')\n",
    "\n",
    "# We save the new 'refined' texts file\n",
    "with open('texts.jsn','w') as f:\n",
    "    json.dump(texts,f)\n",
    "f.close()"
   ]
  },
  {
   "cell_type": "code",
   "execution_count": 10,
   "metadata": {
    "collapsed": false
   },
   "outputs": [
    {
     "name": "stdout",
     "output_type": "stream",
     "text": [
      "time: 99.8 ms\n"
     ]
    }
   ],
   "source": [
    "import pickle\n",
    "chdir('/home/peter/Topic_Modelling/LDA/')\n",
    "\n",
    "# We save the docs_name_dict global person, word-count dictionary\n",
    "pickle.dump( docs_name_dict , open( \"docs_name_dict.p\", \"wb\" ) )"
   ]
  },
  {
   "cell_type": "code",
   "execution_count": 11,
   "metadata": {
    "collapsed": false
   },
   "outputs": [
    {
     "name": "stdout",
     "output_type": "stream",
     "text": [
      "time: 522 ms\n"
     ]
    }
   ],
   "source": [
    "import json\n",
    "chdir('/home/peter/Topic_Modelling/LDA/')\n",
    "\n",
    "# Loading the texts file\n",
    "with open('texts.jsn', 'r') as f:\n",
    "    texts = json.load(f)\n",
    "f.close()"
   ]
  },
  {
   "cell_type": "code",
   "execution_count": 12,
   "metadata": {
    "collapsed": false
   },
   "outputs": [
    {
     "name": "stdout",
     "output_type": "stream",
     "text": [
      "time: 90.2 ms\n"
     ]
    }
   ],
   "source": [
    "import pickle\n",
    "chdir('/home/peter/Topic_Modelling/LDA/')\n",
    "\n",
    "# Loading the docs_name_dict dicitonary\n",
    "docs_name_dict = pickle.load( open( \"docs_name_dict.p\", \"rb\" ) )"
   ]
  },
  {
   "cell_type": "markdown",
   "metadata": {},
   "source": [
    "Below, we construct the document term matrix whereafter the fairly lengthy process of constructing the model takes place. Thus far the model seems be linear. With a single pass, the model takes just upward of a minute to execute, whereas for 5 passes, the model takes roughly 5.5 minutes.\n",
    "\n",
    "The model was run for 350 passes and took 316 minutes to execute."
   ]
  },
  {
   "cell_type": "code",
   "execution_count": 13,
   "metadata": {
    "collapsed": false
   },
   "outputs": [
    {
     "name": "stdout",
     "output_type": "stream",
     "text": [
      "time: 9.23 s\n"
     ]
    }
   ],
   "source": [
    "# Constructing a document-term matrix\n",
    "\n",
    "from gensim import corpora, models\n",
    "\n",
    "dictionary = corpora.Dictionary(texts)\n",
    "\n",
    "corpus = [dictionary.doc2bow(text) for text in texts]\n"
   ]
  },
  {
   "cell_type": "code",
   "execution_count": 14,
   "metadata": {
    "collapsed": false
   },
   "outputs": [
    {
     "name": "stdout",
     "output_type": "stream",
     "text": [
      "time: 7h 13min 41s\n"
     ]
    }
   ],
   "source": [
    "ldamodel = models.ldamodel.LdaModel(corpus, num_topics=20, id2word = dictionary, passes=350)"
   ]
  },
  {
   "cell_type": "markdown",
   "metadata": {},
   "source": [
    "We save both the LDA data as well as the results. We can reanalyse later. See the folder called LDAdata.\n",
    "\n",
    "To load the files again:\n",
    "\n",
    "ldamodel = models.LdaModel.load('ldamodel.model') and dictionary = corpora.Dictionary.load('dictionary')\n"
   ]
  },
  {
   "cell_type": "code",
   "execution_count": 15,
   "metadata": {
    "collapsed": false
   },
   "outputs": [
    {
     "name": "stdout",
     "output_type": "stream",
     "text": [
      "time: 14.1 s\n"
     ]
    }
   ],
   "source": [
    "import json\n",
    "\n",
    "chdir('/home/peter/Topic_Modelling/LDA/LDAdata_results')\n",
    "\n",
    "# Saving the dictionary\n",
    "dictionary.save('dictionary')\n",
    "\n",
    "# Saving the corpus    \n",
    "with open('corpus.jsn','w') as f:\n",
    "    json.dump(corpus,f)    \n",
    "f.close()\n",
    "\n",
    "# Saving the ldamodel\n",
    "ldamodel.save('ldamodel')"
   ]
  },
  {
   "cell_type": "code",
   "execution_count": 16,
   "metadata": {
    "collapsed": false
   },
   "outputs": [
    {
     "name": "stdout",
     "output_type": "stream",
     "text": [
      "time: 16.5 ms\n"
     ]
    }
   ],
   "source": [
    "from gensim import corpora\n",
    "\n",
    "chdir('/home/peter/Topic_Modelling/LDA/LDAdata_results')\n",
    "\n",
    "# Load dictionary\n",
    "dictionary = corpora.Dictionary.load('dictionary')"
   ]
  },
  {
   "cell_type": "code",
   "execution_count": 17,
   "metadata": {
    "collapsed": false
   },
   "outputs": [
    {
     "name": "stdout",
     "output_type": "stream",
     "text": [
      "time: 66.5 ms\n"
     ]
    }
   ],
   "source": [
    "from gensim import models\n",
    "\n",
    "chdir('/home/peter/Topic_Modelling/LDA/LDAdata_results')\n",
    "\n",
    "# Load ldamodel\n",
    "ldamodel = models.LdaModel.load('ldamodel') "
   ]
  },
  {
   "cell_type": "code",
   "execution_count": 18,
   "metadata": {
    "collapsed": false
   },
   "outputs": [
    {
     "name": "stdout",
     "output_type": "stream",
     "text": [
      "time: 4.29 s\n"
     ]
    }
   ],
   "source": [
    "import json\n",
    "\n",
    "chdir('/home/peter/Topic_Modelling/LDA/LDAdata_results')\n",
    "\n",
    "# Load corpus\n",
    "with open('corpus.jsn','r') as f:\n",
    "    corpus = json.load(f)\n",
    "f.close()"
   ]
  },
  {
   "cell_type": "markdown",
   "metadata": {},
   "source": [
    "We now print the words for each of the given topics. It must be noted, that even though considerable emphasis has been placed on the construction of the regular expressions, 'junk-text' may be present."
   ]
  },
  {
   "cell_type": "code",
   "execution_count": 19,
   "metadata": {
    "collapsed": false,
    "scrolled": true
   },
   "outputs": [
    {
     "name": "stdout",
     "output_type": "stream",
     "text": [
      "Topic 0: \n",
      "california state said utility energy price market electricity davis rate\n",
      "\n",
      "----------------------------------------------------------------------------------------------------\n",
      "\n",
      "Topic 1: \n",
      "way web site houston address center hotel member click city\n",
      "\n",
      "----------------------------------------------------------------------------------------------------\n",
      "\n",
      "Topic 2: \n",
      "received content date type george com mail version man gov\n",
      "\n",
      "----------------------------------------------------------------------------------------------------\n",
      "\n",
      "Topic 3: \n",
      "713 north america corp houston texas fax phone 853 646\n",
      "\n",
      "----------------------------------------------------------------------------------------------------\n",
      "\n",
      "Topic 4: \n",
      "game love saturday night friend year school god life little\n",
      "\n",
      "----------------------------------------------------------------------------------------------------\n",
      "\n",
      "Topic 5: \n",
      "year say now even fact meter without vote many point\n",
      "\n",
      "----------------------------------------------------------------------------------------------------\n",
      "\n",
      "Topic 6: \n",
      "message mail information intended confidential email recipient copy received error\n",
      "\n",
      "----------------------------------------------------------------------------------------------------\n",
      "\n",
      "Topic 7: \n",
      "facility shall request permit approval bid arbitration unit brazil auction\n",
      "\n",
      "----------------------------------------------------------------------------------------------------\n",
      "\n",
      "Topic 8: \n",
      "credit sara master isda trade trading transaction legal swap counterparty\n",
      "\n",
      "----------------------------------------------------------------------------------------------------\n",
      "\n",
      "Topic 9: \n",
      "market stock share trading price year option value week future\n",
      "\n",
      "----------------------------------------------------------------------------------------------------\n",
      "\n",
      "Topic 10: \n",
      "gas price month contract volume capacity pipeline rate per delivery\n",
      "\n",
      "----------------------------------------------------------------------------------------------------\n",
      "\n",
      "Topic 11: \n",
      "energy company service gas inc marketing duke corporation natural corp\n",
      "\n",
      "----------------------------------------------------------------------------------------------------\n",
      "\n",
      "Topic 12: \n",
      "book name desk report number changed change correct invoice trader\n",
      "\n",
      "----------------------------------------------------------------------------------------------------\n",
      "\n",
      "Topic 13: \n",
      "business group employee team mark john ena global resume president\n",
      "\n",
      "----------------------------------------------------------------------------------------------------\n",
      "\n",
      "Topic 14: \n",
      "information risk system project data service process provide management report\n",
      "\n",
      "----------------------------------------------------------------------------------------------------\n",
      "\n",
      "Topic 15: \n",
      "meeting week friday monday date thursday office next schedule conference\n",
      "\n",
      "----------------------------------------------------------------------------------------------------\n",
      "\n",
      "Topic 16: \n",
      "contract issue party amount order payment language transaction term section\n",
      "\n",
      "----------------------------------------------------------------------------------------------------\n",
      "\n",
      "Topic 17: \n",
      "jeff best group forward meeting presentation regard interested look help\n",
      "\n",
      "----------------------------------------------------------------------------------------------------\n",
      "\n",
      "Topic 18: \n",
      "just think going want don good back work see make\n",
      "\n",
      "----------------------------------------------------------------------------------------------------\n",
      "\n",
      "Topic 19: \n",
      "attached draft change comment file see review copy document question\n",
      "\n",
      "----------------------------------------------------------------------------------------------------\n",
      "\n",
      "time: 32.8 ms\n"
     ]
    }
   ],
   "source": [
    "num_topics = 20\n",
    "num_words = 10\n",
    "\n",
    "List = ldamodel.print_topics(num_topics, num_words)\n",
    "Topic_words =[]\n",
    "for i in range(0,len(List)):\n",
    "    word_list = re.sub(r'(.\\....\\*)|(\\+ .\\....\\*)', '',List[i][1])\n",
    "    temp = [word for word in word_list.split()]\n",
    "    Topic_words.append(temp)\n",
    "    print('Topic ' + str(i) + ': ' + '\\n' + str(word_list))\n",
    "    print('\\n' + '-'*100 + '\\n')"
   ]
  },
  {
   "cell_type": "markdown",
   "metadata": {},
   "source": [
    "The list of words created above is saved below, from longest to shortest length."
   ]
  },
  {
   "cell_type": "code",
   "execution_count": 43,
   "metadata": {
    "collapsed": false
   },
   "outputs": [
    {
     "name": "stdout",
     "output_type": "stream",
     "text": [
      "['electricity', 'california', 'utility', 'energy', 'market', 'davis', 'price', 'state', 'rate', 'said']\n",
      "['address', 'houston', 'center', 'member', 'click', 'hotel', 'city', 'site', 'way', 'web']\n",
      "['received', 'content', 'version', 'george', 'date', 'mail', 'type', 'com', 'gov', 'man']\n",
      "['america', 'houston', 'north', 'phone', 'texas', 'corp', '646', '713', '853', 'fax']\n",
      "['saturday', 'friend', 'little', 'school', 'night', 'game', 'life', 'love', 'year', 'god']\n",
      "['without', 'meter', 'point', 'even', 'fact', 'many', 'vote', 'year', 'now', 'say']\n",
      "['confidential', 'information', 'recipient', 'intended', 'received', 'message', 'email', 'error', 'copy', 'mail']\n",
      "['arbitration', 'approval', 'facility', 'auction', 'request', 'brazil', 'permit', 'shall', 'unit', 'bid']\n",
      "['counterparty', 'transaction', 'trading', 'credit', 'master', 'legal', 'trade', 'isda', 'sara', 'swap']\n",
      "['trading', 'future', 'market', 'option', 'price', 'share', 'stock', 'value', 'week', 'year']\n",
      "['capacity', 'contract', 'delivery', 'pipeline', 'volume', 'month', 'price', 'rate', 'gas', 'per']\n",
      "['corporation', 'marketing', 'company', 'natural', 'service', 'energy', 'corp', 'duke', 'gas', 'inc']\n",
      "['changed', 'correct', 'invoice', 'change', 'number', 'report', 'trader', 'book', 'desk', 'name']\n",
      "['president', 'business', 'employee', 'global', 'resume', 'group', 'john', 'mark', 'team', 'ena']\n",
      "['information', 'management', 'process', 'project', 'provide', 'service', 'report', 'system', 'data', 'risk']\n",
      "['conference', 'schedule', 'thursday', 'meeting', 'friday', 'monday', 'office', 'date', 'next', 'week']\n",
      "['transaction', 'contract', 'language', 'payment', 'section', 'amount', 'issue', 'order', 'party', 'term']\n",
      "['presentation', 'interested', 'forward', 'meeting', 'regard', 'group', 'best', 'help', 'jeff', 'look']\n",
      "['going', 'think', 'back', 'good', 'just', 'make', 'want', 'work', 'don', 'see']\n",
      "['attached', 'document', 'question', 'comment', 'change', 'review', 'draft', 'copy', 'file', 'see']\n",
      "time: 12.9 ms\n"
     ]
    }
   ],
   "source": [
    "for i in range(0,len(Topic_words)):\n",
    "    temp = Topic_words[i]\n",
    "    sort_key = lambda s: (-len(s), s)\n",
    "    temp.sort(key = sort_key)\n",
    "    print(temp)\n",
    "    Topic_words[i] = temp"
   ]
  },
  {
   "cell_type": "code",
   "execution_count": 45,
   "metadata": {
    "collapsed": false
   },
   "outputs": [
    {
     "name": "stdout",
     "output_type": "stream",
     "text": [
      "time: 7.75 ms\n"
     ]
    }
   ],
   "source": [
    "import json\n",
    "\n",
    "chdir('/home/peter/Topic_Modelling/LDA/LDAdata_results')\n",
    "\n",
    "# Saving the list of words\n",
    "with open('topic_words.jsn','w') as f:\n",
    "    json.dump(Topic_words,f)\n",
    "f.close()"
   ]
  },
  {
   "cell_type": "markdown",
   "metadata": {},
   "source": [
    "We also want to export the list of words in a csv file such that we can use the data in out D3 visualisation."
   ]
  },
  {
   "cell_type": "code",
   "execution_count": 42,
   "metadata": {
    "collapsed": false
   },
   "outputs": [
    {
     "name": "stdout",
     "output_type": "stream",
     "text": [
      "time: 11 ms\n"
     ]
    }
   ],
   "source": [
    "import json\n",
    "\n",
    "chdir('/home/peter/Topic_Modelling/LDA/LDAdata_results')\n",
    "\n",
    "with open('topic_words.jsn','r') as f:\n",
    "    Topic_words = json.load(f)\n",
    "f.close()"
   ]
  },
  {
   "cell_type": "markdown",
   "metadata": {},
   "source": [
    "We will now proceed to visualise the data above by using the [pyLDAvis](https://pyldavis.readthedocs.io/en/latest/index.html) package."
   ]
  },
  {
   "cell_type": "code",
   "execution_count": 47,
   "metadata": {
    "collapsed": false
   },
   "outputs": [
    {
     "data": {
      "text/html": [
       "\n",
       "<link rel=\"stylesheet\" type=\"text/css\" href=\"https://cdn.rawgit.com/bmabey/pyLDAvis/files/ldavis.v1.0.0.css\">\n",
       "\n",
       "\n",
       "<div id=\"ldavis_el23631403910757988566519060189\"></div>\n",
       "<script type=\"text/javascript\">\n",
       "\n",
       "var ldavis_el23631403910757988566519060189_data = {\"mdsDat\": {\"Freq\": [12.111288040619767, 9.138527389346853, 7.540293769189235, 6.800410203439918, 6.732352068142723, 6.097972251916409, 6.022791176260641, 5.648429704095953, 5.219893810725665, 5.037292371635262, 4.658417671140577, 4.150481302252283, 3.833030675440611, 3.4878635608371686, 3.2505291521083968, 2.5798270403776584, 2.5082972388843094, 2.3315869827355873, 1.5221002036152878, 1.3286153872356938], \"cluster\": [1, 1, 1, 1, 1, 1, 1, 1, 1, 1, 1, 1, 1, 1, 1, 1, 1, 1, 1, 1], \"y\": [0.02811637399068222, 0.05769617758170975, 0.0601607198031376, 0.24648708760424476, -0.018604362597311894, 0.2080590088736712, 0.17998489747368857, 0.11245023543776726, -0.09437176832262864, -0.19022050580649175, -0.08644149931465675, 0.10811139155905257, 0.016907014701307205, -0.05991174842164209, -0.2182352547014971, 0.0979128820945675, -0.22037551030528085, -0.044955788290203594, -0.13003426430761822, -0.05273508705249724], \"x\": [0.26479767036181445, 0.062036982727019144, 0.057976810218131974, -0.07606541409930273, 0.2213079723185593, -0.019745404520412006, 0.08247969064075594, 0.08415695386624919, 0.13803921272900715, 0.12610442578594344, 0.03418669690024927, -0.13169980454915828, -0.025975489077819096, -0.05976584307338657, -0.024141029723916966, -0.2384086655290165, -0.09362445698643923, 0.028400996598157032, -0.1974152122087764, -0.2326460923776581], \"topics\": [1, 2, 3, 4, 5, 6, 7, 8, 9, 10, 11, 12, 13, 14, 15, 16, 17, 18, 19, 20]}, \"R\": 30, \"token.table\": {\"Freq\": [0.4280997265715538, 0.05994136188815188, 0.12802290872407746, 0.33707765851917504, 0.04662105924634035, 0.9943830215337086, 0.9980815298407091, 0.9962623080225029, 0.9329554006208101, 0.06075058422647135, 0.055549922252863454, 0.9403808267091885, 0.018664951492120562, 0.0765263011176943, 0.05039536902872552, 0.0609721748742605, 0.2886845830781314, 0.03670773793450377, 0.24886601989494084, 0.1284770827707632, 0.07621521859282562, 0.014620878668827773, 0.029215721597241364, 0.29821413386452467, 0.1624679152236837, 0.0552248396045416, 0.008550942906509668, 0.13325219362644233, 0.030997168036097547, 0.2729175944327669, 0.008550942906509668, 0.04232581921582962, 0.9523309323561664, 0.9930652710073012, 0.995979356874038, 0.9933117941035491, 0.1272725047170779, 0.8727257466313914, 0.993576473550757, 0.9956071109244479, 0.9955573501942174, 0.9877241422989811, 0.9957122907762465, 0.9902010949209296, 0.99802995302419, 0.9996699515997274, 0.9894541906203531, 0.9982493248837083, 0.9871388715193127, 0.9946430960413184, 0.9970259040899923, 0.9997706944792791, 0.997746322346066, 0.050199059276037725, 0.9370491064860376, 0.9952841671690267, 0.9998867695643912, 0.9915154425429116, 0.9963184879048449, 0.999683562919624, 0.9996779109285975, 0.9914705626403056, 0.2046557083670107, 0.7928104017821135, 0.9997335172781244, 0.994973761814878, 0.9951016006534426, 0.994614222168707, 0.9969839703761179, 0.6141498893021103, 0.04966603452617066, 0.09345759185032114, 0.22269609029476523, 0.01922556175206606, 0.27980237526257634, 0.3613958775029281, 0.05700367964736908, 0.01527549585321655, 0.1449309240707619, 0.07675005233567339, 0.06445514103918203, 0.1301697316432874, 0.055463624787139856, 0.19214184301259166, 0.07951672737339949, 0.10809747279942564, 0.2705266596760495, 0.12649102183597713, 0.03735305342807378, 0.9984899643419994, 0.9982656996183816, 0.9950240715453372, 0.8361615571981535, 0.1633878904869955, 0.2269393725602727, 0.013349374856486629, 0.6867511731725899, 0.06575803170047118, 0.007416319364714793, 0.984901512410588, 0.19008503008531524, 0.6534172909182712, 0.0932604678856078, 0.06237165049674407, 0.5521113763127893, 0.12343459184085487, 0.06506158289148507, 0.18241565296678058, 0.04499586106513921, 0.031618713180908635, 0.2387057105288403, 0.4670329119042528, 0.17171715144762426, 0.011322009985557643, 0.11038959735918702, 0.9965076595314034, 0.9982716562994148, 0.0278322887340398, 0.9694913909023863, 0.9958571454573879, 0.9929946302064537, 0.9950526268408982, 0.992155953113153, 0.9936490003586159, 0.09886678018259411, 0.030752559183671837, 0.8702434730396961, 0.7358176523411822, 0.17619676212144644, 0.08774170745318993, 0.04282277007460753, 0.7676954780647823, 0.18842018832827315, 0.09771739069013144, 0.32922234984191934, 0.5725320944462063, 0.995247405726017, 0.98851267190425, 0.9973541431352809, 0.3669874952820159, 0.10245662562834491, 0.08996191518586383, 0.08710598137043958, 0.1859926897295042, 0.03498518923894704, 0.05533371767384482, 0.03926908996208342, 0.008567801446272746, 0.007139834538560621, 0.022133487069537924, 0.9921754870006884, 0.7482882753168955, 0.033789122497846644, 0.027101692003481163, 0.06265066463142399, 0.09151220676500132, 0.036604882706000534, 0.9989170995258224, 0.9938007198633001, 0.13428796778206847, 0.15494765513315592, 0.023242148269973388, 0.684352143504772, 0.9891514329336497, 0.6021157540181401, 0.13992830903238465, 0.03816226609974127, 0.2198873427651759, 0.17087385494834342, 0.026550120888388023, 0.6896223707676171, 0.11232743452779548, 0.16266330233402987, 0.8354260867446777, 0.22313526337305262, 0.10521502632359242, 0.2612508955506559, 0.11911135055501029, 0.052806032079387895, 0.23822270111002058, 0.046701989333601326, 0.057716609459450695, 0.0889981306168629, 0.42648609127288756, 0.033925029987616054, 0.19650082304515273, 0.06829064478026609, 0.0489049133587712, 0.031722105962446186, 0.9959003687092378, 0.9974293642611279, 0.9880485298434786, 0.03605895434618573, 0.6724760836509442, 0.09272302546162044, 0.04167853164689, 0.037463848671361794, 0.0730545049091555, 0.04636151273081022, 0.9953301440393815, 0.9978145603074647, 0.994684478517232, 0.9934562783021077, 0.9939841830173051, 0.9950953660019921, 0.1125459408308699, 0.109584205545847, 0.14907400934615223, 0.03060459794523655, 0.5982705275746242, 0.9939545256771477, 0.9990543535575096, 0.9911115899077118, 0.08333536840608072, 0.10032607458596125, 0.8155538966342656, 0.9259462728933677, 0.07223694327536911, 0.029344313269010717, 0.9523809734200771, 0.018148329129449706, 0.2662432537912968, 0.7334797735738353, 0.05417903938778669, 0.9454773540221599, 0.9943803456114924, 0.9849710065040863, 0.9974130246673137, 0.25683892466651115, 0.740195512059737, 0.08396151688597651, 0.0936493842189738, 0.018568412388244804, 0.618408864756327, 0.18487680160469827, 0.11401729453165681, 0.2596484752743639, 0.03835127179701184, 0.40191096322409026, 0.02617215169931213, 0.1598833425591642, 0.9891925518403373, 0.9897244025523377, 0.99757864335781, 0.6625517117333908, 0.01727449546091986, 0.024619556523043262, 0.021627124238474467, 0.015234200721441134, 0.02897218530059787, 0.07018613903806808, 0.07195439447894965, 0.04515852356712908, 0.028428106703403545, 0.0140100238777539, 0.9979985815573782, 0.9939681597479038, 0.9976779742757702, 0.9943796575220697, 0.22637206176219715, 0.2251884169948131, 0.17044484650330138, 0.01834649389445258, 0.2411676213544976, 0.021305605812912673, 0.04793761307905351, 0.03136658633567699, 0.011836447673840374, 0.005918223836920187, 0.9931165898822395, 0.20337485576362221, 0.16311282848046857, 0.1078815859253732, 0.05936068125080343, 0.3628744253853462, 0.09239619081646795, 0.009807416902306654, 0.9959554464255866, 0.17371904621325374, 0.8251654695129552, 0.9983244381717518, 0.9978351677240994, 0.9978899844844051, 0.373491123768372, 0.006097176151932403, 0.06550555917076094, 0.4538487786938401, 0.015946460705053976, 0.007191541102279243, 0.06269147786986906, 0.015008433604756682, 0.997522361882249, 0.023370936510551096, 0.9737890212729623, 0.16027660623818982, 0.23696067215387545, 0.2500867735268307, 0.351641347307063, 0.3112489056365909, 0.09978577871737883, 0.2848806428667136, 0.30349353423368586, 0.15235385237291393, 0.07872959214332237, 0.5016660359439687, 0.08464102909606329, 0.06153268464443966, 0.05562124769169873, 0.011822873905481857, 0.053471634254338395, 0.9955494612561864, 0.9050788103468387, 0.09439823243187635, 0.9989991415954466, 0.9945619935291047, 0.30772324134552315, 0.687248572338335, 0.9968219709315589, 0.9896984027705622, 0.1495977468654712, 0.025507449926370666, 0.0813480835489659, 0.039984651235932395, 0.7031783493215696, 0.993631112597277, 0.9939464631290371, 0.9986207110252246, 0.19580258578572654, 0.8018582084558326, 0.9888450952347638, 0.994489869098146, 0.0876074387077894, 0.9102626558419095, 0.996061970875505, 0.9936302798990794, 0.9951128885148459, 0.16858722769439485, 0.14283084568552898, 0.688397846418779, 0.9912072147953958, 0.16337465152456182, 0.8360938048609928, 0.9962482555564833, 0.16798698033682488, 0.8302804775268355, 0.9974007613562185, 0.8601887027228311, 0.1378808849537507, 0.9902420783817036, 0.9966960280339682, 0.6719813269943733, 0.05937766035941661, 0.2679235894266359, 0.034126661380990984, 0.15276917008097046, 0.04336673215201742, 0.143529099309944, 0.15474038517878944, 0.015030515120869673, 0.015030515120869673, 0.3666460081943291, 0.010348879263549611, 0.06431089256634401, 0.11199790089151183, 0.16799685133726774, 0.44224812146904674, 0.035896763106253796, 0.10338267774601093, 0.06353727069806922, 0.07430629962994535, 0.9922963454177235, 0.9924100344228126, 0.9935737325890095, 0.06655893494221712, 0.7263605508911521, 0.20642916054542704, 0.9946765790210871, 0.9694615862925496, 0.030390214265340918, 0.9961965767284607, 0.2748194259644308, 0.6638710229622696, 0.03642185163384023, 0.023177541948807417, 0.990910802333558, 0.941882875919521, 0.05509621279752073, 0.8039558288546248, 0.19594320933381545, 0.024899113820449098, 0.08536839024153976, 0.8216707560748202, 0.06580480081118689, 0.204259927897146, 0.7940604697001551, 0.8293451474338003, 0.09014621167758699, 0.0803120794945775, 0.9962476080578657, 0.04337743406578468, 0.12514197792429918, 0.8314647981105276, 0.8388768829095455, 0.16046945038549626, 0.2714669256623364, 0.7269138056835074, 0.9967201025764728, 0.995779084273426, 0.992261714639067, 0.06346946695298451, 0.663622929977804, 0.2724437663083893, 0.9853936751135949, 0.07540052375194552, 0.9218322097415275, 0.9967987218679016, 0.9942432933784412, 0.22218966710229526, 0.372777750730874, 0.023118000045325517, 0.1204062502360704, 0.13003875025495604, 0.03178725006232259, 0.026649916718916918, 0.0725648334756051, 0.9945844974220192, 0.9964985264782201, 0.9892996670469232, 0.1003533348981348, 0.04693946309751467, 0.03399064569130373, 0.04693946309751467, 0.7712639367574393, 0.04053094688020025, 0.7832605484598699, 0.1763096189288711, 0.9963753095869108, 0.7123694524822559, 0.1255583857496265, 0.05144406082797197, 0.10986358753092319, 0.9974459729437183, 0.05842130211962418, 0.9405829641259493, 0.2122376117739606, 0.7869566429694278, 0.0076078684089483425, 0.08713386787123649, 0.09379075272906628, 0.5653597211399737, 0.016523339200684682, 0.07227474988500926, 0.03613737494250463, 0.1211315298237244, 0.03143558932476568, 0.04615012049806025, 0.184600481992241, 0.7377330856429052, 0.11929239193505457, 0.1899049288652214, 0.024072455771647783, 0.42367522158100096, 0.008024151923882594, 0.16850719040153447, 0.06686793269902162, 0.9913542506070545, 0.9959373607103224, 0.997326213312044, 0.4883776398720097, 0.03733040865781841, 0.04931723712592524, 0.22192756706666358, 0.20274864151769267, 0.965428997051806, 0.03323855701899801, 0.2485362929707893, 0.1784942467699305, 0.12200872564020566, 0.12878698817577264, 0.055355810707130346, 0.266046804521004, 0.9965743926895492, 0.9968116709442819, 0.9929232156489496, 0.15952013442180069, 0.11007477910286614, 0.09418162917892291, 0.4750285921711924, 0.1606974047865372, 0.9951343463334976, 0.7180227136435449, 0.04193579951479393, 0.2014964025466928, 0.014319541297734514, 0.022502136325011378, 0.9991376269664705, 0.9965620480689602, 0.21188633862404332, 0.06641213598664045, 0.7210460478549534, 0.11012176018412473, 0.07794332376668568, 0.16089218208719522, 0.5935133828105423, 0.0572061091865583, 0.9897583213029372, 0.9983349369156687, 0.9979526604280186, 0.9950509804765483, 0.9953061449834376, 0.9986688806905062, 0.10890006023616623, 0.8877722301861378, 0.0493683453805693, 0.3814102812466564, 0.053349663556421664, 0.5159788355904662, 0.5852883284078317, 0.007950893155408758, 0.044371113415668226, 0.11362082799503483, 0.036933181108995516, 0.048987761054292665, 0.1513234503771344, 0.011285138672193076, 0.13162646252896168, 0.0129305592912582, 0.03812857226909469, 0.008454596459668822, 0.043101864304194, 0.761079457771364, 0.004641739232759353, 0.18760788482297, 0.7753387959493193, 0.03655742509398345, 0.9987027805960879, 0.4622769178331234, 0.5370058932723125, 0.509003302304124, 0.2918452966355335, 0.12678010735565112, 0.0715491694977437, 0.10108018846463354, 0.07618359032063513, 0.0985905286502337, 0.6458177558553188, 0.078175318172155, 0.04750934091502123, 0.03486572599408816, 0.041283318416076915, 0.0355362207247437, 0.09722173594505353, 0.03850555453193253, 0.024712520072732815, 0.6803605816923302, 0.9938928141482954, 0.022633182521288233, 0.4879714151589743, 0.02353850982213976, 0.17382284176349364, 0.09053273008515293, 0.2009826607890395, 0.8493031972711818, 0.15031914995950119, 0.9981939341829843, 0.9937724616586769, 0.03786559546145489, 0.38727364185750074, 0.014362812071586338, 0.5517931255865806, 0.008617687242951803, 0.9995486346918738, 0.17612858758023697, 0.24633368892340834, 0.30709599885784905, 0.010263903705142014, 0.055835636155972555, 0.20404640565822324, 0.16679028276981067, 0.598076398571037, 0.14507793826723175, 0.08931668988560867, 0.9981499695199721, 0.2423416683275198, 0.4289726083038856, 0.14020533301707083, 0.18755945211555172, 0.9994103068702002, 0.09243149667433334, 0.25147354560790286, 0.13995700306154119, 0.06230706152338665, 0.0847600566669494, 0.026569377586549262, 0.08326319032404522, 0.11582003328221122, 0.018523720993439272, 0.041538041015591096, 0.08307608203118219, 0.04806653416128701, 0.02027806909929296, 0.9305380597786658, 0.134433774859206, 0.031720328899363215, 0.031720328899363215, 0.8005606817458335, 0.9954993116358577, 0.03320526660790511, 0.2794776606165347, 0.686933952951037, 0.998554256071305, 0.05271292508991437, 0.09609612892497664, 0.15020851220311882, 0.11009071080725479, 0.025656733450843277, 0.10915773868176958, 0.027522677701813696, 0.026589705576328487, 0.013528095819535546, 0.3050818850336637, 0.08303451916818369, 0.5511071339766421, 0.03252721844425418, 0.07073032735529097, 0.0714943895335117, 0.2578164092796254, 0.01615445748238127, 0.9974521066030346, 0.3019283292408712, 0.6944351572540037, 0.9960166720124749, 0.028764014490340897, 0.5574591069160633, 0.0850414341453557, 0.027513405164673904, 0.30108419515432916, 0.9989143669031906, 0.9940393839653643, 0.9901306749960818, 0.997749945754583, 0.021736936839596696, 0.11966293512707271, 0.07882384167086075, 0.08003144927306056, 0.6997537142201482, 0.14581658025040864, 0.1294230002222562, 0.723905981243153, 0.022483787544732542, 0.1131215560844356, 0.022483787544732542, 0.12085035805293741, 0.03232044459555303, 0.6885659935574341, 0.9914155808620791, 0.2666519889093513, 0.25562815473447176, 0.3500587342702327, 0.06510302069315677, 0.0623990613672429, 0.49387277724528117, 0.12176838187399297, 0.22808392340864672, 0.035232475973693396, 0.11991404103327227, 0.023702674129933748, 0.9749012924746663, 0.8695801633698673, 0.03901446616414298, 0.09089968405253933, 0.11141607835254631, 0.06398151034106621, 0.5151614711944469, 0.04964082698875826, 0.12685989119349333, 0.0441251795455629, 0.0882503590911258, 0.6925125821578998, 0.09759674871097852, 0.17482548029966588, 0.033946695203818614, 0.9988996038654105, 0.9940048886307165, 0.23273437400421368, 0.06806230480234107, 0.6777199165389507, 0.021289630886040335, 0.9965933491654803, 0.9991717719091388, 0.9981520753169346, 0.9971576655125806, 0.9987088093646935, 0.13145396013646835, 0.1803670615825961, 0.28144140011775853, 0.11827035076231672, 0.027704686365970798, 0.09496020085439646, 0.04719350022341233, 0.10585100859826085, 0.012228275361531938, 0.998843512897844, 0.10087083499886114, 0.051783958074281655, 0.7902447768627356, 0.05663870414374556, 0.9577099978164082, 0.04123213297839722, 0.9920902119863908, 0.9894126041942592, 0.9960114129428971, 0.9940031089723295, 0.9980052287097183, 0.9994677908568779, 0.1057116970031933, 0.37901866019189, 0.02315173529408779, 0.03960548427667848, 0.1643918814278309, 0.10789582297433366, 0.012085497040309976, 0.12434957195692434, 0.043682519422807146, 0.9930132009228734, 0.006642228768714872, 0.9935551204574248, 0.991039245511881, 0.7571135989274209, 0.027609491046786016, 0.18406327364524008, 0.030677212274206684, 0.9970386028135183, 0.9989054138181701, 0.040821358068644294, 0.9587187523550175, 0.08372267651212185, 0.9104841070693251, 0.15279258424691294, 0.03785193929983946, 0.677180426254445, 0.11955673510559049, 0.01200183441214422, 0.9982833008803406, 0.02626152013798066, 0.4834507116310076, 0.09072161502211501, 0.3990955257332516, 0.99101225523023, 0.9933473610675062, 0.9947335811063006, 0.9875404404149454, 0.9988950958788351, 0.14904346118991246, 0.2421047442743456, 0.6078065051452041, 0.9005166623900729, 0.09842856542403122, 0.08571173377708666, 0.1085021369779305, 0.09363883054259756, 0.7119523782524481, 0.9952677018379519, 0.9956000520719523, 0.04907861736049433, 0.9496712459255652, 0.9950190090615948, 0.09430365675699322, 0.40505665902289467, 0.06107284437595751, 0.18276946809569639, 0.25686519840476246, 0.1824870940967132, 0.8151090202986524, 0.9943055316524346, 0.8965673064807079, 0.08081059989079448, 0.021995784585660035, 0.9891483402750814, 0.4743492254461268, 0.5185890495809987, 0.006758862020605433, 0.13028824795530905, 0.17531433364574672, 0.06466512306605413, 0.5216319927328366, 0.06849713035885732, 0.03927807475123287, 0.09316656535176768, 0.906176687525212, 0.2044598451836976, 0.3346341657505393, 0.3225249266280424, 0.12435257098871814, 0.01373932900437148, 0.20385939792588753, 0.13633908778482925, 0.4393148384177831, 0.08353474267451443, 0.11945901024956466, 0.016880077535264573, 0.9984092670919738, 0.999102016502283, 0.21830309285835256, 0.06501376262721428, 0.03459447919613237, 0.05427754494565596, 0.6274722778332975, 0.9994517928534637, 0.9968231567586298, 0.15782618654226266, 0.04483922946820228, 0.6712057345063935, 0.04582687769437414, 0.08019703596515473, 0.07810234613297981, 0.9195921399528267, 0.9947187993537943, 0.8622704283861053, 0.018516620530374787, 0.029416475168822356, 0.047407801499753884, 0.029679122268543984, 0.012607060786638152, 0.525395263402918, 0.021384278097175746, 0.035201811636889305, 0.024674167035202785, 0.06777171212335699, 0.017765400265346006, 0.12731870190164638, 0.17995692491007897, 0.31641462878835297, 0.6820018012397607, 0.9976463822375409, 0.9939466121537567, 0.9952518365152513, 0.02789049772157653, 0.97190637199216, 0.998332317653391, 0.9980776675184451, 0.9989054051908298, 0.9992515746931916, 0.046952502651308896, 0.3307089317179148, 0.6205896002607785, 0.9985438266712726, 0.9963464584136765, 0.9931789065293106, 0.9992365038981125, 0.991367816570198, 0.9918018868889069, 0.007307314638833206, 0.9910313064131665, 0.9974305845293285, 0.9965475375171788, 0.9951131166268157, 0.9978905225398972, 0.07418787657360848, 0.4593334485727674, 0.10891411667189331, 0.19572971691760538, 0.16100347681932053, 0.9966879087660152, 0.9929766774506148, 0.9981397526301627, 0.6229906266188867, 0.37627281969386644, 0.9996278461806022, 0.9877985920705944, 0.25979686029132626, 0.01258059475156364, 0.06472185492671896, 0.010306993290437681, 0.1089812967033043, 0.04956451185254591, 0.11413479334852314, 0.3721127724709486, 0.007881818398569992, 0.8591576323017668, 0.13907695409423457, 0.1300634380826766, 0.7330164863041022, 0.13682974411009907, 0.18133074104759525, 0.08686835296355687, 0.39192630036436316, 0.10520516947398785, 0.2346742072597581, 0.9440559180912417, 0.053538142802905954, 0.9922505887339867, 0.3466647655243933, 0.6532908985272937, 0.9886129279243414, 0.9968970017933715, 0.9943970854120273, 0.9202283765376842, 0.07834376719172176, 0.21494810848215837, 0.6628399810403303, 0.12197055458057358, 0.1681558519140648, 0.032285923567500444, 0.16412011146812724, 0.6349564968275087, 0.2902503017293837, 0.3378378511989687, 0.344250357865083, 0.027337528418697767, 0.0562435326557392, 0.09608270162022113, 0.8459964703634104, 0.7395380559816285, 0.1783451903492673, 0.0796608516893394, 0.9982059624139124, 0.76659817848337, 0.05624669240314916, 0.17695588621215466, 0.9976750880446001, 0.998835508134137, 0.9960559167219993, 0.9926740602282254, 0.9060168082001934, 0.09385034666615549, 0.9964406742236315, 0.9960579515040636, 0.9961888130904821, 0.9907330793851225, 0.9975772384539984, 0.351438332379543, 0.07161827931565297, 0.07631455992651545, 0.07279234946836859, 0.35809139657826483, 0.0696614957277936, 0.4514820940048092, 0.42892777379598, 0.01859742192657847, 0.032842255742681126, 0.06766296062648762, 0.9035539595668042, 0.06023693063778695, 0.035974833575344985, 0.0458521477286922, 0.15417784673772753, 0.700964708402382, 0.04355954034225759, 0.021206618324520143, 0.0338159589499105, 0.9978196285553321, 0.04462967730490336, 0.37149491953799835, 0.5833287399852157, 0.3236577850758184, 0.028593826876998994, 0.5615340895206399, 0.08638985992625228, 0.9983844974367173, 0.889024399734272, 0.10987942019187631, 0.9902164996271577, 0.17909093810992943, 0.034597113043963644, 0.7845404163792932, 0.9921851388168286, 0.19035924992747832, 0.09851581800370528, 0.7111978574610118, 0.9956908055039498, 0.1547717635233482, 0.2606356497733184, 0.05881327013887232, 0.040859745570163926, 0.4847451633551266, 0.9975152885231345, 0.14654340989176382, 0.8526162030066259, 0.9983403633561502, 0.997374005694903, 0.05822621674578262, 0.11690496885487443, 0.05219241190166007, 0.07949537882131462, 0.6929824863474751, 0.9471631960696264, 0.05024738440687673, 0.9943009545285263, 0.9943830409314147, 0.42991755405058024, 0.15961010988704177, 0.4093227011619297, 0.18911679622254904, 0.7580431581920507, 0.052007118961200985, 0.39449809264520186, 0.1831117426612541, 0.42209949503164085, 0.990280323276625, 0.260096091516739, 0.686636654036825, 0.053211148018972795, 0.9920068572872562, 0.03679651930783727, 0.034099392238152865, 0.8705940877074169, 0.05837353586531253, 0.8170879707076887, 0.18116430119763233, 0.9994204250797328, 0.03462740672630245, 0.139858746647793, 0.06790569371002168, 0.08364542404015916, 0.08724307668704773, 0.5621332260763384, 0.024733861947358892, 0.13214105537677906, 0.5935860106607694, 0.024470565810514645, 0.0629243120841805, 0.18667545918306885, 0.03828623317799986, 0.14516863413324946, 0.05742934976699979, 0.24806288579912408, 0.4876177197809149, 0.02339714249766658, 0.24945832327629475, 0.014659882196391116, 0.13097763601693702, 0.04926681721737998, 0.05815887691027295, 0.34655000208518016, 0.03172302376923979, 0.01081466719405902, 0.04542160221504789, 0.010334015318767509, 0.013458252508162337, 0.0060081484411439005, 0.03316497939511433, 0.14135887588687807, 0.10650568621264155, 0.03945310303225758, 0.017868894198466437, 0.1337513268716894, 0.13569744406162138, 0.07377553347287628, 0.15073562234745946, 0.02972251708259764, 0.07572165066280828, 0.027599480148126382, 0.04157613996672884, 0.01486125854129882, 0.011499783395052659, 0.9969257863336984, 0.04429928292067711, 0.21833218010905148, 0.07172264853823913, 0.6296826643724818, 0.03480657943767487, 0.9974954693553437, 0.9961702976693789, 0.12294161893204768, 0.8756175303938063, 0.1702659422240741, 0.8291211099607086, 0.14243814845781794, 0.39511952140696077, 0.46146057685306774, 0.9924100394662839, 0.9932358602891355, 0.111214832643397, 0.14870908403946081, 0.14146381806920694, 0.05071686179177713, 0.10523748821793755, 0.12443744303911032, 0.05741873281426197, 0.06484513043377219, 0.03224143356762975, 0.16356187927848126, 0.9986870379650655, 0.998066520904577, 0.9890202610419867, 0.9975054956743586, 0.14243331878884402, 0.017227880126078236, 0.6153507605596396, 0.18853609659102522, 0.03663957604278611, 0.9861155257716726, 0.012535366853029736, 0.09998704900993728, 0.014217632934952443, 0.06660651951048373, 0.3886668133848412, 0.024417239170896585, 0.09689625924146936, 0.24849949738482094, 0.022408225821392437, 0.018081120145537345, 0.007108816467476221, 0.012981317027565274, 0.06700977319603518, 0.019228891438862267, 0.10168004715398381, 0.13081473115225997, 0.16198884303041547, 0.12207432595277713, 0.07196266947574212, 0.20336009430796761, 0.024181787718569218, 0.09789253823420792, 0.13970573944168496, 0.8560692118979845, 0.9961138961577377, 0.148366356462805, 0.06069532764387477, 0.789039259370372, 0.1918192580427575, 0.02648932611066651, 0.058002489931976674, 0.7136133111709728, 0.009819319161712586, 0.22250678298421864, 0.7633306351101665, 0.013867278259639688, 0.704189329784797, 0.2948335948233925, 0.3564984802678096, 0.6425144529755078, 0.997507562961102, 0.015245973172984466, 0.08910424321099811, 0.1321317674991987, 0.16465651026823222, 0.47465796478558303, 0.056240701038120476, 0.010163982115322977, 0.012196778538387573, 0.005759589865349688, 0.03930073084591551, 0.04876682502299381, 0.8934082344212465, 0.021457403010117275, 0.03511211401655554, 0.9995038098956556, 0.9966741472479114, 0.05848414850444324, 0.7026959055155073, 0.23872166071359102, 0.09793899032266733, 0.09793899032266733, 0.048969495161333663, 0.7518257786534168, 0.9938750585556444, 0.055746823187963396, 0.13735557465900258, 0.739651148895968, 0.06609159450119372, 0.9995255156645738, 0.11964967879910972, 0.8763530528259118, 0.18275325079615626, 0.0146202600636925, 0.8016775934924721, 0.7878610427723947, 0.07406941954223843, 0.06323851385445829, 0.04192608653334251, 0.03284210111778497, 0.9985172811185987, 0.9990644273643786, 0.46688712675294886, 0.0704931846268863, 0.020140909893396085, 0.18856058745024265, 0.03177402164216796, 0.026738794168818938, 0.030558621907221643, 0.0909813515874099, 0.011459483215208116, 0.04913687499854389, 0.013543025617973228, 0.995941861684231, 0.011658179648025239, 0.13010528487196166, 0.2825942746681318, 0.5749814202406048, 0.9992829400910165, 0.9384393736665371, 0.017478873693760222, 0.006639262100730626, 0.01693689311410874, 0.02045976688184336, 0.9981848964577547, 0.7471637940985947, 0.025320312378987412, 0.0690944117460504, 0.02818136462520068, 0.10156735474057098, 0.024605049317434097, 0.0038624205323879103, 0.9987761746914917, 0.860059875674965, 0.13968633266442118, 0.9811527225474144, 0.017314459809660253, 0.06649879689570551, 0.9326456264622697, 0.9996007285532773, 0.99040232686176, 0.5592881109540315, 0.19893964716243825, 0.006561334009315246, 0.20077682068504654, 0.011285494496022223, 0.023095895712789666, 0.9788448682360232, 0.01854653434552465, 0.5453729440400304, 0.4528004147933832, 0.9924463840641495, 0.9981817469388953, 0.994671628895418, 0.992229397542312, 0.07145676284703584, 0.1764442035150885, 0.3297811234381654, 0.09594546013204812, 0.2689989209461349, 0.05714029366502866, 0.05892260379729308, 0.7171312023133963, 0.20407340827355167, 0.018682776813775857, 0.998888700286156, 0.9952258311122442, 0.04384813856204192, 0.3288610392153144, 0.6265668220839148, 0.9987071230181016, 0.9904058702312939, 0.908530382352654, 0.044226900572687265, 0.04682848295931592, 0.9926312954894891, 0.9901246708263828, 0.8858949110226166, 0.11213859633197679, 0.9929558703007508, 0.9960641919999332, 0.9844006498594429, 0.9990372751578728, 0.9953664068415107, 0.8533160788712285, 0.0333699025256905, 0.06018500276954894, 0.05303430937118669, 0.9965956499222589, 0.3315619562775681, 0.09501775519266657, 0.028505326557799974, 0.2552143564911799, 0.03333956322549705, 0.02350439207397542, 0.05334330116079527, 0.06367856576069936, 0.01566959471598361, 0.10018538749261863, 0.9834867625536932, 0.015234734703929841, 0.9922312870762442, 0.9963013458519051, 0.9070872227198943, 0.09140514240459587, 0.9902274386731899, 0.030091870235698006, 0.16089119952686534, 0.24956191048805546, 0.017653897204942832, 0.4016261614124494, 0.11515155676860438, 0.017252672268466857, 0.004413474301235708, 0.002808574555331814, 0.08595083183354597, 0.9124011379253342, 0.9931956083019223, 0.3387774378156091, 0.0502557258746334, 0.034102099700644095, 0.42941722912521574, 0.06192223366695901, 0.07448616513561736, 0.010769084115992872, 0.6522576861456134, 0.01870852428392163, 0.24436566286900108, 0.028871179450496345, 0.022865974124793104, 0.025406637916436783, 0.007621991374931035, 0.05376600608647325, 0.07965334235033074, 0.8662300980598467, 0.9987068191647483, 0.16434510728528767, 0.10827442362324834, 0.06831600538133527, 0.6064656704135517, 0.02062369973776159, 0.013534302952906042, 0.01804573727054139, 0.021495674483208372, 0.096411292484093, 0.011705565312638222, 0.09587922133351853, 0.02681638598895302, 0.07119111994686338, 0.10726554395581207, 0.5692097168845622, 0.11712573627096454, 0.3026482057527931, 0.0777902759694376, 0.14912249129235586, 0.04285803883599204, 0.14178378601222022, 0.02495159795246112, 0.030529013965364192, 0.06957092605568571, 0.005283867801697649, 0.03816126745670524, 0.9982829251454456, 0.998804528548786, 0.9911906681765518, 0.9909216857855415, 0.9927766743336954, 0.9939955812749828, 0.9981915981050719, 0.9961770995595048, 0.17570507049877887, 0.823533689208017, 0.0880334386499132, 0.013652244496510603, 0.04236903464434325, 0.024479886683398323, 0.028716790147832648, 0.03813213117990893, 0.05790434734726911, 0.7061505774057208, 0.1266701013006413, 0.7188528248811393, 0.0622794664728153, 0.09183582344296494, 0.9980049245566189, 0.9769810196538282, 0.020598997402339753, 0.991702357749393, 0.033714615340987936, 0.1701939716732564, 0.021719992575444148, 0.7738152578744057, 0.9872599290724361, 0.1713905580325733, 0.8281207336714056, 0.028938340741068685, 0.23041471307039593, 0.06060671362752121, 0.14414569727626664, 0.5350863004952323, 0.16192246030265284, 0.22839589137426822, 0.297710067363474, 0.311913791951426, 0.013030178273803981, 0.33114287643201096, 0.07651555813414218, 0.020769908225913115, 0.017830770269415975, 0.05888073039515935, 0.029097465769321675, 0.052904483216948496, 0.3822838768750612, 0.01734091394333312, 0.9971401112800496, 0.9949315122520441, 0.9939015540445675, 0.9981369733054645, 0.9105618614617198, 0.08866894531087909, 0.03314105160850204, 0.9664647212317217, 0.9961128317242334, 0.3555042036149574, 0.03965239194166832, 0.38421800467616546, 0.13297224539059463, 0.010254928950431463, 0.06836619300287641, 0.008545774125359552, 0.1808086878846577, 0.0344190032358746, 0.7742097310145464, 0.01045640604634165, 0.15375804632761775, 0.3597544032665415, 0.28287538010273267, 0.04878861085395563, 0.15375804632761775, 0.9942022962223939, 0.1646427808001994, 0.834659658815984, 0.9915516899602512, 0.9957516420402757, 0.9979910798163155, 0.9965523119261895, 0.07451026933049296, 0.046207918964646794, 0.059492695666982745, 0.340205803377212, 0.16577090928567037, 0.313058650985482, 0.27137677292707085, 0.7281306372198169, 0.21843634877798274, 0.08252039842723792, 0.6261841998302172, 0.07119406923134253, 0.8581034320699572, 0.1405766714653855, 0.05849222111553712, 0.9409179707033816, 0.9944983061998448, 0.9954559066965641, 0.995945283570911, 0.9997427676477202, 0.978771992008006, 0.02056243680689088, 0.45030192173745587, 0.18110350087024726, 0.13009502129697348, 0.02714212674541173, 0.07826759824431229, 0.11909778028805666, 0.014039031075212965, 0.9954334530975963, 0.9970387622636283, 0.988751539933122, 0.997758947387381, 0.9924418371636529, 0.17595049512438557, 0.6513481195033478, 0.03993855380961472, 0.035521386567998345, 0.09331265797914591, 0.0038650213364143276, 0.13443730263457737, 0.03449533600113936, 0.19255958110225055, 0.021973056493876444, 0.09072745907148984, 0.10112331375676471, 0.04252849643976086, 0.04252849643976086, 0.31400206538023434, 0.025280828439191178, 0.9906589604231791, 0.36375270019374567, 0.19801922140724618, 0.09111754028521835, 0.33505426230863755, 0.011479375154043257, 0.9976816369598187, 0.1300520490376852, 0.08431340467273658, 0.5080847000540074, 0.23144856184672785, 0.03030874024183341, 0.015429904123115191, 0.028342993114046675, 0.10588514408643852, 0.08556375279712204, 0.4903872582185057, 0.0294125400240107, 0.1385063248403413, 0.03476027457383083, 0.0251343523841546, 0.061498947322931465, 0.8062252086719985, 0.01642548513001226, 0.02165594687532343, 0.015783147722693347, 0.056709216817584236, 0.022848859203201417, 0.019912459626886373, 0.04046725666109166, 0.9987926827026131, 0.994901845885368, 0.8983178372194967, 0.101105493631278, 0.9972121798606687, 0.9918277891887913, 0.9978747702091812, 0.9945291224780991, 0.7466428546902675, 0.09871480049991517, 0.15255923713623254, 0.1780035370197063, 0.8206656576882563, 0.9974810872368929, 0.9937694146692603, 0.9931071809353154, 0.9969607369896578, 0.7874980981117687, 0.1962204563401417, 0.015697636507211336, 0.6189609654910646, 0.30288101117183414, 0.0781516370569526, 0.9904236680338814, 0.35236184642283885, 0.10589814139225978, 0.09208534034109547, 0.14056556363831926, 0.01503157761450235, 0.0834184847795806, 0.06080340854875274, 0.08233512783439124, 0.030333994465302036, 0.0372403949908842, 0.9935792782017284, 0.03881756333830447, 0.132986096621969, 0.10926425235967183, 0.03953640710382862, 0.6778696708892799, 0.9944049512056478, 0.46762038505178877, 0.08344462701454182, 0.18052129705621175, 0.026437901628369686, 0.1152527274111741, 0.12640621716064254, 0.9953357150629706, 0.09119604285930971, 0.7026772020313479, 0.13328652417899112, 0.015199340476551618, 0.0561206417595752, 0.9935621914321534, 0.1506612687953165, 0.8468989503494305, 0.9987596767548182, 0.266295587901492, 0.5633087067577961, 0.11039834433383622, 0.0071597252601441905, 0.05288958337332321, 0.03713693012344352, 0.9619662867459725, 0.9573287372335847, 0.04105503356557283, 0.9988191187242992, 0.9944939264852793, 0.9972627138594176, 0.996012656914223, 0.992175444448825, 0.2846418598719487, 0.693102928788195, 0.013994891443704142, 0.008064852696371878, 0.9931030282525439, 0.998870350206712, 0.11834664734971015, 0.03777020660097133, 0.8426952761638936, 0.4405988979752214, 0.04473085258631689, 0.14425699959087196, 0.36902953383711434, 0.08497167344673916, 0.1532994108575191, 0.6534934885697672, 0.10687158928352761, 0.9943105270787059, 0.1707005640574058, 0.093289843147652, 0.7363942937825296, 0.9955436732761163, 0.9959537371996952, 0.0646781425694325, 0.21108782864300316, 0.09316980022863587, 0.0584390934469792, 0.13913079543070847, 0.2399954229103701, 0.029115562571448712, 0.037226326430637995, 0.021836671928586533, 0.10481602525721535, 0.992857268288201, 0.49664000328498786, 0.026221339810948926, 0.09705809362858707, 0.38001374561837925, 0.9983674461838308, 0.9984080017537917, 0.9984807052455602, 0.06872013867136179, 0.20938167251430542, 0.038655078002641, 0.5218435530356536, 0.11703898617466303, 0.04402383883634114, 0.9971410674168082, 0.45330541184458883, 0.017180261026728746, 0.23503160371811704, 0.010561635877087343, 0.022672311682814167, 0.04886516865799078, 0.17532315555964992, 0.03703613647565295, 0.9931303314707493, 0.18827033311359365, 0.8113440186608831, 0.08273963673253512, 0.17926921292049278, 0.7343142760012492, 0.9469553369172335, 0.050892033461962645, 0.9940389125237086, 0.3274005743155228, 0.6717255989967321, 0.996950775370654, 0.1273541732878016, 0.2397105497213511, 0.04092619141584043, 0.07015918528429789, 0.020335995734579098, 0.12633737350107263, 0.0663461860840643, 0.20869815622611798, 0.026945194348317304, 0.03838419194901804, 0.013472597174158652, 0.008388598240513877, 0.012709997334111935, 0.09034829331494539, 0.048200429320275365, 0.06536770551653782, 0.0868268007618659, 0.026521240790379826, 0.009133871309549898, 0.0868268007618659, 0.49554003020365295, 0.021459095245328075, 0.06965952456560344, 0.9978098499928265, 0.9965931085540224, 0.05630700702872233, 0.1832212133474298, 0.08848243961656366, 0.061669579126695885, 0.16177092495553558, 0.41649309960927944, 0.031281670571512404, 0.4867246307964353, 0.1142814347960637, 0.04685538826638612, 0.021256346872067847, 0.11782415927474169, 0.020227813958903277, 0.023541975567989124, 0.039655657874234106, 0.052340897136597175, 0.03794143635229315, 0.007885419000928396, 0.01691365234981743, 0.01451374221910009, 0.3846361070764083, 0.04206957421148216, 0.5729475344992332, 0.5742793611996106, 0.12526332241033286, 0.24429463873059942, 0.05577645450609349, 0.8293757332390839, 0.06798161747861343, 0.10197242621792015, 0.9978734365176841, 0.9950809370526964, 0.11503589177374189, 0.06376275144030265, 0.08249716810059776, 0.21593880255813835, 0.06902153506424513, 0.21495278062864914, 0.08052512424161933, 0.023335852331244782, 0.04174159501504349, 0.07986777628862651, 0.013146959059856215, 0.9928181131943143, 0.11698626112709232, 0.033367215373019454, 0.015678571078888662, 0.4755833227262894, 0.023718863939857206, 0.1744743550830174, 0.16000182793327403, 0.008772255678678358, 0.9900117123079862, 0.13245352489770876, 0.20162581049708606, 0.11668072351103756, 0.26832765732505703, 0.2681376235734104, 0.012542227608678303, 0.04567524966637601, 0.9521532815067615, 0.09754408003215632, 0.33834662909406743, 0.551078939297804, 0.012932360045373244, 0.17120479306592634, 0.06153624234753936, 0.10113877455140133, 0.6659318107510943, 0.995143424801888, 0.9998269424706276, 0.9977181525279778, 0.9993758244524145, 0.99711567996021, 0.04337255158904945, 0.08132353422946771, 0.7170024934564737, 0.10300981002399244, 0.05286029724915402, 0.13702790026519832, 0.022892489304448406, 0.031395413903243526, 0.07031264572080581, 0.21682457726927562, 0.03597391176413321, 0.45915792833493657, 0.026816916042353846, 0.04257559172225951, 0.20811280722632447, 0.7491646699157682, 0.9745685068187345, 0.025064545561147483, 0.9935450212730234, 0.08066540298313069, 0.1279390810104538, 0.2108556115186951, 0.09004510100442496, 0.1763383228003322, 0.314032289752932, 0.09027440835768256, 0.10720085992474805, 0.6617436541219409, 0.14024774155568542, 0.9967002554442773, 0.09157288383516551, 0.09183119944541987, 0.0147239897844977, 0.7926414500654595, 0.009170204164029269, 0.9980508615591297, 0.05137027517477727, 0.9482096626010972, 0.13472299152919892, 0.2632560077719211, 0.08156202730416366, 0.07792086537094207, 0.24432196571916884, 0.19771509297393247, 0.10923432418617268, 0.4478960800772841, 0.33229859137541207, 0.08272113870409194, 0.027927222041125053, 0.9983724367664669, 0.9942738672207926, 0.9353067915627467, 0.05812641077508595, 0.9979422060958512, 0.9850071216745148, 0.02594028295488607, 0.9713194839774006, 0.9873218549605232, 0.10548391220583812, 0.8907530364048553, 0.9902550748104151, 0.992872563018908, 0.9988879079259814, 0.9929805215276262, 0.7019807840760135, 0.2975323253655514, 0.9976340549787065, 0.9975118305328017, 0.1582009235170288, 0.11399772429903546, 0.725863060842838, 0.11443960175094828, 0.103281091829654, 0.7577406737250997, 0.024393021688410746, 0.9962970795993653, 0.9945686770468332, 0.12844309465052328, 0.044577309319887494, 0.11012106497243393, 0.023421976083330714, 0.12617645180374934, 0.04608840455107012, 0.4878948727680906, 0.03305520818211996, 0.996110905306339, 0.9978350146762553, 0.4300236731672742, 0.013881060061889145, 0.45633984953460566, 0.08935932414841138, 0.01041079504641686, 0.9970956710842437, 0.9953365797356034, 0.9966601372291407, 0.9974884559549023, 0.9968103867275048, 0.4962878750498831, 0.11033093530520727, 0.19368313825476166, 0.02738140000275217, 0.12140429560043793, 0.050736123534511374, 0.9932659338954565, 0.05579742831988261, 0.06495820013359467, 0.10701447073290918, 0.01540675259578848, 0.15365112723907973, 0.06870578860284052, 0.019362540424436876, 0.062459807820764116, 0.02602491992531838, 0.3876672072075426, 0.03872508084887375, 0.08935574810297031, 0.044677874051485156, 0.8470560202822389, 0.01823586695978986, 0.9989245832190462, 0.0582263580506924, 0.12053877631546848, 0.1430121074929287, 0.09193635481688274, 0.5291447977238363, 0.05720484299717148, 0.15718326044806752, 0.05646798096525749, 0.4664929472279108, 0.31942335501242675, 0.9976715206739653, 0.9932903022011575, 0.039449265205334566, 0.9566446812293632, 0.44332044058667447, 0.0049572573228541875, 0.49218483419766573, 0.016996310821214354, 0.04178259743548529, 0.11373201099197502, 0.13294700828285666, 0.19630456691765552, 0.2954954988786931, 0.023888915550825805, 0.2368118585038384, 0.04853007911120036, 0.8432101245571062, 0.10717059137056746, 0.3081293950366631, 0.015149082429010165, 0.022944241348792097, 0.03353389120208075, 0.11398581439303765, 0.09413022091812141, 0.04809465975035266, 0.35195877915166335, 0.012207513025318872, 0.9954582098995537, 0.41672056971165294, 0.49555959641385755, 0.08777152726452336, 0.985442250389057, 0.9938650277508749, 0.9960202444092918, 0.03325446835712339, 0.9663357275540561, 0.9959313927482282, 0.020237917804881794, 0.04089745889736529, 0.021221705475952434, 0.9174522738213079, 0.11892849906689056, 0.06530342433733069, 0.1356118556494203, 0.07722010761056622, 0.11416182575759634, 0.24190867044668118, 0.10534348013540205, 0.021450029891823947, 0.08508511857090166, 0.02574003587018874, 0.00881834562219429, 0.06298399168288606, 0.06560832466967298, 0.8686542186264703, 0.025701450164845964, 0.016298480592341343, 0.9572223024809704, 0.01994800806990471, 0.9774523954253309, 0.04353780819874802, 0.13434523672756532, 0.04291583951019448, 0.5523081954355463, 0.18223682574618816, 0.04415977688730156, 0.49175708058611156, 0.06058091745774688, 0.03525246541551041, 0.030512638132752706, 0.08131766181981183, 0.13597379517411157, 0.05391553534136886, 0.02518033243965029, 0.03421562819740716, 0.051249382494817655, 0.9942256017465481, 0.9948073643723331, 0.1059811122299252, 0.014690451200187653, 0.1274171787771378, 0.039124569012744664, 0.006445810220490501, 0.19487333224738723, 0.04676959973937293, 0.1202218557403112, 0.10643081991972687, 0.054264727902733984, 0.18348073743907845, 0.9983364480601707, 0.9991874844577204, 0.048297570948253946, 0.1013517208535329, 0.22538866442518507, 0.34942560799683725, 0.03695495958919431, 0.07610526331240015, 0.1397702431987349, 0.022685222718119277, 0.11452004489162528, 0.08738259349550553, 0.03328860704590687, 0.04776191445717073, 0.013387809355419068, 0.4544618527136851, 0.07616578025177605, 0.15594988735636806, 0.01700613620823503, 0.1865038916978688, 0.07573188329549824, 0.6126370260620903, 0.09494743577346049, 0.03051881864146944, 0.14303499631611544, 0.8532777366444128, 0.604464197195668, 0.08811053678307701, 0.3070911355527831, 0.9952589462251126, 0.10461655144671056, 0.8027308466776445, 0.09153948251587174, 0.23296739090258425, 0.022422636318519526, 0.5499246568287756, 0.037624423653109036, 0.1489775158789772, 0.007600893667294755, 0.01499590015428221, 0.272336258159018, 0.05757354523519063, 0.05596684164723182, 0.4386300795127547, 0.07658620435936986, 0.005891246489182297, 0.0779251240160022, 0.43914636593220097, 0.16164471289447524, 0.12695700626475953, 0.02821266805883545, 0.021275126732892308, 0.06544413984139699, 0.06775665361671136, 0.026825159793646823, 0.06243787193348829, 0.10432107463299439, 0.05682530081634654, 0.11025804636007537, 0.6276227254342752, 0.1009285193603767, 0.9963997993145721, 0.1492767039714475, 0.02543232734328365, 0.483767096203765, 0.2393956030356917, 0.08846026902011704, 0.013269040353017555, 0.9993559029790898, 0.9944062542192001, 0.9930812342197682, 0.9969766574330303, 0.35330750026715385, 0.028677556839866385, 0.6171410231939246, 0.9963371546234248, 0.9967012314902981, 0.188073244024151, 0.8096105361801548, 0.9938917007935886, 0.06935460443407121, 0.707994920264477, 0.02456308907040022, 0.19650471256320176, 0.7659732806709433, 0.16964034515013202, 0.0640863526122721, 0.11172190539615692, 0.4317900668013633, 0.45594615445458636, 0.990933895091086, 0.1115075664835114, 0.16203443254635252, 0.07491914623110922, 0.649880035911715, 0.9989439196597747, 0.9895965371505968, 0.9949242729760744, 0.9967595020247969, 0.9964363447048488, 0.8079042237206997, 0.14195845306645288, 0.049490102903901004, 0.9936329470484617, 0.9989474745083915, 0.9965076319883119, 0.34842202220512425, 0.6499410798826357, 0.25145359854846694, 0.06484023610369273, 0.07274758196999673, 0.6104471008786682, 0.06683288525173253, 0.015282605159952488, 0.1133649964850207, 0.14986077000132517, 0.1051534474438522, 0.42517576146494684, 0.096257602649253, 0.005930563196399474, 0.004333873105061154, 0.017563591004721518, 0.8592848723968541, 0.14013621812793198, 0.992874032072129, 0.2609697925467458, 0.029991382676898742, 0.05416354184932459, 0.026857954636028726, 0.04744905319031741, 0.5801318201382204, 0.9876306516732163, 0.07739676827709646, 0.020404602545779974, 0.06754627049637509, 0.83377427643963, 0.9979767724204791, 0.9939004032171429, 0.9914019368986502, 0.9983437874059985, 0.12800064130832867, 0.024960125055124092, 0.10880054511207937, 0.08544042807330939, 0.01504007535372862, 0.6376031945171122, 0.1523459666021424, 0.6119335896989819, 0.06947995966373857, 0.1657320138768076, 0.9962006932026597, 0.039020031385544614, 0.9590712977394387, 0.06917514932609245, 0.9001931683825939, 0.03023549573193445, 0.9967926947472375, 0.15510739246781388, 0.19948719002655893, 0.2281121594519495, 0.03838852488831446, 0.3523755926164356, 0.026405979547453294, 0.9976526608839332, 0.08267675832430708, 0.046655764033633876, 0.7252226850522207, 0.14477009133965804, 0.01462347442608615, 0.021122796393235548, 0.20960313344056813, 0.754733763435224, 0.05877509763669977, 0.9376027480140201, 0.9938687327243139, 0.1332663749736035, 0.1735766999656191, 0.01563952499690223, 0.1535316749695895, 0.03039794999397898, 0.1427381999717274, 0.02709382499463344, 0.3127904999380446, 0.011013749997818472, 0.9941869404569141, 0.17945289385286867, 0.7597803973609359, 0.0593352310319969, 0.04997965805638492, 0.9457689139900531, 0.9905927605270478, 0.2549394222306945, 0.7138303822459445, 0.03115926271708488, 0.1424742587631808, 0.12177799801652926, 0.37493225990310736, 0.180267430561414, 0.1805673763693365, 0.9963478974684801, 0.9958396923065665, 0.995145561954625, 0.995762901064576, 0.9980909919814245, 0.9984560722242249, 0.9973026666067215, 0.9943272201535541, 0.9993718007846253, 0.25699301016731274, 0.05357972352196742, 0.10953023127057057, 0.5277365688491128, 0.03461344970888161, 0.017069646431777233, 0.17227314626088533, 0.13781851700870829, 0.6890925850435413, 0.35901863409224666, 0.19611017867824393, 0.44382303568283865, 0.0009000467149944902, 0.9987262966838041, 0.9993289055469639, 0.8208683058516968, 0.09360400544919506, 0.08497690817277155, 0.34528035524352274, 0.21647364115976886, 0.11631785017069028, 0.12195008291579738, 0.04089490732316901, 0.028895802779245163, 0.037466591739190765, 0.0923196410828426, 0.904300460793621, 0.09479040469534812, 0.11827950349644016, 0.5602867795898369, 0.08364679527663882, 0.059579998039149755, 0.11094206531427886, 0.06691743622131105, 0.9977630379550609, 0.08552539871480357, 0.25366564592636764, 0.44531418336058715, 0.13007920589869337, 0.029777167615363545, 0.05530045414281801, 0.014198249101857107, 0.41458887377422754, 0.5707696138946557, 0.9908819864358024, 0.9182706036688697, 0.07965720899296219, 0.38656632567937865, 0.03396461375987294, 0.201686778615328, 0.010504519719548333, 0.331592672480409, 0.035365216389146054, 0.9988464583251561, 0.26481646715622226, 0.5466334976360538, 0.14821003923146597, 0.020487858364349708, 0.01961603460416461, 0.9867642871530533, 0.8920033338670617, 0.10457970121200033, 0.5116561710239893, 0.1577437997623366, 0.03741359353337471, 0.292736089943567, 0.10478377220077434, 0.8935198029484211, 0.9966366916124199, 0.995341195920667, 0.2895874811973558, 0.4801254583820389, 0.05620366258225443, 0.01512206168132406, 0.026463607942317106, 0.06401672778427185, 0.049650769187014, 0.013861889874547055, 0.004788652865752619, 0.7331678643616889, 0.09131513112086016, 0.1753515199059996, 0.9922234623145607, 0.9903899685834117, 0.06433270354792715, 0.5500049037893772, 0.09689617077589027, 0.030975005411964924, 0.041697122669952784, 0.07346635898991681, 0.1350192543598471, 0.007545193625991455, 0.9966112582551795, 0.02180179682469672, 0.9771168940523166, 0.9924637713878625, 0.9950155360090833, 0.4009949006249532, 0.192601411728742, 0.11147348588801788, 0.18609879171860763, 0.06162006581032099, 0.04706658293049644, 0.9982657849417659, 0.9305941896148987, 0.029146126744090787, 0.03955545772412321, 0.00958637408354243, 0.9893138054215788, 0.9134482277000048, 0.08502536962239038, 0.04833729570967723, 0.06073147409677396, 0.1387021235865097, 0.08563250521994101, 0.09813935795601135, 0.34906513312023324, 0.03312625859824034, 0.061182171492668386, 0.023436264586510172, 0.016788477997067383, 0.08484378477712577, 0.9912638359488453, 0.850218570509032, 0.09991482092456473, 0.04712963251158714, 0.9951651403793568, 0.08506481728305437, 0.4070959112831888, 0.05665030898892486, 0.34115280712888824, 0.10990517359050092, 0.9964315266054689, 0.9962137841747801, 0.7985688170376226, 0.06527084576287491, 0.1358699238329233, 0.9982791473114269, 0.06573710935220275, 0.056848711467961256, 0.15369521341500925, 0.07869935626672162, 0.013517771782283947, 0.03777569100802637, 0.3531286409426779, 0.01851749559216979, 0.18795258026052336, 0.034072191889592415, 0.9996027814975788, 0.15069228482817715, 0.848418206361381, 0.9962303656449583, 0.9922549019756199, 0.9975495765845035, 0.04066017260776731, 0.4322935933847788, 0.02167053155468917, 0.18922618790537862, 0.14186378904358374, 0.05138373461421144, 0.12287414799050561, 0.26504647314592644, 0.08538590649111655, 0.1990542110313411, 0.029898535080485605, 0.13764100383899228, 0.11124409899315815, 0.022625918439286404, 0.019932356720323736, 0.08619397500680534, 0.042827631331506404, 0.9593555786241709, 0.039668674632990744, 0.9968686464134654, 0.19169191991021825, 0.8051060636229167, 0.9949148994752621, 0.9978792224180771, 0.9881494143992463, 0.9888873926645687, 0.9936302926332724, 0.9915984321604983, 0.9939609960663736, 0.9936717006385148, 0.36858290325026427, 0.07815163193916234, 0.058990488020194166, 0.023251725205040038, 0.17611028905298842, 0.29473714634907233, 0.09481847964494974, 0.13389066154588705, 0.19436543990211483, 0.08262397701344702, 0.022149198657219232, 0.007217154618644469, 0.013189972234074374, 0.045293866917010116, 0.007466022019287382, 0.3986855758299462, 0.1326367839932431, 0.091825465841476, 0.054615146350158926, 0.36190036537522896, 0.08102246986012589, 0.016204493972025176, 0.04081131815176711, 0.04741314902925885, 0.016204493972025176, 0.1566434417295767, 0.6201627726151946, 0.25362710700675223, 0.02447279102696732, 0.10122836288427392, 0.6316411301611053, 0.26701193229537634, 0.07105962714312435, 0.030864282496508556, 0.1764948126075914, 0.019425529689514776, 0.6338272830121678, 0.12210332947695002, 0.035520968575112735, 0.012765348081681139, 0.994872484144105, 0.012349728876237637, 0.07634377850765084, 0.03817188925382542, 0.8723399397124222, 0.9957009871531449, 0.012169202869384358, 0.6104883439474487, 0.043268276868922165, 0.2934130025173784, 0.020958071608384175, 0.020282004782307263, 0.999256843585896, 0.9933481549721475, 0.9951771497624436, 0.016347754872329288, 0.16725010753998423, 0.025464772012666774, 0.5713854707780477, 0.060203751116366507, 0.01854841418206592, 0.06570539939070809, 0.07513679643243652, 0.9930268463344073, 0.9993842500035748, 0.9980710677532553, 0.4289126682222134, 0.5702364275673206, 0.998378367401106, 0.301253738319684, 0.2727760047850751, 0.027257259240268505, 0.1163518827271163, 0.1576445963522992, 0.07892400436734462, 0.0048818971773615235, 0.012814980090573998, 0.027867496387438694, 0.030322624554546807, 0.7266281869357945, 0.2312100122284194, 0.011593944682620838, 0.9943530707130194, 0.9932050953805736, 0.0991155320861731, 0.1024753806314671, 0.7979640295073259, 0.9979625230943924, 0.0985425575860919, 0.13830534398047986, 0.12533921798230988, 0.6370689907100853, 0.9922392711824843, 0.14700447218183185, 0.6056382877902182, 0.24668558688047124, 0.9975640739673738, 0.9945561370451964, 0.9975566889117639, 0.22042437128967918, 0.6932880058593582, 0.0862316822574538, 0.27008662810919637, 0.05554973202245883, 0.10152192404104546, 0.05746524002323328, 0.21964491742213607, 0.03511764668086478, 0.20910962341787664, 0.05139946468744754, 0.9956344605247621, 0.9957091455330748, 0.5762122578482683, 0.04078963908283104, 0.04454041049274654, 0.0440715640665071, 0.29396670925212715, 0.9909456914266396, 0.9947654736307235, 0.9910453166627001, 0.9977026456858678, 0.9996915583419722, 0.9994029435156829, 0.42146633481333917, 0.014201031738596265, 0.12907723490974105, 0.2992360259204213, 0.11690492199094425, 0.01901923893562, 0.9975576348731746, 0.12629753559940218, 0.07135313526974099, 0.5593886911390844, 0.21679419496590296, 0.026104805586490608, 0.04839241500397681, 0.8457674349558675, 0.09348534716677338, 0.012098103750994203, 0.35347697127692546, 0.0402193348728553, 0.6055559011138354, 0.9931114972778994, 0.037554258351816236, 0.698509205343782, 0.23283640178126067, 0.0312952152931802, 0.5837994112189339, 0.35984359613016875, 0.05618820271799978, 0.27457491982777005, 0.7238793340913937, 0.40400431320455293, 0.09579483715159504, 0.019529189023175412, 0.07117510122664404, 0.3460646339225254, 0.028969839641013764, 0.006386322476773002, 0.00314688353927945, 0.024897402119593296, 0.0515038017496718, 0.1772919329459856, 0.40262106560079974, 0.017828239067194083, 0.2753472478155531, 0.0074284329446642015, 0.06784635422793305, 0.9978721696362508, 0.21606913321607657, 0.7814500317981437, 0.9971443431383091, 0.9985350171230349, 0.2713667638328242, 0.024056793857568266, 0.10036433106182939, 0.03692794471129906, 0.3701988150311142, 0.07155746962728904, 0.040298960411085695, 0.05056523549679954, 0.03462952491598999, 0.9996639275400528, 0.18388932051161677, 0.03628208407153223, 0.03245105656087355, 0.4443991912364072, 0.0795501594860303, 0.013070564448129623, 0.14107195421601973, 0.016901591958788306, 0.052282257792518494, 0.9967014388937753, 0.11526239964305354, 0.8828051972661146, 0.09873796167906794, 0.29449171128698753, 0.01133764385559065, 0.10921451865955044, 0.45623252932813513, 0.029994526149600582, 0.6514510463182094, 0.08022320006589226, 0.0628253976419638, 0.2039409061916056, 0.9956395413513692, 0.08702848354455853, 0.03529488499307096, 0.21708771728614876, 0.08025960149109286, 0.12619130113960986, 0.05318407327723021, 0.2538330770049624, 0.017889188284159252, 0.015955221983169062, 0.04061329232079398, 0.04738217437425964, 0.02514156191287246, 0.9981687645218827, 0.3614333273307325, 0.03992372041874172, 0.5981491917604401, 0.998093915617517, 0.9954327600973953, 0.035034643069542716, 0.026370161450193445, 0.019589262791572273, 0.8155914219952687, 0.09304899825996829, 0.010171347987931756, 0.9969229870598895, 0.13841768396717608, 0.6596591338778562, 0.201694339495028, 0.27000331186600895, 0.7279036653229832, 0.9908936705875586, 0.990843092588316, 0.9973723849775358, 0.9977825466832466, 0.9972742633283467, 0.9898556524782476, 0.9961067848674056, 0.9970060363126277, 0.9951785073038397, 0.15244084565643143, 0.08286755272602522, 0.06115359505984749, 0.06558501499172051, 0.11831891218100929, 0.08286755272602522, 0.07001643492359351, 0.36647842836589767, 0.9934897844938013, 0.9986865376711873, 0.11726597279791254, 0.04118609776316928, 0.11612191452671339, 0.5480039119043912, 0.16474439105267713, 0.0028601456779978668, 0.009152466169593173, 0.9954549897141101, 0.9922168404026641, 0.9987670474118718, 0.5743814989928335, 0.42536239801574544, 0.9983169489049994, 0.9964316579731556, 0.9991906461609229, 0.995746739909554, 0.9199737607581772, 0.07849605467219942, 0.9935888781915088, 0.16385884788096566, 0.15910931605832895, 0.0498700841376852, 0.4179588003920283, 0.17652426607466348, 0.0332467227584568, 0.994431301471742, 0.14054292445474023, 0.8587172684184627, 0.9971696958439414, 0.9925821491481593, 0.9972236968557081, 0.9022756791334839, 0.04778524238947142, 0.020694396310401007, 0.019565611057106407, 0.009406543777455005, 0.9982232368770688, 0.7877078298354246, 0.12415416274296362, 0.054946605808541334, 0.002936078172975491, 0.0062915960849474805, 0.02348862538380393, 0.8547668294816531, 0.015307428894728744, 0.11633645959993846, 0.013470537427361295, 0.5523700721227071, 0.44622837198932414, 0.9957044957245682, 0.24878689190326791, 0.7020033228898412, 0.04821451393474184, 0.0324201990897456, 0.9658517645486709, 0.1379240024718868, 0.042495503464311066, 0.03802229257333096, 0.15507131088731058, 0.14612488910535035, 0.09244635841358899, 0.3884238123667731, 0.9975933757553652, 0.094745199588504, 0.08359870551926823, 0.6855093852579995, 0.13375792883082918, 0.3757154846066694, 0.6234580093909798, 0.9978551692165942, 0.9972560155068497, 0.801110343379155, 0.1982369117532116, 0.14546364246382493, 0.8522940178162136, 0.08117935381635065, 0.9188026863759687, 0.9965205360937083, 0.07785952467385064, 0.8329100511509846, 0.0536919282150874, 0.01955831259807128, 0.01594563065320461, 0.7036124748243656, 0.10975892464419497, 0.18601249334437253, 0.996445489519197, 0.9963318268249772, 0.0927927500364712, 0.0378557487710977, 0.018466218912730585, 0.09971758212874515, 0.4279546233025313, 0.2179013831702209, 0.09002281719956161, 0.014311319657366203, 0.6297282590081473, 0.017681355004548413, 0.09190418590276263, 0.11930057112959039, 0.024093274951252783, 0.05032385655140702, 0.01709845319121165, 0.04954665413362467, 0.9951751696333346, 0.9994079539831693, 0.9994493416439808, 0.06020266213970068, 0.5676251001743207, 0.37104497890182864, 0.9975928048854327, 0.9986657648367706, 0.09714886389473487, 0.6695959328658608, 0.14102254436332481, 0.09192580669609321, 0.8157069886199807, 0.18291611259963203, 0.9991840788453985, 0.5459379347725488, 0.10882483749618914, 0.024787879651909747, 0.14993644277252727, 0.16988766298016195, 0.39502420414660305, 0.6036324917296406, 0.1299898245560431, 0.35683481250678495, 0.5123128379561699, 0.9862983436677264, 0.9460432918431618, 0.05198040065072318, 0.9956530407563319, 0.045647429760166114, 0.6093931872982176, 0.24877849219290532, 0.09540312819874718, 0.09839550849833124, 0.17488409246307177, 0.0861424829117466, 0.06052252032161507, 0.06683468501773443, 0.12401547108846278, 0.12401547108846278, 0.26548222104266733, 0.7399539279554789, 0.04990182461256497, 0.10595894036676791, 0.035173092237931254, 0.0178063779454527, 0.01209075045678887, 0.03891023328821145, 0.9956907677537093, 0.9587508425863174, 0.039872435797540615, 0.16024665688932835, 0.10662566016097616, 0.2009246544073886, 0.4819726372594414, 0.050539330249711245, 0.9948718371710383, 0.9987131322025751, 0.947795082573068, 0.051682381699567924, 0.9973499311424057, 0.5206546178005161, 0.10946797426258514, 0.0942749102190235, 0.0179200242565086, 0.11394798032671229, 0.1437497597967755, 0.2589594371676372, 0.7361846856622829, 0.9986917157584341, 0.3929188416799081, 0.043839901121022005, 0.10452983226474974, 0.03832263465341039, 0.08618864914268952, 0.04801512979921457, 0.11675728767945656, 0.08484661135327047, 0.016104453473028493, 0.03847174996334584, 0.011630994174965022, 0.018490298431995674, 0.7380942450406546, 0.19054274442298202, 0.07119463956021747, 0.9984629604742463, 0.9980035185554568, 0.9973685306922726, 0.4259552712678426, 0.07445897808295296, 0.07653883780594047, 0.30698729511295686, 0.11605617254270321, 0.9919360606042181, 0.9932642138801093, 0.2543099275734613, 0.18088583758571247, 0.15049507186230648, 0.013858189169873133, 0.020665720691916075, 0.3792767562281068, 0.9953450642021896, 0.3688791914162533, 0.11148960636088254, 0.28767071270894384, 0.23123770208183045, 0.9971298563234325, 0.8007901286908524, 0.1985513791567452, 0.9938577792259499, 0.29804102842235475, 0.1409985105962628, 0.1551549875637591, 0.05190708221415297, 0.05794717905361805, 0.24802147647053457, 0.010381416442830596, 0.03737309919419014, 0.9968072637993239, 0.031048398432025132, 0.9672770280746291, 0.9898462675664483, 0.017469168672930233, 0.11225558387975539, 0.03865862326694746, 0.83140302758205, 0.03098483368047187, 0.16950526660493434, 0.2515239439944187, 0.5467911825965625, 0.013074488177915353, 0.30373041767157205, 0.20758264307090224, 0.09534319071279812, 0.022327202888440065, 0.10338902959151526, 0.17399126575225818, 0.017298553589241854, 0.06315983519792956, 0.9974264509779253, 0.9907683809922121, 0.8771268424192984, 0.01633792005618376, 0.049501459274706026, 0.04145442402315283, 0.015362521843874283, 0.8478926550236414, 0.06758339992510194, 0.08442758064037964, 0.6962117193981895, 0.11230092100412828, 0.17196078528757142, 0.019436697866099126, 0.05611662931911, 0.048588788800692805, 0.8865743083281341, 0.008554364225474086, 0.487211174353053, 0.1266266666016598, 0.3165666665041495, 0.06874019044090104, 0.9964216162928827, 0.9885655202391449, 0.46352755096397197, 0.0548629999743005, 0.03844729919458854, 0.12484572435096727, 0.0034559370062551497, 0.12887765085826494, 0.1405414382543761, 0.008495845140377243, 0.019871637785967112, 0.017135687656015117, 0.42206673922924776, 0.43963194240763503, 0.13801231068732836, 0.995008931341881, 0.9924096651141415, 0.9965626213007133, 0.9974174087672661, 0.08061855666943105, 0.04783367695719575, 0.16231202742778783, 0.01504879724496046, 0.4219037799033558, 0.10480412367026036, 0.16768659787241658, 0.9844874506226452, 0.23234960392494802, 0.6130403917068324, 0.004642570582705907, 0.14966763259485233, 0.3075019865270278, 0.26078075446555693, 0.4309795284037723, 0.3568994384154695, 0.46953245063483584, 0.09756963064595568, 0.07565925744826739, 0.26577840201436376, 0.7324007100964002, 0.9970622716023035, 0.3391422671206487, 0.5115810072237068, 0.1491155402221567, 0.9970365820533311, 0.9956959954354383, 0.9924756857922362, 0.9977831349650431, 0.9991133480440577, 0.34067705909764834, 0.16907676266327734, 0.042900074108592756, 0.18674149906093318, 0.2586622115371034, 0.9947770224059925, 0.9992682168076825, 0.01810099537453599, 0.1370503935500582, 0.8442821413980002, 0.9971749584970607, 0.9949320404431696, 0.9917244676064427, 0.7911719038421112, 0.0149422296609406, 0.12183664185074643, 0.07164607555374082, 0.9963997566152761, 0.08854964814401933, 0.049100989729148156, 0.8204481617135441, 0.0411273247303976, 0.999508722441226, 0.9895396804107501, 0.9970964714402141, 0.10388869728968972, 0.06210737337970581, 0.08291737640823062, 0.10324342587795252, 0.08501450849637653, 0.04984721655669895, 0.08582109776104803, 0.15163878175824275, 0.02371372438134222, 0.08259474070236202, 0.04258791317465541, 0.02403636008721082, 0.014841242469955674, 0.07356094093804116, 0.014034653205284171, 0.06251219619580764, 0.21879268668532673, 0.2151687912536857, 0.14903269962623705, 0.032615058884769205, 0.32162071955814076, 0.9981894234850824, 0.9965040726988117, 0.9925534759783374, 0.12288620830868312, 0.12251382585926286, 0.08415843356897693, 0.19289410879969046, 0.29306498769373823, 0.18470169491244492, 0.8309205248900704, 0.09270958932558658, 0.054586019883289295, 0.020794674241253065, 0.9938348958090647, 0.04190058689909825, 0.10012389238941148, 0.2296959884227675, 0.027933724599398833, 0.033318538980005835, 0.02086615572485214, 0.031972335384854084, 0.05872813183849514, 0.0745460240815282, 0.05149228751455447, 0.03685232341727918, 0.2924627310467179, 0.7012100265162577, 0.05244954168418499, 0.1831699378816922, 0.06293945002102198, 0.9952439644171449, 0.9129066604236953, 0.08699998496565431, 0.3550873270320779, 0.6240067960377049, 0.019884890313796363, 0.9988188181750699, 0.15752975090781066, 0.107562687060539, 0.585491931340168, 0.1026041234726418, 0.03661708495677923, 0.009917127175794375, 0.9980444564776496, 0.9966832737212787, 0.9946804200961964, 0.9921283603062843, 0.8071835009478531, 0.1925545986857285, 0.12253270273900752, 0.09243695118907584, 0.7255225820072814, 0.05911665483022292, 0.18117150239778462, 0.8180002472719252, 0.9980468278101345, 0.9912409502275583, 0.2859973030050041, 0.16806614419616775, 0.10995513840630636, 0.3953827256682726, 0.04044981775568783, 0.9911541604912549, 0.19283675246831222, 0.8051431417491386, 0.050248673101758484, 0.9493261711621479, 0.9637633121484015, 0.034818038733685025, 0.9174834243824708, 0.037179066870400776, 0.044375015296929964, 0.9873708548638123, 0.7289537383319022, 0.09482771724154834, 0.09647593944157525, 0.006263244360102266, 0.02384428116038933, 0.04966642896081095, 0.772345122375174, 0.18954429131170608, 0.037908858262341215, 0.9921143926361033, 0.9954098741909276, 0.3110383384322882, 0.030391532304834264, 0.024851409228432184, 0.0210524676903279, 0.046220455380268775, 0.010130510768278088, 0.07582054153133132, 0.09101630768374845, 0.01329629538336499, 0.37625350150307835, 0.131168077432199, 0.8685109593083467, 0.08647832669379327, 0.16023925240320516, 0.2399349652386617, 0.512935173036715, 0.48138964454760264, 0.07623179121868194, 0.4418620491008787, 0.9967550466042756, 0.11626192588977166, 0.0361904827672441, 0.8179049105397166, 0.028952386213795277, 0.3878918739285939, 0.038994421188588806, 0.08082302336582191, 0.14620464686247833, 0.006841126524313825, 0.3313059845346267, 0.007818430313501514, 0.696895938214942, 0.3030379194333474, 0.5438935679177123, 0.0389146879225641, 0.0902942368203245, 0.15444266769267626, 0.04757928640532251, 0.02736188994555288, 0.05061949639927283, 0.04681923390683493, 0.10237749735889977, 0.13096342194612504, 0.07512115065945243, 0.20475499471779954, 0.02725634669944734, 0.04587043712833821, 0.4128339341550439, 0.9936897460061781, 0.9965635103692668, 0.9933334595997625, 0.9948873709992145, 0.11681070119406375, 0.44256991739533064, 0.07324763441211919, 0.10563079909958241, 0.08365650877594664, 0.07401866214277307, 0.10370322977294769, 0.996808191395588, 0.16287352627532084, 0.09329648592469836, 0.16603611901853096, 0.5423846554605345, 0.03320722380370619, 0.9968686638161814, 0.9962558667448159, 0.17370411336445443, 0.36073590806121997, 0.05508774950688581, 0.3154217915313623, 0.012883425287900712, 0.04709114070749916, 0.01466044946554219, 0.020435778042876992, 0.9899923720970113, 0.9959620438708403, 0.5180328699194772, 0.03728309404146248, 0.10410068727842084, 0.12802026267249164, 0.13498276818625873, 0.054689357825880205, 0.016844771404275215, 0.005951819229510577, 0.3561866897235861, 0.15973188248599174, 0.281970429211606, 0.02953242200303706, 0.07524347519034659, 0.05752402198852436, 0.03261406603813658, 0.007190502748565545, 0.9986798213435958, 0.9970439300629301, 0.9941748361840649, 0.06982119041122124, 0.04016654852499733, 0.018146870407987774, 0.09504976634427742, 0.08564437619379595, 0.1854521634377287, 0.2604739813439221, 0.1272493961535728, 0.04038785182265572, 0.077677457478094, 0.04596763347204304, 0.04161934381928221, 0.04907355465258648, 0.09690474083295558, 0.09814710930517297, 0.40998159583173516, 0.10373776743015117, 0.13914526888834647, 0.015529605902717241, 0.9983870053748257], \"Topic\": [2, 6, 7, 12, 14, 19, 19, 14, 9, 20, 8, 9, 2, 3, 4, 6, 9, 11, 12, 14, 16, 19, 2, 4, 9, 10, 11, 12, 13, 14, 18, 2, 9, 9, 13, 16, 1, 9, 9, 9, 8, 17, 12, 13, 17, 17, 17, 14, 9, 16, 15, 17, 6, 16, 17, 8, 17, 9, 1, 17, 17, 14, 9, 14, 17, 7, 18, 7, 16, 3, 11, 12, 13, 20, 2, 3, 5, 9, 10, 12, 14, 1, 2, 3, 5, 10, 14, 15, 17, 15, 12, 16, 2, 11, 1, 5, 9, 10, 15, 10, 1, 2, 5, 18, 2, 5, 7, 11, 12, 18, 3, 7, 14, 16, 19, 14, 14, 8, 14, 14, 2, 1, 9, 17, 13, 16, 17, 2, 12, 18, 2, 3, 6, 4, 6, 13, 20, 20, 11, 1, 2, 5, 6, 7, 8, 9, 11, 15, 17, 18, 9, 1, 2, 5, 9, 10, 11, 1, 8, 4, 6, 15, 19, 18, 3, 11, 19, 20, 1, 3, 5, 10, 3, 5, 2, 10, 11, 12, 18, 20, 2, 4, 5, 9, 10, 12, 14, 16, 18, 18, 20, 20, 1, 3, 5, 7, 8, 12, 14, 7, 5, 11, 9, 20, 14, 2, 3, 7, 15, 16, 16, 4, 14, 3, 4, 13, 10, 17, 3, 10, 15, 10, 15, 5, 9, 5, 15, 3, 4, 20, 4, 7, 8, 9, 12, 2, 3, 6, 9, 12, 14, 12, 16, 8, 1, 2, 3, 4, 5, 6, 8, 9, 10, 11, 12, 5, 5, 11, 16, 2, 3, 4, 5, 6, 10, 11, 12, 14, 15, 12, 2, 3, 6, 11, 12, 13, 18, 6, 6, 7, 8, 1, 5, 1, 2, 4, 5, 8, 9, 10, 15, 18, 9, 13, 4, 6, 12, 20, 1, 6, 7, 8, 1, 2, 4, 7, 9, 10, 13, 18, 18, 4, 6, 1, 17, 11, 17, 4, 5, 3, 6, 8, 14, 18, 10, 19, 8, 14, 17, 20, 17, 13, 20, 3, 9, 14, 3, 5, 16, 5, 6, 18, 14, 9, 13, 12, 2, 16, 16, 7, 7, 14, 19, 2, 3, 4, 5, 6, 11, 12, 13, 15, 16, 1, 4, 6, 8, 12, 16, 18, 6, 20, 9, 6, 9, 12, 4, 4, 16, 7, 2, 7, 12, 18, 1, 7, 13, 11, 16, 4, 6, 11, 12, 7, 13, 4, 6, 10, 3, 2, 4, 12, 8, 14, 8, 14, 19, 10, 5, 9, 10, 11, 9, 9, 19, 12, 6, 1, 2, 3, 5, 7, 11, 12, 15, 18, 3, 16, 3, 7, 8, 13, 14, 4, 13, 16, 7, 2, 3, 8, 11, 11, 3, 5, 4, 13, 1, 2, 6, 10, 12, 13, 14, 18, 1, 2, 10, 18, 2, 4, 7, 12, 13, 14, 18, 6, 19, 11, 1, 9, 10, 14, 18, 8, 19, 1, 9, 10, 12, 13, 18, 7, 10, 9, 2, 4, 8, 14, 16, 12, 2, 4, 7, 14, 20, 10, 2, 7, 8, 10, 3, 11, 12, 14, 18, 17, 8, 16, 4, 5, 18, 3, 5, 6, 14, 15, 19, 1, 3, 4, 5, 6, 7, 8, 16, 2, 3, 5, 6, 7, 10, 12, 2, 4, 16, 4, 4, 13, 6, 11, 12, 13, 3, 6, 13, 15, 16, 2, 3, 4, 5, 6, 11, 13, 16, 20, 2, 3, 9, 10, 11, 20, 2, 13, 18, 9, 4, 5, 7, 9, 15, 15, 9, 10, 11, 12, 17, 18, 10, 11, 14, 18, 4, 2, 3, 4, 20, 4, 3, 5, 9, 10, 11, 13, 14, 15, 16, 17, 18, 2, 11, 15, 2, 4, 12, 15, 20, 14, 15, 19, 14, 1, 2, 3, 4, 5, 6, 7, 11, 12, 13, 16, 2, 6, 10, 11, 12, 16, 2, 5, 16, 14, 5, 10, 11, 14, 15, 15, 18, 16, 3, 4, 11, 13, 16, 17, 2, 11, 16, 1, 2, 3, 10, 11, 18, 10, 2, 3, 4, 12, 14, 2, 10, 13, 15, 17, 2, 11, 11, 12, 18, 5, 6, 7, 8, 11, 13, 14, 2, 4, 7, 15, 4, 3, 2, 6, 11, 14, 3, 4, 6, 3, 6, 2, 3, 4, 6, 11, 12, 14, 16, 17, 8, 3, 6, 12, 14, 2, 20, 9, 17, 20, 14, 9, 3, 2, 9, 10, 11, 12, 14, 18, 19, 20, 4, 13, 9, 6, 5, 8, 14, 17, 15, 13, 2, 15, 12, 18, 2, 3, 12, 15, 16, 11, 2, 4, 6, 12, 15, 14, 5, 10, 4, 5, 6, 11, 3, 6, 1, 11, 13, 18, 3, 15, 11, 12, 3, 2, 3, 5, 13, 16, 15, 19, 18, 1, 8, 19, 16, 8, 9, 14, 4, 5, 6, 13, 16, 17, 2, 15, 2, 5, 9, 10, 17, 2, 3, 5, 9, 10, 11, 2, 15, 3, 4, 6, 10, 15, 10, 8, 2, 3, 10, 11, 15, 7, 8, 2, 1, 2, 5, 8, 10, 13, 1, 2, 3, 5, 7, 10, 11, 18, 4, 16, 19, 5, 20, 2, 10, 1, 12, 16, 4, 2, 4, 16, 6, 11, 17, 11, 11, 4, 16, 10, 13, 11, 13, 3, 2, 3, 4, 5, 13, 13, 13, 7, 4, 16, 4, 5, 1, 3, 5, 9, 10, 11, 14, 15, 19, 3, 4, 3, 13, 15, 2, 10, 11, 12, 13, 10, 15, 19, 4, 16, 16, 11, 18, 11, 12, 2, 3, 13, 2, 4, 11, 18, 2, 11, 15, 16, 3, 6, 18, 3, 4, 7, 13, 11, 12, 18, 3, 4, 2, 18, 15, 18, 13, 2, 19, 17, 11, 1, 2, 4, 6, 7, 8, 2, 5, 6, 8, 14, 1, 8, 10, 2, 4, 6, 11, 14, 18, 2, 2, 10, 11, 4, 6, 13, 14, 14, 10, 12, 20, 2, 4, 18, 20, 2, 4, 20, 17, 1, 2, 3, 5, 7, 19, 3, 8, 14, 8, 5, 10, 14, 15, 17, 10, 12, 10, 7, 6, 12, 19, 2, 4, 14, 2, 14, 18, 6, 2, 4, 12, 14, 2, 3, 10, 15, 2, 16, 2, 1, 2, 3, 7, 9, 10, 12, 2, 5, 7, 11, 13, 2, 4, 5, 6, 11, 13, 1, 4, 5, 7, 8, 10, 11, 12, 14, 15, 16, 17, 18, 1, 2, 3, 4, 5, 6, 7, 8, 9, 10, 11, 12, 14, 15, 6, 2, 6, 11, 12, 16, 3, 12, 8, 14, 11, 12, 2, 6, 18, 11, 20, 2, 3, 9, 10, 11, 12, 13, 14, 15, 18, 8, 7, 15, 1, 2, 6, 10, 11, 14, 5, 20, 1, 2, 3, 5, 6, 9, 10, 11, 12, 15, 17, 1, 3, 5, 6, 8, 9, 10, 14, 15, 19, 2, 7, 13, 9, 14, 19, 1, 4, 6, 9, 14, 1, 8, 19, 12, 16, 1, 8, 8, 1, 2, 3, 5, 6, 11, 12, 14, 15, 18, 2, 6, 7, 8, 8, 15, 4, 12, 16, 5, 7, 16, 20, 5, 2, 3, 4, 16, 4, 15, 19, 13, 14, 19, 1, 5, 7, 10, 11, 4, 11, 1, 2, 3, 5, 6, 8, 9, 10, 11, 17, 18, 20, 3, 6, 11, 13, 8, 1, 4, 6, 7, 11, 8, 1, 2, 5, 6, 8, 9, 12, 7, 1, 8, 1, 7, 12, 19, 4, 17, 1, 5, 6, 8, 9, 14, 5, 6, 9, 20, 10, 4, 9, 20, 1, 3, 5, 11, 13, 16, 4, 6, 13, 16, 11, 2, 2, 10, 11, 1, 19, 1, 5, 13, 5, 1, 13, 17, 1, 19, 17, 1, 16, 1, 5, 7, 9, 6, 1, 3, 4, 5, 7, 9, 10, 11, 17, 18, 15, 20, 20, 7, 1, 8, 17, 1, 3, 4, 5, 6, 8, 11, 12, 15, 5, 13, 13, 1, 3, 4, 8, 9, 14, 17, 1, 3, 5, 8, 9, 10, 17, 8, 9, 14, 11, 1, 4, 5, 8, 14, 15, 18, 1, 5, 8, 9, 11, 13, 14, 17, 1, 2, 3, 5, 6, 7, 9, 11, 12, 14, 18, 8, 12, 9, 18, 6, 15, 4, 16, 8, 14, 2, 3, 4, 5, 7, 11, 13, 15, 2, 3, 6, 7, 3, 3, 18, 9, 6, 11, 14, 16, 10, 6, 12, 2, 3, 5, 13, 15, 4, 5, 6, 16, 2, 3, 5, 6, 9, 10, 11, 14, 15, 18, 3, 3, 3, 14, 6, 7, 2, 15, 20, 2, 4, 5, 6, 13, 16, 17, 1, 3, 5, 16, 3, 6, 14, 15, 19, 12, 7, 9, 13, 6, 14, 6, 2, 4, 5, 6, 13, 16, 4, 6, 1, 3, 14, 16, 5, 14, 12, 18, 2, 6, 13, 11, 4, 19, 2, 3, 5, 7, 9, 11, 12, 14, 3, 17, 5, 1, 1, 5, 9, 11, 13, 17, 1, 2, 5, 7, 9, 10, 11, 12, 13, 15, 19, 4, 11, 13, 16, 19, 12, 4, 6, 9, 12, 13, 14, 2, 4, 6, 9, 11, 12, 14, 16, 18, 1, 4, 5, 6, 8, 9, 11, 18, 3, 1, 5, 13, 18, 5, 8, 1, 9, 11, 18, 14, 19, 18, 14, 10, 8, 2, 8, 14, 2, 10, 11, 6, 1, 4, 5, 6, 7, 8, 9, 10, 12, 18, 19, 1, 3, 6, 7, 10, 13, 2, 4, 7, 8, 11, 15, 4, 4, 5, 7, 8, 13, 7, 4, 13, 1, 2, 11, 13, 15, 17, 2, 15, 4, 11, 7, 4, 4, 16, 2, 2, 10, 15, 19, 1, 2, 1, 7, 8, 2, 4, 6, 20, 6, 11, 14, 18, 6, 3, 11, 20, 18, 6, 1, 3, 5, 9, 10, 11, 13, 14, 15, 18, 18, 1, 4, 7, 8, 15, 5, 2, 2, 3, 4, 7, 11, 14, 13, 1, 3, 5, 6, 8, 9, 10, 12, 19, 1, 8, 5, 7, 17, 1, 8, 1, 1, 9, 18, 1, 2, 4, 5, 6, 7, 8, 10, 12, 13, 14, 15, 19, 1, 5, 9, 10, 11, 12, 14, 15, 17, 19, 19, 12, 2, 3, 4, 5, 6, 7, 8, 1, 2, 3, 4, 5, 6, 7, 8, 9, 10, 12, 14, 18, 1, 7, 19, 3, 5, 13, 16, 3, 6, 17, 15, 18, 1, 3, 4, 5, 6, 7, 8, 9, 11, 13, 17, 10, 4, 6, 8, 9, 11, 12, 14, 2, 6, 1, 9, 10, 11, 13, 15, 7, 10, 3, 4, 6, 12, 3, 11, 12, 16, 9, 11, 4, 1, 13, 3, 4, 7, 13, 14, 1, 2, 3, 4, 5, 6, 9, 17, 3, 5, 9, 4, 12, 1, 2, 4, 5, 6, 13, 14, 2, 3, 10, 13, 16, 1, 5, 14, 15, 19, 7, 14, 19, 1, 5, 9, 10, 13, 18, 2, 4, 6, 7, 12, 19, 12, 16, 18, 1, 10, 8, 19, 10, 6, 19, 9, 16, 12, 12, 3, 6, 5, 8, 9, 14, 19, 1, 4, 9, 14, 3, 5, 1, 3, 4, 5, 6, 7, 12, 18, 11, 18, 1, 5, 9, 10, 15, 8, 2, 7, 7, 8, 1, 4, 5, 6, 7, 8, 19, 3, 5, 8, 10, 11, 14, 15, 16, 17, 18, 19, 7, 8, 15, 16, 6, 4, 7, 8, 14, 16, 19, 4, 6, 12, 16, 19, 17, 9, 13, 3, 4, 6, 14, 15, 1, 4, 6, 7, 14, 16, 3, 6, 8, 1, 2, 3, 4, 5, 6, 8, 9, 12, 20, 1, 8, 14, 10, 12, 7, 8, 9, 18, 12, 13, 16, 17, 1, 2, 3, 5, 9, 10, 11, 12, 14, 15, 18, 2, 3, 15, 2, 12, 15, 11, 12, 4, 6, 7, 9, 12, 14, 1, 3, 4, 5, 6, 7, 8, 10, 11, 18, 6, 16, 1, 2, 3, 6, 7, 9, 10, 12, 14, 17, 18, 16, 2, 1, 2, 5, 6, 7, 12, 14, 15, 1, 3, 4, 5, 7, 9, 11, 13, 15, 2, 4, 13, 17, 19, 16, 20, 6, 12, 16, 20, 2, 3, 4, 3, 4, 5, 6, 13, 14, 1, 2, 3, 5, 6, 10, 11, 12, 2, 3, 4, 8, 9, 10, 14, 16, 18, 3, 4, 5, 13, 15, 13, 2, 7, 10, 15, 18, 19, 13, 6, 7, 2, 4, 14, 16, 12, 14, 4, 5, 11, 7, 8, 12, 14, 2, 8, 11, 4, 12, 16, 13, 1, 2, 5, 7, 11, 19, 10, 12, 20, 2, 12, 14, 13, 2, 1, 4, 12, 2, 10, 17, 20, 4, 5, 6, 10, 11, 12, 14, 15, 17, 18, 4, 6, 3, 2, 3, 4, 5, 6, 12, 15, 2, 3, 4, 20, 13, 2, 5, 13, 1, 5, 9, 14, 15, 17, 6, 11, 12, 18, 3, 3, 12, 3, 12, 16, 19, 1, 3, 4, 5, 9, 13, 15, 2, 3, 4, 12, 3, 4, 6, 8, 6, 8, 20, 1, 2, 3, 5, 6, 7, 10, 12, 14, 19, 8, 12, 13, 8, 18, 16, 3, 6, 12, 2, 5, 6, 13, 18, 12, 20, 6, 12, 8, 6, 17, 13, 5, 4, 6, 7, 13, 14, 19, 3, 6, 7, 4, 6, 12, 13, 15, 15, 1, 2, 5, 1, 3, 4, 7, 9, 10, 11, 18, 2, 7, 2, 3, 5, 9, 11, 13, 16, 3, 6, 11, 12, 15, 16, 2, 3, 12, 5, 5, 7, 3, 4, 5, 7, 13, 14, 15, 2, 3, 5, 9, 16, 10, 13, 14, 2, 4, 5, 10, 6, 15, 6, 7, 2, 3, 5, 6, 9, 10, 11, 14, 17, 2, 10, 11, 9, 13, 2, 4, 7, 8, 13, 15, 16, 19, 3, 2, 4, 17, 11, 2, 4, 10, 12, 14, 16, 2, 2, 17, 20, 6, 12, 6, 8, 1, 2, 3, 5, 9, 10, 11, 12, 14, 17, 18, 1, 6, 12, 16, 15, 2, 4, 6, 12, 14, 4, 14, 1, 5, 8, 18, 2, 5, 10, 11, 12, 14, 15, 18, 19, 20, 15, 8, 13, 10, 10, 20, 2, 5, 9, 10, 11, 15, 17, 2, 3, 5, 6, 9, 10, 11, 14, 17, 18, 3, 4, 14, 2, 16, 2, 16, 17, 15, 14, 5, 1, 15, 3, 4, 6, 12, 13, 18, 2, 3, 10, 11, 13, 14, 15, 17, 18, 20, 2, 3, 9, 10, 11, 12, 15, 17, 18, 20, 2, 3, 12, 14, 2, 3, 12, 14, 3, 4, 5, 6, 7, 16, 10, 2, 8, 12, 14, 6, 1, 2, 5, 11, 12, 15, 13, 2, 2, 2, 3, 9, 10, 11, 12, 13, 15, 11, 10, 10, 5, 13, 8, 1, 2, 5, 7, 8, 12, 15, 16, 18, 2, 3, 6, 18, 19, 12, 2, 7, 8, 9, 3, 4, 5, 13, 10, 8, 9, 14, 14, 15, 18, 1, 4, 8, 2, 4, 6, 10, 12, 14, 16, 18, 15, 3, 4, 8, 9, 12, 14, 5, 19, 20, 18, 11, 8, 1, 2, 4, 7, 8, 18, 2, 2, 5, 9, 10, 12, 4, 9, 12, 15, 5, 7, 8, 5, 3, 8, 12, 14, 2, 10, 12, 4, 16, 1, 5, 6, 8, 10, 12, 15, 16, 17, 2, 4, 6, 8, 12, 16, 18, 5, 4, 16, 4, 4, 1, 3, 5, 9, 10, 11, 14, 15, 17, 15, 1, 3, 5, 10, 11, 14, 15, 17, 18, 17, 8, 20, 2, 3, 12, 14, 16, 19, 5, 6, 13, 14, 11, 1, 2, 3, 4, 5, 6, 7, 9, 10, 11, 13, 18, 11, 12, 15, 20, 11, 13, 2, 4, 5, 6, 8, 19, 11, 2, 10, 12, 1, 13, 9, 5, 13, 12, 19, 9, 16, 4, 1, 1, 4, 6, 7, 8, 10, 12, 18, 19, 10, 1, 2, 4, 10, 11, 16, 17, 8, 17, 10, 3, 14, 7, 19, 5, 1, 5, 6, 16, 3, 4, 6, 7, 8, 12, 14, 4, 12, 7, 20, 7, 1, 2, 5, 8, 10, 8, 1, 9, 10, 12, 15, 17, 1, 15, 19, 20, 4, 16, 15, 1, 5, 9, 3, 5, 2, 5, 7, 8, 11, 13, 14, 4, 3, 5, 7, 8, 7, 20, 4, 8, 6, 12, 4, 8, 3, 18, 7, 2, 4, 7, 14, 15, 3, 8, 12, 8, 3, 1, 2, 3, 4, 5, 9, 10, 12, 1, 2, 6, 7, 9, 10, 11, 18, 7, 6, 12, 4, 7, 8, 3, 15, 5, 6, 7, 13, 5, 8, 1, 2, 5, 7, 14, 15, 3, 20, 3, 12, 20, 10, 14, 15, 13, 3, 4, 12, 16, 2, 3, 4, 5, 6, 7, 11, 13, 1, 2, 5, 10, 11, 14, 18, 1, 3, 12, 1, 9, 10, 11, 12, 13, 9, 11, 12, 4, 3, 4, 6, 12, 15, 18, 12, 20, 18, 1, 2, 3, 4, 5, 7, 8, 9, 10, 12, 14, 18, 1, 5, 9, 11, 7, 18, 2, 4, 11, 13, 14, 12, 19, 3, 5, 8, 9, 11, 13, 16, 5, 14, 15, 17, 16, 1, 8, 14, 2, 4, 6, 10, 11, 12, 14, 18, 2, 1, 3, 16, 4, 8, 12, 17, 6, 10, 14, 19, 1, 5, 9, 10, 11, 14, 15, 17, 18, 1, 17, 1, 4, 5, 7, 8, 1, 2, 5, 1, 2, 5, 10, 4, 6, 9, 14, 8, 12, 14, 18, 5, 20, 1, 4, 5, 6, 7, 9, 10, 11, 15, 17, 1, 9, 10, 12, 9, 3, 12, 2, 4, 6, 8, 12, 14, 18, 15, 6, 11, 16, 18, 6, 11, 18, 6, 11, 13, 16, 5, 13, 11, 2, 11, 12, 3, 18, 16, 2, 12, 2, 3, 13, 14, 20, 6, 12, 8, 9, 14, 8, 2, 12, 1, 2, 5, 9, 9, 4, 6, 9, 14, 2, 10, 2, 1, 2, 3, 4, 5, 6, 7, 8, 9, 10, 11, 12, 16, 18, 20, 2, 3, 11, 12, 14, 19, 15, 19, 18, 2, 3, 4, 12, 13, 20, 5, 7, 8, 14, 14, 1, 2, 3, 4, 6, 7, 8, 10, 11, 12, 14, 15, 3, 4, 11, 14, 18, 4, 16, 1, 9, 14, 6, 2, 3, 6, 12, 13, 20, 6, 20, 7, 9, 10, 19, 4, 6, 13, 14, 7, 9, 19, 14, 5, 8, 9, 14, 16, 20, 4, 6, 6, 12, 7, 19, 1, 2, 6, 17, 1, 2, 5, 7, 10, 11, 1, 5, 10, 7, 2, 1, 2, 3, 4, 5, 6, 7, 8, 11, 14, 6, 14, 5, 11, 12, 14, 9, 14, 19, 1, 4, 6, 9, 14, 1, 4, 5, 6, 7, 9, 14, 1, 8, 1, 2, 3, 5, 6, 7, 10, 13, 3, 4, 8, 12, 14, 16, 18, 3, 10, 13, 4, 1, 2, 4, 5, 7, 9, 11, 19, 1, 8, 9, 16, 17, 8, 18, 1, 2, 3, 7, 8, 11, 14, 15, 9, 20, 1, 2, 3, 5, 9, 13, 15, 17, 1, 3, 5, 7, 10, 11, 13, 17, 17, 7, 7, 1, 2, 3, 4, 5, 6, 7, 8, 12, 13, 2, 4, 5, 6, 11, 14, 15, 16, 20, 5], \"Term\": [\"000\", \"000\", \"000\", \"000\", \"000\", \"0400\", \"0500\", \"0600\", \"13th\", \"13th\", \"16th\", \"16th\", \"2000\", \"2000\", \"2000\", \"2000\", \"2000\", \"2000\", \"2000\", \"2000\", \"2000\", \"2000\", \"2001\", \"2001\", \"2001\", \"2001\", \"2001\", \"2001\", \"2001\", \"2001\", \"2001\", \"215\", \"215\", \"24th\", \"251\", \"265\", \"281\", \"281\", \"29th\", \"30pm\", \"30th\", \"310\", \"312\", \"31st\", \"345\", \"3490\", \"403\", \"415\", \"471\", \"510\", \"512\", \"646\", \"650\", \"703\", \"703\", \"707\", \"713\", \"732\", \"758\", \"7658\", \"77002\", \"782\", \"800\", \"800\", \"853\", \"916\", \"9573\", \"ab1x\", \"abb\", \"activity\", \"activity\", \"activity\", \"activity\", \"activity\", \"additional\", \"additional\", \"additional\", \"additional\", \"additional\", \"additional\", \"additional\", \"address\", \"address\", \"address\", \"address\", \"address\", \"address\", \"address\", \"address\", \"addressee\", \"advisor\", \"aes\", \"affiliate\", \"affiliate\", \"afternoon\", \"afternoon\", \"afternoon\", \"afternoon\", \"afternoon\", \"agmt\", \"agree\", \"agree\", \"agree\", \"agree\", \"agreed\", \"agreed\", \"agreed\", \"agreed\", \"agreed\", \"agreed\", \"air\", \"air\", \"air\", \"air\", \"air\", \"aircraft\", \"airline\", \"airport\", \"airport\", \"alamo\", \"allocated\", \"alot\", \"alto\", \"amerex\", \"america\", \"america\", \"america\", \"amount\", \"amount\", \"amount\", \"analysis\", \"analysis\", \"analysis\", \"analyst\", \"analyst\", \"analyst\", \"angel\", \"anita\", \"annex\", \"another\", \"another\", \"another\", \"another\", \"another\", \"another\", \"another\", \"another\", \"another\", \"another\", \"another\", \"anthony\", \"anything\", \"anything\", \"anything\", \"anything\", \"anything\", \"anything\", \"anyway\", \"apartment\", \"apology\", \"apology\", \"apology\", \"apology\", \"appearing\", \"application\", \"application\", \"application\", \"application\", \"appreciate\", \"appreciate\", \"appreciate\", \"appreciate\", \"appreciated\", \"appreciated\", \"approval\", \"approval\", \"approval\", \"approval\", \"approval\", \"approval\", \"april\", \"april\", \"april\", \"april\", \"april\", \"april\", \"april\", \"april\", \"april\", \"aquila\", \"arbitration\", \"arbitrator\", \"area\", \"area\", \"area\", \"area\", \"area\", \"area\", \"area\", \"arena\", \"argentina\", \"argentine\", \"ariba\", \"arranged\", \"arrival\", \"article\", \"article\", \"article\", \"article\", \"article\", \"asp\", \"assembly\", \"assignee\", \"associate\", \"associate\", \"associate\", \"attach\", \"attach\", \"attached\", \"attached\", \"attached\", \"attachment\", \"attachment\", \"attend\", \"attend\", \"attendance\", \"attn\", \"attractive\", \"auction\", \"auction\", \"august\", \"august\", \"august\", \"august\", \"august\", \"available\", \"available\", \"available\", \"available\", \"available\", \"available\", \"avg\", \"await\", \"baby\", \"back\", \"back\", \"back\", \"back\", \"back\", \"back\", \"back\", \"back\", \"back\", \"back\", \"back\", \"background\", \"bag\", \"bailey\", \"barry\", \"based\", \"based\", \"based\", \"based\", \"based\", \"based\", \"based\", \"based\", \"based\", \"based\", \"basin\", \"basis\", \"basis\", \"basis\", \"basis\", \"basis\", \"basis\", \"basis\", \"bcf\", \"bear\", \"bear\", \"bed\", \"beer\", \"berkeley\", \"best\", \"best\", \"best\", \"best\", \"best\", \"best\", \"best\", \"best\", \"bet\", \"beth\", \"beth\", \"bid\", \"bid\", \"bid\", \"bid\", \"big\", \"big\", \"big\", \"big\", \"bill\", \"bill\", \"bill\", \"bill\", \"bill\", \"bill\", \"bill\", \"bill\", \"billed\", \"billion\", \"billion\", \"birthday\", \"blackline\", \"blacklined\", \"blacklined\", \"blackout\", \"bless\", \"book\", \"book\", \"book\", \"book\", \"book\", \"bound\", \"boundary\", \"boy\", \"brad\", \"brad\", \"bradley\", \"brant\", \"brazil\", \"brazil\", \"brazilian\", \"brenda\", \"bringing\", \"broadband\", \"broadband\", \"broadband\", \"brochure\", \"broker\", \"broker\", \"browser\", \"bruce\", \"bruce\", \"btu\", \"budget\", \"budget\", \"builder\", \"burton\", \"bush\", \"bush\", \"bush\", \"business\", \"business\", \"business\", \"business\", \"business\", \"business\", \"business\", \"business\", \"business\", \"business\", \"buy\", \"buy\", \"buy\", \"buy\", \"buy\", \"buy\", \"buy\", \"cable\", \"caiso\", \"calc\", \"calendar\", \"calendar\", \"calendar\", \"calif\", \"california\", \"california\", \"californian\", \"calpine\", \"calpine\", \"calpine\", \"calpine\", \"cambridge\", \"campaign\", \"campaign\", \"canada\", \"canada\", \"canadian\", \"canadian\", \"canadian\", \"canadian\", \"candidate\", \"candidate\", \"cap\", \"cap\", \"cap\", \"capability\", \"capacity\", \"capacity\", \"capacity\", \"car\", \"car\", \"card\", \"card\", \"carefully\", \"cargill\", \"cargo\", \"carol\", \"carol\", \"carol\", \"caroline\", \"carolyn\", \"carolyn\", \"carr\", \"carrier\", \"case\", \"case\", \"case\", \"case\", \"case\", \"case\", \"case\", \"case\", \"cat\", \"category\", \"celebrate\", \"center\", \"center\", \"center\", \"center\", \"center\", \"ceo\", \"ceo\", \"ceo\", \"cera\", \"certain\", \"certain\", \"certain\", \"certain\", \"cgas\", \"chair\", \"chair\", \"chairman\", \"chairman\", \"change\", \"change\", \"change\", \"change\", \"change\", \"change\", \"change\", \"change\", \"changed\", \"changed\", \"changed\", \"changed\", \"charge\", \"charge\", \"charge\", \"charge\", \"charge\", \"charge\", \"charge\", \"charlie\", \"charset\", \"chat\", \"check\", \"check\", \"check\", \"check\", \"check\", \"child\", \"child\", \"chris\", \"chris\", \"chris\", \"chris\", \"chris\", \"chris\", \"chronicle\", \"church\", \"citibank\", \"city\", \"city\", \"city\", \"city\", \"city\", \"citygate\", \"claim\", \"claim\", \"claim\", \"claim\", \"claim\", \"clair\", \"clause\", \"clean\", \"clean\", \"clean\", \"click\", \"click\", \"click\", \"click\", \"click\", \"clint\", \"cng\", \"coal\", \"coalition\", \"coffee\", \"cold\", \"colleague\", \"colleague\", \"com\", \"com\", \"com\", \"com\", \"come\", \"come\", \"come\", \"come\", \"come\", \"come\", \"come\", \"come\", \"comment\", \"comment\", \"comment\", \"comment\", \"comment\", \"comment\", \"comment\", \"commission\", \"commission\", \"commission\", \"commissioner\", \"committee\", \"committee\", \"commodity\", \"commodity\", \"commodity\", \"commodity\", \"communication\", \"communication\", \"communication\", \"communication\", \"communication\", \"company\", \"company\", \"company\", \"company\", \"company\", \"company\", \"company\", \"company\", \"comparison\", \"completed\", \"completed\", \"completed\", \"completed\", \"completed\", \"completed\", \"compliance\", \"compliance\", \"compressor\", \"conf\", \"conference\", \"conference\", \"conference\", \"conference\", \"conference\", \"confidential\", \"confirm\", \"confirm\", \"confirm\", \"confirm\", \"confirm\", \"confirm\", \"confirmation\", \"confirmation\", \"confirmation\", \"confirmation\", \"conservation\", \"construction\", \"construction\", \"construction\", \"construction\", \"consumer\", \"contact\", \"contact\", \"contact\", \"contact\", \"contact\", \"contact\", \"contact\", \"contact\", \"contact\", \"contact\", \"contact\", \"contain\", \"contain\", \"contain\", \"contained\", \"contained\", \"contained\", \"contained\", \"contamination\", \"content\", \"content\", \"content\", \"continental\", \"continue\", \"continue\", \"continue\", \"continue\", \"continue\", \"continue\", \"continue\", \"continue\", \"continue\", \"continue\", \"continue\", \"contract\", \"contract\", \"contract\", \"contract\", \"contract\", \"contract\", \"contracting\", \"contractor\", \"contractor\", \"cool\", \"copy\", \"copy\", \"copy\", \"copy\", \"copy\", \"copying\", \"coral\", \"cordially\", \"core\", \"corp\", \"corp\", \"corp\", \"corp\", \"corp\", \"corporation\", \"corporation\", \"corporation\", \"correct\", \"correct\", \"correct\", \"correct\", \"correct\", \"correct\", \"correlation\", \"cost\", \"cost\", \"cost\", \"cost\", \"cost\", \"counsel\", \"counsel\", \"counsel\", \"counsel\", \"counsel\", \"counterparties\", \"counterparties\", \"counterparty\", \"counterparty\", \"counterparty\", \"country\", \"country\", \"country\", \"country\", \"country\", \"country\", \"country\", \"court\", \"court\", \"court\", \"court\", \"cpuc\", \"crazy\", \"credit\", \"credit\", \"credit\", \"credit\", \"creditor\", \"crisis\", \"crude\", \"curtailment\", \"curve\", \"customer\", \"customer\", \"customer\", \"customer\", \"customer\", \"customer\", \"customer\", \"customer\", \"customer\", \"dad\", \"daily\", \"daily\", \"daily\", \"daily\", \"damage\", \"damage\", \"dana\", \"danny\", \"daren\", \"dark\", \"darron\", \"data\", \"date\", \"date\", \"date\", \"date\", \"date\", \"date\", \"date\", \"date\", \"date\", \"davis\", \"davis\", \"dealbench\", \"dealer\", \"dear\", \"dear\", \"dear\", \"dear\", \"defendant\", \"delainey\", \"delete\", \"delete\", \"deleted\", \"deleted\", \"delivery\", \"delivery\", \"delivery\", \"delivery\", \"delivery\", \"delta\", \"demand\", \"demand\", \"demand\", \"demand\", \"demonstration\", \"depart\", \"departure\", \"depend\", \"deregulation\", \"derivative\", \"derivative\", \"derivative\", \"design\", \"design\", \"desk\", \"desk\", \"desk\", \"desk\", \"desktop\", \"destroy\", \"determination\", \"determination\", \"developer\", \"development\", \"development\", \"development\", \"development\", \"development\", \"dial\", \"dial\", \"diamond\", \"didn\", \"didn\", \"didn\", \"died\", \"dinner\", \"dinner\", \"dinner\", \"director\", \"director\", \"director\", \"director\", \"director\", \"director\", \"disclosure\", \"disclosure\", \"discus\", \"discus\", \"discus\", \"discus\", \"discus\", \"discussion\", \"discussion\", \"discussion\", \"discussion\", \"discussion\", \"discussion\", \"disseminate\", \"dissemination\", \"distribution\", \"distribution\", \"distribution\", \"distribution\", \"distribution\", \"doc\", \"doctor\", \"document\", \"document\", \"document\", \"document\", \"document\", \"dog\", \"dog\", \"dominion\", \"don\", \"don\", \"don\", \"don\", \"don\", \"don\", \"done\", \"done\", \"done\", \"done\", \"done\", \"done\", \"done\", \"done\", \"dow\", \"dow\", \"download\", \"dpc\", \"dpr\", \"draft\", \"draft\", \"drink\", \"dth\", \"duke\", \"dwr\", \"dynegy\", \"dynegy\", \"dynegy\", \"earnings\", \"ecc\", \"eci\", \"ect\", \"ectric\", \"edison\", \"edison\", \"edits\", \"eecc\", \"eei\", \"eel\", \"efficiency\", \"effort\", \"effort\", \"effort\", \"effort\", \"effort\", \"egm\", \"eim\", \"election\", \"electric\", \"electric\", \"electricity\", \"ellen\", \"email\", \"email\", \"email\", \"email\", \"email\", \"email\", \"email\", \"email\", \"email\", \"emission\", \"emission\", \"employee\", \"employee\", \"employee\", \"ena\", \"ena\", \"ena\", \"ena\", \"ena\", \"enclosed\", \"enclosed\", \"encoding\", \"energy\", \"energy\", \"enfolio\", \"enovate\", \"enpower\", \"enrononline\", \"enrononline\", \"ensure\", \"ensure\", \"ensure\", \"entered\", \"entered\", \"entered\", \"entered\", \"entity\", \"entity\", \"entity\", \"entity\", \"entry\", \"entry\", \"entry\", \"environmental\", \"environmental\", \"environmental\", \"enw\", \"eol\", \"eol\", \"eol\", \"eott\", \"epa\", \"epc\", \"erms\", \"error\", \"error\", \"esa\", \"escrow\", \"esmtp\", \"esq\", \"eta\", \"even\", \"even\", \"even\", \"even\", \"even\", \"even\", \"event\", \"event\", \"event\", \"event\", \"event\", \"everything\", \"everything\", \"everything\", \"exchange\", \"exchange\", \"exchange\", \"exchange\", \"exchange\", \"exchange\", \"exclusively\", \"executed\", \"executed\", \"executed\", \"executive\", \"executive\", \"executive\", \"executive\", \"exempt\", \"exhibit\", \"exhibit\", \"expedited\", \"expense\", \"expense\", \"expense\", \"export\", \"facility\", \"facility\", \"facility\", \"facsimile\", \"fact\", \"fact\", \"fact\", \"fact\", \"fact\", \"false\", \"family\", \"family\", \"fare\", \"father\", \"fax\", \"fax\", \"fax\", \"fax\", \"fax\", \"faxed\", \"faxed\", \"faxing\", \"fear\", \"feb\", \"feb\", \"feb\", \"federal\", \"federal\", \"federal\", \"fee\", \"fee\", \"fee\", \"feed\", \"ferc\", \"ferc\", \"ferc\", \"figured\", \"file\", \"file\", \"file\", \"file\", \"filed\", \"filed\", \"filing\", \"final\", \"final\", \"final\", \"final\", \"final\", \"final\", \"final\", \"finance\", \"finance\", \"finance\", \"finance\", \"finance\", \"financial\", \"financial\", \"financial\", \"financial\", \"financial\", \"financial\", \"find\", \"find\", \"find\", \"find\", \"find\", \"find\", \"find\", \"find\", \"find\", \"find\", \"find\", \"find\", \"find\", \"first\", \"first\", \"first\", \"first\", \"first\", \"first\", \"first\", \"first\", \"first\", \"first\", \"first\", \"first\", \"first\", \"first\", \"fish\", \"fixed\", \"fixed\", \"fixed\", \"fixed\", \"fixed\", \"flagstaff\", \"flexible\", \"flight\", \"flight\", \"floating\", \"floating\", \"flow\", \"flow\", \"flow\", \"flynn\", \"folder\", \"following\", \"following\", \"following\", \"following\", \"following\", \"following\", \"following\", \"following\", \"following\", \"following\", \"football\", \"forced\", \"forgive\", \"forgot\", \"form\", \"form\", \"form\", \"form\", \"form\", \"forum\", \"forum\", \"forward\", \"forward\", \"forward\", \"forward\", \"forward\", \"forward\", \"forward\", \"forward\", \"forward\", \"forward\", \"forward\", \"free\", \"free\", \"free\", \"free\", \"free\", \"free\", \"free\", \"free\", \"free\", \"free\", \"freeze\", \"freeze\", \"frevert\", \"fri\", \"fri\", \"fri\", \"friday\", \"friday\", \"friday\", \"friday\", \"friday\", \"friend\", \"friend\", \"friend\", \"fuel\", \"fuel\", \"fun\", \"fun\", \"funny\", \"future\", \"future\", \"future\", \"future\", \"future\", \"future\", \"future\", \"future\", \"future\", \"future\", \"gain\", \"gain\", \"gain\", \"gain\", \"game\", \"garage\", \"gas\", \"gas\", \"gas\", \"gathering\", \"gathering\", \"gathering\", \"gathering\", \"gen\", \"generation\", \"generation\", \"generation\", \"generation\", \"generator\", \"gentleman\", \"gentleman\", \"george\", \"george\", \"george\", \"getting\", \"getting\", \"getting\", \"getting\", \"getting\", \"gift\", \"gisb\", \"give\", \"give\", \"give\", \"give\", \"give\", \"give\", \"give\", \"give\", \"give\", \"give\", \"give\", \"gleason\", \"global\", \"global\", \"global\", \"global\", \"god\", \"going\", \"going\", \"going\", \"going\", \"going\", \"golf\", \"good\", \"good\", \"good\", \"good\", \"good\", \"good\", \"good\", \"gore\", \"got\", \"got\", \"gotten\", \"gotten\", \"gov\", \"gov\", \"governor\", \"grateful\", \"great\", \"great\", \"great\", \"great\", \"great\", \"great\", \"greatly\", \"greatly\", \"greeting\", \"greeting\", \"gregg\", \"grid\", \"grigsby\", \"groundwater\", \"group\", \"group\", \"group\", \"group\", \"group\", \"group\", \"growth\", \"growth\", \"growth\", \"growth\", \"gtc\", \"guarantor\", \"guaranty\", \"guaranty\", \"guaranty\", \"guess\", \"gun\", \"guy\", \"guy\", \"guy\", \"haas\", \"hadn\", \"haedicke\", \"haedicke\", \"hair\", \"harvard\", \"hastings\", \"haven\", \"hawaii\", \"heard\", \"heard\", \"heard\", \"heard\", \"hedging\", \"help\", \"help\", \"help\", \"help\", \"help\", \"help\", \"help\", \"help\", \"help\", \"help\", \"hereby\", \"hereby\", \"hereunder\", \"hertzberg\", \"hey\", \"hey\", \"hickerson\", \"high\", \"high\", \"high\", \"high\", \"high\", \"high\", \"high\", \"high\", \"high\", \"hire\", \"hire\", \"hiring\", \"home\", \"home\", \"home\", \"home\", \"home\", \"home\", \"home\", \"hope\", \"hope\", \"hope\", \"hope\", \"hope\", \"hope\", \"hope\", \"hotel\", \"hotel\", \"hotel\", \"hou\", \"house\", \"house\", \"house\", \"house\", \"house\", \"house\", \"house\", \"houston\", \"houston\", \"houston\", \"houston\", \"houston\", \"houston\", \"houston\", \"houston\", \"however\", \"however\", \"however\", \"however\", \"however\", \"however\", \"however\", \"however\", \"however\", \"however\", \"however\", \"hpl\", \"hub\", \"hyatt\", \"hydrocarbon\", \"ibm\", \"ibuyit\", \"iep\", \"illinois\", \"image\", \"image\", \"immediately\", \"immediately\", \"immediately\", \"immediately\", \"immediately\", \"immediately\", \"immediately\", \"immediately\", \"impact\", \"impact\", \"impact\", \"impact\", \"implement\", \"implementation\", \"implementation\", \"impressed\", \"inc\", \"inc\", \"inc\", \"inc\", \"incorporates\", \"index\", \"index\", \"individual\", \"individual\", \"individual\", \"individual\", \"individual\", \"industry\", \"industry\", \"industry\", \"industry\", \"information\", \"information\", \"information\", \"information\", \"information\", \"information\", \"information\", \"information\", \"information\", \"information\", \"initiative\", \"injection\", \"innovative\", \"installation\", \"institution\", \"institution\", \"intended\", \"intended\", \"interconnect\", \"interest\", \"interest\", \"interest\", \"interest\", \"interest\", \"interest\", \"interest\", \"interested\", \"interested\", \"interested\", \"interested\", \"internet\", \"internet\", \"internet\", \"internet\", \"internet\", \"interruptible\", \"interview\", \"interview\", \"interviewer\", \"intra\", \"inventory\", \"invest\", \"investment\", \"investment\", \"investment\", \"investment\", \"investment\", \"investment\", \"investor\", \"investor\", \"invitation\", \"invitation\", \"invitation\", \"invitation\", \"invite\", \"invite\", \"invoice\", \"invoice\", \"involving\", \"ipo\", \"isc\", \"isda\", \"iso\", \"iso\", \"issue\", \"issue\", \"issue\", \"issue\", \"issue\", \"issue\", \"issue\", \"itinerary\", \"jack\", \"janette\", \"japanese\", \"jean\", \"jeff\", \"jeff\", \"jeff\", \"jeff\", \"jeff\", \"jeff\", \"john\", \"john\", \"john\", \"john\", \"john\", \"john\", \"john\", \"john\", \"john\", \"john\", \"jon\", \"jones\", \"jones\", \"jones\", \"jones\", \"jones\", \"juan\", \"july\", \"july\", \"july\", \"july\", \"july\", \"july\", \"june\", \"june\", \"june\", \"june\", \"june\", \"june\", \"june\", \"june\", \"june\", \"just\", \"just\", \"just\", \"just\", \"just\", \"just\", \"just\", \"just\", \"kaminski\", \"kaye\", \"ken\", \"ken\", \"kept\", \"keynote\", \"kid\", \"kidding\", \"kim\", \"kim\", \"kim\", \"king\", \"king\", \"koch\", \"kristin\", \"kurth\", \"laguna\", \"land\", \"land\", \"land\", \"language\", \"language\", \"language\", \"largely\", \"last\", \"last\", \"last\", \"last\", \"last\", \"last\", \"last\", \"last\", \"last\", \"last\", \"lately\", \"latest\", \"latest\", \"latest\", \"latest\", \"latest\", \"lavorato\", \"law\", \"law\", \"law\", \"law\", \"law\", \"law\", \"lawmaker\", \"lay\", \"lay\", \"lay\", \"lay\", \"lay\", \"ldc\", \"leadership\", \"leadership\", \"learned\", \"legal\", \"legal\", \"legal\", \"legal\", \"legal\", \"legally\", \"legally\", \"legislation\", \"legislation\", \"legislative\", \"legislator\", \"legislature\", \"lehman\", \"lender\", \"letter\", \"letter\", \"letter\", \"letter\", \"letting\", \"liability\", \"life\", \"life\", \"life\", \"limit\", \"limit\", \"limit\", \"limit\", \"link\", \"link\", \"link\", \"link\", \"linux\", \"liquid\", \"liquid\", \"liquid\", \"liquidation\", \"liquidity\", \"list\", \"list\", \"list\", \"list\", \"list\", \"list\", \"list\", \"list\", \"list\", \"list\", \"listen\", \"little\", \"little\", \"little\", \"little\", \"llp\", \"lng\", \"loan\", \"local\", \"local\", \"local\", \"local\", \"local\", \"local\", \"loi\", \"look\", \"look\", \"look\", \"look\", \"look\", \"look\", \"look\", \"look\", \"lou\", \"love\", \"love\", \"ltd\", \"ltd\", \"ltd\", \"luck\", \"luck\", \"lucy\", \"lunch\", \"lunch\", \"lynn\", \"made\", \"made\", \"made\", \"made\", \"made\", \"made\", \"made\", \"made\", \"made\", \"made\", \"made\", \"made\", \"made\", \"mail\", \"mail\", \"mail\", \"mail\", \"mail\", \"mail\", \"mail\", \"mail\", \"mail\", \"mail\", \"mailer\", \"mainline\", \"major\", \"major\", \"major\", \"major\", \"major\", \"major\", \"major\", \"make\", \"make\", \"make\", \"make\", \"make\", \"make\", \"make\", \"make\", \"make\", \"make\", \"make\", \"make\", \"make\", \"man\", \"man\", \"man\", \"management\", \"management\", \"management\", \"management\", \"managing\", \"managing\", \"managing\", \"mann\", \"manual\", \"many\", \"many\", \"many\", \"many\", \"many\", \"many\", \"many\", \"many\", \"many\", \"many\", \"many\", \"mara\", \"march\", \"march\", \"march\", \"march\", \"march\", \"march\", \"march\", \"margin\", \"margin\", \"mark\", \"mark\", \"mark\", \"mark\", \"mark\", \"mark\", \"marked\", \"marked\", \"market\", \"market\", \"market\", \"market\", \"marketing\", \"marketing\", \"marketing\", \"marketing\", \"married\", \"master\", \"maviglio\", \"maybe\", \"mcconnell\", \"medium\", \"medium\", \"medium\", \"medium\", \"medium\", \"meet\", \"meet\", \"meet\", \"meet\", \"meet\", \"meet\", \"meet\", \"meet\", \"meeting\", \"meeting\", \"meeting\", \"megawatt\", \"megawatt\", \"meh\", \"member\", \"member\", \"member\", \"member\", \"member\", \"member\", \"memo\", \"memo\", \"memo\", \"memo\", \"merrill\", \"message\", \"message\", \"message\", \"message\", \"message\", \"meter\", \"microsoft\", \"microsoft\", \"mike\", \"mike\", \"mike\", \"mike\", \"mike\", \"mike\", \"million\", \"million\", \"million\", \"million\", \"million\", \"mime\", \"minus\", \"mirant\", \"mirant\", \"missing\", \"mississippi\", \"mistake\", \"mistake\", \"mitch\", \"mixed\", \"mixed\", \"mkm\", \"mkt\", \"mmbtu\", \"mmcf\", \"model\", \"model\", \"modeling\", \"mom\", \"mon\", \"mon\", \"mon\", \"monday\", \"monday\", \"monday\", \"monday\", \"monitoring\", \"monopoly\", \"month\", \"month\", \"month\", \"month\", \"month\", \"month\", \"month\", \"month\", \"moran\", \"morgan\", \"morning\", \"morning\", \"morning\", \"morning\", \"morning\", \"mother\", \"motion\", \"mou\", \"msg\", \"msn\", \"much\", \"much\", \"much\", \"much\", \"much\", \"much\", \"multipart\", \"name\", \"name\", \"name\", \"name\", \"name\", \"name\", \"name\", \"name\", \"name\", \"name\", \"name\", \"named\", \"named\", \"named\", \"named\", \"nasdaq\", \"national\", \"national\", \"national\", \"national\", \"national\", \"national\", \"natural\", \"natural\", \"natural\", \"natural\", \"nbsp\", \"nda\", \"nepco\", \"nepco\", \"network\", \"network\", \"network\", \"network\", \"network\", \"news\", \"news\", \"news\", \"news\", \"news\", \"news\", \"newsletter\", \"newsletter\", \"newsletter\", \"next\", \"next\", \"next\", \"next\", \"next\", \"next\", \"next\", \"next\", \"next\", \"ngpl\", \"night\", \"night\", \"night\", \"nipsco\", \"nom\", \"noncore\", \"noon\", \"noon\", \"normally\", \"north\", \"north\", \"north\", \"north\", \"note\", \"note\", \"note\", \"note\", \"note\", \"note\", \"note\", \"note\", \"note\", \"note\", \"note\", \"notified\", \"notified\", \"notified\", \"notify\", \"notify\", \"notify\", \"notional\", \"notional\", \"november\", \"november\", \"november\", \"november\", \"november\", \"november\", \"now\", \"now\", \"now\", \"now\", \"now\", \"now\", \"now\", \"now\", \"now\", \"now\", \"nox\", \"nrg\", \"number\", \"number\", \"number\", \"number\", \"number\", \"number\", \"number\", \"number\", \"number\", \"number\", \"number\", \"nyse\", \"obligation\", \"offer\", \"offer\", \"offer\", \"offer\", \"offer\", \"offer\", \"offer\", \"offer\", \"office\", \"office\", \"office\", \"office\", \"office\", \"office\", \"office\", \"office\", \"office\", \"officer\", \"officer\", \"officer\", \"officer\", \"officer\", \"offshore\", \"offshore\", \"oil\", \"oil\", \"oil\", \"oneok\", \"operating\", \"operating\", \"operating\", \"opportunity\", \"opportunity\", \"opportunity\", \"opportunity\", \"opportunity\", \"opportunity\", \"option\", \"option\", \"option\", \"option\", \"option\", \"option\", \"option\", \"option\", \"order\", \"order\", \"order\", \"order\", \"order\", \"order\", \"order\", \"order\", \"order\", \"organization\", \"organization\", \"organization\", \"organization\", \"organization\", \"organizational\", \"original\", \"original\", \"original\", \"original\", \"original\", \"original\", \"origination\", \"otc\", \"outage\", \"owed\", \"pacific\", \"pacific\", \"pacific\", \"pain\", \"palo\", \"panel\", \"panel\", \"paralegal\", \"park\", \"park\", \"park\", \"park\", \"party\", \"party\", \"party\", \"paso\", \"paso\", \"paso\", \"passcode\", \"passed\", \"passed\", \"passed\", \"passed\", \"password\", \"patch\", \"patient\", \"patti\", \"paulo\", \"payment\", \"payment\", \"payment\", \"payroll\", \"pcb\", \"peace\", \"peak\", \"peak\", \"pending\", \"pending\", \"pending\", \"pending\", \"per\", \"per\", \"per\", \"per\", \"per\", \"per\", \"per\", \"per\", \"per\", \"per\", \"percent\", \"percent\", \"performed\", \"period\", \"period\", \"period\", \"period\", \"period\", \"period\", \"permanently\", \"permit\", \"permit\", \"permit\", \"permit\", \"personnel\", \"petition\", \"philippe\", \"phillip\", \"phone\", \"phone\", \"phone\", \"phone\", \"phone\", \"phone\", \"physical\", \"physical\", \"physical\", \"physical\", \"pilot\", \"pipe\", \"pipe\", \"pipeline\", \"pipeline\", \"pipeline\", \"plain\", \"plan\", \"plan\", \"plan\", \"plan\", \"plan\", \"plan\", \"plane\", \"plant\", \"plant\", \"plant\", \"plant\", \"play\", \"play\", \"play\", \"play\", \"playing\", \"playing\", \"poep\", \"point\", \"point\", \"point\", \"point\", \"point\", \"point\", \"point\", \"point\", \"point\", \"poll\", \"pool\", \"pool\", \"pool\", \"port\", \"port\", \"portal\", \"portfolio\", \"portfolio\", \"portfolio\", \"position\", \"position\", \"position\", \"position\", \"position\", \"pound\", \"ppa\", \"ppl\", \"ppm\", \"prayer\", \"prc\", \"prebon\", \"prentice\", \"presentation\", \"president\", \"president\", \"president\", \"president\", \"president\", \"president\", \"pressure\", \"pressure\", \"pressure\", \"price\", \"price\", \"price\", \"price\", \"privilege\", \"privileged\", \"probably\", \"probably\", \"probably\", \"problem\", \"problem\", \"problem\", \"problem\", \"problem\", \"problem\", \"problem\", \"problem\", \"proceeding\", \"proceeding\", \"process\", \"process\", \"process\", \"process\", \"process\", \"process\", \"procurement\", \"product\", \"product\", \"product\", \"product\", \"product\", \"product\", \"production\", \"production\", \"production\", \"prof\", \"professor\", \"professor\", \"program\", \"program\", \"program\", \"program\", \"program\", \"program\", \"prohibited\", \"project\", \"project\", \"project\", \"project\", \"project\", \"promissory\", \"promotion\", \"promotion\", \"proposed\", \"proposed\", \"proposed\", \"proposed\", \"proprietary\", \"proprietary\", \"prospect\", \"protest\", \"provide\", \"provide\", \"provide\", \"provide\", \"provide\", \"provide\", \"provide\", \"provide\", \"provide\", \"provision\", \"provision\", \"provision\", \"pseg\", \"pub\", \"public\", \"public\", \"public\", \"public\", \"public\", \"public\", \"public\", \"public\", \"publication\", \"puc\", \"puc\", \"puerto\", \"pulp\", \"purchase\", \"purchase\", \"purchase\", \"purchase\", \"purchase\", \"purchase\", \"purchaser\", \"pursuant\", \"pursuant\", \"pursuant\", \"quantity\", \"quantity\", \"quarter\", \"quarter\", \"question\", \"question\", \"question\", \"question\", \"question\", \"question\", \"question\", \"question\", \"question\", \"question\", \"question\", \"quiet\", \"range\", \"range\", \"range\", \"ranking\", \"rate\", \"rate\", \"rate\", \"rate\", \"rate\", \"ratepayer\", \"reagan\", \"really\", \"really\", \"really\", \"rebook\", \"received\", \"received\", \"received\", \"received\", \"received\", \"received\", \"received\", \"received\", \"received\", \"received\", \"recipient\", \"recruiting\", \"recruiting\", \"redline\", \"redlined\", \"ref\", \"regard\", \"regard\", \"regard\", \"regard\", \"regard\", \"regard\", \"regard\", \"regarding\", \"regarding\", \"regarding\", \"regarding\", \"regarding\", \"regarding\", \"regarding\", \"regarding\", \"regarding\", \"regarding\", \"region\", \"region\", \"registration\", \"regulated\", \"regulated\", \"reliance\", \"reliant\", \"renewal\", \"renewed\", \"rental\", \"repair\", \"replied\", \"replying\", \"report\", \"report\", \"report\", \"report\", \"report\", \"report\", \"request\", \"request\", \"request\", \"request\", \"request\", \"request\", \"request\", \"request\", \"request\", \"request\", \"requested\", \"requested\", \"requested\", \"requested\", \"requested\", \"requested\", \"requested\", \"requested\", \"requested\", \"requested\", \"required\", \"required\", \"required\", \"required\", \"requirement\", \"requirement\", \"requirement\", \"requirement\", \"research\", \"research\", \"research\", \"research\", \"research\", \"research\", \"resend\", \"reservation\", \"reservation\", \"reservation\", \"reservation\", \"residential\", \"respect\", \"respect\", \"respect\", \"respect\", \"respect\", \"respect\", \"resume\", \"retained\", \"retention\", \"review\", \"review\", \"review\", \"review\", \"review\", \"review\", \"review\", \"review\", \"reviewer\", \"revised\", \"revision\", \"rick\", \"rick\", \"ride\", \"right\", \"right\", \"right\", \"right\", \"right\", \"right\", \"right\", \"right\", \"right\", \"risk\", \"risk\", \"risk\", \"risk\", \"rly\", \"rmt\", \"road\", \"road\", \"road\", \"roger\", \"role\", \"role\", \"role\", \"role\", \"roof\", \"room\", \"room\", \"room\", \"rsvp\", \"rudnick\", \"russell\", \"said\", \"said\", \"said\", \"sale\", \"sale\", \"sale\", \"sale\", \"sale\", \"sale\", \"sale\", \"sale\", \"samantha\", \"sampling\", \"san\", \"san\", \"san\", \"san\", \"san\", \"sandra\", \"sandy\", \"sao\", \"sap\", \"sara\", \"saturday\", \"say\", \"say\", \"say\", \"say\", \"say\", \"say\", \"sce\", \"schedule\", \"schedule\", \"schedule\", \"schedule\", \"schedule\", \"scheduled\", \"scheduled\", \"scheduled\", \"scheduled\", \"school\", \"school\", \"school\", \"sean\", \"season\", \"season\", \"season\", \"season\", \"section\", \"section\", \"section\", \"sector\", \"sector\", \"see\", \"see\", \"see\", \"see\", \"see\", \"see\", \"see\", \"see\", \"see\", \"sell\", \"sell\", \"sell\", \"sell\", \"sell\", \"sell\", \"sell\", \"seminar\", \"sempra\", \"sempra\", \"sen\", \"senate\", \"send\", \"send\", \"send\", \"send\", \"send\", \"send\", \"send\", \"send\", \"send\", \"sender\", \"sent\", \"sent\", \"sent\", \"sent\", \"sent\", \"sent\", \"sent\", \"sent\", \"sent\", \"separator\", \"sept\", \"sept\", \"service\", \"service\", \"service\", \"service\", \"service\", \"service\", \"session\", \"session\", \"session\", \"session\", \"setoff\", \"several\", \"several\", \"several\", \"several\", \"several\", \"several\", \"several\", \"several\", \"several\", \"several\", \"several\", \"several\", \"shackleton\", \"shall\", \"shall\", \"shall\", \"shankman\", \"shapiro\", \"share\", \"share\", \"share\", \"share\", \"share\", \"share\", \"shari\", \"sheet\", \"sheet\", \"sheet\", \"sheila\", \"sheila\", \"shelley\", \"sheri\", \"sherri\", \"shipper\", \"shirt\", \"shmuel\", \"shoot\", \"shortage\", \"shout\", \"show\", \"show\", \"show\", \"show\", \"show\", \"show\", \"show\", \"show\", \"sick\", \"signature\", \"signed\", \"signed\", \"signed\", \"signed\", \"signed\", \"signed\", \"signed\", \"sister\", \"sita\", \"sitara\", \"site\", \"site\", \"siting\", \"sitting\", \"skilling\", \"sleep\", \"slide\", \"slide\", \"slight\", \"small\", \"small\", \"small\", \"small\", \"small\", \"small\", \"smoking\", \"socal\", \"socal\", \"soft\", \"soil\", \"solve\", \"something\", \"something\", \"something\", \"something\", \"something\", \"son\", \"sorry\", \"sorry\", \"sorry\", \"sorry\", \"sorry\", \"sorry\", \"sound\", \"sound\", \"sound\", \"sound\", \"southern\", \"southern\", \"spalding\", \"speak\", \"speak\", \"speak\", \"speaker\", \"speaker\", \"special\", \"special\", \"special\", \"special\", \"special\", \"special\", \"special\", \"speech\", \"spent\", \"spent\", \"spent\", \"spent\", \"split\", \"split\", \"spokesman\", \"sport\", \"spread\", \"spread\", \"spring\", \"spring\", \"stanley\", \"stanley\", \"star\", \"state\", \"state\", \"state\", \"state\", \"state\", \"station\", \"station\", \"station\", \"staying\", \"steffes\", \"steve\", \"steve\", \"steve\", \"steve\", \"steve\", \"steve\", \"steve\", \"steve\", \"still\", \"still\", \"still\", \"still\", \"still\", \"still\", \"still\", \"still\", \"stinson\", \"stock\", \"storage\", \"story\", \"story\", \"story\", \"strategic\", \"strictly\", \"strong\", \"strong\", \"strong\", \"strong\", \"student\", \"student\", \"stuff\", \"subject\", \"subject\", \"subject\", \"subject\", \"subject\", \"submit\", \"submit\", \"submitted\", \"submitted\", \"submitted\", \"substitute\", \"suite\", \"suite\", \"supervisor\", \"supply\", \"supply\", \"supply\", \"supply\", \"support\", \"support\", \"support\", \"support\", \"support\", \"support\", \"support\", \"support\", \"sure\", \"sure\", \"sure\", \"sure\", \"sure\", \"sure\", \"sure\", \"surprised\", \"survey\", \"survey\", \"susan\", \"susan\", \"susan\", \"susan\", \"susan\", \"sutton\", \"suzanne\", \"swap\", \"swap\", \"symbol\", \"system\", \"system\", \"system\", \"system\", \"system\", \"system\", \"tab\", \"tab\", \"tagg\", \"take\", \"take\", \"take\", \"take\", \"take\", \"take\", \"take\", \"take\", \"take\", \"take\", \"take\", \"take\", \"talk\", \"talk\", \"talk\", \"tana\", \"tank\", \"tanya\", \"tax\", \"tax\", \"tax\", \"tax\", \"tax\", \"tco\", \"teacher\", \"team\", \"team\", \"team\", \"team\", \"team\", \"team\", \"teco\", \"tel\", \"tel\", \"tel\", \"tel\", \"telecom\", \"tell\", \"tell\", \"temperature\", \"term\", \"term\", \"term\", \"term\", \"term\", \"term\", \"term\", \"term\", \"terminate\", \"testing\", \"testing\", \"texaco\", \"texas\", \"texas\", \"texas\", \"texas\", \"text\", \"text\", \"text\", \"text\", \"thank\", \"thank\", \"thank\", \"thank\", \"thank\", \"thank\", \"thank\", \"thank\", \"thank\", \"thanksgiving\", \"thanx\", \"thing\", \"thing\", \"thing\", \"thing\", \"thing\", \"think\", \"think\", \"think\", \"thought\", \"thought\", \"thought\", \"thought\", \"thursday\", \"thursday\", \"thursday\", \"thursday\", \"ticket\", \"ticket\", \"ticket\", \"ticket\", \"tiger\", \"tnrcc\", \"today\", \"today\", \"today\", \"today\", \"today\", \"today\", \"today\", \"today\", \"today\", \"today\", \"tomorrow\", \"tomorrow\", \"tomorrow\", \"ton\", \"tonite\", \"tool\", \"topock\", \"total\", \"total\", \"total\", \"total\", \"total\", \"total\", \"total\", \"toute\", \"trade\", \"trade\", \"trade\", \"trade\", \"trader\", \"trader\", \"trader\", \"trading\", \"trading\", \"trading\", \"trading\", \"training\", \"training\", \"transact\", \"transaction\", \"transaction\", \"transaction\", \"transco\", \"transferred\", \"transformer\", \"transmitted\", \"transport\", \"transportation\", \"transportation\", \"transportation\", \"transportation\", \"transportation\", \"transporter\", \"transwestern\", \"travel\", \"travel\", \"travel\", \"tree\", \"trigger\", \"truth\", \"try\", \"try\", \"try\", \"try\", \"tue\", \"tuesday\", \"tuesday\", \"tuesday\", \"tuesday\", \"turbine\", \"turbopark\", \"tva\", \"two\", \"two\", \"two\", \"two\", \"two\", \"two\", \"two\", \"two\", \"two\", \"two\", \"two\", \"two\", \"two\", \"two\", \"two\", \"type\", \"type\", \"type\", \"type\", \"type\", \"type\", \"unauthorized\", \"unclear\", \"unify\", \"unit\", \"unit\", \"unit\", \"unit\", \"unit\", \"unit\", \"university\", \"university\", \"university\", \"university\", \"unsubscribe\", \"use\", \"use\", \"use\", \"use\", \"use\", \"use\", \"use\", \"use\", \"use\", \"use\", \"use\", \"use\", \"user\", \"user\", \"user\", \"user\", \"utilicorp\", \"utility\", \"utility\", \"vacation\", \"vacation\", \"vacation\", \"valuation\", \"value\", \"value\", \"value\", \"value\", \"value\", \"value\", \"var\", \"variance\", \"vega\", \"vepco\", \"version\", \"version\", \"vice\", \"vice\", \"vice\", \"vice\", \"vince\", \"vince\", \"virus\", \"visa\", \"visit\", \"visit\", \"visit\", \"visit\", \"visit\", \"vitol\", \"volatility\", \"volatility\", \"volume\", \"volume\", \"vote\", \"vote\", \"wait\", \"wait\", \"wait\", \"waived\", \"want\", \"want\", \"want\", \"want\", \"want\", \"want\", \"wanted\", \"wanted\", \"wanted\", \"warning\", \"warranty\", \"way\", \"way\", \"way\", \"way\", \"way\", \"way\", \"way\", \"way\", \"way\", \"way\", \"web\", \"web\", \"website\", \"website\", \"website\", \"website\", \"wed\", \"wed\", \"wed\", \"wedding\", \"wednesday\", \"wednesday\", \"wednesday\", \"wednesday\", \"week\", \"week\", \"week\", \"week\", \"week\", \"week\", \"week\", \"weekend\", \"weekend\", \"well\", \"well\", \"well\", \"well\", \"well\", \"well\", \"well\", \"well\", \"west\", \"west\", \"west\", \"west\", \"west\", \"west\", \"west\", \"westinghouse\", \"westlb\", \"whalley\", \"wharton\", \"whether\", \"whether\", \"whether\", \"whether\", \"whether\", \"whether\", \"whether\", \"wife\", \"williams\", \"williams\", \"williams\", \"williams\", \"williams\", \"wine\", \"wire\", \"without\", \"without\", \"without\", \"without\", \"without\", \"without\", \"without\", \"without\", \"wolfe\", \"woodland\", \"work\", \"work\", \"work\", \"work\", \"work\", \"work\", \"work\", \"work\", \"working\", \"working\", \"working\", \"working\", \"working\", \"working\", \"working\", \"working\", \"worksheet\", \"worse\", \"yeah\", \"year\", \"year\", \"year\", \"year\", \"year\", \"year\", \"year\", \"year\", \"year\", \"year\", \"york\", \"york\", \"york\", \"york\", \"york\", \"york\", \"york\", \"york\", \"york\", \"zone\"]}, \"lambda.step\": 0.01, \"tinfo\": {\"Freq\": [10889.0, 11075.0, 8135.0, 10440.0, 11285.0, 9108.0, 7414.0, 7115.0, 9397.0, 9653.0, 7742.0, 6182.0, 9999.0, 6629.0, 7272.0, 9974.0, 6249.0, 9087.0, 10207.0, 8027.0, 6967.0, 8152.0, 5163.0, 9676.0, 8412.0, 6200.0, 9161.0, 6032.0, 3610.0, 6396.0, 1509.9997686032782, 1320.3286962648324, 902.0345099963282, 891.2101195214372, 845.7475078313772, 595.2835869687947, 451.5095160977832, 448.8067150700957, 388.53975977120757, 338.90442655351524, 323.7596022516045, 240.08181749405514, 238.83474353177704, 227.6449580161681, 205.77862396582424, 195.44002461690624, 194.02123731480543, 188.75505170878716, 161.7577917599319, 160.2751905626451, 160.16785410925135, 159.08968452636685, 159.0227103858063, 157.8221614691455, 146.86531785659793, 138.89023494487472, 138.32248914078022, 136.4131149287823, 133.22882477050274, 131.73307956716704, 6925.808048088415, 339.9474983519216, 3143.298010582253, 2398.41737830361, 6566.034856670216, 8205.140406837367, 3596.5430186039803, 521.0577705574879, 1875.307311411839, 1042.489302316161, 2782.5338556062093, 1080.1696552680876, 8785.730544673348, 765.1837889436603, 1431.948040237723, 1395.5777652935071, 5223.488135762187, 6634.336262503909, 1903.2739102706655, 2398.0735142648123, 2254.7071429732805, 2065.415894157385, 3365.520872980978, 2851.158718684299, 1878.469290778422, 4871.2243056148245, 2016.5590445754478, 2126.380805955424, 2578.694332184093, 1580.970414468029, 3241.135518052835, 2824.004567605819, 4612.797844617791, 3578.4907536006076, 4258.860105309662, 3320.467087727713, 4364.683321108642, 3969.0353832941305, 3218.5862083399456, 3218.6925748963226, 2688.687972798585, 2464.967883430435, 2634.567046438447, 2282.4115098465672, 2601.9447033331003, 2388.625954369171, 1367.7267921279192, 1051.6644604906558, 1040.9009105874777, 765.2184230776292, 547.3936387446823, 544.6707495034385, 450.5295831890486, 389.39637105091856, 331.77985917236, 320.61204422120323, 318.56264636569375, 299.4552897175088, 294.9134292528478, 280.3455559148058, 279.90349713908387, 259.07942537946707, 253.86794655221183, 251.61428526262242, 240.32861163380525, 240.276899993253, 235.98888345753718, 234.65467849831748, 233.343380353425, 231.23505607577124, 223.1351017888712, 204.42045732195564, 192.40891400143718, 191.22656686296452, 183.49758005281177, 182.93225807352837, 510.64876614454175, 446.8610689131666, 3251.259257605324, 1861.1352894482577, 476.59228787654615, 2063.092632184977, 695.6251268847175, 548.8798989574892, 663.3439022886126, 5049.1310577365275, 1107.6024967519027, 1781.5154616217797, 601.913024068529, 451.6235421137509, 3848.930052802233, 1100.3341694125113, 817.1261714406411, 1464.5716024945789, 1115.2565163322133, 815.7729231000831, 702.4966451185048, 879.719236193089, 1898.9593302128742, 902.9144189374057, 1773.7298500285167, 1011.681550305284, 1131.9439484941504, 1141.4045913173775, 907.5961749046746, 1295.3438769226957, 1147.9260324954541, 1156.846170086022, 1579.26105542841, 903.2922307452536, 1160.7576503728712, 1340.5398025323232, 1443.283163752441, 1282.06464620706, 1024.1317224223803, 1199.5053170430615, 1215.3600284679321, 1148.6226795463535, 1153.0244999401411, 1040.256727092889, 2189.218224480818, 578.3560625215099, 485.6400637426063, 456.3604478625993, 414.05158183448015, 398.4253938494011, 310.22022119197084, 308.0998797230118, 307.66830993115354, 302.6931211472796, 301.11024515343814, 294.92940492510456, 291.2030954604981, 280.0932695398457, 267.3891803856136, 245.62585942812305, 240.97172328670612, 236.06960377616386, 228.835388006404, 222.6882456238858, 206.03208696785512, 202.65551492487538, 201.26488343567354, 198.78525225350256, 192.23068442982103, 190.416249541337, 179.5194616181162, 178.50203490968485, 178.18295636315287, 176.95429084202496, 918.5819276822901, 331.72363484764765, 529.3259221423942, 404.62839711264803, 3259.1841140390625, 661.4627826441234, 429.7241719642963, 797.7485749025703, 986.2139092496216, 609.7633954045759, 1435.8539729267077, 1149.369429474064, 2508.0968640757665, 2673.377484557303, 1843.3331730033442, 1909.461396817967, 869.2707760272383, 1614.5894846804406, 1150.4902757729872, 1905.1492621279508, 680.6321082646018, 622.4469391980313, 993.670158842322, 3380.424858875772, 608.807353132577, 1711.5504092124916, 2051.833274951268, 662.8471860255133, 1104.4189312606825, 873.0613087208113, 1365.1185931232303, 1547.9651110173234, 1229.4931282389648, 970.4749684323222, 902.1148890524238, 1405.2649120280496, 1046.1754297970165, 1239.5619156629666, 1002.1411148515364, 1231.3499498210313, 1063.793686881706, 1015.3708254579639, 944.1550039874136, 972.6401162789836, 3122.211087629883, 2018.8552419009086, 1507.7646528962287, 1129.7155372655955, 1076.9415319032382, 946.7580804738017, 650.7659378814566, 639.9877554657542, 604.6214484859623, 509.6129152605089, 509.445893772696, 470.90674802522494, 407.78795553516846, 394.5093012930487, 369.5293854693853, 359.5833622127036, 356.8161412845389, 353.17421173664565, 324.2091168292549, 321.6456047939715, 289.40308602586595, 287.7074659277364, 262.8385678676877, 235.67586889291235, 232.71606440977237, 216.20480373170037, 215.5698757271987, 206.1893218483756, 206.07335948228456, 201.0817101733022, 2690.9030602898474, 1493.039179763717, 7050.299785836451, 1427.65454219783, 985.7617829685212, 660.7172138852139, 4617.006487897143, 6686.026482083586, 1582.0513721368447, 513.4590229257562, 5651.5672119586025, 1930.4756155534724, 1011.8608412659581, 2114.3129685955478, 791.0232962945598, 1287.2683343680158, 1612.9781777400597, 962.3213539674472, 1335.4696535919284, 3590.331468987192, 3774.606959062799, 1866.8887137235365, 3375.490292816636, 2277.964700306678, 1385.3861633536542, 1228.724156450568, 1106.226637791103, 1682.6979516827378, 1266.7034517474706, 1473.4658858722848, 1215.1553215875947, 1995.306372649845, 956.8275064400506, 627.0653089810703, 612.0281839088425, 466.9888642341665, 392.8903479208325, 313.71627323042304, 256.61521556587394, 252.62058723376643, 246.44257511190196, 197.5218955087963, 189.19926334471145, 179.29392212536695, 177.36627017040334, 175.88234185813434, 160.63051617638192, 148.84117824021823, 148.20652516032058, 142.9335916978245, 139.28536641888545, 135.29458617894403, 130.153785139008, 128.10698933071646, 126.82578975479682, 117.13358657258857, 116.05835260839247, 115.68580144216598, 114.23893340714673, 113.44811707308861, 112.07567566630499, 471.88676085316604, 475.4100752798588, 715.1278260395861, 482.7058173304209, 1004.1749502549014, 414.77403546895255, 959.022012939623, 1777.1439454069737, 293.00974931430375, 585.7723389696183, 375.2284115521344, 1233.7336667289596, 3539.159874696902, 659.9984550245291, 529.0655141332386, 1013.4581082279881, 452.3291784715916, 1141.5378912957804, 728.4607008410112, 2903.060060037903, 1446.906244413906, 600.7097860110102, 2514.535325720054, 1934.6011971392195, 848.7336319456248, 2626.150890062717, 674.467304877371, 1483.459048214993, 1083.860755943671, 1436.878503188263, 1510.426384657015, 1015.3595037349262, 2008.6765163599443, 1123.935660680642, 1669.331613122996, 1531.0387240832758, 1344.2135313578158, 927.1543997578677, 1098.0065164663617, 1057.6941197427209, 1085.701530839501, 1165.169393471486, 1140.1702975812348, 1112.2347838441885, 1030.6444208607127, 1034.5356665500826, 1015.8517934345521, 2324.4352479768736, 1098.478078183748, 1034.171696033481, 904.3768183115943, 644.2507846594941, 613.0064091390124, 514.667545952391, 443.92848052016166, 333.81294648941235, 307.38401319637245, 280.0149921373447, 258.2362457280785, 242.09100694739232, 224.972238085866, 197.72670029016595, 195.0823459363878, 193.84668205006392, 180.0884830313638, 172.30996959499635, 165.99230309737789, 161.30843525891027, 159.61205645859278, 154.95874790873938, 153.95018381428912, 151.79999194034875, 151.52723932403026, 144.45084310101592, 144.36053363173934, 139.422813507813, 136.24459433298355, 790.1317012247455, 795.0765371791475, 2164.888552661313, 458.1527742938305, 686.8290514001181, 451.2903305726368, 266.8000984148035, 5496.675894683562, 1222.9035816430774, 416.72906237119867, 761.793347605023, 1535.2530037374186, 404.6917479001961, 932.8607188970859, 640.9522542173344, 498.76527226956, 503.6181568727172, 1400.5471478205313, 1637.6401986835162, 2085.2619734594446, 1232.488736848342, 811.1694202203472, 1250.0594620212341, 1001.1642518154572, 1961.0603932925403, 1675.6960137567132, 954.7756846944059, 695.1370477290084, 813.0922557934196, 939.8841531772367, 1133.477102509405, 1496.1181758161952, 1050.5224257223022, 1256.1287398423485, 1037.2070561916944, 933.0487373544463, 1038.436701167042, 1014.9949422416993, 866.6042730759148, 822.4839868841108, 815.2613687999418, 723.465219738218, 549.7034930796889, 507.6757055636244, 427.85091024387077, 388.8314254052517, 337.2116383879896, 334.29317709191236, 317.20644738519786, 288.0079387297206, 282.5303469637892, 280.8863589161581, 262.4544241166295, 260.0921114121607, 258.30408181927083, 251.54142111826488, 251.41239082741447, 246.88095104951358, 236.24542490928724, 233.87027790940374, 228.92754980588646, 212.64623941783543, 199.6209080095555, 196.16038326010673, 193.3978654458953, 189.9425564187603, 186.9306007230318, 183.1254915228485, 181.22603407303896, 177.50142096454977, 177.46008683898083, 692.2364142610861, 359.48223228689096, 398.95342882589034, 529.3621516613341, 288.29890824482965, 463.65535068096005, 783.084073934832, 2353.961859172676, 401.2013329719696, 368.8538718095947, 1180.1102098450544, 915.4129807742557, 461.6292781648032, 486.3356341133406, 466.7645685447719, 373.2274966923396, 709.9571055817241, 495.2233032739661, 527.5044092381605, 339.76937505836366, 466.3815050032212, 918.1842113254277, 568.8509054636532, 654.0692199172514, 551.1084369590699, 647.7928149873657, 524.7098283402718, 613.8148305983046, 602.8448641342113, 521.3183044916069, 572.266649205243, 532.472072997139, 497.3801656855752, 497.84543447020485, 482.9127119407659, 478.52013545269347, 1734.9171007235568, 1386.8843955831373, 1047.8078015427968, 653.1789619490883, 536.1973327408521, 533.674062662444, 525.3653308654073, 510.7615736710826, 430.2739928292271, 423.0825034230432, 421.6105819290615, 404.3248171075087, 394.6973688069011, 390.30371309637496, 371.73222985419613, 371.13642809198205, 319.8553562504006, 308.5744010897749, 293.54612845840404, 291.09383582191316, 288.57018202069133, 280.5932407804828, 279.3296310309504, 267.8727890192251, 259.282971431334, 255.87164724931117, 252.72190931888642, 241.7216549014124, 232.09107769110418, 231.49675018008148, 639.2819803807724, 1685.0095544144199, 1003.6473364455561, 831.9792114361506, 1210.850753284078, 642.8573711644456, 928.5246435688167, 364.61474832735706, 335.11961969481985, 1068.975212886354, 940.5249378545199, 415.8603691769044, 474.7129964278647, 1275.5513703088222, 557.7195612634264, 629.4848244618671, 956.5015875892151, 808.0422867010943, 970.7135636538421, 772.2396831460158, 490.2277084477368, 1149.7470813282425, 940.0862988183067, 663.6311547988432, 851.7041952665818, 764.7730295463682, 775.3616021881367, 782.9122879949216, 720.3625030508771, 768.6966088797091, 710.2926155548514, 694.2998309872353, 703.2593404832028, 382.54839599459945, 260.99794926808886, 231.5186024367925, 224.51425878289118, 183.95286141257498, 178.19596908140798, 175.83145037622523, 174.43542290768445, 163.2166277420424, 162.44115067100554, 162.10267922471917, 160.09276020744247, 157.06990416684886, 154.27242412847858, 149.0953806894314, 148.37025918033856, 135.08742301374033, 125.0514969767731, 119.05057176009694, 117.2376193059949, 116.78807848836796, 107.10785861118923, 106.62808041801729, 105.42290322218564, 104.8778266027736, 101.85928485737183, 101.08996985283834, 96.69381245085208, 93.91875211054547, 93.43341390284282, 1779.6395412592437, 493.65579528763965, 2591.480302686838, 1537.6425208575768, 1955.4349753298384, 7232.463657914935, 1808.219578983999, 1499.2788035946776, 236.6420271605388, 2920.0006573513233, 948.2471456504102, 180.33623426317746, 3125.027443296605, 215.49304984996408, 1388.8992983946455, 1151.235649711962, 752.6524896136602, 2249.9234699555495, 287.54949300096166, 2112.785846478417, 1202.6805030731948, 2511.8459847022496, 765.661085505363, 416.29172396103394, 1751.7696720380138, 1577.8853906362538, 2602.9707610365817, 659.2136434642583, 3390.2503428034597, 1403.9053395039252, 888.0157303077125, 2392.6682385814697, 1182.5985334260656, 1551.2622818088364, 922.3265997351261, 1588.3152047488957, 1385.086740317285, 917.1586898806086, 968.0168205362206, 1299.9599912855301, 1201.7512709897032, 1061.3252853904555, 1031.8449179734093, 1525.3720966698975, 1499.9800367628281, 1229.730507348221, 918.263186916221, 739.969353919337, 721.4492907139354, 286.13803761205224, 238.06467884495873, 186.40133677339273, 185.49986997649364, 176.62198193212618, 164.9062432638465, 162.2888420843856, 148.56964533381452, 134.4723425693941, 134.26852380545867, 125.77803825026376, 120.09489257335856, 119.82500781166415, 115.96312828297853, 109.455505631799, 100.34629017140415, 93.70826472345952, 90.30612261262829, 88.39529823875525, 87.50478526317393, 85.1959686779924, 84.34355822009184, 81.25244017849502, 81.07779998641695, 5017.726890449985, 10548.477418061186, 541.9218953510015, 529.1708594711204, 377.21135998450814, 4518.636473813683, 889.9547848507766, 2401.5786474396987, 4590.519471557337, 281.52418096726035, 2922.490447544273, 3398.127661833738, 4755.873586164535, 2535.9767829783254, 3635.444298874601, 1536.9126810709038, 3566.284774995535, 943.4912156421436, 684.2305489029372, 821.3580467372361, 833.556646618347, 1249.5164641954466, 1971.8381023403876, 3739.253785920922, 3098.095226659199, 2415.814955250925, 958.089559918882, 1442.1758128406238, 1607.8133347253377, 1244.882688139319, 874.8955430788051, 1015.09281389128, 903.2248539542386, 976.0049456542208, 3955.2817295658156, 3863.7302764636793, 3118.8639805735493, 1362.102142673006, 819.9283678144637, 799.2914515520603, 704.7216627759313, 622.8681612942047, 531.6533356206661, 531.4701435850855, 501.9824331497184, 439.4279227519466, 366.6925784134568, 336.84581034528065, 282.8201766685692, 280.7439158362693, 268.9933962898167, 265.56945311058735, 256.34388135892385, 243.814574913754, 241.94886564232465, 234.49959294917522, 214.61198827627098, 186.61244025341966, 185.87606375494764, 159.68615101777598, 156.41981254320686, 155.89511905956252, 152.2239637433932, 142.05860746079424, 946.0633661571848, 2219.4782312397588, 740.208113102824, 2162.2200911787168, 4202.146066975791, 955.5792875027815, 1212.8067862116093, 2773.0952572921306, 2438.7422976212015, 2676.147825488324, 2743.2769042079644, 1086.069096225894, 1212.4724577330053, 462.4469739752893, 1833.5330038788939, 960.0447739625305, 1989.4246665640737, 2115.8476825219072, 928.2084501627298, 836.3138009224425, 1411.545611233899, 1000.7534376048775, 1153.67626615502, 781.7226513320123, 1090.171481082405, 1017.6497384539399, 1319.7856163867255, 1035.8170294491292, 852.8153321819605, 598.7252316761733, 539.2562104284202, 466.95780521550876, 387.52274497674665, 328.62992292695196, 275.77298769014715, 259.3575178977243, 229.47192780976084, 219.86713527361297, 217.56492445325503, 199.7085534479358, 198.91527524906138, 195.81185419693958, 188.55088320142394, 180.10801924770365, 179.28295589583874, 166.59467724201062, 159.84065792890001, 155.15405736477211, 152.29403014356714, 147.07722149489175, 145.59350827636595, 139.21824456912105, 136.5266865886809, 135.84158586133412, 130.61576867135315, 125.42403753409202, 516.077252322269, 2286.3199807672445, 467.1411726081963, 1964.709541400564, 386.82984343741344, 195.70222833126448, 2165.7860372458695, 7929.526208688339, 1034.051649068667, 1465.143480708332, 610.9717623473115, 1466.8516348605792, 1156.372439729261, 4438.3689745638085, 525.416640090678, 2583.312307166398, 1296.4843052060253, 335.6500691440971, 1863.9672231370757, 804.1750387293283, 582.0760143336329, 1107.311588563775, 1909.2117396867832, 597.1539651384192, 2362.44930467542, 1420.2983325150103, 1003.0025541728858, 1023.3040764494016, 1313.9203787894435, 791.6520894713746, 910.737896450834, 784.6207288010645, 1128.8306472768684, 800.3509427254578, 703.0949405675893, 780.1284107276658, 802.0361124224172, 1150.913367585119, 722.5233406918253, 556.667710994877, 429.4829672990276, 409.7942358136972, 394.71264765591303, 315.69799445560744, 287.7992563075579, 270.7713180701339, 262.2012341019681, 244.93250815954488, 240.4077254895768, 216.8414247420406, 214.6792810388889, 197.37948085267223, 183.31109298393181, 174.9167628159258, 171.55050467999982, 159.7914696279133, 159.68156074383444, 152.03135191372084, 146.89601451651944, 143.47246832814906, 142.26723989414788, 141.42552087807272, 141.0546512013418, 136.61511611432041, 130.58618883660486, 129.2375860020255, 127.71714675224604, 249.7628878352986, 1007.7534826026894, 194.02379670542612, 1949.96020877243, 1079.2868126679655, 275.9893684276793, 772.656285078657, 315.7166816854948, 622.0437580103642, 410.96296517580356, 290.1685623800188, 429.5940495145028, 370.9594386278272, 674.5277501952389, 1233.1135499620266, 485.2010811727197, 737.2750777929764, 739.7701928337025, 2975.8746480274995, 1112.6037820649808, 922.5829255809623, 1089.3010363835422, 873.12536345251, 927.0102730533806, 461.1873683136734, 1560.2592086401712, 2142.0244046854486, 1329.0203564271153, 1411.2490983266005, 541.7498890513, 946.7879537060999, 1266.5294399850777, 576.6130030064967, 786.6086807618889, 737.6345179392874, 784.2267495781679, 714.5575855714179, 861.9740510435266, 818.3222540963409, 654.3313459094207, 671.4546052420088, 732.9084364886089, 718.0458974503034, 701.8730318827684, 526.9115188471951, 445.84094185040027, 440.82229063207706, 418.6654151887168, 392.29011781455785, 315.31853779658576, 303.6261886169914, 295.7815662075719, 280.52590460520344, 273.3995051521309, 272.6083105954355, 253.00795523352585, 250.88950270684535, 227.46693153841346, 213.9490305107125, 206.37934280228694, 200.8157119178043, 190.23300575295022, 184.76188348591364, 172.85240822761006, 172.66506371829897, 166.39632435219028, 166.0995331403095, 159.95475263671926, 157.46676664190616, 148.33198798140282, 145.0298644129571, 144.33122003910432, 140.90943437563305, 140.75373335545694, 418.0239128438371, 1363.5209785430402, 870.4431841047074, 777.0421062633532, 272.52820482258824, 641.268014863873, 652.9537650878992, 953.3294370344254, 613.9654950350127, 430.3606932313318, 565.1569489631837, 746.4886661477458, 829.8167601804982, 2377.384212895433, 1196.236346544419, 807.4636931087248, 604.9966804019065, 694.4777651382907, 659.5065957291097, 836.597360935761, 956.3932908952622, 766.315460812202, 387.4730344905786, 626.5822562949019, 521.2270894647895, 1007.6011481434559, 698.015809640005, 647.5254869383475, 574.4931684483277, 753.4532903172133, 761.2854868799345, 789.1578499039255, 741.1425262493304, 710.2579035756552, 616.7477537541215, 615.4576411596652, 2547.2084957000175, 2095.891249953784, 1614.142222959278, 1603.597590580512, 1089.3160067674648, 746.8701984181661, 708.6955916644741, 705.0002416170446, 685.0942878613846, 405.57613217026113, 380.681369240201, 306.41068339214723, 297.69341552676013, 289.92340968719213, 276.5607885227645, 263.9393041723781, 239.08940355043762, 197.5242157780265, 195.6405069582219, 182.9474269701, 163.7774367703981, 135.92447895305278, 112.46106680268755, 91.61409255300876, 91.44685535577703, 91.08096016793031, 87.85644365034463, 86.5345576190543, 86.01308937556934, 85.39769245923766, 3237.4382687144034, 580.5375074767877, 1644.0566983436302, 1527.4139282196634, 803.3462311749697, 1239.2413351493315, 1756.6072440471082, 1030.6185789750368, 6136.887336564293, 928.8318437038041, 662.448330563088, 469.2683251317573, 1258.7899896725464, 1499.9461020756805, 4502.756710530392, 1297.041722153576, 1052.446834835274, 3902.1773944966963, 530.4306673368677, 2454.6398120229637, 1906.5227778323197, 980.0746436849854, 1925.9878960514582, 1738.3112247853903, 1020.4585567428387, 864.938719864291, 881.0219076669679, 656.402323010004, 653.144622470631, 555.2360460075894, 335.0699393641646, 262.64615290511483, 246.4469317998976, 240.98136755205482, 239.85107346311455, 173.99363428109436, 173.3680879715614, 169.72094625948978, 164.53144976385894, 161.90211077543086, 147.6490021535388, 141.76662824225733, 138.99243313498752, 135.44132782989846, 128.3178347267653, 126.43882236926773, 118.17710888759929, 116.3926277049764, 115.88923074369843, 112.58498064774834, 111.20894613871249, 110.15295984979633, 107.713395317512, 105.19220010157113, 102.72111932106439, 101.53133957406122, 2386.879175974746, 7103.1263362786, 7113.975511817042, 177.35168826069182, 839.1628107855619, 378.3671743624453, 1092.7622216493348, 434.35581606209695, 638.4111336884216, 3178.5026732195574, 347.961894912097, 605.8586485787462, 537.6545663014168, 2694.3827589949074, 517.7414441997236, 293.61168631963574, 276.41551029215816, 668.1806469114841, 757.9194942236211, 452.57331759751804, 303.84895167652076, 343.18379799127166, 412.46792529325205, 548.9911859703252, 542.0076447963883, 571.9447115289263, 654.6950960385583, 466.6662973371543, 474.1309148728859, 484.3407624760067, 728.8430472690867, 554.4507808499633, 456.11111282321605, 521.7340959548524, 455.39674286171356, 8134.968482864617, 3610.0095080111487, 2954.725002188726, 2843.963565416904, 2570.896083557213, 2360.7945933979863, 417.8723540840559, 375.54429230739254, 224.27202272209738, 190.5638330317344, 166.9725392717727, 158.57345578956227, 156.10103238688936, 142.4233256307464, 126.91947737297872, 115.27294296023003, 110.75671573994066, 107.3304684795312, 106.51032824521327, 103.2190209694763, 100.29009166482915, 98.96969488881217, 93.23678217143794, 91.95519754550568, 91.76891648545445, 90.98888563532167, 86.97820877047958, 84.69269257417356, 83.36251224618478, 82.82359770529925, 6528.449477499671, 6452.061117522396, 5139.884772726513, 6373.540148303246, 4594.344003601267, 3985.2963781553003, 5349.379722651656, 112.35847712130389, 172.01078925439097, 213.4868175679239, 549.7100638055751, 133.61098063057224, 320.18974045586504, 362.464226083163, 282.91262047312205, 167.8833231654919, 269.31344565925644, 193.77504872628333, 228.51636120148615, 222.04403743742083, 226.17364076929366, 195.38890466871388, 182.31342904152564, 619.4011837229541, 451.2480740701595, 447.1529852442522, 429.62144935826103, 353.95209706194845, 347.6877982410737, 340.5126668531057, 317.9471553341305, 289.2478208224107, 276.74616055099983, 273.53047661501654, 270.07286535505983, 256.64992975687767, 254.095798168463, 249.17274251119, 235.4040142104083, 226.28871788657256, 210.70350438509016, 204.94428502256116, 196.02705259287322, 191.49110681189234, 178.12550188997855, 176.8494170901589, 169.01037799579524, 168.2667618630129, 166.8802096338681, 165.8514249243729, 146.39572697461645, 143.11349092831026, 131.49489908905718, 932.9348265337051, 245.85287684799397, 695.7180306640635, 2039.6183349437952, 1436.7466695584803, 771.3712176562852, 1102.630384147979, 980.030440951307, 361.1768863336567, 261.3808888391611, 248.52702989298473, 1861.8032221349301, 471.88449945332616, 904.0082901818741, 1369.0680039476688, 826.6162169149364, 626.5341560675203, 621.1941372109089, 1224.25958871885, 472.5817348544394, 903.0575943466806, 1019.4524081008456, 737.6163845781281, 592.3996433825089, 677.4618515896066, 602.1124710762805, 752.9114439061476, 542.6099593704844, 546.960303235619, 600.9913481355226, 497.1838356783443, 504.10146030996975, 471.0838544908095, 479.1718861485972, 416.38598544072676, 400.707658263869, 397.99289122861785, 339.7074750780701, 322.85850233488463, 291.6253838388002, 289.6904790561531, 273.9355707243622, 261.99219504837214, 258.04098948939213, 214.35728818529375, 202.37762241219102, 198.1783830829378, 186.31496958444185, 185.7064650555603, 181.5513813956134, 173.0311677740808, 170.22986326267727, 164.1137444968644, 157.6782562759673, 152.67806082462667, 144.53109155125415, 143.89591644883845, 141.15514208556263, 140.37401784441107, 138.7853692671605, 135.97622062154505, 135.4731738534172, 135.36169571081882, 337.32135442576316, 442.57936539713637, 560.8222290079339, 379.3414228215219, 658.3184358500234, 993.4450644991323, 271.2487958326226, 354.72352306972346, 335.4224931769281, 350.6568088192562, 227.6593882345457, 571.8708941654406, 647.5475351003641, 311.736612797737, 709.5214910090077, 477.18312690627454, 1015.0605776247538, 264.72838257752744, 853.9310515628936, 573.3048659571061, 299.84306668603904, 633.4533107505629, 313.0076188947449, 335.850500444684, 312.1198791964272, 506.35782783342444, 280.22348648345655, 274.96886877105345, 274.12297422247127, 226.86557667732953, 223.42400473475254, 200.2641789932418, 196.84263202932036, 190.52291435176141, 177.44785911031101, 164.17060738696634, 154.79390362172308, 153.43617971615086, 150.73641025036153, 149.66493488240428, 142.63350259452005, 131.65598538944712, 130.07157377869126, 127.66439825538583, 124.4947155096056, 123.01700308186079, 121.98679146978151, 120.80019387998016, 119.39614189253044, 117.09793384008394, 116.92810832439856, 115.38390882361271, 115.1899525245926, 109.37220167992156, 108.5729703848024, 425.8149409152261, 1184.898119179843, 336.7046050059137, 1811.5432280461114, 1693.3068554870426, 415.4823399319055, 370.5881761171502, 1602.1709785024195, 261.09977689239355, 379.90820201819906, 386.00546241765477, 172.81076639851264, 401.5840443548513, 271.79542919175606, 509.1659044450398, 600.4924675476641, 199.21532262527106, 330.3430364146819, 495.79044389433574, 362.65679829272085, 225.0414723020782, 260.56108052173636, 299.8634779459716, 222.1715594264676, 205.11642907685857, 201.82118816555686], \"Category\": [\"Default\", \"Default\", \"Default\", \"Default\", \"Default\", \"Default\", \"Default\", \"Default\", \"Default\", \"Default\", \"Default\", \"Default\", \"Default\", \"Default\", \"Default\", \"Default\", \"Default\", \"Default\", \"Default\", \"Default\", \"Default\", \"Default\", \"Default\", \"Default\", \"Default\", \"Default\", \"Default\", \"Default\", \"Default\", \"Default\", \"Topic1\", \"Topic1\", \"Topic1\", \"Topic1\", \"Topic1\", \"Topic1\", \"Topic1\", \"Topic1\", \"Topic1\", \"Topic1\", \"Topic1\", \"Topic1\", \"Topic1\", \"Topic1\", \"Topic1\", \"Topic1\", \"Topic1\", \"Topic1\", \"Topic1\", \"Topic1\", \"Topic1\", \"Topic1\", \"Topic1\", \"Topic1\", \"Topic1\", \"Topic1\", \"Topic1\", \"Topic1\", \"Topic1\", \"Topic1\", \"Topic1\", \"Topic1\", \"Topic1\", \"Topic1\", \"Topic1\", \"Topic1\", \"Topic1\", \"Topic1\", \"Topic1\", \"Topic1\", \"Topic1\", \"Topic1\", \"Topic1\", \"Topic1\", \"Topic1\", \"Topic1\", \"Topic1\", \"Topic1\", \"Topic1\", \"Topic1\", \"Topic1\", \"Topic1\", \"Topic1\", \"Topic1\", \"Topic1\", \"Topic1\", \"Topic1\", \"Topic1\", \"Topic1\", \"Topic1\", \"Topic1\", \"Topic1\", \"Topic1\", \"Topic1\", \"Topic1\", \"Topic1\", \"Topic1\", \"Topic1\", \"Topic1\", \"Topic1\", \"Topic1\", \"Topic1\", \"Topic1\", \"Topic1\", \"Topic1\", \"Topic1\", \"Topic2\", \"Topic2\", \"Topic2\", \"Topic2\", \"Topic2\", \"Topic2\", \"Topic2\", \"Topic2\", \"Topic2\", \"Topic2\", \"Topic2\", \"Topic2\", \"Topic2\", \"Topic2\", \"Topic2\", \"Topic2\", \"Topic2\", \"Topic2\", \"Topic2\", \"Topic2\", \"Topic2\", \"Topic2\", \"Topic2\", \"Topic2\", \"Topic2\", \"Topic2\", \"Topic2\", \"Topic2\", \"Topic2\", \"Topic2\", \"Topic2\", \"Topic2\", \"Topic2\", \"Topic2\", \"Topic2\", \"Topic2\", \"Topic2\", \"Topic2\", \"Topic2\", \"Topic2\", \"Topic2\", \"Topic2\", \"Topic2\", \"Topic2\", \"Topic2\", \"Topic2\", \"Topic2\", \"Topic2\", \"Topic2\", \"Topic2\", \"Topic2\", \"Topic2\", \"Topic2\", \"Topic2\", \"Topic2\", \"Topic2\", \"Topic2\", \"Topic2\", \"Topic2\", \"Topic2\", \"Topic2\", \"Topic2\", \"Topic2\", \"Topic2\", \"Topic2\", \"Topic2\", \"Topic2\", \"Topic2\", \"Topic2\", \"Topic2\", \"Topic2\", \"Topic2\", \"Topic2\", \"Topic2\", \"Topic3\", \"Topic3\", \"Topic3\", \"Topic3\", \"Topic3\", \"Topic3\", \"Topic3\", \"Topic3\", \"Topic3\", \"Topic3\", \"Topic3\", \"Topic3\", \"Topic3\", \"Topic3\", \"Topic3\", \"Topic3\", \"Topic3\", \"Topic3\", \"Topic3\", \"Topic3\", \"Topic3\", \"Topic3\", \"Topic3\", \"Topic3\", \"Topic3\", \"Topic3\", \"Topic3\", \"Topic3\", \"Topic3\", \"Topic3\", \"Topic3\", \"Topic3\", \"Topic3\", \"Topic3\", \"Topic3\", \"Topic3\", \"Topic3\", \"Topic3\", \"Topic3\", \"Topic3\", \"Topic3\", \"Topic3\", \"Topic3\", \"Topic3\", \"Topic3\", \"Topic3\", \"Topic3\", \"Topic3\", \"Topic3\", \"Topic3\", \"Topic3\", \"Topic3\", \"Topic3\", \"Topic3\", \"Topic3\", \"Topic3\", \"Topic3\", \"Topic3\", \"Topic3\", \"Topic3\", \"Topic3\", \"Topic3\", \"Topic3\", \"Topic3\", \"Topic3\", \"Topic3\", \"Topic3\", \"Topic3\", \"Topic3\", \"Topic3\", \"Topic3\", \"Topic3\", \"Topic3\", \"Topic3\", \"Topic4\", \"Topic4\", \"Topic4\", \"Topic4\", \"Topic4\", \"Topic4\", \"Topic4\", \"Topic4\", \"Topic4\", \"Topic4\", \"Topic4\", \"Topic4\", \"Topic4\", \"Topic4\", \"Topic4\", \"Topic4\", \"Topic4\", \"Topic4\", \"Topic4\", \"Topic4\", \"Topic4\", \"Topic4\", \"Topic4\", \"Topic4\", \"Topic4\", \"Topic4\", \"Topic4\", \"Topic4\", \"Topic4\", \"Topic4\", \"Topic4\", \"Topic4\", \"Topic4\", \"Topic4\", \"Topic4\", \"Topic4\", \"Topic4\", \"Topic4\", \"Topic4\", \"Topic4\", \"Topic4\", \"Topic4\", \"Topic4\", \"Topic4\", \"Topic4\", \"Topic4\", \"Topic4\", \"Topic4\", \"Topic4\", \"Topic4\", \"Topic4\", \"Topic4\", \"Topic4\", \"Topic4\", \"Topic4\", \"Topic4\", \"Topic4\", \"Topic4\", \"Topic4\", \"Topic4\", \"Topic4\", \"Topic5\", \"Topic5\", \"Topic5\", \"Topic5\", \"Topic5\", \"Topic5\", \"Topic5\", \"Topic5\", \"Topic5\", \"Topic5\", \"Topic5\", \"Topic5\", \"Topic5\", \"Topic5\", \"Topic5\", \"Topic5\", \"Topic5\", \"Topic5\", \"Topic5\", \"Topic5\", \"Topic5\", \"Topic5\", \"Topic5\", \"Topic5\", \"Topic5\", \"Topic5\", \"Topic5\", \"Topic5\", \"Topic5\", \"Topic5\", \"Topic5\", \"Topic5\", \"Topic5\", \"Topic5\", \"Topic5\", \"Topic5\", \"Topic5\", \"Topic5\", \"Topic5\", \"Topic5\", \"Topic5\", \"Topic5\", \"Topic5\", \"Topic5\", \"Topic5\", \"Topic5\", \"Topic5\", \"Topic5\", \"Topic5\", \"Topic5\", \"Topic5\", \"Topic5\", \"Topic5\", \"Topic5\", \"Topic5\", \"Topic5\", \"Topic5\", \"Topic5\", \"Topic5\", \"Topic5\", \"Topic5\", \"Topic5\", \"Topic5\", \"Topic5\", \"Topic5\", \"Topic5\", \"Topic5\", \"Topic5\", \"Topic5\", \"Topic5\", \"Topic5\", \"Topic5\", \"Topic5\", \"Topic5\", \"Topic5\", \"Topic5\", \"Topic5\", \"Topic6\", \"Topic6\", \"Topic6\", \"Topic6\", \"Topic6\", \"Topic6\", \"Topic6\", \"Topic6\", \"Topic6\", \"Topic6\", \"Topic6\", \"Topic6\", \"Topic6\", \"Topic6\", \"Topic6\", \"Topic6\", \"Topic6\", \"Topic6\", \"Topic6\", \"Topic6\", \"Topic6\", \"Topic6\", \"Topic6\", \"Topic6\", \"Topic6\", \"Topic6\", \"Topic6\", \"Topic6\", \"Topic6\", \"Topic6\", \"Topic6\", \"Topic6\", \"Topic6\", \"Topic6\", \"Topic6\", \"Topic6\", \"Topic6\", \"Topic6\", \"Topic6\", \"Topic6\", \"Topic6\", \"Topic6\", \"Topic6\", \"Topic6\", \"Topic6\", \"Topic6\", \"Topic6\", \"Topic6\", \"Topic6\", \"Topic6\", \"Topic6\", \"Topic6\", \"Topic6\", \"Topic6\", \"Topic6\", \"Topic6\", \"Topic6\", \"Topic6\", \"Topic6\", \"Topic6\", \"Topic6\", \"Topic6\", \"Topic6\", \"Topic6\", \"Topic6\", \"Topic6\", \"Topic6\", \"Topic6\", \"Topic6\", \"Topic6\", \"Topic6\", \"Topic7\", \"Topic7\", \"Topic7\", \"Topic7\", \"Topic7\", \"Topic7\", \"Topic7\", \"Topic7\", \"Topic7\", \"Topic7\", \"Topic7\", \"Topic7\", \"Topic7\", \"Topic7\", \"Topic7\", \"Topic7\", \"Topic7\", \"Topic7\", \"Topic7\", \"Topic7\", \"Topic7\", \"Topic7\", \"Topic7\", \"Topic7\", \"Topic7\", \"Topic7\", \"Topic7\", \"Topic7\", \"Topic7\", \"Topic7\", \"Topic7\", \"Topic7\", \"Topic7\", \"Topic7\", \"Topic7\", \"Topic7\", \"Topic7\", \"Topic7\", \"Topic7\", \"Topic7\", \"Topic7\", \"Topic7\", \"Topic7\", \"Topic7\", \"Topic7\", \"Topic7\", \"Topic7\", \"Topic7\", \"Topic7\", \"Topic7\", \"Topic7\", \"Topic7\", \"Topic7\", \"Topic7\", \"Topic7\", \"Topic7\", \"Topic7\", \"Topic7\", \"Topic7\", \"Topic7\", \"Topic7\", \"Topic7\", \"Topic7\", \"Topic7\", \"Topic7\", \"Topic7\", \"Topic8\", \"Topic8\", \"Topic8\", \"Topic8\", \"Topic8\", \"Topic8\", \"Topic8\", \"Topic8\", \"Topic8\", \"Topic8\", \"Topic8\", \"Topic8\", \"Topic8\", \"Topic8\", \"Topic8\", \"Topic8\", \"Topic8\", \"Topic8\", \"Topic8\", \"Topic8\", \"Topic8\", \"Topic8\", \"Topic8\", \"Topic8\", \"Topic8\", \"Topic8\", \"Topic8\", \"Topic8\", \"Topic8\", \"Topic8\", \"Topic8\", \"Topic8\", \"Topic8\", \"Topic8\", \"Topic8\", \"Topic8\", \"Topic8\", \"Topic8\", \"Topic8\", \"Topic8\", \"Topic8\", \"Topic8\", \"Topic8\", \"Topic8\", \"Topic8\", \"Topic8\", \"Topic8\", \"Topic8\", \"Topic8\", \"Topic8\", \"Topic8\", \"Topic8\", \"Topic8\", \"Topic8\", \"Topic8\", \"Topic8\", \"Topic8\", \"Topic8\", \"Topic8\", \"Topic8\", \"Topic8\", \"Topic8\", \"Topic8\", \"Topic9\", \"Topic9\", \"Topic9\", \"Topic9\", \"Topic9\", \"Topic9\", \"Topic9\", \"Topic9\", \"Topic9\", \"Topic9\", \"Topic9\", \"Topic9\", \"Topic9\", \"Topic9\", \"Topic9\", \"Topic9\", \"Topic9\", \"Topic9\", \"Topic9\", \"Topic9\", \"Topic9\", \"Topic9\", \"Topic9\", \"Topic9\", \"Topic9\", \"Topic9\", \"Topic9\", \"Topic9\", \"Topic9\", \"Topic9\", \"Topic9\", \"Topic9\", \"Topic9\", \"Topic9\", \"Topic9\", \"Topic9\", \"Topic9\", \"Topic9\", \"Topic9\", \"Topic9\", \"Topic9\", \"Topic9\", \"Topic9\", \"Topic9\", \"Topic9\", \"Topic9\", \"Topic9\", \"Topic9\", \"Topic9\", \"Topic9\", \"Topic9\", \"Topic9\", \"Topic9\", \"Topic9\", \"Topic9\", \"Topic9\", \"Topic9\", \"Topic9\", \"Topic9\", \"Topic9\", \"Topic9\", \"Topic9\", \"Topic9\", \"Topic9\", \"Topic9\", \"Topic9\", \"Topic9\", \"Topic9\", \"Topic9\", \"Topic9\", \"Topic9\", \"Topic9\", \"Topic9\", \"Topic10\", \"Topic10\", \"Topic10\", \"Topic10\", \"Topic10\", \"Topic10\", \"Topic10\", \"Topic10\", \"Topic10\", \"Topic10\", \"Topic10\", \"Topic10\", \"Topic10\", \"Topic10\", \"Topic10\", \"Topic10\", \"Topic10\", \"Topic10\", \"Topic10\", \"Topic10\", \"Topic10\", \"Topic10\", \"Topic10\", \"Topic10\", \"Topic10\", \"Topic10\", \"Topic10\", \"Topic10\", \"Topic10\", \"Topic10\", \"Topic10\", \"Topic10\", \"Topic10\", \"Topic10\", \"Topic10\", \"Topic10\", \"Topic10\", \"Topic10\", \"Topic10\", \"Topic10\", \"Topic10\", \"Topic10\", \"Topic10\", \"Topic10\", \"Topic10\", \"Topic10\", \"Topic10\", \"Topic10\", \"Topic10\", \"Topic10\", \"Topic10\", \"Topic10\", \"Topic10\", \"Topic10\", \"Topic10\", \"Topic10\", \"Topic10\", \"Topic10\", \"Topic10\", \"Topic10\", \"Topic10\", \"Topic10\", \"Topic10\", \"Topic10\", \"Topic11\", \"Topic11\", \"Topic11\", \"Topic11\", \"Topic11\", \"Topic11\", \"Topic11\", \"Topic11\", \"Topic11\", \"Topic11\", \"Topic11\", \"Topic11\", \"Topic11\", \"Topic11\", \"Topic11\", \"Topic11\", \"Topic11\", \"Topic11\", \"Topic11\", \"Topic11\", \"Topic11\", \"Topic11\", \"Topic11\", \"Topic11\", \"Topic11\", \"Topic11\", \"Topic11\", \"Topic11\", \"Topic11\", \"Topic11\", \"Topic11\", \"Topic11\", \"Topic11\", \"Topic11\", \"Topic11\", \"Topic11\", \"Topic11\", \"Topic11\", \"Topic11\", \"Topic11\", \"Topic11\", \"Topic11\", \"Topic11\", \"Topic11\", \"Topic11\", \"Topic11\", \"Topic11\", \"Topic11\", \"Topic11\", \"Topic11\", \"Topic11\", \"Topic11\", \"Topic11\", \"Topic11\", \"Topic11\", \"Topic11\", \"Topic12\", \"Topic12\", \"Topic12\", \"Topic12\", \"Topic12\", \"Topic12\", \"Topic12\", \"Topic12\", \"Topic12\", \"Topic12\", \"Topic12\", \"Topic12\", \"Topic12\", \"Topic12\", \"Topic12\", \"Topic12\", \"Topic12\", \"Topic12\", \"Topic12\", \"Topic12\", \"Topic12\", \"Topic12\", \"Topic12\", \"Topic12\", \"Topic12\", \"Topic12\", \"Topic12\", \"Topic12\", \"Topic12\", \"Topic12\", \"Topic12\", \"Topic12\", \"Topic12\", \"Topic12\", \"Topic12\", \"Topic12\", \"Topic12\", \"Topic12\", \"Topic12\", \"Topic12\", \"Topic12\", \"Topic12\", \"Topic12\", \"Topic12\", \"Topic12\", \"Topic12\", \"Topic12\", \"Topic12\", \"Topic12\", \"Topic12\", \"Topic12\", \"Topic12\", \"Topic12\", \"Topic12\", \"Topic12\", \"Topic12\", \"Topic12\", \"Topic12\", \"Topic12\", \"Topic12\", \"Topic12\", \"Topic12\", \"Topic12\", \"Topic12\", \"Topic12\", \"Topic12\", \"Topic12\", \"Topic13\", \"Topic13\", \"Topic13\", \"Topic13\", \"Topic13\", \"Topic13\", \"Topic13\", \"Topic13\", \"Topic13\", \"Topic13\", \"Topic13\", \"Topic13\", \"Topic13\", \"Topic13\", \"Topic13\", \"Topic13\", \"Topic13\", \"Topic13\", \"Topic13\", \"Topic13\", \"Topic13\", \"Topic13\", \"Topic13\", \"Topic13\", \"Topic13\", \"Topic13\", \"Topic13\", \"Topic13\", \"Topic13\", \"Topic13\", \"Topic13\", \"Topic13\", \"Topic13\", \"Topic13\", \"Topic13\", \"Topic13\", \"Topic13\", \"Topic13\", \"Topic13\", \"Topic13\", \"Topic13\", \"Topic13\", \"Topic13\", \"Topic13\", \"Topic13\", \"Topic13\", \"Topic13\", \"Topic13\", \"Topic13\", \"Topic13\", \"Topic13\", \"Topic13\", \"Topic13\", \"Topic13\", \"Topic13\", \"Topic13\", \"Topic13\", \"Topic13\", \"Topic13\", \"Topic13\", \"Topic13\", \"Topic13\", \"Topic13\", \"Topic13\", \"Topic13\", \"Topic13\", \"Topic13\", \"Topic13\", \"Topic13\", \"Topic13\", \"Topic13\", \"Topic13\", \"Topic13\", \"Topic13\", \"Topic14\", \"Topic14\", \"Topic14\", \"Topic14\", \"Topic14\", \"Topic14\", \"Topic14\", \"Topic14\", \"Topic14\", \"Topic14\", \"Topic14\", \"Topic14\", \"Topic14\", \"Topic14\", \"Topic14\", \"Topic14\", \"Topic14\", \"Topic14\", \"Topic14\", \"Topic14\", \"Topic14\", \"Topic14\", \"Topic14\", \"Topic14\", \"Topic14\", \"Topic14\", \"Topic14\", \"Topic14\", \"Topic14\", \"Topic14\", \"Topic14\", \"Topic14\", \"Topic14\", \"Topic14\", \"Topic14\", \"Topic14\", \"Topic14\", \"Topic14\", \"Topic14\", \"Topic14\", \"Topic14\", \"Topic14\", \"Topic14\", \"Topic14\", \"Topic14\", \"Topic14\", \"Topic14\", \"Topic14\", \"Topic14\", \"Topic14\", \"Topic14\", \"Topic14\", \"Topic14\", \"Topic14\", \"Topic14\", \"Topic14\", \"Topic14\", \"Topic14\", \"Topic14\", \"Topic14\", \"Topic14\", \"Topic14\", \"Topic14\", \"Topic14\", \"Topic14\", \"Topic14\", \"Topic15\", \"Topic15\", \"Topic15\", \"Topic15\", \"Topic15\", \"Topic15\", \"Topic15\", \"Topic15\", \"Topic15\", \"Topic15\", \"Topic15\", \"Topic15\", \"Topic15\", \"Topic15\", \"Topic15\", \"Topic15\", \"Topic15\", \"Topic15\", \"Topic15\", \"Topic15\", \"Topic15\", \"Topic15\", \"Topic15\", \"Topic15\", \"Topic15\", \"Topic15\", \"Topic15\", \"Topic15\", \"Topic15\", \"Topic15\", \"Topic15\", \"Topic15\", \"Topic15\", \"Topic15\", \"Topic15\", \"Topic15\", \"Topic15\", \"Topic15\", \"Topic15\", \"Topic15\", \"Topic15\", \"Topic15\", \"Topic15\", \"Topic15\", \"Topic15\", \"Topic15\", \"Topic15\", \"Topic15\", \"Topic15\", \"Topic15\", \"Topic15\", \"Topic15\", \"Topic15\", \"Topic15\", \"Topic15\", \"Topic15\", \"Topic16\", \"Topic16\", \"Topic16\", \"Topic16\", \"Topic16\", \"Topic16\", \"Topic16\", \"Topic16\", \"Topic16\", \"Topic16\", \"Topic16\", \"Topic16\", \"Topic16\", \"Topic16\", \"Topic16\", \"Topic16\", \"Topic16\", \"Topic16\", \"Topic16\", \"Topic16\", \"Topic16\", \"Topic16\", \"Topic16\", \"Topic16\", \"Topic16\", \"Topic16\", \"Topic16\", \"Topic16\", \"Topic16\", \"Topic16\", \"Topic16\", \"Topic16\", \"Topic16\", \"Topic16\", \"Topic16\", \"Topic16\", \"Topic16\", \"Topic16\", \"Topic16\", \"Topic16\", \"Topic16\", \"Topic16\", \"Topic16\", \"Topic16\", \"Topic16\", \"Topic16\", \"Topic16\", \"Topic16\", \"Topic16\", \"Topic16\", \"Topic16\", \"Topic16\", \"Topic16\", \"Topic16\", \"Topic16\", \"Topic16\", \"Topic16\", \"Topic16\", \"Topic16\", \"Topic16\", \"Topic16\", \"Topic16\", \"Topic16\", \"Topic16\", \"Topic16\", \"Topic17\", \"Topic17\", \"Topic17\", \"Topic17\", \"Topic17\", \"Topic17\", \"Topic17\", \"Topic17\", \"Topic17\", \"Topic17\", \"Topic17\", \"Topic17\", \"Topic17\", \"Topic17\", \"Topic17\", \"Topic17\", \"Topic17\", \"Topic17\", \"Topic17\", \"Topic17\", \"Topic17\", \"Topic17\", \"Topic17\", \"Topic17\", \"Topic17\", \"Topic17\", \"Topic17\", \"Topic17\", \"Topic17\", \"Topic17\", \"Topic17\", \"Topic17\", \"Topic17\", \"Topic17\", \"Topic17\", \"Topic17\", \"Topic17\", \"Topic17\", \"Topic17\", \"Topic17\", \"Topic17\", \"Topic17\", \"Topic17\", \"Topic17\", \"Topic17\", \"Topic17\", \"Topic17\", \"Topic17\", \"Topic17\", \"Topic17\", \"Topic17\", \"Topic17\", \"Topic17\", \"Topic18\", \"Topic18\", \"Topic18\", \"Topic18\", \"Topic18\", \"Topic18\", \"Topic18\", \"Topic18\", \"Topic18\", \"Topic18\", \"Topic18\", \"Topic18\", \"Topic18\", \"Topic18\", \"Topic18\", \"Topic18\", \"Topic18\", \"Topic18\", \"Topic18\", \"Topic18\", \"Topic18\", \"Topic18\", \"Topic18\", \"Topic18\", \"Topic18\", \"Topic18\", \"Topic18\", \"Topic18\", \"Topic18\", \"Topic18\", \"Topic18\", \"Topic18\", \"Topic18\", \"Topic18\", \"Topic18\", \"Topic18\", \"Topic18\", \"Topic18\", \"Topic18\", \"Topic18\", \"Topic18\", \"Topic18\", \"Topic18\", \"Topic18\", \"Topic18\", \"Topic18\", \"Topic18\", \"Topic18\", \"Topic18\", \"Topic18\", \"Topic18\", \"Topic18\", \"Topic18\", \"Topic18\", \"Topic18\", \"Topic18\", \"Topic18\", \"Topic18\", \"Topic18\", \"Topic18\", \"Topic18\", \"Topic18\", \"Topic18\", \"Topic19\", \"Topic19\", \"Topic19\", \"Topic19\", \"Topic19\", \"Topic19\", \"Topic19\", \"Topic19\", \"Topic19\", \"Topic19\", \"Topic19\", \"Topic19\", \"Topic19\", \"Topic19\", \"Topic19\", \"Topic19\", \"Topic19\", \"Topic19\", \"Topic19\", \"Topic19\", \"Topic19\", \"Topic19\", \"Topic19\", \"Topic19\", \"Topic19\", \"Topic19\", \"Topic19\", \"Topic19\", \"Topic19\", \"Topic19\", \"Topic19\", \"Topic19\", \"Topic19\", \"Topic19\", \"Topic19\", \"Topic19\", \"Topic19\", \"Topic19\", \"Topic19\", \"Topic19\", \"Topic19\", \"Topic19\", \"Topic19\", \"Topic19\", \"Topic19\", \"Topic19\", \"Topic19\", \"Topic19\", \"Topic19\", \"Topic19\", \"Topic19\", \"Topic19\", \"Topic19\", \"Topic19\", \"Topic19\", \"Topic20\", \"Topic20\", \"Topic20\", \"Topic20\", \"Topic20\", \"Topic20\", \"Topic20\", \"Topic20\", \"Topic20\", \"Topic20\", \"Topic20\", \"Topic20\", \"Topic20\", \"Topic20\", \"Topic20\", \"Topic20\", \"Topic20\", \"Topic20\", \"Topic20\", \"Topic20\", \"Topic20\", \"Topic20\", \"Topic20\", \"Topic20\", \"Topic20\", \"Topic20\", \"Topic20\", \"Topic20\", \"Topic20\", \"Topic20\", \"Topic20\", \"Topic20\", \"Topic20\", \"Topic20\", \"Topic20\", \"Topic20\", \"Topic20\", \"Topic20\", \"Topic20\", \"Topic20\", \"Topic20\", \"Topic20\", \"Topic20\", \"Topic20\", \"Topic20\", \"Topic20\", \"Topic20\", \"Topic20\", \"Topic20\", \"Topic20\", \"Topic20\", \"Topic20\", \"Topic20\", \"Topic20\", \"Topic20\", \"Topic20\"], \"loglift\": [30.0, 29.0, 28.0, 27.0, 26.0, 25.0, 24.0, 23.0, 22.0, 21.0, 20.0, 19.0, 18.0, 17.0, 16.0, 15.0, 14.0, 13.0, 12.0, 11.0, 10.0, 9.0, 8.0, 7.0, 6.0, 5.0, 4.0, 3.0, 2.0, 1.0, 2.1104, 2.1103, 2.11, 2.11, 2.1099, 2.1094, 2.1089, 2.1089, 2.1086, 2.1083, 2.1081, 2.1071, 2.1071, 2.1069, 2.1065, 2.1062, 2.1062, 2.106, 2.1052, 2.1052, 2.1052, 2.1051, 2.1051, 2.1051, 2.1046, 2.1043, 2.1042, 2.1041, 2.104, 2.1039, 2.0475, 2.0919, 2.0152, 2.0084, 1.9629, 1.946, 1.9798, 2.0566, 2.002, 2.014, 1.9601, 2.0098, 1.8956, 2.0252, 1.9524, 1.9538, 1.8197, 1.7949, 1.9138, 1.8861, 1.8725, 1.877, 1.8097, 1.8074, 1.8727, 1.6994, 1.8525, 1.8212, 1.7488, 1.8889, 1.6486, 1.6837, 1.4533, 1.5022, 1.3909, 1.4014, 1.2046, 1.164, 1.342, 1.3197, 1.3492, 1.4104, 1.1767, 1.5756, 1.0679, 1.126, 2.392, 2.3918, 2.3918, 2.3914, 2.3909, 2.3909, 2.3906, 2.3902, 2.3898, 2.3897, 2.3897, 2.3895, 2.3895, 2.3893, 2.3893, 2.389, 2.389, 2.3889, 2.3887, 2.3887, 2.3887, 2.3886, 2.3886, 2.3886, 2.3884, 2.3881, 2.3878, 2.3877, 2.3875, 2.3875, 2.3488, 2.3204, 2.1261, 2.1794, 2.2912, 2.0859, 2.2132, 2.2418, 2.1912, 1.7969, 2.0819, 1.9127, 2.1536, 2.2285, 1.5948, 1.9674, 2.0537, 1.8542, 1.9151, 2.025, 2.0621, 1.9329, 1.5697, 1.8991, 1.3112, 1.7223, 1.6325, 1.5978, 1.7982, 1.4791, 1.5774, 1.5441, 1.1823, 1.7877, 1.4057, 1.0932, 0.935, 1.0709, 1.5394, 1.1357, 1.0642, 1.153, 1.0695, 1.3587, 2.5845, 2.5833, 2.583, 2.5828, 2.5826, 2.5825, 2.5819, 2.5818, 2.5818, 2.5818, 2.5818, 2.5817, 2.5817, 2.5815, 2.5814, 2.5811, 2.581, 2.5809, 2.5808, 2.5807, 2.5803, 2.5802, 2.5802, 2.5802, 2.58, 2.5799, 2.5796, 2.5796, 2.5796, 2.5796, 2.543, 2.5608, 2.5434, 2.5507, 2.2656, 2.4338, 2.4795, 2.3649, 2.3208, 2.3974, 2.188, 2.2314, 1.981, 1.9324, 2.0305, 2.0058, 2.2303, 2.0302, 2.0978, 1.8513, 2.2543, 2.2839, 2.0773, 1.4798, 2.2331, 1.5866, 1.3623, 2.1735, 1.6348, 1.807, 1.114, 0.8762, 1.2213, 1.5676, 1.6813, 0.8503, 1.2159, 0.7057, 1.2366, 0.6098, 0.7965, 1.0298, 0.8723, 0.2571, 2.6879, 2.6877, 2.6876, 2.6873, 2.6873, 2.6872, 2.6867, 2.6867, 2.6866, 2.6863, 2.6863, 2.6862, 2.6859, 2.6858, 2.6856, 2.6855, 2.6855, 2.6855, 2.6853, 2.6852, 2.6849, 2.6849, 2.6846, 2.6842, 2.6841, 2.6838, 2.6838, 2.6836, 2.6836, 2.6835, 2.6811, 2.68, 2.6572, 2.6665, 2.6648, 2.662, 2.5971, 2.5054, 2.5885, 2.6455, 2.3218, 2.434, 2.5009, 2.3671, 2.5366, 2.3868, 2.3122, 2.4115, 2.1932, 1.6639, 1.6287, 1.9983, 1.6046, 1.7895, 2.0906, 2.1367, 2.2152, 1.6384, 1.8848, 1.4207, 1.9615, 2.6978, 2.6973, 2.6967, 2.6967, 2.6962, 2.6958, 2.6952, 2.6946, 2.6945, 2.6944, 2.6935, 2.6932, 2.693, 2.6929, 2.6929, 2.6924, 2.6919, 2.6919, 2.6916, 2.6915, 2.6913, 2.691, 2.6909, 2.6908, 2.6902, 2.6901, 2.6901, 2.69, 2.6899, 2.6898, 2.684, 2.6777, 2.6637, 2.6364, 2.5912, 2.6124, 2.513, 2.4424, 2.6149, 2.5448, 2.5798, 2.4198, 2.2696, 2.4945, 2.5186, 2.3271, 2.4878, 2.2419, 2.3451, 1.9083, 2.1002, 2.3449, 1.753, 1.8594, 2.1764, 1.589, 2.2704, 1.7499, 1.8517, 1.6034, 1.5069, 1.8761, 1.1284, 1.7416, 1.2504, 1.3326, 1.318, 1.8497, 1.4323, 1.2889, 1.0296, 0.7572, 0.6428, 0.659, 0.5593, 0.3523, 0.8302, 2.7968, 2.7964, 2.7963, 2.7962, 2.7958, 2.7957, 2.7954, 2.7951, 2.7944, 2.7942, 2.7939, 2.7936, 2.7933, 2.793, 2.7925, 2.7924, 2.7924, 2.792, 2.7918, 2.7916, 2.7914, 2.7913, 2.7912, 2.7911, 2.791, 2.791, 2.7907, 2.7907, 2.7905, 2.7903, 2.7873, 2.7068, 2.5933, 2.6848, 2.5752, 2.6356, 2.7028, 2.2013, 2.4418, 2.626, 2.4797, 2.2621, 2.5797, 2.2937, 2.3961, 2.4642, 2.4593, 2.0517, 1.9729, 1.767, 1.9817, 2.1221, 1.8163, 1.8851, 1.1682, 1.1121, 1.7455, 2.0885, 1.8876, 1.6954, 1.4259, 0.8745, 1.3372, 0.9313, 1.333, 1.4032, 0.8356, 0.4664, 0.7161, 0.9345, 1.3753, 2.8083, 2.8079, 2.8078, 2.8074, 2.8072, 2.8068, 2.8068, 2.8066, 2.8063, 2.8063, 2.8063, 2.806, 2.806, 2.806, 2.8059, 2.8059, 2.8058, 2.8056, 2.8056, 2.8055, 2.8052, 2.8049, 2.8048, 2.8047, 2.8046, 2.8046, 2.8045, 2.8044, 2.8043, 2.8043, 2.7731, 2.7511, 2.6173, 2.4776, 2.6553, 2.4114, 2.0856, 1.4644, 2.4005, 2.4316, 1.6032, 1.7831, 2.2425, 2.1599, 2.1458, 2.3793, 1.6557, 2.0487, 1.9363, 2.4366, 1.9346, 0.8145, 1.5903, 1.2724, 1.5541, 0.8626, 1.438, 0.6832, 0.7007, 1.1282, 0.6589, 0.355, 0.7416, 0.7052, 0.856, 0.2292, 2.8732, 2.8731, 2.8729, 2.8723, 2.872, 2.872, 2.872, 2.8719, 2.8716, 2.8716, 2.8716, 2.8715, 2.8714, 2.8714, 2.8713, 2.8713, 2.8708, 2.8707, 2.8706, 2.8706, 2.8705, 2.8704, 2.8704, 2.8703, 2.8702, 2.8701, 2.8701, 2.8699, 2.8697, 2.8697, 2.8391, 2.6647, 2.7023, 2.7143, 2.6036, 2.6979, 2.5919, 2.7889, 2.8097, 2.3722, 2.3732, 2.7136, 2.6475, 2.1714, 2.5145, 2.4322, 2.0279, 2.1548, 1.9059, 2.1283, 2.5289, 0.812, 0.9876, 1.6793, 0.9812, 1.2679, 1.0268, 0.726, 1.1002, 0.2308, 0.5872, 0.6872, 0.4234, 2.9502, 2.9491, 2.9486, 2.9485, 2.9476, 2.9474, 2.9473, 2.9473, 2.9469, 2.9469, 2.9469, 2.9468, 2.9467, 2.9466, 2.9464, 2.9463, 2.9457, 2.9452, 2.9448, 2.9447, 2.9446, 2.9439, 2.9439, 2.9438, 2.9437, 2.9435, 2.9434, 2.943, 2.9427, 2.9426, 2.8964, 2.9178, 2.8325, 2.7849, 2.755, 2.664, 2.7518, 2.752, 2.8897, 2.6753, 2.7722, 2.9057, 2.6153, 2.8856, 2.5768, 2.555, 2.6325, 2.3717, 2.815, 2.358, 2.451, 2.164, 2.4716, 2.6612, 2.1307, 2.1681, 1.9825, 2.4814, 1.8481, 2.1743, 2.3591, 1.9083, 2.2091, 2.0413, 2.2759, 1.9098, 1.8212, 2.2403, 2.1005, 1.3173, 0.9499, 1.3517, 1.3803, 2.9877, 2.9877, 2.9875, 2.9873, 2.987, 2.987, 2.985, 2.9843, 2.9832, 2.9832, 2.983, 2.9826, 2.9825, 2.982, 2.9813, 2.9813, 2.9808, 2.9805, 2.9805, 2.9802, 2.9797, 2.9789, 2.9783, 2.9779, 2.9777, 2.9776, 2.9773, 2.9772, 2.9767, 2.9767, 2.9598, 2.9396, 2.9391, 2.9311, 2.9346, 2.8496, 2.8706, 2.7739, 2.7152, 2.9097, 2.6219, 2.5897, 2.418, 2.5027, 2.4287, 2.5782, 2.404, 2.6, 2.6616, 2.5759, 2.5717, 2.4119, 2.1772, 1.9272, 1.9358, 1.9945, 2.3869, 1.9287, 1.5959, 1.2471, 2.262, 1.5692, 1.9665, 1.0261, 3.0663, 3.0663, 3.0662, 3.0658, 3.0654, 3.0653, 3.0652, 3.065, 3.0647, 3.0647, 3.0646, 3.0644, 3.0639, 3.0637, 3.0632, 3.0632, 3.063, 3.063, 3.0628, 3.0627, 3.0626, 3.0625, 3.0621, 3.0615, 3.0615, 3.0606, 3.0605, 3.0605, 3.0603, 3.0599, 3.0411, 3.0131, 2.9836, 2.9269, 2.6775, 2.8478, 2.8005, 2.5772, 2.4925, 2.3963, 2.3106, 2.5991, 2.5528, 2.871, 2.348, 2.5754, 2.2577, 2.1297, 2.5277, 2.569, 1.7506, 1.9811, 1.6391, 2.3363, 0.9436, 0.9383, 3.1812, 3.181, 3.1808, 3.1804, 3.1802, 3.1799, 3.1795, 3.1791, 3.1785, 3.1783, 3.1779, 3.1777, 3.1776, 3.1772, 3.1772, 3.1771, 3.177, 3.1767, 3.1767, 3.1763, 3.1761, 3.1759, 3.1758, 3.1756, 3.1755, 3.1752, 3.1751, 3.175, 3.1748, 3.1745, 3.1714, 3.1301, 3.1405, 3.0767, 3.1299, 3.1576, 2.9973, 2.8291, 2.9934, 2.9466, 3.0296, 2.792, 2.8316, 2.3697, 2.908, 2.4644, 2.6378, 2.9935, 2.3267, 2.6214, 2.7512, 2.4197, 2.1066, 2.7197, 1.8266, 2.0199, 2.2634, 2.1646, 1.7876, 2.3227, 2.0942, 2.3185, 1.3763, 1.7915, 2.1684, 1.2791, 1.0636, 3.2607, 3.2602, 3.2598, 3.2593, 3.2592, 3.2591, 3.2585, 3.2582, 3.258, 3.2579, 3.2577, 3.2576, 3.2572, 3.2571, 3.2567, 3.2564, 3.2561, 3.256, 3.2556, 3.2556, 3.2553, 3.2551, 3.255, 3.2549, 3.2549, 3.2549, 3.2546, 3.2543, 3.2542, 3.2542, 3.234, 3.0574, 3.2173, 2.9509, 3.0222, 3.1698, 3.0168, 3.1395, 3.031, 3.097, 3.1478, 3.0746, 3.0952, 2.94, 2.7082, 2.9505, 2.811, 2.7954, 2.2581, 2.622, 2.684, 2.611, 2.704, 2.6398, 2.9443, 2.2922, 1.9485, 2.1032, 1.9454, 2.7711, 2.1574, 1.8116, 2.6991, 2.0337, 2.0801, 1.8524, 1.9347, 1.4033, 1.5253, 2.0748, 1.8529, 0.9474, 0.721, 0.7061, 3.3541, 3.3538, 3.3537, 3.3536, 3.3535, 3.3529, 3.3528, 3.3527, 3.3525, 3.3524, 3.3524, 3.3522, 3.3521, 3.3518, 3.3515, 3.3513, 3.3512, 3.3509, 3.3508, 3.3505, 3.3504, 3.3502, 3.3502, 3.35, 3.3499, 3.3496, 3.3494, 3.3494, 3.3492, 3.3492, 3.325, 3.2146, 3.2128, 3.2194, 3.2987, 3.2235, 3.1865, 3.0965, 3.1617, 3.1245, 3.0372, 2.9311, 2.834, 2.3786, 2.5013, 2.6121, 2.6883, 2.4287, 2.4635, 2.1971, 2.0489, 2.0577, 2.889, 2.1309, 2.4107, 1.123, 1.7631, 1.8497, 2.094, 1.1861, 1.1418, 0.9122, 1.1295, 1.116, 1.5222, 1.1485, 3.426, 3.4259, 3.4258, 3.4258, 3.4255, 3.4251, 3.425, 3.425, 3.425, 3.424, 3.4239, 3.4233, 3.4232, 3.4231, 3.423, 3.4228, 3.4224, 3.4216, 3.4216, 3.4212, 3.4206, 3.4194, 3.418, 3.4161, 3.4161, 3.4161, 3.4157, 3.4155, 3.4155, 3.4154, 3.3924, 3.4089, 3.3842, 3.3829, 3.388, 3.3546, 3.3274, 3.3275, 3.1939, 3.2602, 3.2862, 3.3143, 3.1162, 3.0784, 2.7242, 2.9891, 2.9607, 2.4648, 3.2047, 2.4376, 2.3852, 2.8011, 2.226, 2.1971, 2.3604, 1.6775, 3.6564, 3.656, 3.656, 3.6558, 3.6546, 3.6539, 3.6536, 3.6535, 3.6535, 3.652, 3.652, 3.6519, 3.6517, 3.6516, 3.6511, 3.6508, 3.6507, 3.6505, 3.6501, 3.65, 3.6495, 3.6494, 3.6493, 3.6491, 3.649, 3.6489, 3.6487, 3.6485, 3.6483, 3.6482, 3.401, 3.2723, 3.2317, 3.5926, 3.3345, 3.4416, 3.2507, 3.4117, 3.2754, 2.8725, 3.3342, 3.1435, 3.1741, 2.2251, 3.0205, 3.2827, 3.2943, 2.6803, 2.5161, 2.8711, 3.1799, 3.0462, 2.8517, 2.4924, 2.4961, 2.2981, 2.0921, 2.5633, 2.4771, 2.4368, 1.1319, 1.4125, 2.2172, 0.9129, 0.7961, 3.6854, 3.6853, 3.6852, 3.6852, 3.6852, 3.6852, 3.6833, 3.683, 3.6813, 3.6806, 3.6799, 3.6796, 3.6795, 3.6789, 3.6781, 3.6773, 3.677, 3.6767, 3.6767, 3.6764, 3.6761, 3.676, 3.6754, 3.6753, 3.6752, 3.6751, 3.6747, 3.6744, 3.6742, 3.6741, 3.5995, 3.5466, 3.5009, 3.3285, 3.3189, 3.2356, 3.1221, 3.6237, 3.4648, 3.379, 1.5884, 3.3076, 1.235, 0.773, 0.6721, 2.2206, -0.0063, 1.5634, 0.7439, 0.5046, 0.3233, -0.154, 0.5927, 3.7571, 3.7565, 3.7565, 3.7564, 3.756, 3.7559, 3.7559, 3.7557, 3.7554, 3.7552, 3.7552, 3.7551, 3.755, 3.7549, 3.7548, 3.7546, 3.7545, 3.7542, 3.754, 3.7538, 3.7537, 3.7533, 3.7533, 3.7531, 3.753, 3.753, 3.753, 3.7522, 3.7521, 3.7515, 3.6977, 3.7023, 3.5792, 3.4063, 3.4187, 3.5164, 3.4541, 3.3855, 3.5919, 3.6663, 3.672, 2.8109, 3.3042, 2.9169, 2.537, 2.7543, 2.8954, 2.8742, 2.0632, 2.9844, 1.9481, 1.6482, 1.8184, 2.1635, 1.86, 2.0472, 1.2916, 2.137, 2.0435, 1.4579, 2.1696, 1.5033, 2.4347, 4.1831, 4.1828, 4.1827, 4.1827, 4.1823, 4.1822, 4.1818, 4.1818, 4.1816, 4.1815, 4.1814, 4.1807, 4.1804, 4.1803, 4.18, 4.18, 4.1799, 4.1796, 4.1795, 4.1793, 4.1791, 4.1789, 4.1786, 4.1785, 4.1784, 4.1784, 4.1783, 4.1781, 4.1781, 4.1781, 4.1569, 4.1309, 4.115, 4.1046, 3.9645, 3.81, 4.054, 3.9867, 3.9819, 3.9472, 4.0679, 3.6279, 3.5227, 3.8638, 3.05, 3.2922, 2.5136, 3.8048, 2.1003, 2.5382, 3.5809, 1.5217, 3.3683, 1.8607, 2.3131, 4.3192, 4.3177, 4.3176, 4.3176, 4.3169, 4.3168, 4.3163, 4.3162, 4.3161, 4.3157, 4.3153, 4.3149, 4.3149, 4.3148, 4.3147, 4.3144, 4.3139, 4.3138, 4.3136, 4.3135, 4.3134, 4.3133, 4.3132, 4.3131, 4.313, 4.313, 4.3129, 4.3129, 4.3124, 4.3124, 4.2266, 4.1392, 4.1955, 3.98, 3.8073, 4.0214, 4.0139, 3.4016, 4.0362, 3.8483, 3.8275, 4.1613, 3.6512, 3.8155, 3.2762, 2.8873, 4.0158, 3.3252, 2.6316, 2.8054, 3.5289, 2.4656, 1.1898, 2.7173, 2.9694, 2.6465], \"Total\": [10889.0, 11075.0, 8135.0, 10440.0, 11285.0, 9108.0, 7414.0, 7115.0, 9397.0, 9653.0, 7742.0, 6182.0, 9999.0, 6629.0, 7272.0, 9974.0, 6249.0, 9087.0, 10207.0, 8027.0, 6967.0, 8152.0, 5163.0, 9676.0, 8412.0, 6200.0, 9161.0, 6032.0, 3610.0, 6396.0, 1510.9430937329014, 1321.2720213982077, 902.9778351258296, 892.1534446529131, 846.6908329620209, 596.2269121052196, 452.4528412288079, 449.7500402024323, 389.48308492383615, 339.8477516866418, 324.7029273772657, 241.02514261989927, 239.77806865811237, 228.58828315256503, 206.72194912242898, 196.38334978667032, 194.96456244320754, 189.69837686887405, 162.70111689945062, 161.21851579460986, 161.1111792514969, 160.0330096730536, 159.96603551773825, 158.76548663420917, 147.8086429824353, 139.83356008378067, 139.26581451631685, 137.35644005970582, 134.17214991273377, 132.67640475883584, 7380.338244909435, 346.5311690898044, 3459.4330151746285, 2657.724302513574, 7614.780449202524, 9676.932511900606, 4100.889205577982, 550.1843431138894, 2091.309806243025, 1148.7318682271489, 3235.8212244420006, 1195.2800256863356, 10897.699433725424, 833.802529473377, 1678.15893249575, 1633.1939329542784, 6990.435084319383, 9100.714697178015, 2318.2768617501088, 3002.8720741884717, 2862.179848447523, 2610.052240191909, 4548.931862961235, 3862.6503582113223, 2384.132706148636, 7351.878975991656, 2611.5268182145946, 2841.1510244493033, 3704.332932271388, 1974.3000610967197, 5146.664380449963, 4329.577190094707, 8904.840344816426, 6578.492946144436, 8750.327660695802, 6751.30085781985, 10804.340095720563, 10232.232915326924, 6944.571025617848, 7101.17266613089, 5759.4220228369495, 4966.875323625904, 6706.2195051124745, 3898.933037342052, 7384.454436300024, 6396.40368396435, 1368.6723980344677, 1052.6100663953034, 1041.8465164873157, 766.1640289902854, 548.3392446488, 545.6163554030957, 451.47518914540433, 390.34197695343295, 332.7254651030245, 321.55765011892663, 319.5082522913057, 300.4008956240963, 295.8590351582527, 281.2911618217419, 280.8491030481407, 260.02503128347684, 254.81355245334066, 252.5598911920161, 241.27421755365717, 241.22250590411934, 236.93448935745636, 235.60028440896878, 234.2889862631687, 232.18066200620171, 224.08070769433542, 205.36606322656326, 193.3545199132459, 192.1721727667628, 184.44318595453697, 183.87786397734766, 533.564441391535, 480.3382666562521, 4244.273373546834, 2303.490866069993, 527.4795498626431, 2803.6837570233133, 832.3750284959129, 638.2320510164827, 811.4181382767985, 9161.558050551374, 1511.2500886337234, 2879.0183862179674, 764.4462906557507, 532.2009871766405, 8547.59843162322, 1683.4571341908168, 1146.876802694386, 2509.4235654352215, 1797.9150784851245, 1178.3179411084604, 977.6849487640314, 1393.1961646885609, 4324.298564941747, 1479.1437198639308, 5230.843135718337, 1977.8907346600768, 2420.7670071411267, 2527.2320101976093, 1644.595708322424, 3229.4675019102087, 2593.9404258571326, 2702.6412963770385, 5297.928303221377, 1654.0341721741904, 3114.4562617369866, 4916.121566692044, 6200.201436397506, 4807.764627009092, 2404.0082822595336, 4215.824055322861, 4588.083260257525, 3967.7129524012435, 4329.775078460998, 2925.42251097096, 2190.1656261712, 579.3034642190509, 486.587465463746, 457.30784956050286, 414.99898352569346, 399.3727955404654, 311.1676228807508, 309.0472814236837, 308.61571162771, 303.6405228389025, 302.0576468525052, 295.8768066387965, 292.1504971665777, 281.0406712349239, 268.33658208380206, 246.57326112266603, 241.91912497592767, 237.01700547668688, 229.78278973240015, 223.63564731297404, 206.97948865373775, 203.60291663998967, 202.21228516983047, 199.73265396344482, 193.17808611796428, 191.36365124130583, 180.4668633237859, 179.44943661316398, 179.13035805734611, 177.90169254902534, 957.9347016650015, 339.82236432560063, 551.7596193949353, 418.7011458404579, 4485.099888215551, 769.3582354952918, 477.50365757667544, 994.1065592567862, 1284.3634333831467, 735.4929443349839, 2135.3919268084646, 1636.796940976637, 4588.083260257525, 5133.921622153238, 3209.239482592866, 3407.1837307985406, 1239.286329542882, 2811.720089926069, 1872.5070541115026, 3967.7129524012435, 947.3427333510191, 841.0655746097963, 1650.8453621528288, 10207.07447014633, 865.5332612629095, 4644.816633932606, 6967.9380483489695, 1000.2414141636698, 2855.913530646399, 1900.580074698609, 5942.637524376986, 8547.59843162322, 4807.764627009092, 2684.0372577081785, 2226.8489602809295, 7962.857220638889, 4113.091494227439, 8116.8209485119105, 3859.0636780794193, 8875.13448366358, 6361.729840715535, 4808.4250358015315, 5233.771575126043, 9974.97746330932, 3123.162296777345, 2019.806451043808, 1508.7158620431485, 1130.6667464124525, 1077.8927410470706, 947.7092896158459, 651.7171470294369, 640.9389646083309, 605.5726576293566, 510.56412440517425, 510.3971029160054, 471.85795717504016, 408.73916467993854, 395.4605105478029, 370.48059461610893, 360.5345714164371, 357.76735042649227, 354.12542088143516, 325.16032597218884, 322.5968139385462, 290.3542951653415, 288.65867506798116, 263.7897770134784, 236.62707805040492, 233.66727355307444, 217.15601287463392, 216.52108489237662, 207.14053099151758, 207.0245686319939, 202.03291936264682, 2709.933762712393, 1505.3409554233212, 7272.077717860763, 1458.9710490901741, 1009.0911394550177, 678.248881813029, 5057.47213834235, 8027.277364177233, 1747.9140842925665, 535.8660824101323, 8152.456053230172, 2489.234396734813, 1220.2398520463755, 2914.966731698111, 920.5329052210786, 1740.009465166148, 2349.1318013930163, 1269.0570313890712, 2190.7038474105775, 9999.480971446126, 10889.482795546379, 3721.599363383105, 9974.97746330932, 5595.7329387554355, 2518.1593663215444, 2132.8945770598784, 1775.3076093656757, 4807.764627009092, 2828.7811757168765, 5233.771575126043, 2513.182772864228, 1996.2540452248988, 957.7751790181111, 628.0129815638021, 612.9758564884977, 467.93653681475763, 393.8380204984154, 314.6639458078529, 257.56288815910693, 253.56825981112698, 247.39024769111134, 198.4695680864925, 190.14693594202788, 180.2415947158358, 178.3139427542603, 176.83001445040685, 161.57818875807743, 149.7888508340982, 149.1541977449313, 143.88126431889307, 140.23303899043177, 136.2422587634218, 131.1014577914928, 129.05466190324256, 127.77346232390394, 118.08125915715715, 117.00602518780285, 116.63347406479572, 115.186606021459, 114.39578969548106, 113.02334827124221, 478.64574450406525, 485.2658632782105, 740.2792294261734, 513.5113205551569, 1117.6445111093578, 451.9364970869196, 1154.141667311533, 2295.2436901966717, 318.4873444200519, 682.901359089572, 422.40564330489855, 1629.8743038669086, 5433.346461026837, 809.1140681736625, 633.2098175929627, 1468.9198653350413, 558.2931295985763, 1801.7526708109165, 1037.0321282855782, 6396.40368396435, 2631.269542166642, 855.3002691172954, 6470.838037591223, 4476.1246282863185, 1430.2897722520586, 7962.857220638889, 1034.6134276845974, 3829.333679635438, 2527.2320101976093, 4294.241733437478, 4971.513922035902, 2310.4159278015263, 9653.418387726591, 2925.42251097096, 7101.17266613089, 5998.878828953773, 5344.498550537648, 2166.1175029406836, 3894.0253524812024, 4329.577190094707, 5759.4220228369495, 8116.8209485119105, 8904.840344816426, 8547.59843162322, 8750.327660695802, 10804.340095720563, 6578.492946144436, 2325.3767300306454, 1099.4195602404552, 1035.1131780818957, 905.3183003629974, 645.1922667149855, 613.9478912021054, 515.6090280126584, 444.8699625735991, 334.75442857523547, 308.3254952651579, 280.9564741947668, 259.17772777719205, 243.03248900915366, 225.91372014431872, 198.66818236409046, 196.02382806185867, 194.788164102347, 181.02996508428987, 173.25145165748202, 166.9337851563915, 162.24991731902873, 160.55353851996335, 155.90023001591666, 154.89166587858753, 152.74147402260198, 152.4687214270947, 145.39232517116494, 145.3020156892199, 140.3642955765079, 137.18607643707642, 797.9703575004132, 870.3284717096133, 2654.5154125132026, 512.6435848184165, 857.5597677370793, 530.4518339678032, 293.2255471049341, 9974.97746330932, 1744.7383375226198, 494.5386539553567, 1046.515502917862, 2621.7269920124186, 503.01614582489645, 1543.5157356358418, 957.2937476733608, 695.8280414940446, 706.0500821136958, 2951.599054348267, 3734.354018355391, 5841.981733725327, 2785.7664966616, 1593.3098986368386, 3333.935576317263, 2492.3675202821873, 9999.480971446126, 9037.370979836365, 2733.056702611916, 1412.0711401702433, 2019.2684125626265, 2828.7811757168765, 4466.509431588066, 10232.232915326924, 4523.356107546828, 8116.8209485119105, 4485.099888215551, 3761.1430544895097, 7384.454436300024, 10440.052218092918, 6944.571025617848, 5297.928303221377, 3379.3922891581433, 724.4119792357553, 550.650252572723, 508.62246504519817, 428.7976697373212, 389.77818491366787, 338.1583978798676, 335.23993658204625, 318.1532068788674, 288.95469822237993, 283.4771064544257, 281.8331184085983, 263.40118364314617, 261.03887090587983, 259.2508413318414, 252.48818061906834, 252.35915031730286, 247.82771054403332, 237.19218441451676, 234.81703740623735, 229.87430929751116, 213.592998914485, 200.56766750290444, 197.10714275296922, 194.34462494061108, 190.88931592372654, 187.877360210444, 184.07225101613693, 182.17279357128174, 178.4481804650054, 178.40684634127837, 718.0186164769104, 381.1514246392082, 483.53938057478985, 737.793808010116, 336.42139677173697, 690.4953774167674, 1615.2817174709396, 9037.370979836365, 604.0329915450917, 538.2858468978109, 3943.3754554466936, 2555.213581625429, 813.9174956465409, 931.3136038049231, 906.5118921203865, 573.9520825204598, 2250.9541796493313, 1059.8824780500283, 1263.282408468867, 493.40249391671597, 1118.8660759017712, 6751.30085781985, 1925.579246246272, 3042.5286804260777, 1934.1433466850008, 4539.779821577906, 2068.288365703168, 5146.664380449963, 4966.875323625904, 2801.1853624876812, 4916.121566692044, 6198.941913808297, 3933.9111319722056, 4083.63805987613, 3406.5954477923915, 6317.5491802846445, 1735.861317208113, 1387.8286120719583, 1048.7520180265924, 654.1231784615175, 537.1415492222937, 534.6182791444073, 526.3095473460013, 511.70579015468905, 431.21820933820356, 424.0267199147316, 422.5547984079891, 405.2690335890586, 395.6415852921879, 391.2479295890535, 372.67644633785926, 372.0806445750325, 320.79957273715274, 309.51861758075046, 294.4903450021551, 292.03805231775675, 289.51439850682453, 281.5374572634453, 280.2738475198436, 268.81700558161515, 260.2271879162875, 256.81586374100226, 253.66612580175143, 242.66587138810576, 233.03529420453827, 232.4409666676179, 661.8819218724074, 2076.8009145874757, 1191.4152462921065, 975.820066597461, 1586.4684899293009, 766.5010362066843, 1230.8976290812682, 396.915093270288, 357.2941746486762, 1765.3200935433442, 1551.612969878951, 488.0944736253037, 595.2649272840928, 2574.866896401239, 798.8441608659571, 978.9663050956723, 2228.6017772261857, 1658.4184487823147, 2555.170730521696, 1627.492907306704, 692.0953611036598, 9037.370979836365, 6198.941913808297, 2191.1449274784422, 5652.280374947215, 3810.200786075978, 4916.121566692044, 6706.2195051124745, 4244.273373546834, 10804.340095720563, 6990.435084319383, 6182.320522633339, 8152.456053230172, 383.49350544267577, 261.9430587644912, 232.46371193860745, 225.45936825597443, 184.89797089965248, 179.14107852880554, 176.77655981844012, 175.3805323600302, 164.16173721294984, 163.3862601116158, 163.0477886908984, 161.03786967182785, 158.01501361936147, 155.21753361130786, 150.040490137032, 149.31536862858974, 136.03253247687087, 125.99660644743335, 119.99568123450177, 118.18272877413135, 117.73318794195471, 108.05296809055507, 107.573189876566, 106.36801267727785, 105.82293605017804, 102.80439431974118, 102.035079303868, 97.63892193200527, 94.86386157281832, 94.3785233747102, 1882.6468898781056, 511.2094957415988, 2922.4848674963328, 1818.466798831352, 2382.844025047106, 9653.418387726591, 2210.525914078377, 1832.5177834594128, 252.02555525229985, 3853.561120911064, 1135.7922837013546, 189.00992699529476, 4379.122349710891, 230.4504586788758, 2022.5666213036457, 1713.4972996698307, 1036.6752421730016, 4022.247921062401, 330.0005770560142, 3829.333679635438, 1986.334127568726, 5527.416624740518, 1238.6627095034103, 557.1606255745537, 3985.151739441882, 3457.949161374598, 6867.7357433593115, 1056.0782417507207, 10232.232915326924, 3057.7714406269392, 1607.7979782641637, 6799.091660017456, 2487.471581674548, 3859.0636780794193, 1814.658067645011, 4506.55503183092, 4294.241733437478, 1869.9507065728146, 2269.710595041713, 6671.000002964386, 8904.840344816426, 5262.223112131439, 4971.513922035902, 1526.3162539780685, 1500.9241940671313, 1230.6746646462202, 919.2073442189997, 740.9135112312517, 722.3934480167165, 287.0821949046333, 239.00883615531814, 187.34549413241425, 186.444027267245, 177.56613928118188, 165.8504005585706, 163.23299938541433, 149.51380263239773, 135.41649986625868, 135.21268110589298, 126.72219555471128, 121.03904993671247, 120.76916521497503, 116.90728574143107, 110.39966293905064, 101.29044748524673, 94.65242201901121, 91.25027997646121, 89.33945558728526, 88.44894268864239, 86.14012597196474, 85.28771551422076, 82.19659748505896, 82.02195746633461, 5163.048771574962, 11075.399755332448, 569.2360783993697, 560.3481635596006, 398.03066838366317, 5190.708349398662, 1001.0973830032332, 2975.779357704163, 6032.221672942831, 304.5533075248689, 4215.824055322861, 5062.531240885327, 8412.343189943122, 4121.226725540403, 6361.729840715535, 2316.0742803920407, 6396.881772597776, 1391.1228669707298, 948.6218002786895, 1240.6616895924362, 1264.2893233316845, 2223.672151039598, 4437.451820093333, 10804.340095720563, 8875.13448366358, 6526.22294265567, 1748.1627032019064, 4161.015701409703, 6470.838037591223, 7101.17266613089, 1808.721607704063, 4195.798348714892, 2509.4235654352215, 6944.571025617848, 3956.2202631374853, 3864.668810036107, 3119.8025141393605, 1363.0406762430257, 820.8669013965065, 800.2299851168178, 705.6601963697708, 623.8066948626981, 532.5918691918286, 532.408677153282, 502.9209667169411, 440.36645632423347, 367.6311120063407, 337.78434393586116, 283.75871026209035, 281.6824494066059, 269.9319298607598, 266.50798671127734, 257.2824149327283, 244.75310848193118, 242.88739921382165, 235.4381265213896, 215.55052186483843, 187.55097382181197, 186.81459732660326, 160.6246846085822, 157.3583461078129, 156.83365264988143, 153.162497309827, 142.9971410381998, 970.3546474932822, 2341.223372858058, 804.1482080613674, 2486.2572665200214, 6200.201436397506, 1189.120055714987, 1582.315265084228, 4523.356107546828, 4329.775078460998, 5230.843135718337, 5841.981733725327, 1733.2548767712349, 2026.4969540610348, 562.2690068793576, 3761.1430544895097, 1568.7976868081983, 4466.509431588066, 5398.974240903998, 1590.8696698597773, 1375.4377304670027, 5262.223112131439, 2962.9598828180556, 4808.4250358015315, 1622.49874691342, 9108.919138933914, 8547.59843162322, 1320.7272695069764, 1036.7586825784, 853.7569853009164, 599.666884789626, 540.1978635442192, 467.89945832684367, 388.46439809773887, 329.57157611021853, 276.7146408053129, 260.2991710342836, 230.41358092479516, 220.80878844988084, 218.50657757348287, 200.65020658817306, 199.85692839531163, 196.75350736571636, 189.49253632311923, 181.0496723694306, 180.22460902842155, 167.5363303908121, 160.78231104122648, 156.09571047933963, 153.2356832631049, 148.01887461917315, 146.5351614340299, 140.15989777430897, 137.46833971065297, 136.78323898841774, 131.55742181190635, 126.36569065086924, 521.5736373759746, 2408.0237851248958, 486.9293879409526, 2182.8648217033005, 407.5094425153659, 200.52127440407173, 2605.041133337398, 11285.109159960799, 1248.61020616625, 1853.8559733555421, 711.5263922959247, 2166.3355039869193, 1641.6039708430092, 9999.480971446126, 690.9891355759698, 5294.173282341027, 2233.975029487641, 405.24839611902144, 4384.069293079106, 1408.6243913965443, 895.4657860757097, 2373.0262302532983, 5595.7329387554355, 948.0966108459535, 9161.558050551374, 4539.779821577906, 2513.182772864228, 2830.397538475735, 5297.928303221377, 1869.3564307219706, 2702.6412963770385, 1860.6138114709888, 6867.7357433593115, 3214.5810839813375, 1937.309302669829, 5230.843135718337, 6671.000002964386, 1151.8560091813474, 723.465982283919, 557.6103525867868, 430.42560888607414, 410.73687739604077, 395.6552892729772, 316.6406360676892, 288.741897899494, 271.7139596822744, 263.14387570290137, 245.8751497583032, 241.35036708034937, 217.7840663449303, 215.62192263246686, 198.32212244151722, 184.25373458192908, 175.8594043993774, 172.4931462762665, 160.73411124659515, 160.62420232983428, 152.97399351693056, 147.8386561491284, 144.41510995442695, 143.20988147949444, 142.36816251448616, 141.99729278839237, 137.5577577000952, 131.52883048816807, 130.18022760049237, 128.65978834416865, 256.72912154338474, 1235.9698165381174, 202.79211687111962, 2660.2403035052816, 1371.1047611576203, 302.49852671992863, 986.9002103067169, 356.70145077956386, 783.3156588626974, 484.4309055585447, 325.1108925151391, 517.897278857917, 438.0687918516434, 930.3638739024469, 2144.417117833204, 662.2058025260014, 1156.8605767148238, 1179.0522713911719, 8116.8209485119105, 2109.0067766712264, 1643.7114277210308, 2087.678699104929, 1524.8053488502292, 1726.238038750766, 633.3255648540339, 4113.091494227439, 7962.857220638889, 4232.456236842502, 5262.223112131439, 884.7000376125957, 2855.913530646399, 5398.974240903998, 1011.8609967825686, 2685.4111990424417, 2404.0082822595336, 3209.239482592866, 2693.212363494156, 5527.416624740518, 4644.816633932606, 2143.6867676618544, 2746.3760698915953, 7414.017111169638, 9108.919138933914, 9037.370979836365, 527.8527474665681, 446.7821704281714, 441.76351919555, 419.6066437576527, 393.23134638684627, 316.2597663787446, 304.5674172285826, 296.7227947802789, 281.46713316824537, 274.34073375075894, 273.5495391905174, 253.9491838270824, 251.8307312861419, 228.4081601051078, 214.8902590860176, 207.32057137073434, 201.7569404803882, 191.1742343537105, 185.7031120616805, 173.793636793758, 173.60629228013292, 167.33755294186565, 167.04076171960577, 160.89598121378785, 158.4079952234432, 149.27321655004368, 145.97109297615182, 145.27244860792126, 141.85066296802205, 141.69496192761662, 431.1539059784044, 1570.5040741066116, 1004.3520791399386, 890.7078131217377, 288.5703036571595, 732.0547816256171, 773.4381292475681, 1235.6340736047098, 745.5675560649825, 542.3743167766561, 777.2585904717246, 1141.5568984974773, 1398.452038384697, 6317.5491802846445, 2811.720089926069, 1698.8451080628229, 1179.4862817034682, 1755.2613074509186, 1609.828359882958, 2665.331009936965, 3533.8476479352967, 2806.7080159930974, 618.0290082453864, 2132.8945770598784, 1341.318383199536, 9397.239437999257, 3432.3351509807617, 2919.8715984902897, 2029.162098842037, 6597.462332985803, 6967.9380483489695, 9087.055990510786, 6867.7357433593115, 6671.000002964386, 3859.0636780794193, 5595.7329387554355, 2548.150146576061, 2096.8329008246933, 1615.0838738289146, 1604.5392414499559, 1090.2576576444105, 747.8118492937796, 709.6372425331601, 705.9418924961651, 686.0359387301525, 406.5177830483613, 381.6230201178314, 307.3523342663358, 298.6350664268022, 290.8650605870561, 277.5024393996093, 264.88095505334, 240.03105442049966, 198.46586669209043, 196.58215784916703, 183.8890778773063, 164.71908767959042, 136.86612984208864, 113.40271771664106, 92.5557434390131, 92.38850625967382, 92.02261114362014, 88.79809461040017, 87.4762084908299, 86.9547403502071, 86.33934332656167, 3349.320393065739, 590.7552822484283, 1714.7886134089304, 1595.240725213208, 834.7485884524029, 1331.4877204428412, 1939.2576209378374, 1137.7472122083423, 7742.46665941225, 1096.7397406495704, 762.0984113181017, 524.8904371815845, 1716.4754167188546, 2124.1928393102066, 9087.055990510786, 2008.3065048006583, 1676.5680925898819, 10207.07447014633, 662.0360106172031, 6597.462332985803, 5400.298301800891, 1831.4802660673463, 6396.881772597776, 5942.637524376986, 2962.9598828180556, 4971.513922035902, 881.9653947429533, 657.3458100894724, 654.0881095434503, 556.1795330852916, 336.0134264481899, 263.58964002016427, 247.39041887986346, 241.92485463334455, 240.79456054019013, 174.93712135792262, 174.3115750608077, 170.66443335453152, 165.47493684361208, 162.84559785322136, 148.59248923454777, 142.71011532360694, 139.93592024692074, 136.3848149186838, 129.26132184685903, 127.38230947742328, 119.12059597247385, 117.33611479626279, 116.83271783368932, 113.52846772849996, 112.15243325692396, 111.09644694164768, 108.65688239250507, 106.1356871911489, 103.66460641898139, 102.47482665570928, 3084.715603252453, 10440.052218092918, 10889.482795546379, 189.24271864236286, 1158.9902856710726, 469.5033574819055, 1641.309188649844, 555.377800678248, 935.4814002547015, 6967.9380483489695, 480.7431067731837, 1012.9196944678371, 871.7618498534717, 11285.109159960799, 978.938094503099, 427.07861671773514, 397.44531525647886, 1775.3076093656757, 2373.0262302532983, 993.5383719638767, 489.85674247885544, 632.3925217035527, 923.2940482095947, 1760.101714532377, 1731.3049752620798, 2226.8489602809295, 3132.3283419198415, 1393.8040864850116, 1543.5157356358418, 1641.6039708430092, 9108.919138933914, 5233.771575126043, 1925.579246246272, 8116.8209485119105, 7962.857220638889, 8135.921233905395, 3610.962259051382, 2955.6777532262868, 2844.916316454585, 2571.8488345936007, 2361.7473444342586, 418.82510513175816, 376.49704336084426, 225.2247737772064, 191.51658407759913, 167.92529033145817, 159.52620694164125, 157.05378342494623, 143.37607672020374, 127.87222842237436, 116.22569401408975, 111.70946678348109, 108.28321956255122, 107.46307930989079, 104.1717720176363, 101.24284273060758, 99.92244595134913, 94.18953328618096, 92.90794862569271, 92.72166753656823, 91.9416367019838, 87.93095987578363, 85.64544364288069, 84.31526331463832, 83.77634877348821, 7115.356500028096, 7414.017111169638, 6182.320522633339, 9108.919138933914, 6629.31616672413, 6249.968686273653, 9397.239437999257, 119.52415217597654, 214.50176376098543, 290.0665382129077, 4476.1246282863185, 194.98039776797282, 3712.5564747969306, 6671.000002964386, 5759.4220228369495, 726.5251232281669, 10804.340095720563, 1617.8255551088573, 4329.775078460998, 5344.498550537648, 6526.22294265567, 9087.055990510786, 4018.2040613461045, 620.3430335633519, 452.1899239060223, 448.0948350791302, 430.56329917931293, 354.8939468923767, 348.62964809021395, 341.4545167004939, 318.8890051908825, 290.1896706540694, 277.68801039940803, 274.47232644089473, 271.01471520785395, 257.5917795861172, 255.0376480242262, 250.11459234188644, 236.3458640418644, 227.23056772531248, 211.645354226795, 205.88613486423563, 196.96890242971307, 192.43295663413565, 179.0673517279896, 177.79126692174694, 169.95222781649147, 169.2086117168192, 167.82205946642827, 166.79327474969045, 147.33757681795026, 144.055340750138, 132.43674895306674, 991.5848448537309, 260.1058211589594, 832.4424794843629, 2901.1132125558233, 2018.3934261547763, 982.7409575127014, 1495.1206899427307, 1423.2477484647331, 426.71572831140423, 286.660687400804, 271.00486719529533, 4803.088745660023, 743.3580132785424, 2097.547424927962, 4644.816633932606, 2256.6130391017464, 1485.4317699503517, 1504.2368095806225, 6671.000002964386, 1025.0063033024953, 5520.8463242376165, 8412.343189943122, 5133.921622153238, 2919.8715984902897, 4523.356107546828, 3333.935576317263, 8875.13448366358, 2746.3760698915953, 3039.6162874717124, 5998.878828953773, 2435.7204352448757, 4808.4250358015315, 1770.3651838555168, 480.1179447083116, 417.33204400896466, 401.65371682211156, 398.9389497983823, 340.6535336389433, 323.80456090875134, 292.571442404854, 290.63653761494226, 274.88162929352103, 262.9382536208604, 258.98704804725236, 215.3033467479806, 203.32368098069793, 199.12444164125768, 187.26102814231513, 186.65252365327518, 182.49743996459435, 173.97722633394287, 171.17592184325207, 165.0598030756261, 158.62431484738144, 153.6241193832485, 145.47715012989312, 144.8419750251594, 142.10120064519387, 141.32007642690306, 139.7314278436643, 136.92227918765602, 136.41923241638798, 136.3077542830727, 346.95072585184636, 467.19625149650676, 601.5146418774262, 411.1377276633324, 820.77883346278, 1445.553820325982, 309.2360996816592, 432.57567399616073, 410.9879680600976, 444.844785391397, 255.96320268547694, 998.3462107048574, 1255.8654644399394, 429.8331418569782, 2207.569216857157, 1165.339715207481, 5400.298301800891, 387.22754434998296, 6867.7357433593115, 2975.779357704163, 548.6555188680653, 9087.055990510786, 708.365881697482, 3432.3351509807617, 2029.162098842037, 507.30409403460146, 281.16975268525727, 275.9151349788814, 275.06924042501936, 227.81184288017812, 224.37027094425386, 201.21044521341045, 197.78889823955694, 191.46918056339848, 178.3941253253106, 165.1168736016628, 155.7401698394079, 154.38244591601574, 151.68267645697185, 150.61120108591072, 143.5797688074795, 132.60225159358464, 131.01783998674762, 128.61066446074176, 125.44098171359707, 123.96326928496882, 122.93305767605969, 121.74646008665997, 120.34240810159245, 118.04420004856783, 117.87437452951394, 116.3301750319799, 116.1362187393368, 110.31846787653963, 109.51923659005809, 467.9967889114259, 1421.24797260497, 381.7376710554345, 2547.8141996502495, 2830.397538475735, 560.6626806547129, 503.80618526297667, 4018.2040613461045, 347.15489600193405, 609.5037585148679, 632.3234223643581, 202.7475844856063, 784.6768033448978, 450.60529995761954, 1447.4975821188827, 2518.6516532817604, 270.31260480646455, 894.2373705668188, 2685.4111990424417, 1650.8453621528288, 496.9076720096855, 1666.2044520866727, 6867.7357433593115, 1104.572897624344, 792.5394234503176, 1076.9918429680192], \"Term\": [\"energy\", \"attached\", \"713\", \"company\", \"gas\", \"corp\", \"america\", \"north\", \"houston\", \"meeting\", \"message\", \"texas\", \"price\", \"fax\", \"california\", \"market\", \"phone\", \"mail\", \"information\", \"state\", \"service\", \"said\", \"draft\", \"think\", \"change\", \"credit\", \"contract\", \"comment\", \"853\", \"copy\", \"maybe\", \"haven\", \"anyway\", \"guess\", \"stuff\", \"missing\", \"birthday\", \"drink\", \"learned\", \"forgot\", \"beer\", \"sleep\", \"wedding\", \"thanksgiving\", \"peace\", \"hair\", \"alot\", \"758\", \"surprised\", \"jean\", \"letting\", \"meh\", \"replied\", \"shout\", \"kidding\", \"lucy\", \"cambridge\", \"hadn\", \"quiet\", \"kaye\", \"going\", \"gotten\", \"guy\", \"something\", \"don\", \"think\", \"thing\", \"luck\", \"didn\", \"hey\", \"got\", \"everything\", \"just\", \"wait\", \"heard\", \"sound\", \"good\", \"want\", \"probably\", \"really\", \"getting\", \"try\", \"sure\", \"talk\", \"sorry\", \"back\", \"wanted\", \"anything\", \"thought\", \"tell\", \"still\", \"hope\", \"work\", \"well\", \"make\", \"now\", \"see\", \"week\", \"today\", \"look\", \"give\", \"much\", \"take\", \"come\", \"last\", \"best\", \"turbine\", \"filing\", \"obligation\", \"loan\", \"sce\", \"liability\", \"pcb\", \"clause\", \"exclusively\", \"purchaser\", \"disseminate\", \"motion\", \"tva\", \"warranty\", \"owed\", \"escrow\", \"terminate\", \"transmitted\", \"dominion\", \"trigger\", \"epc\", \"contracting\", \"involving\", \"reliance\", \"retention\", \"retained\", \"allocated\", \"petition\", \"lender\", \"guarantor\", \"damage\", \"pursuant\", \"party\", \"payment\", \"proceeding\", \"amount\", \"affiliate\", \"budget\", \"filed\", \"contract\", \"provision\", \"language\", \"land\", \"compliance\", \"issue\", \"agree\", \"certain\", \"section\", \"required\", \"court\", \"claim\", \"requirement\", \"order\", \"respect\", \"transaction\", \"proposed\", \"law\", \"event\", \"agreed\", \"purchase\", \"whether\", \"000\", \"term\", \"subject\", \"case\", \"right\", \"credit\", \"cost\", \"tax\", \"letter\", \"project\", \"provide\", \"legal\", \"interest\", \"data\", \"core\", \"kaminski\", \"initiative\", \"strategic\", \"tool\", \"capability\", \"publication\", \"implement\", \"efficiency\", \"category\", \"transco\", \"brazilian\", \"monitoring\", \"developer\", \"eott\", \"pilot\", \"sampling\", \"creditor\", \"curtailment\", \"desktop\", \"jack\", \"crazy\", \"steffes\", \"innovative\", \"performed\", \"attractive\", \"flagstaff\", \"westinghouse\", \"injection\", \"region\", \"implementation\", \"survey\", \"testing\", \"risk\", \"emission\", \"design\", \"operating\", \"analysis\", \"managing\", \"area\", \"model\", \"project\", \"system\", \"management\", \"process\", \"user\", \"site\", \"activity\", \"provide\", \"impact\", \"environmental\", \"application\", \"information\", \"station\", \"report\", \"service\", \"ensure\", \"program\", \"effort\", \"use\", \"issue\", \"cost\", \"additional\", \"development\", \"group\", \"team\", \"business\", \"available\", \"question\", \"review\", \"list\", \"customer\", \"market\", \"electricity\", \"governor\", \"generator\", \"consumer\", \"crisis\", \"dwr\", \"cpuc\", \"senate\", \"assembly\", \"deregulation\", \"legislature\", \"grid\", \"iep\", \"epa\", \"commissioner\", \"gift\", \"spokesman\", \"blackout\", \"ratepayer\", \"conservation\", \"lawmaker\", \"maviglio\", \"shortage\", \"symbol\", \"sen\", \"calif\", \"speech\", \"legislator\", \"coalition\", \"wharton\", \"davis\", \"edison\", \"california\", \"iso\", \"puc\", \"megawatt\", \"utility\", \"state\", \"billion\", \"legislation\", \"said\", \"commission\", \"cap\", \"plant\", \"percent\", \"generation\", \"ferc\", \"federal\", \"supply\", \"price\", \"energy\", \"bill\", \"market\", \"rate\", \"public\", \"san\", \"electric\", \"cost\", \"million\", \"customer\", \"demand\", \"presentation\", \"skilling\", \"zone\", \"lng\", \"background\", \"seminar\", \"berkeley\", \"argentina\", \"japanese\", \"attendance\", \"modeling\", \"bag\", \"sean\", \"haas\", \"coffee\", \"tiger\", \"departure\", \"cargo\", \"gen\", \"brochure\", \"prof\", \"repair\", \"keynote\", \"dpc\", \"sheri\", \"philippe\", \"monopoly\", \"bless\", \"ellen\", \"sandra\", \"forum\", \"greatly\", \"speaker\", \"chair\", \"ken\", \"professor\", \"university\", \"interested\", \"slide\", \"invite\", \"colleague\", \"dear\", \"jeff\", \"student\", \"appreciated\", \"appreciate\", \"panel\", \"research\", \"speak\", \"best\", \"opportunity\", \"lay\", \"forward\", \"regard\", \"finance\", \"group\", \"session\", \"conference\", \"event\", \"discus\", \"thank\", \"discussion\", \"meeting\", \"interest\", \"look\", \"help\", \"contact\", \"steve\", \"working\", \"hope\", \"give\", \"business\", \"work\", \"issue\", \"make\", \"see\", \"well\", \"stock\", \"curve\", \"nasdaq\", \"earnings\", \"crude\", \"prc\", \"valuation\", \"var\", \"650\", \"residential\", \"hedging\", \"ipo\", \"intra\", \"bcf\", \"prospect\", \"transporter\", \"liquidity\", \"linux\", \"ibm\", \"otc\", \"cable\", \"invest\", \"nox\", \"carrier\", \"ppl\", \"fish\", \"largely\", \"dealer\", \"feed\", \"charlie\", \"margin\", \"quarter\", \"share\", \"gain\", \"spread\", \"range\", \"institution\", \"market\", \"exchange\", \"newsletter\", \"investor\", \"value\", \"volatility\", \"oil\", \"strong\", \"growth\", \"portfolio\", \"future\", \"option\", \"trading\", \"buy\", \"commodity\", \"position\", \"high\", \"price\", \"year\", \"offer\", \"network\", \"sell\", \"million\", \"product\", \"week\", \"trade\", \"business\", \"risk\", \"financial\", \"last\", \"company\", \"today\", \"term\", \"based\", \"meter\", \"legislative\", \"gore\", \"election\", \"tank\", \"chronicle\", \"hertzberg\", \"cera\", \"burton\", \"siting\", \"worse\", \"vega\", \"noncore\", \"stinson\", \"forced\", \"ab1x\", \"mou\", \"916\", \"star\", \"californian\", \"solve\", \"soft\", \"fear\", \"outage\", \"protest\", \"arena\", \"yeah\", \"ldc\", \"msg\", \"warning\", \"vote\", \"campaign\", \"bear\", \"medium\", \"freeze\", \"bush\", \"fact\", \"year\", \"calpine\", \"spent\", \"say\", \"even\", \"story\", \"local\", \"country\", \"passed\", \"without\", \"air\", \"small\", \"pressure\", \"major\", \"now\", \"news\", \"many\", \"big\", \"point\", \"several\", \"still\", \"much\", \"another\", \"right\", \"two\", \"made\", \"problem\", \"however\", \"way\", \"game\", \"saturday\", \"god\", \"hpl\", \"kid\", \"dad\", \"mom\", \"boy\", \"tree\", \"baby\", \"football\", \"wine\", \"ride\", \"msn\", \"golf\", \"mother\", \"funny\", \"bed\", \"cng\", \"staying\", \"son\", \"prayer\", \"sister\", \"laguna\", \"707\", \"doctor\", \"father\", \"sport\", \"30th\", \"apartment\", \"child\", \"love\", \"life\", \"family\", \"friend\", \"car\", \"play\", \"dog\", \"playing\", \"school\", \"house\", \"spring\", \"road\", \"night\", \"season\", \"fun\", \"home\", \"ticket\", \"little\", \"dinner\", \"park\", \"year\", \"two\", \"weekend\", \"first\", \"great\", \"right\", \"take\", \"party\", \"see\", \"good\", \"texas\", \"said\", \"suzanne\", \"tue\", \"darron\", \"roger\", \"married\", \"brenda\", \"30pm\", \"vepco\", \"citibank\", \"732\", \"calc\", \"dealbench\", \"29th\", \"alto\", \"24th\", \"hyatt\", \"tonite\", \"dana\", \"impressed\", \"wolfe\", \"conf\", \"mkm\", \"grigsby\", \"471\", \"pseg\", \"anthony\", \"shmuel\", \"ariba\", \"shelley\", \"caroline\", \"attend\", \"noon\", \"thursday\", \"scheduled\", \"tuesday\", \"meeting\", \"wednesday\", \"vince\", \"16th\", \"monday\", \"interview\", \"215\", \"friday\", \"13th\", \"afternoon\", \"lunch\", \"calendar\", \"schedule\", \"281\", \"conference\", \"room\", \"office\", \"august\", \"kim\", \"tomorrow\", \"morning\", \"date\", \"vacation\", \"week\", \"meet\", \"november\", \"next\", \"march\", \"available\", \"july\", \"plan\", \"discus\", \"june\", \"april\", \"number\", \"work\", \"mark\", \"thank\", \"clair\", \"revised\", \"doc\", \"signature\", \"sitara\", \"revision\", \"redline\", \"cargill\", \"mara\", \"redlined\", \"church\", \"resend\", \"gregg\", \"westlb\", \"turbopark\", \"edits\", \"faxing\", \"correlation\", \"bound\", \"roof\", \"mitch\", \"incorporates\", \"kurth\", \"substitute\", \"mississippi\", \"patient\", \"promissory\", \"agmt\", \"nipsco\", \"depend\", \"draft\", \"attached\", \"marked\", \"enclosed\", \"faxed\", \"file\", \"exhibit\", \"version\", \"comment\", \"attach\", \"letter\", \"document\", \"change\", \"form\", \"review\", \"carol\", \"copy\", \"latest\", \"clean\", \"memo\", \"sheet\", \"final\", \"sent\", \"see\", \"question\", \"send\", \"signed\", \"find\", \"forward\", \"look\", \"original\", \"note\", \"section\", \"today\", \"sara\", \"master\", \"isda\", \"ect\", \"password\", \"tana\", \"gisb\", \"hou\", \"gtc\", \"annex\", \"shackleton\", \"enovate\", \"delta\", \"bailey\", \"chat\", \"eta\", \"eei\", \"shankman\", \"pulp\", \"shari\", \"ecc\", \"paralegal\", \"cgas\", \"transact\", \"setoff\", \"moran\", \"ectric\", \"argentine\", \"flynn\", \"reviewer\", \"counterparties\", \"swap\", \"enrononline\", \"counterparty\", \"credit\", \"canada\", \"eol\", \"trade\", \"legal\", \"transaction\", \"trading\", \"guaranty\", \"confirmation\", \"canadian\", \"financial\", \"physical\", \"product\", \"ena\", \"executed\", \"derivative\", \"mark\", \"entity\", \"list\", \"susan\", \"corp\", \"issue\", \"storage\", \"transwestern\", \"transport\", \"mmbtu\", \"shipper\", \"dth\", \"hub\", \"advisor\", \"topock\", \"ton\", \"nom\", \"pain\", \"juan\", \"patti\", \"312\", \"flexible\", \"btu\", \"interruptible\", \"rmt\", \"carr\", \"citygate\", \"mmcf\", \"tco\", \"basin\", \"pound\", \"truth\", \"mainline\", \"minus\", \"ppm\", \"avg\", \"quantity\", \"volume\", \"pipe\", \"pipeline\", \"determination\", \"notional\", \"capacity\", \"gas\", \"index\", \"daily\", \"socal\", \"delivery\", \"fuel\", \"price\", \"pool\", \"month\", \"period\", \"floating\", \"per\", \"production\", \"peak\", \"natural\", \"rate\", \"fixed\", \"contract\", \"point\", \"demand\", \"shall\", \"term\", \"charge\", \"000\", \"total\", \"date\", \"2000\", \"basis\", \"transaction\", \"number\", \"resume\", \"origination\", \"delainey\", \"egm\", \"enw\", \"phillip\", \"personnel\", \"eecc\", \"sherri\", \"supervisor\", \"esa\", \"lavorato\", \"organizational\", \"mcconnell\", \"whalley\", \"hiring\", \"eel\", \"loi\", \"shapiro\", \"frevert\", \"payroll\", \"prentice\", \"31st\", \"interviewer\", \"pub\", \"eim\", \"isc\", \"251\", \"passcode\", \"sutton\", \"beth\", \"associate\", \"nepco\", \"employee\", \"chairman\", \"hire\", \"ceo\", \"haedicke\", \"candidate\", \"recruiting\", \"promotion\", \"bruce\", \"leadership\", \"vice\", \"global\", \"training\", \"role\", \"organization\", \"business\", \"president\", \"executive\", \"director\", \"analyst\", \"committee\", \"sheila\", \"team\", \"group\", \"john\", \"mark\", \"officer\", \"program\", \"ena\", \"rick\", \"unit\", \"tax\", \"management\", \"support\", \"office\", \"report\", \"continue\", \"mike\", \"america\", \"corp\", \"year\", \"exempt\", \"415\", \"airline\", \"continental\", \"registration\", \"cool\", \"installation\", \"rsvp\", \"fare\", \"bringing\", \"inventory\", \"0600\", \"palo\", \"unsubscribe\", \"alamo\", \"rental\", \"browser\", \"temperature\", \"reagan\", \"itinerary\", \"aircraft\", \"figured\", \"kristin\", \"smoking\", \"assignee\", \"782\", \"depart\", \"visa\", \"dark\", \"arrival\", \"airport\", \"web\", \"hotel\", \"reservation\", \"suite\", \"flight\", \"travel\", \"center\", \"image\", \"800\", \"card\", \"link\", \"click\", \"way\", \"site\", \"city\", \"website\", \"visit\", \"york\", \"member\", \"address\", \"2001\", \"invitation\", \"san\", \"special\", \"houston\", \"free\", \"check\", \"internet\", \"email\", \"service\", \"mail\", \"date\", \"number\", \"available\", \"rate\", \"confidential\", \"recipient\", \"privileged\", \"sender\", \"prohibited\", \"copying\", \"dissemination\", \"strictly\", \"addressee\", \"privilege\", \"llp\", \"destroy\", \"mann\", \"512\", \"unauthorized\", \"garage\", \"spalding\", \"plane\", \"defendant\", \"ranking\", \"samantha\", \"replying\", \"permanently\", \"ibuyit\", \"attn\", \"renewed\", \"demonstration\", \"rudnick\", \"forgive\", \"toute\", \"intended\", \"hereby\", \"delete\", \"notify\", \"legally\", \"contain\", \"error\", \"disclosure\", \"message\", \"named\", \"notified\", \"proprietary\", \"attachment\", \"immediately\", \"mail\", \"communication\", \"distribution\", \"information\", \"contained\", \"email\", \"received\", \"individual\", \"copy\", \"use\", \"entity\", \"thank\", \"duke\", \"coal\", \"nyse\", \"reliant\", \"abb\", \"procurement\", \"barry\", \"illinois\", \"merrill\", \"510\", \"transformer\", \"shoot\", \"telecom\", \"nrg\", \"lehman\", \"aes\", \"265\", \"texaco\", \"builder\", \"died\", \"portal\", \"enfolio\", \"mkt\", \"teco\", \"await\", \"cordially\", \"asp\", \"celebrate\", \"slight\", \"hawaii\", \"inc\", \"company\", \"energy\", \"mirant\", \"corporation\", \"regulated\", \"marketing\", \"sempra\", \"dow\", \"service\", \"sector\", \"article\", \"pacific\", \"gas\", \"national\", \"broadband\", \"contractor\", \"electric\", \"natural\", \"paso\", \"dynegy\", \"williams\", \"southern\", \"industry\", \"investment\", \"development\", \"sale\", \"jones\", \"oil\", \"fuel\", \"corp\", \"customer\", \"news\", \"business\", \"group\", \"713\", \"853\", \"646\", \"77002\", \"3490\", \"7658\", \"345\", \"worksheet\", \"blackline\", \"prebon\", \"brant\", \"separator\", \"nda\", \"grateful\", \"eci\", \"403\", \"amerex\", \"renewal\", \"facsimile\", \"janette\", \"310\", \"thanx\", \"waived\", \"hickerson\", \"sita\", \"clint\", \"danny\", \"puerto\", \"hastings\", \"esq\", \"north\", \"america\", \"texas\", \"corp\", \"fax\", \"phone\", \"houston\", \"703\", \"brad\", \"ltd\", \"regard\", \"blacklined\", \"regarding\", \"number\", \"give\", \"tel\", \"see\", \"counsel\", \"legal\", \"contact\", \"send\", \"mail\", \"request\", \"morgan\", \"tanya\", \"russell\", \"tagg\", \"koch\", \"compressor\", \"cold\", \"kept\", \"aquila\", \"bet\", \"rebook\", \"wire\", \"sap\", \"normally\", \"liquidation\", \"diamond\", \"cat\", \"lynn\", \"transferred\", \"manual\", \"unify\", \"coral\", \"billed\", \"enpower\", \"listen\", \"9573\", \"utilicorp\", \"hydrocarbon\", \"erms\", \"appearing\", \"invoice\", \"port\", \"broker\", \"book\", \"desk\", \"expense\", \"changed\", \"correct\", \"entry\", \"deleted\", \"stanley\", \"name\", \"entered\", \"trader\", \"report\", \"show\", \"fee\", \"west\", \"number\", \"flow\", \"following\", \"change\", \"system\", \"check\", \"trade\", \"position\", \"question\", \"mike\", \"done\", \"help\", \"confirm\", \"list\", \"chris\", \"nbsp\", \"wife\", \"mime\", \"download\", \"0500\", \"false\", \"virus\", \"mailer\", \"plain\", \"sitting\", \"esmtp\", \"boundary\", \"sick\", \"rly\", \"multipart\", \"unclear\", \"shirt\", \"0400\", \"lou\", \"lately\", \"harvard\", \"charset\", \"carefully\", \"poll\", \"encoding\", \"jon\", \"sandy\", \"teacher\", \"patch\", \"gun\", \"mistake\", \"microsoft\", \"gov\", \"carolyn\", \"george\", \"content\", \"gentleman\", \"king\", \"dial\", \"fri\", \"mixed\", \"man\", \"com\", \"mon\", \"type\", \"feb\", \"received\", \"apology\", \"date\", \"version\", \"text\", \"mail\", \"wed\", \"free\", \"internet\", \"arbitration\", \"ppa\", \"variance\", \"interconnect\", \"paulo\", \"comparison\", \"arranged\", \"daren\", \"ref\", \"export\", \"folder\", \"angel\", \"sao\", \"contamination\", \"gleason\", \"woodland\", \"ngpl\", \"hereunder\", \"dpr\", \"anita\", \"groundwater\", \"caiso\", \"poep\", \"bradley\", \"vitol\", \"soil\", \"tnrcc\", \"expedited\", \"arbitrator\", \"oneok\", \"brazil\", \"permit\", \"sept\", \"facility\", \"shall\", \"auction\", \"liquid\", \"request\", \"gathering\", \"split\", \"pending\", \"offshore\", \"submitted\", \"submit\", \"bid\", \"approval\", \"tab\", \"limit\", \"unit\", \"application\", \"greeting\", \"requested\", \"date\", \"completed\", \"transportation\", \"construction\"], \"logprob\": [30.0, 29.0, 28.0, 27.0, 26.0, 25.0, 24.0, 23.0, 22.0, 21.0, 20.0, 19.0, 18.0, 17.0, 16.0, 15.0, 14.0, 13.0, 12.0, 11.0, 10.0, 9.0, 8.0, 7.0, 6.0, 5.0, 4.0, 3.0, 2.0, 1.0, -5.6047, -5.739, -6.12, -6.132, -6.1844, -6.5356, -6.812, -6.818, -6.9622, -7.0989, -7.1446, -7.4436, -7.4488, -7.4968, -7.5978, -7.6494, -7.6566, -7.6842, -7.8385, -7.8477, -7.8484, -7.8551, -7.8556, -7.8631, -7.9351, -7.9909, -7.995, -8.0089, -8.0325, -8.0438, -4.0816, -7.0958, -4.8716, -5.142, -4.1349, -3.9121, -4.7369, -6.6687, -5.3881, -5.9752, -4.9935, -5.9397, -3.8437, -6.2845, -5.6578, -5.6835, -4.3637, -4.1246, -5.3733, -5.1422, -5.2038, -5.2915, -4.8033, -4.9691, -5.3864, -4.4335, -5.3155, -5.2624, -5.0696, -5.5588, -4.8409, -4.9787, -4.488, -4.7419, -4.5678, -4.8167, -4.5433, -4.6383, -4.8479, -4.8479, -5.0278, -5.1147, -5.0481, -5.1916, -5.0606, -5.1461, -5.4221, -5.6848, -5.6951, -6.0028, -6.3378, -6.3428, -6.5325, -6.6784, -6.8385, -6.8727, -6.8791, -6.941, -6.9563, -7.0069, -7.0085, -7.0858, -7.1062, -7.1151, -7.161, -7.1612, -7.1792, -7.1849, -7.1905, -7.1995, -7.2352, -7.3228, -7.3833, -7.3895, -7.4308, -7.4339, -6.4073, -6.5407, -4.5562, -5.114, -6.4763, -5.011, -6.0982, -6.3351, -6.1457, -4.116, -5.633, -5.1577, -6.2429, -6.5301, -4.3874, -5.6396, -5.9372, -5.3537, -5.6261, -5.9388, -6.0883, -5.8634, -5.0939, -5.8373, -5.1621, -5.7236, -5.6113, -5.603, -5.8322, -5.4764, -5.5973, -5.5895, -5.2783, -5.8369, -5.5861, -5.4421, -5.3683, -5.4867, -5.7114, -5.5533, -5.5402, -5.5966, -5.5928, -5.6957, -4.7594, -6.0905, -6.2653, -6.3274, -6.4247, -6.4632, -6.7134, -6.7203, -6.7217, -6.738, -6.7433, -6.764, -6.7767, -6.8156, -6.862, -6.9469, -6.9661, -6.9866, -7.0177, -7.045, -7.1227, -7.1392, -7.1461, -7.1585, -7.192, -7.2015, -7.2604, -7.2661, -7.2679, -7.2748, -5.6279, -6.6464, -6.1791, -6.4478, -4.3615, -5.9563, -6.3876, -5.7689, -5.5569, -6.0377, -5.1812, -5.4038, -4.6235, -4.5596, -4.9314, -4.8962, -5.6831, -5.0639, -5.4028, -4.8984, -5.9277, -6.0171, -5.5493, -4.325, -6.0392, -5.0056, -4.8242, -5.9542, -5.4437, -5.6787, -5.2317, -5.106, -5.3364, -5.5729, -5.646, -5.2027, -5.4978, -5.3282, -5.5408, -5.3349, -5.4811, -5.5277, -5.6004, -5.5707, -4.3012, -4.7372, -5.0291, -5.3177, -5.3656, -5.4944, -5.8693, -5.886, -5.9428, -6.1138, -6.1141, -6.1928, -6.3367, -6.3698, -6.4352, -6.4625, -6.4702, -6.4805, -6.5661, -6.574, -6.6796, -6.6855, -6.7759, -6.885, -6.8976, -6.9712, -6.9742, -7.0187, -7.0192, -7.0437, -4.4498, -5.0389, -3.4866, -5.0837, -5.454, -5.8541, -3.9099, -3.5397, -4.981, -6.1063, -3.7078, -4.7819, -5.4279, -4.691, -5.6741, -5.1872, -4.9616, -5.4781, -5.1504, -4.1615, -4.1114, -4.8154, -4.2232, -4.6164, -5.1137, -5.2337, -5.3387, -4.9193, -5.2033, -5.0521, -5.2448, -4.7388, -5.4738, -5.8963, -5.9206, -6.1911, -6.3639, -6.5889, -6.7898, -6.8055, -6.8303, -7.0515, -7.0946, -7.1484, -7.1592, -7.1676, -7.2583, -7.3345, -7.3388, -7.375, -7.4009, -7.4299, -7.4687, -7.4845, -7.4946, -7.5741, -7.5833, -7.5865, -7.5991, -7.606, -7.6182, -6.1807, -6.1732, -5.7649, -6.158, -5.4255, -6.3097, -5.4715, -4.8546, -6.6572, -5.9645, -6.4099, -5.2196, -4.1657, -5.8452, -6.0663, -5.4163, -6.223, -5.2973, -5.7465, -4.3639, -5.0602, -5.9393, -4.5076, -4.7697, -5.5936, -4.4641, -5.8235, -5.0353, -5.3491, -5.0672, -5.0172, -5.4144, -4.7322, -5.3128, -4.9172, -5.0037, -5.1338, -5.5053, -5.3361, -5.3735, -5.3474, -5.2768, -5.2985, -5.3233, -5.3995, -5.3957, -5.4139, -4.4872, -5.2367, -5.2971, -5.4312, -5.7703, -5.82, -5.9949, -6.1428, -6.4278, -6.5103, -6.6036, -6.6846, -6.7491, -6.8224, -6.9515, -6.965, -6.9714, -7.045, -7.0891, -7.1265, -7.1551, -7.1657, -7.1953, -7.2018, -7.2159, -7.2177, -7.2655, -7.2661, -7.3009, -7.324, -5.5662, -5.56, -4.5583, -6.1112, -5.7063, -6.1263, -6.6519, -3.6265, -5.1294, -6.206, -5.6027, -4.902, -6.2353, -5.4002, -5.7755, -6.0263, -6.0166, -4.9938, -4.8374, -4.5958, -5.1216, -5.5399, -5.1075, -5.3295, -4.6572, -4.8144, -5.3769, -5.6943, -5.5376, -5.3927, -5.2054, -4.9278, -5.2814, -5.1026, -5.2941, -5.4, -5.293, -5.3158, -5.4738, -5.5261, -5.5349, -5.642, -5.9166, -5.9962, -6.1672, -6.2629, -6.4053, -6.414, -6.4665, -6.563, -6.5822, -6.5881, -6.6559, -6.665, -6.6719, -6.6984, -6.6989, -6.7171, -6.7611, -6.7713, -6.7926, -6.8664, -6.9296, -6.9471, -6.9613, -6.9793, -6.9953, -7.0158, -7.0263, -7.047, -7.0473, -5.6861, -6.3414, -6.2372, -5.9543, -6.562, -6.0869, -5.5628, -4.4622, -6.2316, -6.3156, -5.1527, -5.4066, -6.0913, -6.0391, -6.0802, -6.3038, -5.6608, -6.021, -5.9579, -6.3978, -6.081, -5.4036, -5.8824, -5.7428, -5.9141, -5.7524, -5.9632, -5.8063, -5.8244, -5.9697, -5.8764, -5.9485, -6.0167, -6.0157, -6.0462, -6.0553, -4.7031, -4.927, -5.2074, -5.68, -5.8773, -5.8821, -5.8978, -5.9259, -6.0974, -6.1143, -6.1178, -6.1596, -6.1837, -6.1949, -6.2437, -6.2453, -6.394, -6.4299, -6.4798, -6.4882, -6.4969, -6.5249, -6.5295, -6.5713, -6.6039, -6.6172, -6.6296, -6.6741, -6.7147, -6.7173, -5.7015, -4.7323, -5.2505, -5.438, -5.0628, -5.6959, -5.3282, -6.263, -6.3474, -5.1874, -5.3154, -6.1315, -5.9991, -5.0107, -5.838, -5.7169, -5.2986, -5.4672, -5.2838, -5.5126, -5.967, -5.1145, -5.3159, -5.6641, -5.4146, -5.5223, -5.5085, -5.4988, -5.5821, -5.5172, -5.5962, -5.6189, -5.6061, -6.1361, -6.5184, -6.6383, -6.669, -6.8683, -6.9001, -6.9134, -6.9214, -6.9879, -6.9926, -6.9947, -7.0072, -7.0263, -7.0442, -7.0784, -7.0832, -7.177, -7.2542, -7.3034, -7.3187, -7.3226, -7.4091, -7.4136, -7.425, -7.4301, -7.4594, -7.4669, -7.5114, -7.5405, -7.5457, -4.5988, -5.8811, -4.223, -4.7449, -4.5046, -3.1966, -4.5828, -4.7702, -6.6164, -4.1036, -5.2283, -6.8881, -4.0357, -6.71, -4.8467, -5.0344, -5.4593, -4.3643, -6.4216, -4.4272, -4.9906, -4.2542, -5.4422, -6.0516, -4.6146, -4.7191, -4.2185, -5.5919, -3.9543, -4.8359, -5.294, -4.3028, -5.0075, -4.7361, -5.256, -4.7125, -4.8494, -5.2617, -5.2077, -4.9129, -4.9914, -5.1157, -5.1438, -4.7173, -4.7341, -4.9328, -5.2249, -5.4407, -5.4661, -6.3909, -6.5748, -6.8194, -6.8243, -6.8733, -6.942, -6.958, -7.0463, -7.146, -7.1475, -7.2128, -7.2591, -7.2613, -7.2941, -7.3518, -7.4387, -7.5072, -7.5441, -7.5655, -7.5756, -7.6024, -7.6124, -7.6498, -7.6519, -3.5266, -2.7836, -5.7522, -5.776, -6.1145, -3.6314, -5.2562, -4.2635, -3.6156, -6.4071, -4.0671, -3.9164, -3.5802, -4.209, -3.8489, -4.7098, -3.8681, -5.1978, -5.519, -5.3364, -5.3216, -4.9168, -4.4606, -3.8207, -4.0088, -4.2575, -5.1824, -4.7734, -4.6647, -4.9205, -5.2732, -5.1246, -5.2414, -5.1639, -3.6863, -3.7098, -3.9239, -4.7524, -5.2599, -5.2854, -5.4113, -5.5348, -5.6932, -5.6935, -5.7506, -5.8837, -6.0646, -6.1495, -6.3243, -6.3317, -6.3745, -6.3873, -6.4226, -6.4727, -6.4804, -6.5117, -6.6003, -6.7401, -6.7441, -6.8959, -6.9166, -6.92, -6.9438, -7.0129, -5.1168, -4.2641, -5.3622, -4.2903, -3.6258, -5.1068, -4.8685, -4.0414, -4.1699, -4.077, -4.0522, -4.9788, -4.8687, -5.8326, -4.4551, -5.1022, -4.3735, -4.3119, -5.1359, -5.2401, -4.7167, -5.0606, -4.9184, -5.3076, -4.9751, -5.0439, -4.6685, -4.9107, -5.1052, -5.4589, -5.5635, -5.7075, -5.8939, -6.0588, -6.2341, -6.2955, -6.4179, -6.4607, -6.4712, -6.5568, -6.5608, -6.5765, -6.6143, -6.6601, -6.6647, -6.7381, -6.7795, -6.8093, -6.8279, -6.8627, -6.8729, -6.9177, -6.9372, -6.9422, -6.9814, -7.022, -5.6074, -4.119, -5.7071, -4.2706, -5.8957, -6.5771, -4.1732, -2.8753, -4.9125, -4.564, -5.4386, -4.5628, -4.8006, -3.4557, -5.5895, -3.9969, -4.6863, -6.0376, -4.3232, -5.1639, -5.4871, -4.844, -4.2992, -5.4615, -4.0862, -4.5951, -4.9429, -4.9229, -4.6729, -5.1796, -5.0394, -5.1885, -4.8248, -5.1686, -5.2982, -5.1942, -5.1665, -4.7258, -5.1914, -5.4522, -5.7115, -5.7585, -5.796, -6.0193, -6.1119, -6.1729, -6.205, -6.2731, -6.2918, -6.395, -6.405, -6.489, -6.5629, -6.6098, -6.6292, -6.7003, -6.7009, -6.75, -6.7844, -6.808, -6.8164, -6.8224, -6.825, -6.857, -6.9021, -6.9125, -6.9243, -6.2536, -4.8586, -6.5061, -4.1986, -4.7901, -6.1538, -5.1243, -6.0193, -5.3411, -5.7556, -6.1037, -5.7113, -5.858, -5.2601, -4.6568, -5.5896, -5.1712, -5.1678, -3.7758, -4.7597, -4.9469, -4.7808, -5.002, -4.9422, -5.6403, -4.4215, -4.1046, -4.5819, -4.5219, -5.4793, -4.921, -4.6301, -5.417, -5.1064, -5.1707, -5.1094, -5.2025, -5.0149, -5.0669, -5.2905, -5.2647, -5.1771, -5.1976, -5.2204, -5.4127, -5.5798, -5.5911, -5.6427, -5.7078, -5.9262, -5.964, -5.9901, -6.0431, -6.0688, -6.0717, -6.1463, -6.1547, -6.2528, -6.314, -6.35, -6.3774, -6.4315, -6.4607, -6.5273, -6.5284, -6.5654, -6.5672, -6.6049, -6.6205, -6.6803, -6.7028, -6.7076, -6.7316, -6.7327, -5.6442, -4.4619, -4.9108, -5.0243, -6.072, -5.2163, -5.1983, -4.8198, -5.2598, -5.6151, -5.3427, -5.0644, -4.9586, -3.906, -4.5928, -4.9859, -5.2745, -5.1366, -5.1883, -4.9504, -4.8166, -5.0382, -5.7201, -5.2395, -5.4236, -4.7644, -5.1315, -5.2066, -5.3263, -5.0551, -5.0447, -5.0088, -5.0716, -5.1141, -5.2553, -5.2574, -3.7665, -3.9616, -4.2227, -4.2293, -4.616, -4.9934, -5.0459, -5.0511, -5.0797, -5.604, -5.6673, -5.8844, -5.9132, -5.9397, -5.9869, -6.0336, -6.1324, -6.3234, -6.333, -6.4001, -6.5108, -6.6972, -6.8867, -7.0917, -7.0935, -7.0975, -7.1336, -7.1487, -7.1548, -7.162, -3.5267, -5.2453, -4.2044, -4.278, -4.9205, -4.487, -4.1381, -4.6714, -2.8872, -4.7754, -5.1133, -5.4581, -4.4714, -4.2961, -3.1968, -4.4414, -4.6504, -3.34, -5.3356, -3.8036, -4.0563, -4.7217, -4.0461, -4.1486, -4.6813, -4.8466, -4.5971, -4.8914, -4.8964, -5.0588, -5.5639, -5.8074, -5.871, -5.8935, -5.8982, -6.2192, -6.2228, -6.244, -6.2751, -6.2912, -6.3834, -6.424, -6.4438, -6.4697, -6.5237, -6.5384, -6.606, -6.6212, -6.6256, -6.6545, -6.6668, -6.6763, -6.6987, -6.7224, -6.7462, -6.7578, -3.6004, -2.5099, -2.5084, -6.2001, -4.6458, -5.4423, -4.3817, -5.3043, -4.9192, -3.314, -5.5261, -4.9715, -5.091, -3.4793, -5.1287, -5.6959, -5.7563, -4.8736, -4.7476, -5.2632, -5.6617, -5.5399, -5.356, -5.0701, -5.0829, -5.0291, -4.894, -5.2326, -5.2167, -5.1954, -4.7867, -5.0602, -5.2555, -5.121, -5.257, -2.3461, -3.1586, -3.3589, -3.3971, -3.4981, -3.5833, -5.3149, -5.4217, -5.9372, -6.1001, -6.2322, -6.2839, -6.2996, -6.3913, -6.5065, -6.6028, -6.6427, -6.6742, -6.6818, -6.7132, -6.742, -6.7553, -6.8149, -6.8288, -6.8308, -6.8393, -6.8844, -6.911, -6.9269, -6.9334, -2.5661, -2.5779, -2.8053, -2.5902, -2.9175, -3.0597, -2.7653, -6.6284, -6.2025, -5.9865, -5.0407, -6.4551, -5.5812, -5.4571, -5.7049, -6.2268, -5.7542, -6.0834, -5.9185, -5.9472, -5.9288, -6.0751, -6.1443, -4.8483, -5.165, -5.1741, -5.2141, -5.4079, -5.4257, -5.4466, -5.5151, -5.6097, -5.6539, -5.6656, -5.6783, -5.7293, -5.7393, -5.7589, -5.8157, -5.8552, -5.9266, -5.9543, -5.9988, -6.0222, -6.0945, -6.1017, -6.1471, -6.1515, -6.1597, -6.1659, -6.2907, -6.3134, -6.398, -4.4387, -5.7723, -4.7321, -3.6565, -4.0069, -4.6288, -4.2716, -4.3894, -5.3877, -5.711, -5.7615, -3.7477, -5.1203, -4.4702, -4.0551, -4.5597, -4.8368, -4.8454, -4.1669, -5.1188, -4.4712, -4.35, -4.6736, -4.8928, -4.7587, -4.8766, -4.6531, -4.9806, -4.9726, -4.8784, -5.0681, -5.0542, -5.122, -4.6785, -4.8189, -4.8573, -4.8641, -5.0225, -5.0733, -5.1751, -5.1817, -5.2377, -5.2822, -5.2974, -5.4829, -5.5404, -5.5614, -5.6231, -5.6264, -5.649, -5.6971, -5.7134, -5.75, -5.79, -5.8222, -5.8771, -5.8815, -5.9007, -5.9062, -5.9176, -5.9381, -5.9418, -5.9426, -5.0295, -4.7579, -4.5212, -4.9121, -4.3609, -3.9494, -5.2475, -4.9792, -5.0352, -4.9908, -5.4227, -4.5016, -4.3774, -5.1084, -4.286, -4.6827, -3.9279, -5.2719, -4.1007, -4.4991, -5.1473, -4.3994, -5.1043, -5.0339, -5.1072, -4.4874, -5.079, -5.0979, -5.101, -5.2902, -5.3055, -5.415, -5.4322, -5.4648, -5.5359, -5.6137, -5.6725, -5.6813, -5.6991, -5.7062, -5.7543, -5.8344, -5.8465, -5.8652, -5.8903, -5.9023, -5.9107, -5.9205, -5.9322, -5.9516, -5.953, -5.9663, -5.968, -6.0198, -6.0272, -4.6606, -3.6372, -4.8954, -3.2127, -3.2802, -4.6852, -4.7995, -3.3355, -5.1497, -4.7747, -4.7588, -5.5624, -4.7192, -5.1096, -4.4818, -4.3169, -5.4202, -4.9145, -4.5085, -4.8211, -5.2983, -5.1518, -5.0113, -5.3112, -5.391, -5.4072]}, \"topic.order\": [19, 17, 15, 1, 18, 10, 6, 5, 16, 20, 9, 11, 14, 2, 7, 12, 4, 13, 3, 8], \"plot.opts\": {\"ylab\": \"PC2\", \"xlab\": \"PC1\"}};\n",
       "\n",
       "function LDAvis_load_lib(url, callback){\n",
       "  var s = document.createElement('script');\n",
       "  s.src = url;\n",
       "  s.async = true;\n",
       "  s.onreadystatechange = s.onload = callback;\n",
       "  s.onerror = function(){console.warn(\"failed to load library \" + url);};\n",
       "  document.getElementsByTagName(\"head\")[0].appendChild(s);\n",
       "}\n",
       "\n",
       "if(typeof(LDAvis) !== \"undefined\"){\n",
       "   // already loaded: just create the visualization\n",
       "   !function(LDAvis){\n",
       "       new LDAvis(\"#\" + \"ldavis_el23631403910757988566519060189\", ldavis_el23631403910757988566519060189_data);\n",
       "   }(LDAvis);\n",
       "}else if(typeof define === \"function\" && define.amd){\n",
       "   // require.js is available: use it to load d3/LDAvis\n",
       "   require.config({paths: {d3: \"https://cdnjs.cloudflare.com/ajax/libs/d3/3.5.5/d3.min\"}});\n",
       "   require([\"d3\"], function(d3){\n",
       "      window.d3 = d3;\n",
       "      LDAvis_load_lib(\"https://cdn.rawgit.com/bmabey/pyLDAvis/files/ldavis.v1.0.0.js\", function(){\n",
       "        new LDAvis(\"#\" + \"ldavis_el23631403910757988566519060189\", ldavis_el23631403910757988566519060189_data);\n",
       "      });\n",
       "    });\n",
       "}else{\n",
       "    // require.js not available: dynamically load d3 & LDAvis\n",
       "    LDAvis_load_lib(\"https://cdnjs.cloudflare.com/ajax/libs/d3/3.5.5/d3.min.js\", function(){\n",
       "         LDAvis_load_lib(\"https://cdn.rawgit.com/bmabey/pyLDAvis/files/ldavis.v1.0.0.js\", function(){\n",
       "                 new LDAvis(\"#\" + \"ldavis_el23631403910757988566519060189\", ldavis_el23631403910757988566519060189_data);\n",
       "            })\n",
       "         });\n",
       "}\n",
       "</script>"
      ],
      "text/plain": [
       "<IPython.core.display.HTML object>"
      ]
     },
     "execution_count": 47,
     "metadata": {},
     "output_type": "execute_result"
    },
    {
     "name": "stdout",
     "output_type": "stream",
     "text": [
      "time: 54.4 s\n"
     ]
    }
   ],
   "source": [
    "import warnings\n",
    "warnings.filterwarnings('ignore')\n",
    "\n",
    "import pyLDAvis.gensim\n",
    "\n",
    "lda_visualise = pyLDAvis.gensim.prepare(ldamodel, corpus, dictionary)\n",
    "pyLDAvis.display(lda_visualise)"
   ]
  },
  {
   "cell_type": "markdown",
   "metadata": {
    "collapsed": true
   },
   "source": [
    "We use the colour pallate called Tableau_20 that contains 20 different colours. We assign these to seperate topics."
   ]
  },
  {
   "cell_type": "code",
   "execution_count": 24,
   "metadata": {
    "collapsed": false
   },
   "outputs": [
    {
     "name": "stdout",
     "output_type": "stream",
     "text": [
      "time: 59.6 ms\n"
     ]
    }
   ],
   "source": [
    "from palettable.tableau import Tableau_20\n",
    "\n",
    "topic_colour_gen = []\n",
    "for i in range(0,num_topics):\n",
    "    topic_colour_gen.append((i, Tableau_20.hex_colors[i]))\n",
    "    \n",
    "topic_colours = dict(topic_colour_gen)\n"
   ]
  },
  {
   "cell_type": "markdown",
   "metadata": {},
   "source": [
    "The function below runs through a document of the user's choice and matches topic words within the document, highlighting them. "
   ]
  },
  {
   "cell_type": "code",
   "execution_count": 25,
   "metadata": {
    "collapsed": false,
    "scrolled": true
   },
   "outputs": [
    {
     "name": "stdout",
     "output_type": "stream",
     "text": [
      "time: 71.1 ms\n"
     ]
    }
   ],
   "source": [
    "from nltk.stem.wordnet import WordNetLemmatizer\n",
    "wordnet_lemmatizer = WordNetLemmatizer()\n",
    "from collections import defaultdict\n",
    "import re\n",
    "\n",
    "doc = ''\n",
    "\n",
    "def match_words(word):\n",
    "    word_edit = word.lower()\n",
    "    try:\n",
    "        word_edit = tokenizer.tokenize(word_edit)[0]\n",
    "    except:\n",
    "        pass\n",
    "    return wordnet_lemmatizer.lemmatize(word_edit)\n",
    "    \n",
    "def build_html_colour(word, topic):\n",
    "    #return \" <font color=\" + str(topic_colours[topic]) + \"'>\" + word + \"</font> \"\n",
    "    return ' <span style=\"background-color: ' + str(topic_colours[topic])  +'\">' + word + '</span>'\n",
    "\n",
    "def read_doc(doc):\n",
    "    chdir('/home/peter/Topic_Modelling/LDA/text_files')\n",
    "    doc = open(str(doc),'r').read()\n",
    "    \n",
    "    # Variables so recalculation is not necessary\n",
    "    doc_split = doc.split()\n",
    "    \n",
    "    # Build dictionary of topic's distribution for a given document\n",
    "    num_topics_weight = 0\n",
    "    Topics = defaultdict(int)\n",
    "    for word in doc_split:\n",
    "        word_edit = match_words(word)\n",
    "        try:\n",
    "            word_topics = ldamodel.get_term_topics(word_edit)\n",
    "            if word_topics:\n",
    "                for topic in word_topics:\n",
    "                    Topics[topic[0]] += topic[1]\n",
    "                    num_topics_weight += topic[1]            \n",
    "        except:\n",
    "            pass\n",
    "    # Find topic info\n",
    "    # Append Topic, number of words in document from given topic and doc percentage of topic\n",
    "    Topic_info = []\n",
    "    for topic in Topics:\n",
    "        Topic_info.append([topic, Topics[topic], round((Topics[topic]/num_topics_weight)*100)]) \n",
    "    \n",
    "    # Topic info for three most prevalent topics for a given document\n",
    "    Topic_info_top3 = []\n",
    "    Topic_info_copy = []\n",
    "    for i in Topic_info:\n",
    "        Topic_info_copy.append(i)\n",
    "    \n",
    "    for i in range(0,3):\n",
    "        max = Topic_info_copy[0]\n",
    "        for topic in Topic_info_copy:\n",
    "            if topic[2] > max[2]:\n",
    "                max = topic\n",
    "        Topic_info_top3.append(max)\n",
    "        Topic_info_copy.remove(max)\n",
    "        \n",
    "    \n",
    "    # Format the document according to topics\n",
    "    for word in doc_split:\n",
    "        word_edit = match_words(word)\n",
    "        try:\n",
    "            topic = ldamodel.get_term_topics(word_edit)[0][0]\n",
    "            if (topic == Topic_info_top3[0][0]) or (topic == Topic_info_top3[1][0]) or (topic == Topic_info_top3[2][0]):\n",
    "                doc = doc.replace( ' ' + word + '', build_html_colour(word,topic))\n",
    "                #doc = doc.replace( '' + word + ' ', build_html_colour(word,topic))\n",
    "        except:\n",
    "            pass\n",
    "    doc = re.sub(r'\\n','<br>',doc)\n",
    "    \n",
    "    Output = []\n",
    "    for item in Topic_info_top3:\n",
    "        colour = build_html_colour('Topic ' + str(item[0]), item[0])\n",
    "        topic_info = colour + ': ' + str(item[2]) + '% ' + str(Topic_words[item[0]])\n",
    "        Output.append(topic_info)\n",
    "    return Output, doc\n"
   ]
  },
  {
   "cell_type": "markdown",
   "metadata": {},
   "source": [
    "HTML is used to add colour to the printed text. See [here](https://jakevdp.github.io/blog/2013/06/01/ipython-notebook-javascript-python-communication/) for more information."
   ]
  },
  {
   "cell_type": "code",
   "execution_count": 26,
   "metadata": {
    "collapsed": false
   },
   "outputs": [
    {
     "data": {
      "text/html": [
       "\n",
       "<div style=\"background-color:white; border:solid black; width:1100px; padding:20px;\">\n",
       "<p> <span style=\"background-color: #9EDAE5\">Topic 19</span>: 35.0% ['attached', 'draft', 'change', 'comment', 'file', 'see', 'review', 'copy', 'document', 'question']</p>\n",
       "<p> <span style=\"background-color: #D62728\">Topic 6</span>: 20.0% ['message', 'mail', 'information', 'intended', 'confidential', 'email', 'recipient', 'copy', 'received', 'error']</p>\n",
       "<p> <span style=\"background-color: #8C564B\">Topic 10</span>: 12.0% ['gas', 'price', 'month', 'contract', 'volume', 'capacity', 'pipeline', 'rate', 'per', 'delivery']</p>\n",
       "<p>Message-ID: <25737351.1075853654665.JavaMail.evans@thyme><br>Date: Fri, 9 Mar 2001 01:50:00 -0800 (PST)<br>From: stacy.dickson@enron.com<br>To: donna.greif@enron.com<br>Subject: GISB XML Subcommittee<br>Cc: jeffrey.hodge@enron.com<br>Mime-Version: 1.0<br>Content-Type: text/plain; charset=us-ascii<br>Content-Transfer-Encoding: 7bit<br>Bcc: jeffrey.hodge@enron.com<br>X-From: Stacy E Dickson<br>X-To: Donna Greif<br>X-cc: Jeffrey T Hodge<br>X-bcc: <br>X-Folder: \\Stacey_Dickson_Nov2001\\Notes Folders\\Sent<br>X-Origin: Dickson-S<br>X-FileName: sdickso.nsf<br><br>Donna:<br> <br>Jeff Hodge asked that I respond to your e-mail.  <br><br>ENA does <span style=\"background-color: #D62728\">use</span> the GISB <span style=\"background-color: #8C564B\">contract</span> to conduct its \"spot\" business.  By \"spot\", I <br>mean interruptible <span style=\"background-color: #8C564B\">gas</span> deals of any length and firm deals one <span style=\"background-color: #8C564B\">month</span> or less <br>in duration.  Enron also has its own <span style=\"background-color: #9EDAE5\">form</span> of spot agreement that we <span style=\"background-color: #D62728\">use</span>.  I <br>have <span style=\"background-color: #9EDAE5\">attached</span> a <span style=\"background-color: #D62728\">copy</span> of that agreement.<br><br>We do try to negotiate some special provisions into each GISB.  Our current <br>version of the special provisions is included in the GISB agreement that is <br>attached.  I do not know of any company that <span style=\"background-color: #D62728\">use</span>s the GISB as-is.<br><br>We do not <span style=\"background-color: #D62728\">use</span> the GISB for firm deals that are greater than one <span style=\"background-color: #8C564B\">month</span> in <br>duration.  For those deals, we <span style=\"background-color: #D62728\">use</span> our Enfolio Master Firm Purchase/Sale <br>Agreement that I have <span style=\"background-color: #9EDAE5\">attached</span>.<br><br>If you need <span style=\"background-color: #D62728\">copies</span> of actual confirmations, Bob Bowen or Ellen Wallumrod <br>would be able to give you examples.  <span style=\"background-color: #9EDAE5\">Form</span> confirmations are at the back of <br>each of the agreements <span style=\"background-color: #9EDAE5\">attached</span>.<br><br>If you need additional <span style=\"background-color: #D62728\">information,</span> please let me know.<br><br><br>Stacy Dickson<br>x3-5705<br><br></p>\n",
       "</div>\n"
      ],
      "text/plain": [
       "<IPython.core.display.HTML object>"
      ]
     },
     "execution_count": 26,
     "metadata": {},
     "output_type": "execute_result"
    },
    {
     "name": "stdout",
     "output_type": "stream",
     "text": [
      "time: 68.3 ms\n"
     ]
    }
   ],
   "source": [
    "# Example from http://jakevdp.github.io/blog/2013/06/01/ipython-notebook-javascript-python-communication/ adapted for IPython 2.0\n",
    "\n",
    "#Input the document we want to read\n",
    "\n",
    "doc = 'dickson-s_3.'\n",
    "\n",
    "from IPython.display import HTML\n",
    "\n",
    "input_form = \"\"\"\n",
    "<div style=\"background-color:white; border:solid black; width:1100px; padding:20px;\">\n",
    "<p>\"\"\"+read_doc(doc)[0][0]+\"\"\"</p>\n",
    "<p>\"\"\"+read_doc(doc)[0][1]+\"\"\"</p>\n",
    "<p>\"\"\"+read_doc(doc)[0][2]+\"\"\"</p>\n",
    "<p>\"\"\"+read_doc(doc)[1]+\"\"\"</p>\n",
    "</div>\n",
    "\"\"\"\n",
    "\n",
    "HTML(input_form) # + javascript)"
   ]
  },
  {
   "cell_type": "markdown",
   "metadata": {
    "collapsed": true
   },
   "source": [
    "We now also have a method to see which topics are prevalent for a given person.\n",
    "\n",
    "Below, we create two functions, namely, get_person_topics and get_topic_persons.\n",
    "\n",
    "get_person_topics takes in a specific person as a string and returns a dictionary with a ratio value (out of 1) for each of the 20 topics. This indicates the prevalance of each of the topics as a percentage for a given person.\n",
    "\n",
    "get_topic_persons takes in a topic as an integer and returns a dictionary with a ratio value (out of 1) for all the employees. This indicates which employees fall under a specific topic. "
   ]
  },
  {
   "cell_type": "code",
   "execution_count": 27,
   "metadata": {
    "collapsed": false
   },
   "outputs": [
    {
     "name": "stdout",
     "output_type": "stream",
     "text": [
      "time: 21.1 ms\n"
     ]
    }
   ],
   "source": [
    "from collections import defaultdict\n",
    "\n",
    "def get_person_topics(person):\n",
    "    person_topics = defaultdict(int)\n",
    "    total = 0\n",
    "    for word in docs_name_dict[person]:\n",
    "        try:\n",
    "            term_topics = ldamodel.get_term_topics(word)\n",
    "            if term_topics:\n",
    "                for topic_tuple in term_topics:\n",
    "                    person_topics[topic_tuple[0]] += topic_tuple[1]\n",
    "                    total += topic_tuple[1]\n",
    "        except:\n",
    "            pass\n",
    "        \n",
    "    #scale the values\n",
    "    for person in person_topics:\n",
    "        person_topics[person] = person_topics[person]/total\n",
    "    return person_topics\n",
    "\n",
    "def get_topic_persons(topic):\n",
    "    specific_topic_persons = defaultdict(int)\n",
    "    \n",
    "    total = 0\n",
    "    for person in docs_name_dict:\n",
    "        person_topics = get_person_topics(person)\n",
    "        person_value = person_topics[topic]\n",
    "        specific_topic_persons[person] += person_value\n",
    "        total += person_value\n",
    "    \n",
    "    \n",
    "    #Scale the numbers in the dictionary to a percentage\n",
    "    for person in docs_name_dict:\n",
    "        specific_topic_persons[person] = specific_topic_persons[person]/total\n",
    "        \n",
    "    return specific_topic_persons\n",
    "                "
   ]
  },
  {
   "cell_type": "markdown",
   "metadata": {},
   "source": [
    "We now see which person falls under a given topic the 'most' as well as which topic falls under a given person the 'most'."
   ]
  },
  {
   "cell_type": "code",
   "execution_count": 28,
   "metadata": {
    "collapsed": false
   },
   "outputs": [
    {
     "name": "stdout",
     "output_type": "stream",
     "text": [
      "ybarbo-p 3.92%\n",
      "time: 7.31 s\n"
     ]
    }
   ],
   "source": [
    "# Finding top person for a given topic\n",
    "\n",
    "topic_person = get_topic_persons(10)\n",
    "maximum_person = max(topic_person.keys(), key=(lambda key: topic_person[key]))\n",
    "print(maximum_person, '{0:.2%}'.format(topic_person[maximum_person]))"
   ]
  },
  {
   "cell_type": "code",
   "execution_count": 29,
   "metadata": {
    "collapsed": false
   },
   "outputs": [
    {
     "name": "stdout",
     "output_type": "stream",
     "text": [
      "3 20.01%\n",
      "time: 97 ms\n"
     ]
    }
   ],
   "source": [
    "# Finding top topic for a given person\n",
    "\n",
    "person_topic = get_person_topics('allen-p')\n",
    "maximum_topic = max(person_topic.keys(), key=(lambda key: person_topic[key]))\n",
    "print(maximum_topic, '{0:.2%}'.format(person_topic[maximum_topic]))"
   ]
  },
  {
   "cell_type": "markdown",
   "metadata": {
    "collapsed": true
   },
   "source": [
    "We now make use of matplotlib to plot the above data. "
   ]
  },
  {
   "cell_type": "code",
   "execution_count": 30,
   "metadata": {
    "collapsed": false
   },
   "outputs": [
    {
     "name": "stdout",
     "output_type": "stream",
     "text": [
      "time: 1.81 ms\n"
     ]
    }
   ],
   "source": [
    "def get_tot_words_person(person):\n",
    "    n = 0\n",
    "    for word in docs_name_dict[person]:\n",
    "        n += docs_name_dict[person][word]\n",
    "    return n"
   ]
  },
  {
   "cell_type": "markdown",
   "metadata": {},
   "source": [
    "We make a datastructure to export as a csv.\n",
    "The data fields are,\n",
    "\n",
    "$\n",
    "\\begin{array}{|c|c|c|c|c|c|c|}\\hline\n",
    "\\text{Person Name} & \\text{id} & \\text{tot words} & \\text{Top Topic} & \\text{Top Topic} & \\text{Second Topic} & \\text{Second Topic} &\\ldots  \\\\\\hline\n",
    "\\text{Dickson, S} & \\text{dickson-s} & & \\ldots & \\ldots & \\ldots & \\ldots & \\ldots \\\\ \\hline\n",
    "\\vdots & \\vdots & \\vdots & \\vdots & \\vdots & \\vdots & \\vdots\n",
    "\\end{array}\n",
    "$"
   ]
  },
  {
   "cell_type": "code",
   "execution_count": 31,
   "metadata": {
    "collapsed": false
   },
   "outputs": [
    {
     "name": "stdout",
     "output_type": "stream",
     "text": [
      "time: 65.3 ms\n"
     ]
    }
   ],
   "source": [
    "Data = []\n",
    "list_of_names = []\n",
    "list_of_names_dup = []\n",
    "for name in docs_name_dict:\n",
    "    list_of_names.append(name.capitalize().replace('-',', '))\n",
    "    list_of_names_dup.append(name)\n",
    "list_of_names.sort()\n",
    "list_of_names_dup.sort()\n",
    "\n",
    "for i in range(0,len(list_of_names)):\n",
    "    name = list_of_names[i][0:-1]\n",
    "    first_name = list_of_names[i][-1].capitalize()\n",
    "    list_of_names[i] = name + first_name\n",
    "    Data.append([name+first_name,list_of_names_dup[i],get_tot_words_person(list_of_names_dup[i])])"
   ]
  },
  {
   "cell_type": "code",
   "execution_count": 32,
   "metadata": {
    "collapsed": false
   },
   "outputs": [
    {
     "name": "stdout",
     "output_type": "stream",
     "text": [
      "time: 6.17 s\n"
     ]
    }
   ],
   "source": [
    "for data in Data:\n",
    "    name = data[1]\n",
    "    person_topics = get_person_topics(name)\n",
    "    person_topics = [(v, k) for k, v in person_topics.items()]\n",
    "    person_topics.sort()\n",
    "    person_topics.reverse()\n",
    "    for tuples in person_topics:\n",
    "        data.append(tuples[1])\n",
    "        data.append(tuples[0])\n",
    "    L = range(0,20)\n",
    "    for num in L:\n",
    "        if num not in data:\n",
    "            data.append(num)\n",
    "            data.append(0)\n",
    "    "
   ]
  },
  {
   "cell_type": "code",
   "execution_count": 33,
   "metadata": {
    "collapsed": false
   },
   "outputs": [
    {
     "name": "stdout",
     "output_type": "stream",
     "text": [
      "time: 2.76 ms\n"
     ]
    }
   ],
   "source": [
    "Data = [['Employee', 'id', 'tot_words', 'A', 'Ap', 'B', 'Bp', 'C', 'Cp'\n",
    "         , 'D', 'Dp', 'E', 'Ep', 'F', 'Fp', 'G', 'Gp', 'H', 'Hp',\n",
    "         'I', 'Ip', 'J', 'Jp', 'K', 'Kp', 'L', 'Lp', 'M', 'Mp', 'N', \n",
    "         'Np', 'O', 'Op', 'P', 'Pp', 'Q', 'Qp', 'R', 'Rp', 'S', 'Sp', 'T', 'Tp']] + Data"
   ]
  },
  {
   "cell_type": "code",
   "execution_count": 34,
   "metadata": {
    "collapsed": false
   },
   "outputs": [
    {
     "name": "stdout",
     "output_type": "stream",
     "text": [
      "time: 18.5 ms\n"
     ]
    }
   ],
   "source": [
    "import csv\n",
    "\n",
    "with open(\"bubbles_data.csv\", \"w\") as f:\n",
    "    writer = csv.writer(f)\n",
    "    writer.writerows(Data)\n",
    "f.close()"
   ]
  },
  {
   "cell_type": "code",
   "execution_count": null,
   "metadata": {
    "collapsed": true
   },
   "outputs": [],
   "source": []
  }
 ],
 "metadata": {
  "kernelspec": {
   "display_name": "Python 3",
   "language": "python",
   "name": "python3"
  },
  "language_info": {
   "codemirror_mode": {
    "name": "ipython",
    "version": 3
   },
   "file_extension": ".py",
   "mimetype": "text/x-python",
   "name": "python",
   "nbconvert_exporter": "python",
   "pygments_lexer": "ipython3",
   "version": "3.5.1"
  }
 },
 "nbformat": 4,
 "nbformat_minor": 0
}
