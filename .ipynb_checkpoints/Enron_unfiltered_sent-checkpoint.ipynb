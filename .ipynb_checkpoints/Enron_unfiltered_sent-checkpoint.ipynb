{
 "cells": [
  {
   "cell_type": "markdown",
   "metadata": {},
   "source": [
    "We will look at the \"sent\" directory of each of the 150 employees of Enron. We need to import the data and in turn, clean up the data. Info from [here](https://rforwork.info/2013/11/03/a-rather-nosy-topic-model-analysis-of-the-enron-email-corpus/) and here [here](https://rstudio-pubs-static.s3.amazonaws.com/79360_850b2a69980c4488b1db95987a24867a.html) proved to be very useful. Also see http://www.colorado.edu/ics/sites/default/files/attached-files/01-11_0.pdf "
   ]
  },
  {
   "cell_type": "code",
   "execution_count": 1,
   "metadata": {
    "collapsed": true
   },
   "outputs": [],
   "source": [
    "from os import listdir, chdir\n",
    "import re"
   ]
  },
  {
   "cell_type": "markdown",
   "metadata": {},
   "source": [
    "We now set up the regular expressions to remove the 'clutter' from the emails."
   ]
  },
  {
   "cell_type": "code",
   "execution_count": null,
   "metadata": {
    "collapsed": true
   },
   "outputs": [],
   "source": [
    "# re_header = re.compile('Message-ID(.*\\n)*X-FileName.*\\n*')\n",
    "# re_origmes = re.compile('.*Original Message.*\\nFrom(.*\\n)*?Subject.*')\n",
    "# re_tofrom = re.compile('From(.*\\n)*?Subject.*\\n')\n",
    "# re_misc = re.compile('\\n*.*<<.*\\n*')"
   ]
  },
  {
   "cell_type": "markdown",
   "metadata": {},
   "source": [
    "We are going to place all the emails of each user into one large list. In order to utalise the LDA algorithm we require there to me multiple documents. The obvious question that arises is whether to consider each email as a seperate document, or to consider the collection of each user's emails as a seperate document. For example:\n",
    "\n",
    "Consider person $A$ has emails $A_1$, $A_2$, $A_3$ and person $B$ has emails $B_1$ and $B-2$. Then we can create a list that is L = [$A_1$, $A_2$, $A_3$, $B_1$, $B_2$] or L = [$A_1A_2A_3$, $B_1B_2$]. For now, all the emails are going to be treated as seperate documents. \n",
    "\n",
    "Once the LDA algorithm has been implemented, we want to be able to list all the documents that fall under a given catagory. "
   ]
  },
  {
   "cell_type": "code",
   "execution_count": null,
   "metadata": {
    "collapsed": true
   },
   "outputs": [],
   "source": [
    "# Defining regular expressions (Note, they are purposefully long to avoid successive searches through large data)\n",
    "\n",
    "re1 = re.compile('<|>|(\\s.*\\..*?\\s)|(\\s.*\\/.*?\\s)|(\\s.*@.*?\\s)|(\\s[\\d\\-\\(\\)\\\\\\/]+\\s)|(\\s.*?\\:)')\n",
    "re2 = re.compile('(Message-ID(.*\\n)*X-FileName.*?\\n)|(To:(.*\\n)*Subject.*?\\n)')"
   ]
  },
  {
   "cell_type": "code",
   "execution_count": 2,
   "metadata": {
    "collapsed": false
   },
   "outputs": [],
   "source": [
    "docs = []\n",
    "\n",
    "chdir('/home/peter/Downloads/enron_test')\n",
    "# For each user we extract all the emails in their inbox\n",
    "\n",
    "names = [i for i in listdir()]\n",
    "for name in names:\n",
    "    sent = '/home/peter/Downloads/enron_test/' + str(name) + '/sent'   \n",
    "    try: \n",
    "        chdir(sent)     \n",
    "        for email in listdir():\n",
    "            text = open(email,'r').read()\n",
    "            \n",
    "            # Regular expressions are used below to remove 'clutter'\n",
    "            text = re.sub(r)\n",
    "            text = re.sub(r'Message-ID(.*\\n)*X-FileName.*\\n*')\n",
    "            docs.\n",
    "    except:\n",
    "        pass\n",
    "    "
   ]
  },
  {
   "cell_type": "code",
   "execution_count": null,
   "metadata": {
    "collapsed": true
   },
   "outputs": [],
   "source": []
  },
  {
   "cell_type": "code",
   "execution_count": null,
   "metadata": {
    "collapsed": false
   },
   "outputs": [],
   "source": [
    "docs_final = []\n",
    "n = 0\n",
    "for employee in docs:\n",
    "    for email in employee:\n",
    "        docs_final.append(email)"
   ]
  },
  {
   "cell_type": "code",
   "execution_count": null,
   "metadata": {
    "collapsed": false
   },
   "outputs": [],
   "source": [
    "for i in range(0,30):\n",
    "    print(docs_final[i*5])\n"
   ]
  },
  {
   "cell_type": "code",
   "execution_count": null,
   "metadata": {
    "collapsed": true
   },
   "outputs": [],
   "source": []
  }
 ],
 "metadata": {
  "kernelspec": {
   "display_name": "Python 3",
   "language": "python",
   "name": "python3"
  },
  "language_info": {
   "codemirror_mode": {
    "name": "ipython",
    "version": 3
   },
   "file_extension": ".py",
   "mimetype": "text/x-python",
   "name": "python",
   "nbconvert_exporter": "python",
   "pygments_lexer": "ipython3",
   "version": "3.5.1"
  }
 },
 "nbformat": 4,
 "nbformat_minor": 0
}
