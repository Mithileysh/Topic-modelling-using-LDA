{
 "cells": [
  {
   "cell_type": "markdown",
   "metadata": {},
   "source": [
    "# Topic Modelling of the Enron corpus, using LDA (Latent Dirichlet Allocation)"
   ]
  },
  {
   "cell_type": "markdown",
   "metadata": {},
   "source": [
    "We will look at the \"sent\" directory of each of the 150 employees of Enron. We need to import the data and in turn, clean up the data. Info from [here](https://rforwork.info/2013/11/03/a-rather-nosy-topic-model-analysis-of-the-enron-email-corpus/) and here [here](https://rstudio-pubs-static.s3.amazonaws.com/79360_850b2a69980c4488b1db95987a24867a.html) proved to be very useful. Also see http://www.colorado.edu/ics/sites/default/files/attached-files/01-11_0.pdf "
   ]
  },
  {
   "cell_type": "code",
   "execution_count": 1,
   "metadata": {
    "collapsed": false
   },
   "outputs": [
    {
     "name": "stdout",
     "output_type": "stream",
     "text": [
      "Installed autotime.py. To use it, type:\n",
      "  %load_ext autotime\n"
     ]
    },
    {
     "name": "stderr",
     "output_type": "stream",
     "text": [
      "/home/peter/anaconda3/lib/python3.5/site-packages/IPython/core/magics/extension.py:47: UserWarning: %install_ext` is deprecated, please distribute your extension(s)as a python packages.\n",
      "  \"as a python packages.\", UserWarning)\n"
     ]
    }
   ],
   "source": [
    "# We use the following magic commands to time the cells in the notebook\n",
    "%install_ext https://raw.github.com/cpcloud/ipython-autotime/master/autotime.py\n",
    "%load_ext autotime\n",
    "\n",
    "from os import listdir, chdir\n",
    "import re"
   ]
  },
  {
   "cell_type": "markdown",
   "metadata": {},
   "source": [
    "We are going to place all the emails of each user into one large list. In order to utalise the LDA algorithm we require there to me multiple documents. The obvious question that arises is whether to consider each email as a seperate document, or to consider the collection of each user's emails as a seperate document. For example:\n",
    "\n",
    "Consider person $A$ has emails $A_1$, $A_2$, $A_3$ and person $B$ has emails $B_1$ and $B_2$. Then we can create a list that is L = [$A_1$, $A_2$, $A_3$, $B_1$, $B_2$] or L = [$A_1A_2A_3$, $B_1B_2$]. For now, all the emails are going to be treated as seperate documents. \n",
    "\n",
    "Once the LDA algorithm has been implemented, we want to be able to list all the documents that fall under a given catagory. \n",
    "\n",
    "We now set up the regular expressions to remove the 'clutter' from the emails.\n",
    "(Note, they are purposefully long to avoid successive searches through large data)\n",
    "\n",
    "An alternate set of regular expressions are also included. These are seperated and thus take longer to iterate. "
   ]
  },
  {
   "cell_type": "code",
   "execution_count": 2,
   "metadata": {
    "collapsed": false
   },
   "outputs": [
    {
     "name": "stdout",
     "output_type": "stream",
     "text": [
      "time: 28.3 ms\n"
     ]
    }
   ],
   "source": [
    "# Defining regular expressions \n",
    "\n",
    "re1 = re.compile('(Message-ID(.*?\\n)*X-FileName.*?\\n)|'\n",
    "                 '(To:(.*?\\n)*?Subject.*?\\n)|'\n",
    "                 '(< (Message-ID(.*?\\n)*.*?X-FileName.*?\\n))')\n",
    "re2 = re.compile('<|'\n",
    "                 '>|'\n",
    "                 '(---(.*?\\n)?.*?---)|'\n",
    "                 '(\\*\\*[.*?\\s]\\*\\*)|'\n",
    "                 '(.*?:(\\s|(.*?\\s)|))|'\n",
    "                 '(\\(\\d+\\))|'\n",
    "                 '(\\s.*?\\..*?\\s)|'\n",
    "                 '(\\s.*?\\_.*?\\s)|'\n",
    "                 '(\\s.*?\\-.*?\\s)|'\n",
    "                 '(\\s.*\\/.*?\\s)|'\n",
    "                 '(\\s.*@.*?\\s)|'\n",
    "                 '([\\d\\-\\(\\)\\\\\\/\\#\\=]+(\\s|\\.))|'\n",
    "                 '(\\n.*?\\s)|\\d')\n",
    "re3 = re.compile('\\\\\\'')\n",
    "re4 = re.compile('( . )|\\s+')\n",
    "\n",
    "#Alternate set of regular expressions\n",
    "\n",
    "re0_a = re.compile('>')\n",
    "re1_a = re.compile('(Message-ID(.*?\\n)*X-FileName.*?\\n)|'\n",
    "                 '(To:(.*?\\n)*?Subject.*?\\n)|'\n",
    "                 '(< (Message-ID(.*?\\n)*.*?X-FileName.*?\\n))')\n",
    "re2_a = re.compile('(.+)@(.+)') # Remove emails\n",
    "re3_a = re.compile('\\s(-----)(.*?)(-----)\\s', re.DOTALL)\n",
    "re4_a = re.compile('''\\s(\\*\\*\\*\\*\\*)(.*?)(\\*\\*\\*\\*\\*)\\s''', re.DOTALL)\n",
    "re5_a = re.compile('\\s(_____)(.*?)(_____)\\s', re.DOTALL)\n",
    "re6_a = re.compile('\\n( )*-.*')\n",
    "re7_a = re.compile('\\n( )*\\d.*')\n",
    "re8_a = re.compile('(\\n( )*[\\w]+($|( )*\\n))|(\\n( )*(\\w)+(\\s)+(\\w)+(( )*\\n)|$)|(\\n( )*(\\w)+(\\s)+(\\w)+(\\s)+(\\w)+(( )*\\n)|$)')\n",
    "re9_a = re.compile('.*orwarded.*')\n",
    "re10_a = re.compile('From.*|Sent.*|cc.*|Subject.*|Embedded.*|http.*|\\w+\\.\\w+|.*\\d\\d/\\d\\d/\\d\\d\\d\\d.*')\n",
    "re11_a = re.compile(' [\\d:;,.]+ ')\n",
    "\n"
   ]
  },
  {
   "cell_type": "markdown",
   "metadata": {},
   "source": [
    "We now build a list of strings - each string being an email (document). Each document is filtered according to the regular expressions above. We also build a dictionary, namely, docs_num_dict that stores for each iteration of a name, the corresponding name and as well as a list of the filtered text."
   ]
  },
  {
   "cell_type": "code",
   "execution_count": 3,
   "metadata": {
    "collapsed": false
   },
   "outputs": [
    {
     "name": "stdout",
     "output_type": "stream",
     "text": [
      "time: 1min 11s\n"
     ]
    }
   ],
   "source": [
    "from collections import defaultdict\n",
    "\n",
    "docs = []\n",
    "docs_num_dict = [] # Stores email sender's name and number\n",
    "\n",
    "chdir('/home/peter/Downloads/enron')\n",
    "# For each user we extract all the emails in their inbox\n",
    "\n",
    "names = [i for i in listdir()]\n",
    "m = 0\n",
    "for name in names:\n",
    "    sent = '/home/peter/Downloads/enron/' + str(name) + '/sent'   \n",
    "    try: \n",
    "        chdir(sent)\n",
    "        d = []\n",
    "        for email in listdir():          \n",
    "            text = open(email,'r').read()\n",
    "            # Regular expressions are used below to remove 'clutter'\n",
    "            text = re.sub(re1, ' ', text)\n",
    "            text = re.sub(re2, ' ', text)\n",
    "            text = re.sub(re3, ' ', text)\n",
    "            text = re.sub(re4, ' ', text)\n",
    "            docs.append(text)\n",
    "            d.append(text)\n",
    "        docs_num_dict.append((m,[name,d]))\n",
    "        m += 1\n",
    "    except:\n",
    "        pass\n",
    "    \n",
    "docs_num_dict = dict(docs_num_dict)"
   ]
  },
  {
   "cell_type": "markdown",
   "metadata": {},
   "source": [
    "We can make use of either a) Stemming or b) Lemmatizing to find word roots. See [here](http://textminingonline.com/dive-into-nltk-part-iv-stemming-and-lemmatization) for a more detailed explination of the two. Right below, the lemmatizer is implemented. \n",
    "\n",
    "The stemmer generally cuts off prefixes of words according to some set rules. Thus words like 'facilitate' and shortened to 'faci' - this can be confusing and requires that the words are 're-built' before displayed. The lemmatizer also used set rules for words of a certain form, but it has the advantage of comparing words to a dictionary.\n",
    "\n",
    "In general, the lemmatizer will have preference of use. \n",
    "\n",
    "While creating a new 'texts' variable that stores the filtered documents, we also edit the docs_num_dict to update the words according to the tokenize,stop word, lemmatize procedure."
   ]
  },
  {
   "cell_type": "markdown",
   "metadata": {},
   "source": [
    "### Using the lemmatizer (consider using this instead of the stemmer):"
   ]
  },
  {
   "cell_type": "code",
   "execution_count": 4,
   "metadata": {
    "collapsed": false
   },
   "outputs": [
    {
     "name": "stdout",
     "output_type": "stream",
     "text": [
      "time: 36.4 s\n"
     ]
    }
   ],
   "source": [
    "# To build the dictionary\n",
    "from collections import defaultdict\n",
    "d = defaultdict(int)\n",
    "\n",
    "# We now employ the techniques as outline in the second link at the top - see **\n",
    "from stop_words import get_stop_words\n",
    "from nltk.stem.wordnet import WordNetLemmatizer\n",
    "from nltk.tokenize import RegexpTokenizer\n",
    "tokenizer = RegexpTokenizer(r'\\w+')\n",
    "\n",
    "texts = []\n",
    "\n",
    "for i in range(0,len(docs_num_dict.items())):\n",
    "    new_docs_num_dict_1 = []\n",
    "    for doc in docs_num_dict[i][1]:\n",
    "        # Tokenization\n",
    "        raw = doc.lower()\n",
    "        tokens = tokenizer.tokenize(raw)\n",
    "\n",
    "        # Removing stop words\n",
    "\n",
    "        # create English stop words list\n",
    "        en_stop = get_stop_words('en')\n",
    "\n",
    "        # remove stop words from tokens\n",
    "        stopped_tokens = [i for i in tokens if not i in en_stop]\n",
    "\n",
    "        # Stemming \n",
    "\n",
    "        # Create p_stemmer of class PorterStemmer\n",
    "        wordnet_lemmatizer = WordNetLemmatizer()\n",
    "\n",
    "        # stem token\n",
    "        lemmatized_tokens = [wordnet_lemmatizer.lemmatize(i) for i in stopped_tokens]\n",
    "\n",
    "        texts.append(lemmatized_tokens)\n",
    "        new_docs_num_dict_1.append(lemmatized_tokens)\n",
    "\n",
    "        # We now build the dictionary\n",
    "        for word in lemmatized_tokens:\n",
    "            d[word] += 1  \n",
    "    docs_num_dict[i][1] = new_docs_num_dict_1\n"
   ]
  },
  {
   "cell_type": "markdown",
   "metadata": {},
   "source": [
    "The texts file as well as the dictinary d (this counts the total number of times a given word is used in the corpus) is saved."
   ]
  },
  {
   "cell_type": "code",
   "execution_count": null,
   "metadata": {
    "collapsed": false
   },
   "outputs": [],
   "source": [
    "import json\n",
    "\n",
    "chdir('/home/peter/Topic_Modelling/LDA/')\n",
    "\n",
    "# Save the texts file as texts_raw (will be edited again below)\n",
    "with open('texts_raw.jsn','w') as f:\n",
    "    json.dump(texts,f)\n",
    "\n",
    "# Save the dictionary d\n",
    "with open('d.jsn','w') as f:\n",
    "    json.dump(d,f)"
   ]
  },
  {
   "cell_type": "code",
   "execution_count": 5,
   "metadata": {
    "collapsed": false
   },
   "outputs": [
    {
     "name": "stdout",
     "output_type": "stream",
     "text": [
      "time: 521 ms\n"
     ]
    }
   ],
   "source": [
    "import json\n",
    "\n",
    "chdir('/home/peter/Topic_Modelling/LDA/')\n",
    "\n",
    "# Loading the raw texts file\n",
    "with open('texts_raw.jsn','r') as f:\n",
    "    texts = json.load(f)\n",
    "    \n",
    "# Loading the dictionary d \n",
    "with open('d.jsn','r') as f:\n",
    "    d = json.load(f)"
   ]
  },
  {
   "cell_type": "markdown",
   "metadata": {},
   "source": [
    "We now build the dictionary of dictionaries, docs_name_dict. The dictinary associates to the names of each employee, a dictionary that stores all the words used by the given person, as well as the number of times they used each of these words. "
   ]
  },
  {
   "cell_type": "code",
   "execution_count": null,
   "metadata": {
    "collapsed": false
   },
   "outputs": [],
   "source": [
    "from collections import defaultdict\n",
    "docs_name_dict = []\n",
    "\n",
    "for i in range(0,len(docs_num_dict.items())):\n",
    "    temp_dict = defaultdict(int)\n",
    "    for j in docs_num_dict[i][1]:\n",
    "        for k in j:\n",
    "            temp_dict[k] += 1\n",
    "    # Append the temporary dictionary to docs_name_dict\n",
    "    docs_name_dict.append((docs_num_dict[i][0],temp_dict)) \n",
    "docs_name_dict = dict(docs_name_dict)"
   ]
  },
  {
   "cell_type": "markdown",
   "metadata": {},
   "source": [
    "We now want to remove the words from our documents that cause clutter. We will remove all the words that appear in more than 20% of documents as well as removing all the words that occur in less than 4 of the documents. We have a dictionary that counts the number of times a word in present across all the $\\pm57000$ documents. \n",
    "\n",
    "To further enhance the quality of the text we analyse, the loops below remove all words of length 1 or 2. "
   ]
  },
  {
   "cell_type": "code",
   "execution_count": null,
   "metadata": {
    "collapsed": false
   },
   "outputs": [],
   "source": [
    "num_docs = len(texts)\n",
    "temp_texts = texts\n",
    "texts= []\n",
    "upper_lim = int(0.20*num_docs)\n",
    "\n",
    "for doc in temp_texts:\n",
    "    temp_doc = []\n",
    "    for word in doc:\n",
    "        # If the word is in the required interval, we add it to a NEW texts variable\n",
    "        if 4 < d[word] < upper_lim and len(word) > 2:\n",
    "            temp_doc.append(word)\n",
    "        # If the word is not in the required interval, \n",
    "        # we lower the index of the word in the docs_name_dict dictinoary\n",
    "        else:\n",
    "            for group in docs_name_dict.items():\n",
    "                person = group[0]\n",
    "                if word in docs_name_dict[person]:\n",
    "                    if docs_name_dict[person][word] > 1:\n",
    "                        docs_name_dict[person][word] -= 1\n",
    "                    else:\n",
    "                        del docs_name_dict[person][word]\n",
    "    texts.append(temp_doc)"
   ]
  },
  {
   "cell_type": "markdown",
   "metadata": {},
   "source": [
    "We proceed to save the refined texts file and the dictionary, docs_name_dict."
   ]
  },
  {
   "cell_type": "code",
   "execution_count": null,
   "metadata": {
    "collapsed": false
   },
   "outputs": [],
   "source": [
    "import json\n",
    "chdir('/home/peter/Topic_Modelling/LDA/')\n",
    "\n",
    "# We save the new 'refined' texts file\n",
    "with open('texts.jsn','w') as f:\n",
    "    json.dump(texts,f)"
   ]
  },
  {
   "cell_type": "code",
   "execution_count": null,
   "metadata": {
    "collapsed": false
   },
   "outputs": [],
   "source": [
    "import pickle\n",
    "chdir('/home/peter/Topic_Modelling/LDA/')\n",
    "\n",
    "# We save the docs_name_dict global person, word-count dictionary\n",
    "pickle.dump( docs_name_dict , open( \"docs_name_dict.p\", \"wb\" ) )"
   ]
  },
  {
   "cell_type": "code",
   "execution_count": 6,
   "metadata": {
    "collapsed": false
   },
   "outputs": [
    {
     "name": "stdout",
     "output_type": "stream",
     "text": [
      "time: 643 ms\n"
     ]
    }
   ],
   "source": [
    "import json\n",
    "chdir('/home/peter/Topic_Modelling/LDA/')\n",
    "\n",
    "# Loading the texts file\n",
    "with open('texts.jsn', 'r') as f:\n",
    "    texts = json.load(f)"
   ]
  },
  {
   "cell_type": "code",
   "execution_count": 7,
   "metadata": {
    "collapsed": false
   },
   "outputs": [
    {
     "name": "stdout",
     "output_type": "stream",
     "text": [
      "time: 71.4 ms\n"
     ]
    }
   ],
   "source": [
    "import pickle\n",
    "chdir('/home/peter/Topic_Modelling/LDA/')\n",
    "\n",
    "# Loading the docs_name_dict dicitonary\n",
    "docs_name_dict = pickle.load( open( \"docs_name_dict.p\", \"rb\" ) )"
   ]
  },
  {
   "cell_type": "markdown",
   "metadata": {},
   "source": [
    "Below, we construct the document term matrix whereafter the fairly lengthy process of constructing the model takes place. Thus far the model seems be linear. With a single pass, the model takes just upward of a minute to execute, whereas for 5 passes, the model takes roughly 5.5 minutes.\n",
    "\n",
    "The model was run for 350 passes and took 316 minutes to execute."
   ]
  },
  {
   "cell_type": "code",
   "execution_count": null,
   "metadata": {
    "collapsed": false
   },
   "outputs": [],
   "source": [
    "# Constructing a document-term matrix\n",
    "\n",
    "from gensim import corpora, models\n",
    "\n",
    "dictionary = corpora.Dictionary(texts)\n",
    "\n",
    "corpus = [dictionary.doc2bow(text) for text in texts]\n"
   ]
  },
  {
   "cell_type": "code",
   "execution_count": null,
   "metadata": {
    "collapsed": false
   },
   "outputs": [],
   "source": [
    "ldamodel = models.ldamodel.LdaModel(corpus, num_topics=20, id2word = dictionary, passes=350)"
   ]
  },
  {
   "cell_type": "markdown",
   "metadata": {},
   "source": [
    "We save both the LDA data as well as the results. We can reanalyse later. See the folder called LDAdata.\n",
    "\n",
    "To load the files again:\n",
    "\n",
    "ldamodel = models.LdaModel.load('ldamodel.model') and dictionary = corpora.Dictionary.load('dictionary')\n"
   ]
  },
  {
   "cell_type": "code",
   "execution_count": null,
   "metadata": {
    "collapsed": false
   },
   "outputs": [],
   "source": [
    "import json\n",
    "\n",
    "chdir('/home/peter/Topic_Modelling/LDA/LDAdata_results')\n",
    "\n",
    "# Saving the dictionary\n",
    "dictionary.save('dictionary')\n",
    "\n",
    "# Saving the corpus    \n",
    "with open('corpus.jsn','w') as f:\n",
    "    json.dump(corpus,f)    \n",
    "\n",
    "# Saving the ldamodel\n",
    "ldamodel.save('ldamodel')"
   ]
  },
  {
   "cell_type": "code",
   "execution_count": 8,
   "metadata": {
    "collapsed": false
   },
   "outputs": [
    {
     "name": "stdout",
     "output_type": "stream",
     "text": [
      "time: 519 ms\n"
     ]
    }
   ],
   "source": [
    "from gensim import corpora\n",
    "\n",
    "chdir('/home/peter/Topic_Modelling/LDA/LDAdata_results')\n",
    "\n",
    "# Load dictionary\n",
    "dictionary = corpora.Dictionary.load('dictionary')"
   ]
  },
  {
   "cell_type": "code",
   "execution_count": 9,
   "metadata": {
    "collapsed": false
   },
   "outputs": [
    {
     "name": "stdout",
     "output_type": "stream",
     "text": [
      "time: 95 ms\n"
     ]
    }
   ],
   "source": [
    "from gensim import models\n",
    "\n",
    "chdir('/home/peter/Topic_Modelling/LDA/LDAdata_results')\n",
    "\n",
    "# Load ldamodel\n",
    "ldamodel = models.LdaModel.load('ldamodel') "
   ]
  },
  {
   "cell_type": "code",
   "execution_count": 10,
   "metadata": {
    "collapsed": false
   },
   "outputs": [
    {
     "name": "stdout",
     "output_type": "stream",
     "text": [
      "time: 2.29 s\n"
     ]
    }
   ],
   "source": [
    "import json\n",
    "\n",
    "chdir('/home/peter/Topic_Modelling/LDA/LDAdata_results')\n",
    "\n",
    "# Load corpus\n",
    "with open('corpus.jsn','r') as f:\n",
    "    corpus = json.load(f)"
   ]
  },
  {
   "cell_type": "markdown",
   "metadata": {},
   "source": [
    "We now print the words for each of the given topics. It must be noted, that even though considerable emphasis has been placed on the construction of the regular expressions, 'junk-text' may be present."
   ]
  },
  {
   "cell_type": "code",
   "execution_count": 11,
   "metadata": {
    "collapsed": false,
    "scrolled": true
   },
   "outputs": [
    {
     "name": "stdout",
     "output_type": "stream",
     "text": [
      "Topic 0: \n",
      "john ect future member broker brent click nymex board jason\n",
      "\n",
      "----------------------------------------------------------------------------------------------------\n",
      "\n",
      "Topic 1: \n",
      "contract party agreement language may transaction issue term credit payment\n",
      "\n",
      "----------------------------------------------------------------------------------------------------\n",
      "\n",
      "Topic 2: \n",
      "power california state energy market said utility price electricity cost\n",
      "\n",
      "----------------------------------------------------------------------------------------------------\n",
      "\n",
      "Topic 3: \n",
      "just get think going one dont day see good time\n",
      "\n",
      "----------------------------------------------------------------------------------------------------\n",
      "\n",
      "Topic 4: \n",
      "city new university houston school student producer san class administration\n",
      "\n",
      "----------------------------------------------------------------------------------------------------\n",
      "\n",
      "Topic 5: \n",
      "information need also project access employee process provide like issue\n",
      "\n",
      "----------------------------------------------------------------------------------------------------\n",
      "\n",
      "Topic 6: \n",
      "agreement attached draft copy document master need change letter form\n",
      "\n",
      "----------------------------------------------------------------------------------------------------\n",
      "\n",
      "Topic 7: \n",
      "fax texas street smith sara houston shackleton phone legal perlingiere\n",
      "\n",
      "----------------------------------------------------------------------------------------------------\n",
      "\n",
      "Topic 8: \n",
      "tax sherri corp court loan land story property judge meter\n",
      "\n",
      "----------------------------------------------------------------------------------------------------\n",
      "\n",
      "Topic 9: \n",
      "gas company energy trading power natural product trade financial pipeline\n",
      "\n",
      "----------------------------------------------------------------------------------------------------\n",
      "\n",
      "Topic 10: \n",
      "vince forwarded love god game sound year man one play\n",
      "\n",
      "----------------------------------------------------------------------------------------------------\n",
      "\n",
      "Topic 11: \n",
      "meeting conference call week friday next thursday time monday schedule\n",
      "\n",
      "----------------------------------------------------------------------------------------------------\n",
      "\n",
      "Topic 12: \n",
      "chris gas ben book daily report volume thanks forwarded need\n",
      "\n",
      "----------------------------------------------------------------------------------------------------\n",
      "\n",
      "Topic 13: \n",
      "business mark group risk management market new service global trading\n",
      "\n",
      "----------------------------------------------------------------------------------------------------\n",
      "\n",
      "Topic 14: \n",
      "deal forwarded thanks delainey desk contract tom mike eol zone\n",
      "\n",
      "----------------------------------------------------------------------------------------------------\n",
      "\n",
      "Topic 15: \n",
      "price shall day option per month date value rate period\n",
      "\n",
      "----------------------------------------------------------------------------------------------------\n",
      "\n",
      "Topic 16: \n",
      "internet kate investor software computer www buy auction world article\n",
      "\n",
      "----------------------------------------------------------------------------------------------------\n",
      "\n",
      "Topic 17: \n",
      "jeff debra john bill richard robert kay dasovich david bob\n",
      "\n",
      "----------------------------------------------------------------------------------------------------\n",
      "\n",
      "Topic 18: \n",
      "know let get jeff need want like thanks call think\n",
      "\n",
      "----------------------------------------------------------------------------------------------------\n",
      "\n",
      "Topic 19: \n",
      "message intended information email communication may received use recipient error\n",
      "\n",
      "----------------------------------------------------------------------------------------------------\n",
      "\n",
      "time: 24 ms\n"
     ]
    }
   ],
   "source": [
    "num_topics = 20\n",
    "num_words = 10\n",
    "\n",
    "List = ldamodel.print_topics(num_topics, num_words)\n",
    "Topic_words =[]\n",
    "for i in range(0,len(List)):\n",
    "    word_list = re.sub(r'(.\\....\\*)|(\\+ .\\....\\*)', '',List[i][1])\n",
    "    temp = [word for word in word_list.split()]\n",
    "    Topic_words.append(temp)\n",
    "    print('Topic ' + str(i) + ': ' + '\\n' + str(word_list))\n",
    "    print('\\n' + '-'*100 + '\\n')"
   ]
  },
  {
   "cell_type": "markdown",
   "metadata": {},
   "source": [
    "The list of words created above is saved below. "
   ]
  },
  {
   "cell_type": "code",
   "execution_count": null,
   "metadata": {
    "collapsed": true
   },
   "outputs": [],
   "source": [
    "import json\n",
    "\n",
    "chdir('/home/peter/Topic_Modelling/LDA/LDAdata_results')\n",
    "\n",
    "# Saving the list of words\n",
    "with open('topic_words.jsn','w') as f:\n",
    "    json.dump(Topic_words,f)"
   ]
  },
  {
   "cell_type": "code",
   "execution_count": 12,
   "metadata": {
    "collapsed": false
   },
   "outputs": [
    {
     "name": "stdout",
     "output_type": "stream",
     "text": [
      "time: 2.33 ms\n"
     ]
    }
   ],
   "source": [
    "import json\n",
    "\n",
    "chdir('/home/peter/Topic_Modelling/LDA/LDAdata_results')\n",
    "\n",
    "with open('topic_words.jsn','r') as f:\n",
    "    Topic_words = json.load(f)"
   ]
  },
  {
   "cell_type": "markdown",
   "metadata": {},
   "source": [
    "We will now proceed to visualise the data above by using the [pyLDAvis](https://pyldavis.readthedocs.io/en/latest/index.html) package."
   ]
  },
  {
   "cell_type": "code",
   "execution_count": 13,
   "metadata": {
    "collapsed": false
   },
   "outputs": [
    {
     "name": "stderr",
     "output_type": "stream",
     "text": [
      "/home/peter/anaconda3/lib/python3.5/site-packages/pandas/__init__.py:7: DeprecationWarning: bad escape \\s\n",
      "  from pandas import hashtable, tslib, lib\n",
      "/home/peter/anaconda3/lib/python3.5/site-packages/funcy/decorators.py:56: DeprecationWarning: inspect.getargspec() is deprecated, use inspect.signature() instead\n",
      "  spec = inspect.getargspec(func)\n",
      "/home/peter/anaconda3/lib/python3.5/site-packages/funcy/decorators.py:56: DeprecationWarning: inspect.getargspec() is deprecated, use inspect.signature() instead\n",
      "  spec = inspect.getargspec(func)\n",
      "/home/peter/anaconda3/lib/python3.5/site-packages/funcy/decorators.py:56: DeprecationWarning: inspect.getargspec() is deprecated, use inspect.signature() instead\n",
      "  spec = inspect.getargspec(func)\n",
      "/home/peter/anaconda3/lib/python3.5/site-packages/funcy/decorators.py:56: DeprecationWarning: inspect.getargspec() is deprecated, use inspect.signature() instead\n",
      "  spec = inspect.getargspec(func)\n",
      "/home/peter/anaconda3/lib/python3.5/site-packages/funcy/decorators.py:56: DeprecationWarning: inspect.getargspec() is deprecated, use inspect.signature() instead\n",
      "  spec = inspect.getargspec(func)\n",
      "/home/peter/anaconda3/lib/python3.5/site-packages/funcy/decorators.py:56: DeprecationWarning: inspect.getargspec() is deprecated, use inspect.signature() instead\n",
      "  spec = inspect.getargspec(func)\n"
     ]
    },
    {
     "data": {
      "text/html": [
       "\n",
       "<link rel=\"stylesheet\" type=\"text/css\" href=\"https://cdn.rawgit.com/bmabey/pyLDAvis/files/ldavis.v1.0.0.css\">\n",
       "\n",
       "\n",
       "<div id=\"ldavis_el42371400156855885763630956781\"></div>\n",
       "<script type=\"text/javascript\">\n",
       "\n",
       "var ldavis_el42371400156855885763630956781_data = {\"topic.order\": [3, 6, 19, 4, 7, 2, 14, 11, 10, 18, 12, 16, 20, 5, 8, 9, 13, 15, 1, 17], \"token.table\": {\"Topic\": [2, 3, 4, 2, 12, 16, 15, 18, 7, 4, 12, 6, 14, 7, 19, 3, 5, 11, 1, 11, 1, 3, 6, 5, 6, 9, 3, 14, 11, 13, 19, 10, 3, 9, 15, 1, 2, 3, 4, 5, 6, 7, 13, 17, 19, 11, 2, 4, 6, 7, 5, 5, 6, 7, 8, 9, 11, 14, 15, 1, 6, 12, 20, 10, 5, 2, 11, 2, 3, 5, 8, 15, 3, 4, 5, 6, 4, 8, 13, 20, 4, 2, 9, 12, 7, 17, 2, 5, 6, 12, 17, 1, 6, 9, 10, 11, 17, 18, 6, 6, 1, 2, 4, 7, 11, 17, 7, 18, 14, 17, 19, 3, 1, 5, 20, 1, 6, 7, 12, 5, 2, 5, 10, 13, 5, 5, 13, 11, 11, 1, 20, 2, 3, 8, 14, 17, 5, 12, 13, 1, 2, 3, 6, 11, 12, 12, 14, 3, 4, 5, 7, 8, 9, 2, 10, 7, 6, 7, 6, 9, 10, 2, 6, 7, 9, 12, 17, 8, 13, 11, 6, 16, 20, 7, 20, 19, 5, 17, 1, 1, 2, 3, 4, 6, 7, 8, 15, 18, 1, 3, 5, 10, 13, 18, 1, 4, 5, 7, 1, 7, 11, 12, 19, 5, 9, 10, 18, 19, 19, 2, 3, 7, 8, 17, 15, 20, 18, 5, 7, 1, 5, 8, 10, 19, 14, 7, 13, 19, 12, 19, 17, 8, 10, 11, 14, 2, 10, 19, 17, 7, 19, 13, 1, 2, 7, 11, 12, 19, 1, 4, 9, 12, 18, 20, 12, 4, 7, 12, 19, 1, 9, 18, 2, 3, 4, 5, 11, 12, 15, 17, 3, 6, 19, 10, 13, 6, 9, 3, 4, 6, 9, 14, 9, 1, 6, 9, 1, 7, 20, 10, 10, 15, 20, 1, 2, 3, 4, 6, 11, 12, 13, 16, 2, 6, 16, 8, 15, 18, 1, 10, 11, 5, 7, 9, 7, 12, 19, 10, 1, 7, 1, 2, 5, 6, 7, 12, 14, 17, 18, 19, 1, 2, 5, 12, 17, 18, 19, 9, 10, 15, 19, 14, 10, 17, 20, 8, 14, 16, 20, 3, 10, 1, 13, 14, 15, 8, 14, 20, 6, 12, 19, 2, 12, 19, 15, 1, 2, 19, 11, 4, 8, 9, 7, 1, 2, 3, 4, 8, 19, 1, 2, 3, 5, 6, 1, 7, 1, 7, 10, 11, 7, 10, 13, 1, 2, 9, 1, 2, 5, 19, 17, 3, 20, 11, 20, 6, 13, 5, 5, 11, 15, 18, 5, 11, 12, 17, 18, 14, 8, 14, 1, 2, 3, 5, 11, 13, 15, 19, 2, 6, 13, 12, 14, 1, 2, 3, 4, 6, 7, 9, 1, 5, 6, 9, 12, 18, 19, 16, 19, 11, 4, 15, 2, 5, 13, 19, 13, 9, 9, 14, 16, 2, 5, 7, 7, 9, 12, 13, 2, 5, 6, 17, 18, 1, 2, 6, 12, 5, 6, 7, 13, 15, 5, 6, 9, 12, 18, 1, 16, 6, 16, 11, 17, 5, 6, 7, 12, 15, 11, 1, 17, 3, 5, 10, 9, 1, 2, 9, 12, 14, 1, 12, 17, 6, 5, 1, 3, 10, 1, 2, 2, 3, 5, 6, 11, 12, 14, 2, 5, 10, 18, 1, 10, 15, 16, 3, 4, 6, 11, 12, 14, 17, 1, 18, 15, 10, 18, 10, 1, 6, 11, 12, 19, 18, 6, 13, 6, 18, 5, 6, 13, 6, 9, 12, 13, 16, 1, 6, 12, 10, 10, 15, 1, 2, 7, 12, 15, 12, 1, 7, 1, 2, 2, 17, 18, 13, 12, 7, 1, 2, 5, 7, 11, 3, 4, 20, 3, 14, 1, 2, 5, 6, 13, 14, 1, 7, 11, 16, 19, 13, 7, 13, 2, 3, 5, 6, 11, 13, 1, 2, 13, 12, 5, 13, 1, 5, 6, 13, 8, 18, 15, 3, 4, 6, 15, 17, 5, 6, 5, 8, 16, 4, 3, 1, 11, 1, 4, 9, 10, 11, 13, 17, 9, 5, 7, 13, 19, 1, 8, 11, 10, 16, 16, 7, 15, 16, 1, 9, 1, 17, 3, 6, 8, 10, 19, 2, 3, 2, 3, 5, 13, 15, 1, 9, 2, 12, 2, 5, 6, 7, 9, 15, 16, 17, 5, 1, 7, 9, 8, 14, 1, 3, 8, 19, 17, 13, 18, 6, 9, 18, 18, 6, 7, 9, 13, 16, 9, 12, 18, 5, 12, 1, 5, 13, 15, 16, 7, 18, 7, 18, 3, 14, 4, 6, 11, 3, 6, 8, 1, 5, 16, 12, 1, 7, 9, 12, 19, 2, 5, 5, 6, 19, 9, 1, 9, 12, 9, 2, 2, 1, 6, 18, 11, 8, 1, 7, 20, 8, 3, 5, 13, 15, 5, 13, 12, 17, 1, 6, 16, 2, 8, 1, 6, 2, 8, 9, 16, 18, 1, 2, 5, 6, 13, 17, 1, 6, 16, 1, 7, 14, 15, 1, 2, 6, 7, 9, 12, 3, 1, 2, 5, 6, 7, 9, 12, 13, 19, 1, 2, 3, 4, 5, 6, 7, 8, 11, 12, 14, 17, 17, 11, 17, 17, 14, 12, 19, 3, 8, 8, 4, 7, 17, 2, 5, 6, 12, 2, 1, 2, 3, 5, 11, 12, 17, 2, 5, 8, 11, 13, 14, 17, 18, 4, 3, 9, 9, 10, 15, 15, 2, 3, 8, 11, 12, 13, 20, 14, 9, 3, 11, 19, 4, 8, 14, 9, 12, 1, 4, 8, 2, 6, 7, 12, 14, 17, 1, 2, 9, 12, 19, 8, 4, 9, 17, 11, 1, 1, 1, 2, 3, 4, 5, 8, 4, 6, 1, 2, 3, 4, 5, 6, 15, 17, 20, 3, 12, 7, 18, 1, 2, 8, 3, 4, 6, 19, 1, 2, 3, 4, 6, 8, 19, 10, 3, 4, 10, 1, 10, 14, 1, 2, 3, 7, 9, 13, 6, 12, 7, 5, 6, 2, 4, 6, 1, 17, 3, 4, 8, 18, 14, 5, 20, 10, 13, 7, 10, 15, 15, 4, 14, 16, 9, 2, 20, 8, 1, 2, 3, 4, 5, 15, 18, 13, 10, 13, 17, 1, 9, 3, 4, 8, 11, 20, 2, 3, 4, 5, 7, 8, 11, 13, 16, 7, 11, 14, 15, 1, 2, 3, 4, 5, 6, 9, 12, 18, 4, 4, 20, 3, 16, 17, 18, 11, 3, 9, 1, 2, 3, 2, 12, 3, 3, 4, 5, 9, 8, 2, 7, 13, 14, 19, 2, 2, 16, 5, 1, 2, 12, 19, 11, 12, 17, 7, 12, 2, 7, 13, 20, 3, 2, 5, 13, 2, 2, 17, 2, 6, 7, 6, 13, 11, 6, 1, 7, 11, 14, 16, 19, 20, 12, 2, 17, 20, 1, 7, 9, 20, 11, 10, 14, 6, 14, 2, 3, 7, 5, 15, 17, 1, 1, 2, 3, 5, 6, 7, 12, 17, 12, 14, 1, 3, 7, 10, 13, 10, 17, 15, 9, 8, 16, 19, 3, 7, 10, 3, 3, 7, 8, 10, 13, 7, 10, 18, 3, 5, 7, 10, 19, 2, 13, 6, 16, 1, 3, 4, 5, 18, 1, 20, 10, 13, 20, 10, 15, 10, 15, 19, 10, 10, 16, 4, 18, 2, 3, 10, 17, 8, 12, 3, 19, 4, 3, 4, 5, 9, 14, 17, 20, 3, 1, 8, 16, 5, 6, 3, 1, 2, 3, 4, 5, 11, 12, 7, 1, 6, 13, 14, 16, 1, 10, 3, 10, 14, 16, 19, 2, 5, 6, 7, 15, 1, 1, 5, 18, 3, 5, 5, 6, 8, 10, 12, 6, 13, 4, 8, 2, 3, 4, 5, 8, 11, 6, 2, 19, 20, 9, 11, 2, 3, 5, 9, 10, 11, 13, 1, 4, 8, 1, 3, 8, 11, 5, 9, 15, 13, 13, 17, 16, 7, 16, 2, 3, 4, 5, 8, 11, 15, 17, 18, 1, 2, 3, 4, 15, 19, 4, 8, 15, 8, 8, 11, 19, 2, 3, 5, 8, 10, 13, 6, 1, 2, 3, 4, 5, 6, 11, 8, 19, 2, 7, 7, 8, 10, 20, 17, 10, 1, 6, 9, 11, 19, 15, 3, 19, 3, 5, 7, 10, 11, 15, 18, 5, 1, 7, 9, 12, 2, 9, 11, 19, 3, 10, 15, 18, 19, 5, 15, 19, 12, 1, 2, 3, 4, 5, 6, 10, 11, 12, 13, 14, 12, 16, 1, 2, 3, 5, 11, 12, 2, 3, 11, 10, 1, 2, 7, 10, 11, 12, 14, 19, 14, 7, 3, 4, 5, 10, 13, 15, 7, 16, 8, 9, 3, 4, 5, 10, 8, 19, 2, 3, 7, 10, 18, 1, 12, 16, 3, 13, 20, 12, 6, 2, 6, 6, 8, 11, 3, 1, 3, 11, 2, 1, 2, 4, 12, 17, 19, 1, 10, 12, 17, 18, 5, 16, 16, 6, 16, 4, 13, 12, 20, 20, 2, 3, 4, 5, 8, 9, 18, 19, 9, 9, 19, 15, 19, 2, 3, 4, 5, 6, 17, 18, 18, 10, 15, 19, 5, 1, 2, 1, 2, 4, 5, 7, 8, 9, 10, 12, 13, 14, 17, 18, 19, 20, 15, 1, 8, 13, 14, 8, 20, 1, 2, 3, 4, 6, 7, 11, 4, 14, 18, 4, 7, 9, 11, 15, 17, 9, 20, 2, 3, 5, 6, 11, 5, 6, 8, 12, 13, 19, 13, 13, 14, 1, 2, 3, 4, 5, 6, 7, 8, 9, 20, 1, 2, 3, 4, 5, 11, 12, 15, 17, 18, 12, 17, 19, 6, 12, 11, 1, 6, 11, 19, 1, 2, 4, 9, 10, 12, 13, 14, 2, 3, 5, 7, 11, 12, 9, 4, 1, 2, 3, 4, 5, 6, 8, 9, 11, 12, 19, 12, 2, 7, 9, 12, 14, 9, 1, 2, 6, 7, 9, 19, 16, 1, 2, 12, 10, 2, 7, 5, 9, 1, 9, 11, 7, 4, 20, 4, 1, 2, 3, 6, 7, 8, 4, 6, 13, 9, 13, 3, 5, 7, 9, 10, 13, 10, 11, 1, 4, 6, 12, 6, 12, 20, 4, 1, 12, 20, 16, 11, 2, 3, 4, 7, 8, 1, 5, 9, 12, 14, 18, 1, 12, 18, 8, 1, 6, 12, 15, 12, 3, 11, 13, 10, 18, 3, 5, 11, 13, 15, 7, 9, 12, 17, 3, 14, 20, 1, 4, 6, 9, 1, 2, 3, 11, 1, 1, 8, 1, 2, 3, 4, 6, 12, 17, 18, 1, 1, 4, 17, 16, 7, 1, 2, 6, 7, 12, 17, 19, 1, 9, 6, 18, 4, 4, 16, 19, 12, 19, 1, 7, 8, 19, 1, 12, 16, 17, 1, 2, 6, 12, 17, 5, 13, 20, 2, 5, 6, 1, 2, 5, 14, 2, 7, 9, 12, 13, 14, 1, 2, 8, 11, 12, 14, 1, 2, 5, 6, 17, 8, 6, 13, 14, 16, 1, 2, 5, 1, 2, 5, 6, 7, 11, 12, 17, 6, 8, 1, 2, 8, 9, 1, 13, 9, 1, 5, 6, 9, 12, 14, 6, 12, 1, 2, 3, 5, 6, 8, 11, 12, 17, 19, 9, 12, 19, 14, 8, 10, 19, 1, 6, 12, 3, 4, 19, 2, 5, 6, 12, 13, 19, 13, 5, 2, 3, 5, 6, 7, 11, 13, 15, 18, 11, 1, 20, 13, 9, 12, 15, 5, 2, 3, 11, 13, 1, 2, 7, 17, 6, 2, 5, 6, 12, 19, 1, 2, 6, 8, 12, 15, 1, 2, 7, 9, 11, 14, 11, 14, 13, 2, 5, 6, 7, 20, 2, 5, 12, 13, 5, 6, 12, 10, 14, 10, 13, 16, 18, 2, 3, 7, 10, 2, 3, 4, 6, 8, 12, 1, 2, 6, 7, 17, 9, 10, 12, 17, 18, 4, 3, 1, 2, 7, 4, 11, 14, 20, 11, 6, 19, 1, 3, 4, 8, 18, 1, 11, 13, 14, 14, 18, 5, 15, 1, 4, 6, 16, 3, 5, 6, 11, 12, 1, 10, 11, 12, 8, 14, 2, 3, 5, 10, 16, 1, 8, 11, 5, 6, 12, 14, 2, 3, 4, 5, 9, 12, 15, 17, 18, 1, 12, 18, 20, 1, 6, 12, 14, 2, 3, 5, 8, 13, 15, 13, 2, 3, 4, 5, 13, 14, 20, 11, 2, 1, 2, 6, 7, 9, 14, 11, 1, 2, 3, 5, 6, 9, 11, 12, 18, 15, 6, 12, 1, 2, 4, 7, 8, 12, 14, 10, 15, 4, 16, 8, 13, 6, 14, 15, 18, 1, 3, 4, 5, 8, 17, 18, 17, 5, 1, 5, 2, 9, 8, 2, 2, 4, 20, 1, 3, 8, 20, 10, 15, 16, 16, 20, 12, 18, 2, 3, 4, 5, 8, 8, 10, 14, 5, 10, 20, 17, 4, 6, 10, 11, 14, 9, 12, 19, 2, 17, 10, 16, 18, 10, 16, 1, 6, 8, 12, 13, 14, 15, 7, 17, 3, 5, 10, 18, 1, 2, 3, 5, 7, 10, 13, 3, 10, 1, 2, 3, 4, 5, 15, 10, 1, 12, 9, 17, 3, 16, 2, 1, 15, 13, 18, 14, 1, 20, 16, 8, 14, 11, 13, 14, 15, 20, 14, 11, 20, 6, 1, 6, 9, 12, 1, 2, 5, 6, 7, 10, 20, 2, 3, 4, 5, 6, 12, 20, 2, 3, 5, 10, 5, 6, 7, 15, 17, 18, 20, 1, 2, 7, 9, 13, 18, 20, 18, 1, 2, 3, 4, 6, 7, 11, 12, 17, 1, 3, 4, 5, 6, 16, 2, 3, 7, 8, 1, 7, 9, 11, 3, 4, 8, 1, 2, 5, 6, 7, 12, 18, 14, 6, 6, 12, 3, 4, 12, 17, 16, 16, 17, 8, 15, 6, 19, 20, 2, 3, 5, 11, 13, 14, 17, 3, 5, 11, 15, 17, 18, 1, 4, 12, 3, 4, 14, 3, 4, 5, 6, 5, 17, 1, 11, 4, 14, 18, 1, 2, 3, 4, 6, 8, 11, 12, 1, 3, 4, 5, 7, 9, 10, 11, 15, 17, 20, 1, 2, 3, 5, 7, 8, 10, 18, 3, 5, 11, 15, 3, 2, 1, 2, 8, 9, 7, 1, 12, 14, 18, 4, 5, 9, 12, 18, 19, 2, 9, 17, 18, 7, 9, 5, 6, 7, 12, 4, 2, 6, 7, 10, 1, 9, 10, 4, 12, 8, 11, 14, 7, 8, 16, 16, 19, 7, 13, 17, 3, 4, 5, 1, 11, 19, 1, 13, 1, 2, 7, 12, 11, 14, 2, 2, 5, 6, 8, 13, 7, 1, 2, 4, 5, 6, 12, 13, 17, 1, 2, 9, 1, 1, 2, 7, 12, 17, 17, 14, 5, 5, 9, 5, 20, 7, 16, 19, 1, 2, 6, 8, 20, 17, 1, 6, 12, 17, 18, 15, 6, 3, 4, 5, 6, 14, 15, 3, 4, 5, 5, 7, 16, 1, 2, 3, 4, 6, 8, 4, 7, 9, 2, 11, 1, 3, 11, 1, 2, 3, 4, 11, 4, 11, 1, 2, 3, 4, 5, 7, 8, 17, 4, 8, 16, 1, 9, 14, 17, 18, 17, 15, 8, 4, 1, 2, 3, 5, 6, 11, 4, 3, 9, 4, 14, 3, 3, 4, 14, 8, 2, 3, 4, 6, 7, 13, 15, 2, 3, 4, 5, 10, 5, 20, 1, 7, 8, 20, 4, 8, 9, 11, 20, 14, 15, 1, 2, 4, 6, 7, 8, 12, 3, 8, 9, 16, 7, 9, 12, 13, 14, 20, 4, 8, 15, 18], \"Term\": [\"access\", \"accomplish\", \"accord\", \"account\", \"account\", \"account\", \"accrual\", \"ace\", \"actively\", \"addressee\", \"addressee\", \"adjustment\", \"administration\", \"advisor\", \"advisory\", \"afternoon\", \"afternoon\", \"afternoon\", \"agenda\", \"agenda\", \"agree\", \"agree\", \"agree\", \"agreement\", \"agreement\", \"agreement\", \"aint\", \"airline\", \"alamo\", \"alert\", \"alert\", \"alex\", \"allegheny\", \"alliance\", \"alos\", \"also\", \"also\", \"also\", \"also\", \"also\", \"also\", \"also\", \"also\", \"also\", \"also\", \"alto\", \"always\", \"always\", \"always\", \"always\", \"amend\", \"amendment\", \"amendment\", \"america\", \"america\", \"america\", \"america\", \"america\", \"america\", \"amount\", \"amount\", \"amount\", \"angel\", \"ann\", \"annex\", \"anticipate\", \"antonio\", \"anyone\", \"anyone\", \"anyone\", \"anyone\", \"anyone\", \"anything\", \"anything\", \"anything\", \"anything\", \"anyway\", \"aol\", \"aol\", \"aol\", \"apartment\", \"application\", \"application\", \"application\", \"appointed\", \"approaching\", \"approval\", \"approval\", \"approval\", \"approval\", \"apr\", \"april\", \"april\", \"april\", \"april\", \"april\", \"april\", \"april\", \"aquila\", \"arbitration\", \"area\", \"area\", \"area\", \"area\", \"area\", \"area\", \"argentina\", \"argentine\", \"arizona\", \"arnold\", \"arnold\", \"arranged\", \"article\", \"article\", \"article\", \"asset\", \"asset\", \"asset\", \"asset\", \"attach\", \"attached\", \"attached\", \"attached\", \"attached\", \"attaching\", \"attachment\", \"attachment\", \"attend\", \"attendee\", \"auction\", \"auction\", \"audit\", \"austin\", \"austin\", \"austin\", \"australian\", \"authorized\", \"authorized\", \"authorized\", \"available\", \"available\", \"available\", \"available\", \"available\", \"available\", \"awaiting\", \"award\", \"back\", \"back\", \"back\", \"back\", \"back\", \"back\", \"background\", \"bailey\", \"bandwidth\", \"bank\", \"bank\", \"bankruptcy\", \"bankruptcy\", \"barry\", \"basis\", \"basis\", \"basis\", \"basis\", \"basis\", \"basis\", \"bass\", \"bass\", \"baylor\", \"bcf\", \"bear\", \"bear\", \"becoming\", \"belden\", \"bell\", \"ben\", \"ben\", \"berkeley\", \"best\", \"best\", \"best\", \"best\", \"best\", \"best\", \"best\", \"best\", \"bet\", \"bill\", \"bill\", \"bill\", \"bill\", \"bill\", \"bill\", \"billion\", \"birthday\", \"blacklined\", \"blank\", \"board\", \"board\", \"board\", \"board\", \"board\", \"bob\", \"bob\", \"bob\", \"bob\", \"bob\", \"bois\", \"book\", \"book\", \"book\", \"book\", \"book\", \"bother\", \"boy\", \"bradley\", \"brant\", \"brazil\", \"break\", \"break\", \"break\", \"brent\", \"brent\", \"bringing\", \"broadband\", \"brobeck\", \"broker\", \"brokerage\", \"brokerage\", \"brother\", \"brown\", \"brown\", \"brown\", \"brown\", \"bruce\", \"bruce\", \"bryan\", \"btu\", \"budget\", \"burn\", \"burton\", \"business\", \"business\", \"business\", \"business\", \"business\", \"business\", \"buy\", \"buy\", \"buy\", \"buy\", \"buy\", \"buy\", \"buyer\", \"buying\", \"cal\", \"calculate\", \"calgary\", \"california\", \"california\", \"californian\", \"call\", \"call\", \"call\", \"call\", \"call\", \"call\", \"call\", \"call\", \"calpx\", \"cameron\", \"camp\", \"campbell\", \"campbell\", \"canada\", \"canada\", \"cant\", \"cant\", \"cap\", \"cap\", \"cap\", \"capability\", \"capacity\", \"capacity\", \"capacity\", \"capital\", \"capital\", \"carefully\", \"carlos\", \"carol\", \"carol\", \"carr\", \"case\", \"case\", \"case\", \"case\", \"case\", \"case\", \"case\", \"case\", \"case\", \"cash\", \"cash\", \"cash\", \"catch\", \"cdt\", \"cdwr\", \"center\", \"center\", \"center\", \"central\", \"central\", \"central\", \"ceo\", \"certificate\", \"cftc\", \"chair\", \"chairman\", \"chairman\", \"change\", \"change\", \"change\", \"change\", \"change\", \"change\", \"change\", \"change\", \"change\", \"change\", \"changed\", \"changed\", \"changed\", \"changed\", \"changed\", \"changed\", \"chante\", \"chapter\", \"cheryl\", \"cheryl\", \"chicken\", \"child\", \"chris\", \"chris\", \"christian\", \"christmas\", \"chronicle\", \"chronicle\", \"chuck\", \"church\", \"cindy\", \"city\", \"city\", \"city\", \"clair\", \"class\", \"class\", \"class\", \"clause\", \"clearing\", \"clearing\", \"click\", \"click\", \"click\", \"clint\", \"closing\", \"closing\", \"closing\", \"club\", \"cng\", \"coach\", \"coal\", \"collins\", \"come\", \"come\", \"come\", \"come\", \"come\", \"come\", \"comment\", \"comment\", \"comment\", \"comment\", \"comment\", \"commission\", \"commissioner\", \"committee\", \"committee\", \"committee\", \"committee\", \"communication\", \"communication\", \"communication\", \"company\", \"company\", \"company\", \"competitive\", \"completed\", \"completed\", \"completion\", \"compressor\", \"computer\", \"computer\", \"conference\", \"conference\", \"confidential\", \"confidential\", \"confidentiality\", \"confirm\", \"confirm\", \"confirm\", \"confirm\", \"confirmation\", \"confirmation\", \"confirmation\", \"confusion\", \"congestion\", \"congress\", \"consultant\", \"consultant\", \"consumer\", \"contact\", \"contact\", \"contact\", \"contact\", \"contact\", \"contact\", \"contact\", \"contacted\", \"contain\", \"contain\", \"contamination\", \"continental\", \"continue\", \"continue\", \"continue\", \"continue\", \"continue\", \"continue\", \"continue\", \"contract\", \"contract\", \"contract\", \"contract\", \"contract\", \"contract\", \"contract\", \"contracting\", \"contractor\", \"convenient\", \"cook\", \"cook\", \"copy\", \"copy\", \"copy\", \"copy\", \"copying\", \"core\", \"corp\", \"corp\", \"corp\", \"corporate\", \"corporate\", \"corporate\", \"corporation\", \"corporation\", \"corporation\", \"corporation\", \"correct\", \"correct\", \"correct\", \"correct\", \"correct\", \"cost\", \"cost\", \"cost\", \"cost\", \"counsel\", \"counsel\", \"counsel\", \"counsel\", \"counsel\", \"counterparty\", \"counterparty\", \"counterparty\", \"counterparty\", \"counterparty\", \"county\", \"county\", \"court\", \"court\", \"coverage\", \"coverage\", \"credit\", \"credit\", \"credit\", \"credit\", \"credit\", \"crenshaw\", \"crisis\", \"criterion\", \"curt\", \"curtailment\", \"curtis\", \"curve\", \"customer\", \"customer\", \"customer\", \"customer\", \"dad\", \"daily\", \"daily\", \"daily\", \"damage\", \"dash\", \"dasovich\", \"dasovich\", \"dasovich\", \"data\", \"data\", \"date\", \"date\", \"date\", \"date\", \"date\", \"date\", \"date\", \"david\", \"david\", \"david\", \"david\", \"davis\", \"davis\", \"davis\", \"dawn\", \"day\", \"day\", \"day\", \"day\", \"day\", \"day\", \"day\", \"deal\", \"deal\", \"dealbench\", \"debbie\", \"debbie\", \"debra\", \"december\", \"december\", \"december\", \"december\", \"december\", \"dedicated\", \"default\", \"defendant\", \"definition\", \"delainey\", \"delete\", \"delete\", \"delete\", \"delivery\", \"delivery\", \"delivery\", \"delivery\", \"delta\", \"demand\", \"demand\", \"demand\", \"denne\", \"dennis\", \"denton\", \"department\", \"department\", \"department\", \"department\", \"department\", \"deposit\", \"deregulation\", \"derivative\", \"design\", \"designed\", \"desk\", \"desk\", \"desk\", \"destroy\", \"determination\", \"deutsche\", \"development\", \"development\", \"development\", \"development\", \"development\", \"didnt\", \"didnt\", \"digital\", \"dinner\", \"dinner\", \"direct\", \"direct\", \"direct\", \"direct\", \"direct\", \"direct\", \"director\", \"director\", \"director\", \"director\", \"director\", \"disclose\", \"disclosed\", \"disclosure\", \"discus\", \"discus\", \"discus\", \"discus\", \"discus\", \"dissemination\", \"distribution\", \"distribution\", \"distribution\", \"dlcp\", \"doc\", \"doc\", \"document\", \"document\", \"document\", \"document\", \"dog\", \"dominion\", \"donna\", \"dont\", \"dont\", \"dont\", \"dperlin\", \"dpr\", \"draft\", \"draft\", \"drafted\", \"drink\", \"driving\", \"dth\", \"duane\", \"dwr\", \"earnings\", \"east\", \"east\", \"east\", \"east\", \"east\", \"east\", \"east\", \"ecc\", \"ect\", \"ect\", \"ect\", \"ect\", \"edison\", \"edu\", \"edu\", \"edward\", \"eecc\", \"eel\", \"egm\", \"elbertson\", \"election\", \"electric\", \"electric\", \"electricity\", \"element\", \"elizabeth\", \"elizabeth\", \"elizabeth\", \"elizabeth\", \"elli\", \"else\", \"else\", \"email\", \"email\", \"email\", \"email\", \"emailed\", \"emergency\", \"emission\", \"employee\", \"employer\", \"employment\", \"ena\", \"ena\", \"ena\", \"ena\", \"ena\", \"ena\", \"ena\", \"enclosed\", \"energy\", \"energy\", \"energy\", \"enjoy\", \"enjoy\", \"enough\", \"enough\", \"enough\", \"enough\", \"enovate\", \"enron_development\", \"enronxgate\", \"entered\", \"entered\", \"entered\", \"entex\", \"entity\", \"entity\", \"entity\", \"entity\", \"enw\", \"eol\", \"eol\", \"eol\", \"epc\", \"equal\", \"equipment\", \"equity\", \"error\", \"esa\", \"escrow\", \"europe\", \"europe\", \"european\", \"evelyn\", \"evening\", \"evening\", \"event\", \"event\", \"event\", \"ever\", \"ever\", \"ever\", \"evidence\", \"evidence\", \"evidence\", \"exceed\", \"exchange\", \"exchange\", \"exchange\", \"exchange\", \"exchange\", \"execute\", \"execute\", \"executed\", \"executed\", \"executing\", \"expects\", \"expense\", \"expertise\", \"expiration\", \"export\", \"extremely\", \"facilitate\", \"facility\", \"facility\", \"facility\", \"faculty\", \"false\", \"fast\", \"fast\", \"fast\", \"father\", \"favorite\", \"fax\", \"fax\", \"fax\", \"faxed\", \"fear\", \"feb\", \"feb\", \"federal\", \"federal\", \"federal\", \"feedback\", \"feeling\", \"ferc\", \"ferc\", \"field\", \"field\", \"field\", \"field\", \"field\", \"file\", \"file\", \"file\", \"file\", \"file\", \"file\", \"filing\", \"filing\", \"filing\", \"finance\", \"finance\", \"finance\", \"finance\", \"financial\", \"financial\", \"financial\", \"financial\", \"financial\", \"financial\", \"finish\", \"firm\", \"firm\", \"firm\", \"firm\", \"firm\", \"firm\", \"firm\", \"firm\", \"firm\", \"first\", \"first\", \"first\", \"first\", \"first\", \"first\", \"first\", \"first\", \"first\", \"first\", \"first\", \"first\", \"flag\", \"flagstaff\", \"flat\", \"flexible\", \"flight\", \"floating\", \"flynn\", \"folk\", \"food\", \"football\", \"forget\", \"forgot\", \"forgot\", \"form\", \"form\", \"form\", \"form\", \"forum\", \"forward\", \"forward\", \"forward\", \"forward\", \"forward\", \"forward\", \"forward\", \"forwarded\", \"forwarded\", \"forwarded\", \"forwarded\", \"forwarded\", \"forwarded\", \"forwarded\", \"forwarded\", \"fpl\", \"frame\", \"framework\", \"frank\", \"frank\", \"frank\", \"fraser\", \"free\", \"free\", \"free\", \"free\", \"free\", \"free\", \"free\", \"freeman\", \"freight\", \"friday\", \"friday\", \"friday\", \"friend\", \"friend\", \"friend\", \"fuel\", \"fuel\", \"fun\", \"fun\", \"fun\", \"function\", \"fund\", \"fund\", \"fund\", \"fund\", \"funny\", \"future\", \"future\", \"future\", \"future\", \"future\", \"game\", \"garage\", \"gas\", \"gas\", \"gen\", \"generation\", \"generator\", \"get\", \"get\", \"get\", \"get\", \"get\", \"gift\", \"girl\", \"gisb\", \"give\", \"give\", \"give\", \"give\", \"give\", \"give\", \"give\", \"give\", \"give\", \"glad\", \"gleason\", \"global\", \"global\", \"goal\", \"goal\", \"god\", \"going\", \"going\", \"going\", \"goldman\", \"good\", \"good\", \"good\", \"good\", \"good\", \"good\", \"good\", \"gore\", \"got\", \"got\", \"gov\", \"governor\", \"governor\", \"graduate\", \"grid\", \"group\", \"group\", \"group\", \"group\", \"group\", \"gtc\", \"guaranteed\", \"guarantor\", \"guaranty\", \"guaranty\", \"guess\", \"guess\", \"guideline\", \"gulf\", \"gulf\", \"guy\", \"guy\", \"guy\", \"guy\", \"haas\", \"hansen\", \"happen\", \"harris\", \"harrison\", \"harry\", \"harry\", \"harry\", \"hastings\", \"havent\", \"havent\", \"health\", \"heating\", \"hedge\", \"hedge\", \"hell\", \"help\", \"help\", \"help\", \"help\", \"help\", \"help\", \"help\", \"hereby\", \"hertzberg\", \"hey\", \"hey\", \"higher\", \"historical\", \"home\", \"home\", \"home\", \"home\", \"home\", \"hope\", \"hope\", \"hope\", \"hope\", \"hope\", \"hope\", \"hope\", \"hotmail\", \"hou\", \"houston\", \"houston\", \"houston\", \"houston\", \"however\", \"however\", \"however\", \"however\", \"however\", \"however\", \"however\", \"however\", \"however\", \"hows\", \"hpl\", \"html\", \"hull\", \"hunter\", \"hunter\", \"hunter\", \"hyatt\", \"hydro\", \"hyvl\", \"idea\", \"idea\", \"idea\", \"identify\", \"identify\", \"iep\", \"ill\", \"ill\", \"ill\", \"illinois\", \"image\", \"immediately\", \"immediately\", \"immediately\", \"immediately\", \"immediately\", \"implementation\", \"income\", \"income\", \"incorporated\", \"increase\", \"increase\", \"increase\", \"increase\", \"incurred\", \"index\", \"index\", \"india\", \"indirectly\", \"individual\", \"individual\", \"individual\", \"inform\", \"informal\", \"information\", \"information\", \"information\", \"informed\", \"initiative\", \"injection\", \"input\", \"insert\", \"inspection\", \"intended\", \"intended\", \"interconnect\", \"interconnection\", \"international\", \"international\", \"international\", \"international\", \"international\", \"internet\", \"internet\", \"interruptible\", \"interview\", \"intra\", \"invest\", \"investment\", \"investment\", \"investor\", \"investor\", \"invitation\", \"invite\", \"invite\", \"invoice\", \"invoice\", \"involved\", \"involved\", \"involved\", \"isda\", \"isda\", \"isdas\", \"iso\", \"issue\", \"issue\", \"issue\", \"issue\", \"issue\", \"issue\", \"issue\", \"issue\", \"issuer\", \"jack\", \"james\", \"james\", \"james\", \"james\", \"james\", \"jan\", \"jan\", \"janette\", \"japan\", \"jason\", \"jason\", \"jason\", \"jeff\", \"jeff\", \"jeff\", \"jeffs\", \"jim\", \"jim\", \"jim\", \"jim\", \"joannie\", \"joe\", \"joe\", \"joe\", \"john\", \"john\", \"john\", \"john\", \"john\", \"joint\", \"juan\", \"judge\", \"judge\", \"just\", \"just\", \"just\", \"just\", \"just\", \"kaminski\", \"kaplan\", \"karen\", \"karen\", \"kate\", \"katie\", \"kaufman\", \"kay\", \"kay\", \"kaye\", \"keith\", \"ken\", \"kent\", \"kern\", \"kerri\", \"kevin\", \"kevin\", \"kevin\", \"kevin\", \"kid\", \"kindly\", \"king\", \"kitchen\", \"knew\", \"know\", \"know\", \"know\", \"koch\", \"kristin\", \"ladwp\", \"lady\", \"laguna\", \"land\", \"land\", \"land\", \"language\", \"language\", \"laptop\", \"last\", \"last\", \"last\", \"last\", \"last\", \"last\", \"last\", \"launch\", \"law\", \"law\", \"law\", \"law\", \"law\", \"lay\", \"lay\", \"leaving\", \"leaving\", \"leaving\", \"leg\", \"leg\", \"legal\", \"legal\", \"legal\", \"legal\", \"legal\", \"legislative\", \"legislature\", \"lender\", \"lesli\", \"let\", \"let\", \"letter\", \"letter\", \"letter\", \"letter\", \"letter\", \"liability\", \"liability\", \"life\", \"life\", \"like\", \"like\", \"like\", \"like\", \"like\", \"like\", \"limitation\", \"link\", \"link\", \"linux\", \"liquid\", \"liquidation\", \"list\", \"list\", \"list\", \"list\", \"list\", \"list\", \"list\", \"little\", \"little\", \"little\", \"live\", \"live\", \"live\", \"liz\", \"llc\", \"llc\", \"llc\", \"llgm\", \"llp\", \"lng\", \"loan\", \"london\", \"london\", \"look\", \"look\", \"look\", \"look\", \"look\", \"look\", \"look\", \"look\", \"look\", \"lot\", \"lot\", \"lot\", \"lot\", \"lou\", \"louise\", \"love\", \"love\", \"lsu\", \"luck\", \"lunch\", \"lunch\", \"luncheon\", \"lynn\", \"mail\", \"mail\", \"mail\", \"mail\", \"mail\", \"majeure\", \"make\", \"make\", \"make\", \"make\", \"make\", \"make\", \"make\", \"man\", \"man\", \"management\", \"management\", \"managing\", \"managing\", \"mann\", \"manual\", \"mar\", \"mara\", \"march\", \"march\", \"march\", \"march\", \"march\", \"margaret\", \"marie\", \"marie\", \"mark\", \"mark\", \"mark\", \"mark\", \"mark\", \"mark\", \"mark\", \"marked\", \"market\", \"market\", \"market\", \"market\", \"marketing\", \"marketing\", \"martin\", \"martin\", \"mary\", \"mary\", \"mary\", \"mary\", \"mary\", \"master\", \"master\", \"max\", \"maximum\", \"may\", \"may\", \"may\", \"may\", \"may\", \"may\", \"may\", \"may\", \"may\", \"may\", \"may\", \"measure\", \"measure\", \"meet\", \"meet\", \"meet\", \"meet\", \"meet\", \"meet\", \"meeting\", \"meeting\", \"meeting\", \"melissa\", \"member\", \"member\", \"member\", \"member\", \"member\", \"member\", \"member\", \"member\", \"men\", \"merrill\", \"message\", \"message\", \"message\", \"message\", \"message\", \"message\", \"metal\", \"meter\", \"mexico\", \"mexico\", \"michael\", \"michael\", \"michael\", \"michael\", \"microsoft\", \"mieux\", \"mike\", \"mike\", \"mike\", \"mike\", \"mike\", \"million\", \"million\", \"million\", \"missed\", \"missed\", \"mistake\", \"mkt\", \"mmbtu\", \"model\", \"modification\", \"modified\", \"mom\", \"mon\", \"mona\", \"monday\", \"monday\", \"monday\", \"monitor\", \"month\", \"month\", \"month\", \"month\", \"month\", \"month\", \"monthly\", \"monthly\", \"monthly\", \"monthly\", \"moran\", \"morgan\", \"morgan\", \"mother\", \"motion\", \"mou\", \"mountain\", \"multipart\", \"mws\", \"mws\", \"nam\", \"name\", \"name\", \"name\", \"name\", \"name\", \"name\", \"name\", \"name\", \"nat\", \"natural\", \"nbsp\", \"nda\", \"neal\", \"need\", \"need\", \"need\", \"need\", \"need\", \"need\", \"need\", \"negm\", \"neil\", \"nelson\", \"nelson\", \"nemec\", \"network\", \"network\", \"new\", \"new\", \"new\", \"new\", \"new\", \"new\", \"new\", \"new\", \"new\", \"new\", \"new\", \"new\", \"new\", \"new\", \"new\", \"newpower\", \"news\", \"news\", \"news\", \"news\", \"newsletter\", \"newsletter\", \"next\", \"next\", \"next\", \"next\", \"next\", \"next\", \"next\", \"night\", \"night\", \"nom\", \"north\", \"north\", \"north\", \"north\", \"north\", \"north\", \"northern\", \"norton\", \"note\", \"note\", \"note\", \"note\", \"note\", \"notice\", \"notice\", \"notice\", \"notice\", \"notice\", \"notice\", \"notified\", \"notify\", \"nov\", \"now\", \"now\", \"now\", \"now\", \"now\", \"now\", \"now\", \"now\", \"now\", \"now\", \"number\", \"number\", \"number\", \"number\", \"number\", \"number\", \"number\", \"number\", \"number\", \"number\", \"nymex\", \"nymex\", \"nymex\", \"obligation\", \"obligation\", \"oct\", \"october\", \"october\", \"october\", \"october\", \"offer\", \"offer\", \"offer\", \"offer\", \"offer\", \"offer\", \"offer\", \"offer\", \"office\", \"office\", \"office\", \"office\", \"office\", \"offset\", \"oil\", \"old\", \"one\", \"one\", \"one\", \"one\", \"one\", \"one\", \"one\", \"one\", \"one\", \"one\", \"one\", \"oneok\", \"online\", \"online\", \"online\", \"online\", \"online\", \"ontario\", \"operation\", \"operation\", \"operation\", \"operation\", \"operation\", \"operation\", \"operational\", \"operator\", \"option\", \"option\", \"org\", \"origination\", \"origination\", \"overview\", \"ownership\", \"pacific\", \"pacific\", \"palo\", \"pam\", \"paribas\", \"paris\", \"parking\", \"part\", \"part\", \"part\", \"part\", \"part\", \"part\", \"party\", \"party\", \"party\", \"paso\", \"paso\", \"paul\", \"paul\", \"paul\", \"paul\", \"paul\", \"paul\", \"paula\", \"paulo\", \"pay\", \"pay\", \"pay\", \"pay\", \"payment\", \"payment\", \"pcb\", \"peace\", \"peak\", \"peak\", \"peak\", \"peaking\", \"penn\", \"people\", \"people\", \"people\", \"people\", \"people\", \"per\", \"per\", \"per\", \"per\", \"per\", \"per\", \"percent\", \"percent\", \"pereira\", \"perfect\", \"period\", \"period\", \"period\", \"perlingiere\", \"permitted\", \"personally\", \"petroleum\", \"pge\", \"phil\", \"phoenix\", \"phone\", \"phone\", \"phone\", \"phone\", \"phone\", \"physical\", \"physical\", \"physical\", \"physical\", \"pick\", \"pick\", \"pick\", \"picture\", \"picture\", \"pipeline\", \"pipeline\", \"plan\", \"plan\", \"plan\", \"plan\", \"plant\", \"play\", \"play\", \"point\", \"point\", \"point\", \"point\", \"point\", \"point\", \"point\", \"point\", \"political\", \"pool\", \"pool\", \"pool\", \"poor\", \"port\", \"position\", \"position\", \"position\", \"position\", \"position\", \"position\", \"position\", \"power\", \"power\", \"ppa\", \"ppm\", \"pray\", \"prayer\", \"prc\", \"prebon\", \"premium\", \"prentice\", \"president\", \"president\", \"president\", \"president\", \"price\", \"price\", \"price\", \"price\", \"pricing\", \"pricing\", \"pricing\", \"pricing\", \"pricing\", \"print\", \"print\", \"print\", \"privileged\", \"privileged\", \"proceeding\", \"process\", \"process\", \"process\", \"producer\", \"product\", \"product\", \"product\", \"product\", \"product\", \"professor\", \"program\", \"program\", \"program\", \"program\", \"program\", \"program\", \"project\", \"project\", \"project\", \"project\", \"prompt\", \"proper\", \"property\", \"property\", \"property\", \"property\", \"proprietary\", \"proprietary\", \"proprietary\", \"provide\", \"provide\", \"provide\", \"provide\", \"provide\", \"provide\", \"provide\", \"provide\", \"provision\", \"pst\", \"public\", \"public\", \"public\", \"public\", \"puc\", \"puc\", \"pulp\", \"purchase\", \"purchase\", \"purchase\", \"purchase\", \"purchase\", \"purchase\", \"purchaser\", \"quantity\", \"question\", \"question\", \"question\", \"question\", \"question\", \"question\", \"question\", \"question\", \"question\", \"question\", \"quote\", \"quote\", \"quote\", \"rac\", \"ralph\", \"randy\", \"ranking\", \"rate\", \"rate\", \"rate\", \"really\", \"really\", \"rebook\", \"received\", \"received\", \"received\", \"received\", \"received\", \"received\", \"recipient\", \"redline\", \"regard\", \"regard\", \"regard\", \"regard\", \"regard\", \"regard\", \"regard\", \"regard\", \"regard\", \"register\", \"regulator\", \"reimbursement\", \"reliance\", \"reliant\", \"reminder\", \"reminder\", \"renewable\", \"reply\", \"reply\", \"reply\", \"reply\", \"report\", \"report\", \"report\", \"report\", \"representation\", \"request\", \"request\", \"request\", \"request\", \"request\", \"required\", \"required\", \"required\", \"required\", \"required\", \"reschedule\", \"research\", \"research\", \"research\", \"research\", \"research\", \"research\", \"reservation\", \"reservation\", \"residential\", \"respect\", \"respect\", \"respect\", \"respect\", \"respect\", \"review\", \"review\", \"review\", \"review\", \"revised\", \"revised\", \"rex\", \"rice\", \"rice\", \"richard\", \"richard\", \"richard\", \"richter\", \"rick\", \"rick\", \"rick\", \"rick\", \"right\", \"right\", \"right\", \"right\", \"right\", \"right\", \"risk\", \"risk\", \"risk\", \"risk\", \"risk\", \"robert\", \"robert\", \"robert\", \"robin\", \"robin\", \"rocky\", \"roger\", \"role\", \"role\", \"role\", \"room\", \"room\", \"room\", \"ross\", \"rsvp\", \"russell\", \"russell\", \"said\", \"said\", \"said\", \"said\", \"samuel\", \"san\", \"san\", \"san\", \"san\", \"sandra\", \"sap\", \"sara\", \"sara\", \"say\", \"say\", \"say\", \"scenario\", \"schedule\", \"schedule\", \"schedule\", \"schedule\", \"schedule\", \"scheduled\", \"scheduled\", \"scheduled\", \"scheduled\", \"school\", \"school\", \"scott\", \"scott\", \"scott\", \"scott\", \"search\", \"season\", \"season\", \"season\", \"section\", \"section\", \"section\", \"section\", \"see\", \"see\", \"see\", \"see\", \"see\", \"see\", \"see\", \"see\", \"see\", \"sell\", \"sell\", \"sell\", \"sell\", \"seller\", \"seller\", \"seller\", \"seminar\", \"send\", \"send\", \"send\", \"send\", \"send\", \"send\", \"sender\", \"sent\", \"sent\", \"sent\", \"sent\", \"sent\", \"series\", \"series\", \"serum\", \"server\", \"service\", \"service\", \"service\", \"service\", \"service\", \"service\", \"session\", \"set\", \"set\", \"set\", \"set\", \"set\", \"set\", \"set\", \"set\", \"set\", \"shackleton\", \"shall\", \"shall\", \"share\", \"share\", \"share\", \"share\", \"share\", \"share\", \"share\", \"sheila\", \"sheila\", \"shell\", \"sherri\", \"shes\", \"ship\", \"shipper\", \"shirley\", \"shmuel\", \"shoot\", \"show\", \"show\", \"show\", \"show\", \"show\", \"show\", \"show\", \"sick\", \"signature\", \"signed\", \"signed\", \"significantly\", \"singapore\", \"sister\", \"sitara\", \"site\", \"sitting\", \"slow\", \"small\", \"small\", \"small\", \"small\", \"smith\", \"smith\", \"smith\", \"socal\", \"software\", \"soil\", \"soldano\", \"someone\", \"someone\", \"someone\", \"someone\", \"someone\", \"sound\", \"sound\", \"southwest\", \"spalding\", \"speaker\", \"speaker\", \"spec\", \"special\", \"special\", \"special\", \"special\", \"special\", \"spread\", \"spread\", \"spread\", \"spreadsheet\", \"spreadsheet\", \"stacey\", \"stacey\", \"stacey\", \"stacy\", \"stanley\", \"state\", \"state\", \"state\", \"state\", \"state\", \"state\", \"state\", \"steel\", \"steel\", \"steffes\", \"stephanie\", \"stephanie\", \"stephanie\", \"steve\", \"steve\", \"steve\", \"steve\", \"steve\", \"steve\", \"steve\", \"steven\", \"steven\", \"still\", \"still\", \"still\", \"still\", \"still\", \"still\", \"stinson\", \"stock\", \"stock\", \"storage\", \"storage\", \"store\", \"story\", \"strategic\", \"street\", \"street\", \"strictly\", \"structuring\", \"student\", \"study\", \"study\", \"success\", \"sue\", \"suit\", \"suite\", \"suite\", \"suite\", \"suite\", \"suite\", \"sun\", \"sunday\", \"sunday\", \"supervisor\", \"supply\", \"supply\", \"supply\", \"supply\", \"support\", \"support\", \"support\", \"support\", \"support\", \"support\", \"support\", \"sure\", \"sure\", \"sure\", \"sure\", \"sure\", \"surety\", \"surprise\", \"survey\", \"susan\", \"susan\", \"susan\", \"swap\", \"swap\", \"swap\", \"swap\", \"swap\", \"swerzbin\", \"swing\", \"system\", \"system\", \"system\", \"system\", \"system\", \"system\", \"system\", \"tagg\", \"take\", \"take\", \"take\", \"take\", \"take\", \"take\", \"take\", \"take\", \"take\", \"talk\", \"talk\", \"talk\", \"tanya\", \"tariff\", \"tax\", \"team\", \"team\", \"team\", \"team\", \"technology\", \"technology\", \"technology\", \"technology\", \"tell\", \"tell\", \"temporary\", \"term\", \"term\", \"term\", \"term\", \"term\", \"term\", \"term\", \"terminal\", \"terminate\", \"termination\", \"termination\", \"terry\", \"test\", \"test\", \"test\", \"testimony\", \"testing\", \"testing\", \"texas\", \"texas\", \"text\", \"text\", \"text\", \"thank\", \"thank\", \"thank\", \"thank\", \"thank\", \"thank\", \"thank\", \"thanks\", \"thanks\", \"thanks\", \"thanks\", \"thanks\", \"thanks\", \"thats\", \"thats\", \"thereof\", \"thing\", \"thing\", \"thing\", \"think\", \"think\", \"think\", \"think\", \"threshold\", \"thru\", \"thursday\", \"thursday\", \"ticket\", \"ticket\", \"ticket\", \"time\", \"time\", \"time\", \"time\", \"time\", \"time\", \"time\", \"time\", \"today\", \"today\", \"today\", \"today\", \"today\", \"today\", \"today\", \"today\", \"today\", \"today\", \"today\", \"together\", \"together\", \"together\", \"together\", \"together\", \"together\", \"tom\", \"tom\", \"tomorrow\", \"tomorrow\", \"tomorrow\", \"tomorrow\", \"tonight\", \"tool\", \"top\", \"top\", \"top\", \"top\", \"toronto\", \"total\", \"total\", \"total\", \"total\", \"totally\", \"trade\", \"trade\", \"trade\", \"trade\", \"trade\", \"trader\", \"trader\", \"trader\", \"trader\", \"trading\", \"trading\", \"transaction\", \"transaction\", \"transaction\", \"transaction\", \"transco\", \"transfer\", \"transfer\", \"transfer\", \"transmitted\", \"transport\", \"transportation\", \"transportation\", \"transwestern\", \"transwestern\", \"travel\", \"travel\", \"travel\", \"treasury\", \"tree\", \"tree\", \"trial\", \"trigger\", \"trust\", \"trust\", \"trust\", \"try\", \"try\", \"try\", \"tuesday\", \"tuesday\", \"tuesday\", \"turbine\", \"unauthorized\", \"unit\", \"unit\", \"unit\", \"unit\", \"university\", \"university\", \"upcoming\", \"upon\", \"upon\", \"upon\", \"upon\", \"upon\", \"usage\", \"use\", \"use\", \"use\", \"use\", \"use\", \"use\", \"use\", \"use\", \"user\", \"user\", \"user\", \"utility\", \"value\", \"value\", \"value\", \"value\", \"var\", \"variance\", \"vega\", \"velaw\", \"venture\", \"venture\", \"version\", \"version\", \"vice\", \"vice\", \"vice\", \"view\", \"view\", \"view\", \"vince\", \"virus\", \"visiting\", \"volatility\", \"volume\", \"volume\", \"volume\", \"volume\", \"waco\", \"waiver\", \"want\", \"want\", \"want\", \"want\", \"want\", \"want\", \"wanted\", \"wanted\", \"wanted\", \"warranty\", \"wasnt\", \"wasnt\", \"way\", \"way\", \"way\", \"way\", \"way\", \"way\", \"weather\", \"weather\", \"weather\", \"web\", \"web\", \"wednesday\", \"wednesday\", \"wednesday\", \"week\", \"week\", \"week\", \"week\", \"week\", \"weekend\", \"weekend\", \"well\", \"well\", \"well\", \"well\", \"well\", \"well\", \"well\", \"wellhead\", \"went\", \"went\", \"went\", \"west\", \"west\", \"west\", \"west\", \"west\", \"westinghouse\", \"westlb\", \"wharton\", \"whats\", \"whether\", \"whether\", \"whether\", \"whether\", \"whether\", \"whether\", \"wife\", \"wine\", \"wire\", \"woman\", \"woman\", \"wondering\", \"wont\", \"wont\", \"wont\", \"wood\", \"work\", \"work\", \"work\", \"work\", \"work\", \"work\", \"work\", \"working\", \"working\", \"working\", \"working\", \"working\", \"worksheet\", \"workshop\", \"world\", \"world\", \"world\", \"world\", \"worry\", \"wouldnt\", \"wouldnt\", \"www\", \"www\", \"yahoo\", \"yair\", \"year\", \"year\", \"year\", \"year\", \"year\", \"year\", \"year\", \"yes\", \"yes\", \"yes\", \"yes\", \"york\", \"york\", \"york\", \"york\", \"york\", \"york\", \"youre\", \"youre\", \"zimin\", \"zone\"], \"Freq\": [0.9993411560217057, 0.9945972677776849, 0.9930662697855637, 0.3317041670697424, 0.5037243032980592, 0.16448140515854992, 0.9843337577800545, 0.98732329710214, 0.9914973626468552, 0.21762345311046818, 0.7801247514044749, 0.994046689292515, 0.997742948229794, 0.9928449858637215, 0.9942080444173486, 0.3380600033252716, 0.09957403734307999, 0.5605649509684503, 0.06161908283924852, 0.9361360662116601, 0.056786402993268544, 0.1892880099775618, 0.7533662797106959, 0.7541523995369568, 0.23830384230716378, 0.007536326528797982, 0.9928317191268462, 0.9949903716837484, 0.9930877824205508, 0.08265489963923599, 0.9131398436334642, 0.9922505667028582, 0.9939910608908631, 0.9961807663465101, 0.9848593986916601, 0.14632188444381672, 0.23056420716513465, 0.26642975050193335, 0.07161193204457154, 0.15430524458855266, 0.0470660784652342, 0.056240984900229225, 0.010128143467202297, 0.013107009192850032, 0.004170412015906828, 0.9924310780706517, 0.18665687702336606, 0.747688058531097, 0.05090642100637256, 0.014847706126858665, 0.992700263595508, 0.7149803253843467, 0.2834874220074878, 0.670690415842541, 0.03384217694618326, 0.15305893664296522, 0.03691873848674537, 0.061531230811242295, 0.043841001953010134, 0.08079223514398544, 0.4941607259149246, 0.42498929171630695, 0.9888583672862806, 0.9952191549564755, 0.9979020454546597, 0.9939896819485418, 0.9968079996812781, 0.02246224426306657, 0.8853867947025408, 0.0299496590174221, 0.026205951640244335, 0.03556522008318874, 0.721494239741936, 0.18548678890726217, 0.059242928776463956, 0.03314782919635483, 0.9981105340363904, 0.5870079961700546, 0.2747377577982608, 0.13661822928765976, 0.9961879568095591, 0.7565688078621505, 0.09258013043576316, 0.14932279102542445, 0.9949771865944013, 0.984272805157323, 0.07164228087782064, 0.3683494630038891, 0.2243890306739288, 0.33523180486225507, 0.9929492601227337, 0.13299168804415212, 0.08893819137952674, 0.03075432786021018, 0.03906630836296969, 0.5303043560760566, 0.12966689584304833, 0.047378288865729194, 0.9956619208270505, 0.9970474889480214, 0.1395440386968501, 0.7249268928528186, 0.028084334832070457, 0.02457379297806165, 0.046514679565616696, 0.03686068946709247, 0.9967974074341212, 0.9941241710248322, 0.9955849121763133, 0.13612782385989314, 0.8606791444044856, 0.990702771700382, 0.3128337319600141, 0.16706304010430076, 0.5192057226770915, 0.12524088913873296, 0.22333165545718114, 0.5911720291513618, 0.059555108121914974, 0.9966364390745599, 0.140365980692772, 0.7952450448607828, 0.026759545712660177, 0.037220095400336425, 0.9954300759078059, 0.10771618511100396, 0.8920573388319065, 0.9991043497558064, 0.9920524596486107, 0.25477226764325794, 0.7440252063918152, 0.9952100223644565, 0.15317869736809822, 0.05983542865941337, 0.7850408240115033, 0.9942865236714645, 0.3370350396887203, 0.08038074168308391, 0.5809976416391329, 0.062659929054958, 0.3276806125988787, 0.08834022784797357, 0.1340511596995413, 0.36517384883668147, 0.022085056961993393, 0.9950910885105512, 0.9972828507076361, 0.36946243164513504, 0.4398234885044185, 0.052703909510565965, 0.029963643985702476, 0.06501040614755091, 0.04280520569386068, 0.9964347668528826, 0.9971404543452249, 0.9958437214069964, 0.2889701040697782, 0.7105445264527438, 0.9691382234385454, 0.0286162861251539, 0.9931025146835323, 0.2067998268409709, 0.2533763644177662, 0.03167204555222077, 0.06613868335904925, 0.18537461955564508, 0.2571024874239098, 0.03921656646936122, 0.96080587849935, 0.9920431018290884, 0.9934496468429433, 0.722102221771696, 0.2753339406755388, 0.9932354907837804, 0.9867762884744977, 0.9947047652491816, 0.26772585432764373, 0.7316973591575894, 0.9983218540968972, 0.06557614349586095, 0.0771484041127776, 0.5897995494421847, 0.025844715377780495, 0.023916005274961055, 0.06519040147529706, 0.12575189870382747, 0.02661619941890827, 0.9917379290725913, 0.3520703659398116, 0.06996747230093507, 0.026796053221634707, 0.49535481719438607, 0.03237856430947527, 0.02307437916307433, 0.9990554213878541, 0.9972753417719443, 0.9927054218129312, 0.9881883351305703, 0.2277896816323989, 0.25949667028452766, 0.1510253933167187, 0.04922927185462101, 0.31206351989200437, 0.10888644757662422, 0.031474988752617936, 0.7494450024609839, 0.09017158939939193, 0.019565533548924662, 0.9954138846747214, 0.03394476728691027, 0.18893785565355714, 0.035225701901510656, 0.05315878650591608, 0.6885023553477082, 0.9832114264186026, 0.9961104265388334, 0.9974323629065063, 0.9919870527368455, 0.995514390534079, 0.11880221552554936, 0.16012472527356653, 0.7205612637310495, 0.1451862513096923, 0.8517593410168613, 0.9973963094230472, 0.9974572099001648, 0.9923244148299587, 0.9991050188559982, 0.12476935460150552, 0.8733854822105387, 0.9968641779234053, 0.5124534427959782, 0.37420161470353797, 0.05898744665277446, 0.05161401582117765, 0.17603203645771343, 0.8214828368026627, 0.9962336825115974, 0.9916037145355486, 0.9979762259525076, 0.9925009884491831, 0.9968598554475158, 0.11589516176419887, 0.21389913217543394, 0.5470728733706266, 0.032800517480433646, 0.07454663063734919, 0.01570449018760156, 0.3122420849966128, 0.10313105362114401, 0.06666482471643011, 0.22506500652128114, 0.06381590058324933, 0.22962328513437036, 0.9983455311282032, 0.998873385694725, 0.995181253317042, 0.9911605205488814, 0.9948257629957962, 0.9704709692205779, 0.029396490099945764, 0.9925599670879204, 0.01104719302451483, 0.46462252401655124, 0.030099598385634606, 0.14409382205888907, 0.27425857465208553, 0.03538303852779388, 0.028818764411777817, 0.011687610011443226, 0.9946636370755756, 0.9961499468425002, 0.9943987321299635, 0.12208360230949487, 0.8757150704123383, 0.18714086414155764, 0.8115435550754087, 0.13229521871984876, 0.8664039814201859, 0.6608787474469849, 0.16641693096944005, 0.17120590740021532, 0.996344571075306, 0.17923177067559892, 0.550589684017847, 0.2694923746129509, 0.14917750665688018, 0.8499648635101312, 0.9925538904235274, 0.9968757839568914, 0.06212646851113718, 0.9375818025635015, 0.9857868631822636, 0.03874709162050996, 0.17895038366840782, 0.13510499051888342, 0.10298569088609226, 0.27071981119066824, 0.014275244281240511, 0.034158620244396934, 0.09635789889837344, 0.1284771985311646, 0.19874632503435952, 0.44789243584298244, 0.35184756106561255, 0.9949862255472031, 0.9951288363503438, 0.9909096381380358, 0.15129329382013126, 0.16345079064496323, 0.6835214881516645, 0.08683152105565034, 0.18581945505909173, 0.7241748856041239, 0.9982185719963331, 0.997364374397164, 0.9929978642316284, 0.9966233765175837, 0.14119547296628818, 0.8585097005906427, 0.021730196144596137, 0.09040581603553677, 0.4448540154129587, 0.14616631934997215, 0.08425576052291522, 0.05432549036149035, 0.015990144332816026, 0.04530540894297874, 0.054940495912752504, 0.04202537933624725, 0.036086483052689855, 0.04230829047556742, 0.2750038880911882, 0.034842121568114344, 0.07466168907453073, 0.5363197998520458, 0.9954138846747214, 0.9952124892071509, 0.30934161844068925, 0.6844183308000249, 0.9941165356890657, 0.9969200278357918, 0.19091032900996432, 0.8084860241965602, 0.9970351057743518, 0.9947473409600724, 0.04763541110327715, 0.9483777301470634, 0.9970386829110516, 0.9918171337008519, 0.9944878918827339, 0.0891168402172892, 0.03240612371537789, 0.877665850624818, 0.9992795087105832, 0.12296244687860558, 0.8474038507778602, 0.028148030008355494, 0.994878323076712, 0.3622804195019705, 0.6347392473918821, 0.2638287944340895, 0.23055309063159174, 0.5050776470021984, 0.9942047426614957, 0.20587553232641798, 0.14047977499920286, 0.6515355081859581, 0.9961987893368928, 0.9909519892139791, 0.9939245788074546, 0.9977216555836895, 0.9938713273961346, 0.09468754988242799, 0.06697412064854662, 0.285448321108978, 0.4863706830546179, 0.05958387285284493, 0.00692835730847034, 0.06475810935805545, 0.10551762524812566, 0.09561344381689366, 0.6308201711584697, 0.10285111486279397, 0.9996817095445414, 0.9957196470649907, 0.13152564550223558, 0.1718709355335962, 0.4074874293167422, 0.28887227662454196, 0.19114426881337118, 0.13485638597262384, 0.6738910417878362, 0.23773175215720524, 0.17625462389234833, 0.5860011979926014, 0.9956044771859418, 0.8950032936114138, 0.10265270751098654, 0.9943156633070042, 0.9962578450188796, 0.1953268356094338, 0.8037785713131569, 0.9947329494494412, 0.00503314739831824, 0.04647310252884624, 0.9531370273369031, 0.9991074610461672, 0.6364514757914242, 0.1534805550027992, 0.020417138050831087, 0.18868251715940454, 0.8687657127621463, 0.08083520344016053, 0.050202915820731275, 0.9908034459672044, 0.9863592180535435, 0.9952060162599399, 0.05115372977920044, 0.9463440009152082, 0.9981529792402573, 0.4124383013039905, 0.12310553006881335, 0.1523170117800572, 0.10015365158140747, 0.14988272163745356, 0.018431053936856238, 0.04381722256686577, 0.9948640501442615, 0.07355578803789911, 0.9258688875246666, 0.9864271244791195, 0.9936894457223324, 0.2411512246836654, 0.14944582938142645, 0.04007865424320073, 0.033285661998590434, 0.0740436154662522, 0.4218448183902992, 0.0393993550187397, 0.11705514260465048, 0.11356616667008564, 0.47048840477606907, 0.05791700051377639, 0.10170364849256518, 0.11705514260465048, 0.02180609959103027, 0.991133179788827, 0.9980895778830978, 0.989219904036354, 0.18786589855229766, 0.8107896674362319, 0.01792449076149045, 0.7187980570586098, 0.20885928365562784, 0.054033247512898744, 0.9983647503221855, 0.9966046181673015, 0.1443661200341101, 0.08956046335449422, 0.765942470180973, 0.20240076667448395, 0.04893205348174337, 0.7473259077211715, 0.12591182436503712, 0.6164642920912217, 0.07151791623934108, 0.18534220546533464, 0.13525006271046522, 0.1988971510448018, 0.13259810069653452, 0.10342651854329693, 0.4309438272637372, 0.6608343976842692, 0.16756001332953796, 0.06792973513359647, 0.10346221197270847, 0.3105882294567526, 0.22956521307673017, 0.3173401474884211, 0.03460357991230124, 0.10718669875273798, 0.40287723699112127, 0.031522837245488496, 0.1307044471154401, 0.16299613404984295, 0.2714039401867668, 0.22218233181801908, 0.7763312064700196, 0.3483930090067836, 0.6504128871218793, 0.14601189450060034, 0.853358405636842, 0.43588964147293163, 0.31288971093681583, 0.11581341774074722, 0.09425387935464152, 0.040907842065944125, 0.9924836510545001, 0.9987950870484573, 0.9905800266002974, 0.995668951051367, 0.9953748568973604, 0.9970645490757132, 0.9976435450949466, 0.43348809901677887, 0.1188078493601542, 0.3038795360784288, 0.14332838829443664, 0.9970774606947505, 0.08192482521493145, 0.15381803917905498, 0.7640743902698709, 0.9959855409059898, 0.9907913724338093, 0.09066501616831735, 0.06500510593200112, 0.8433557164335934, 0.10688801868281281, 0.8927128967768254, 0.014453903795493921, 0.1118456841317982, 0.07192537841091023, 0.1693171587472145, 0.21749683806552758, 0.3737366552834857, 0.04129686798712549, 0.2581257909910691, 0.14015423807718205, 0.47541527520425425, 0.12553383194682852, 0.8952629409726051, 0.09001819681208062, 0.01475708144460338, 0.9961531413257689, 0.06800684055699474, 0.3650607201099478, 0.041529510633471454, 0.09629768622870455, 0.3510966488489115, 0.03155517401844556, 0.04642600315357508, 0.08029100123080608, 0.9195090765954446, 0.9867417841336552, 0.1800557384719989, 0.8155465801378774, 0.999554144195956, 0.14642475279112752, 0.1452343076464842, 0.5856990111645101, 0.0178566771696497, 0.10356872758396825, 0.996762536188897, 0.9977473626646184, 0.9962854744901898, 0.9965962040578743, 0.9992556900091984, 0.12393605660891495, 0.07066529543490764, 0.8044972095666408, 0.24926853041658356, 0.06720092042578742, 0.5305747089431355, 0.15315558608667829, 0.9961553630114417, 0.6828016332666269, 0.05052591736402584, 0.2659628150134138, 0.9939787391101157, 0.9975542517168006, 0.9910823612727059, 0.13607869909077178, 0.04716942437311041, 0.019682205853528086, 0.011877193187473845, 0.7849127955036287, 0.9974304343082395, 0.9984645656110833, 0.9983562791477347, 0.995864170949371, 0.997222078965849, 0.1892657492219658, 0.12086773093878013, 0.6886649786046775, 0.9979148618611738, 0.9966794921670017, 0.9949541747553166, 0.13998625234057563, 0.2912510179029038, 0.1074775965837595, 0.43322759610614164, 0.027201120123050242, 0.23073617061353835, 0.7685901407333725, 0.9924928748891116, 0.5158669580549238, 0.4838476296239285, 0.13882574718899474, 0.7080113106638732, 0.03361044405628294, 0.062106255321392384, 0.05114632791173491, 0.005845294618483989, 0.10623500199907386, 0.5582685004380861, 0.15828302311271408, 0.0385012758922818, 0.13831939857597536, 0.9952796785487721, 0.9958722956629045, 0.997851551920597, 0.23400393325194754, 0.2296218371236339, 0.0863272937277784, 0.13496856075205962, 0.3146345020129182, 0.9991742623731047, 0.09080084909361197, 0.26757271488223955, 0.6404357760538801, 0.9942973717722915, 0.8599404398415784, 0.1391811116506601, 0.04843334097808914, 0.7274752826104933, 0.15635192624470387, 0.06761164378149356, 0.9943963996487872, 0.993487275725977, 0.995397563208521, 0.42066819976950265, 0.5633256196587805, 0.015749379155776278, 0.9997523688595933, 0.9908007020372822, 0.9943172952630498, 0.005576837353834328, 0.9943583404595896, 0.9958694972231774, 0.9934169220188728, 0.9921198842366362, 0.991464859428267, 0.9992926015246081, 0.9975112132018193, 0.04057481622639043, 0.037776553038363504, 0.25044455532840987, 0.05176786897849813, 0.07275484288870009, 0.06715831651264623, 0.47850300515260435, 0.9917084165561434, 0.14856286242663017, 0.07790491566274509, 0.025364391146010027, 0.7473436676949383, 0.998936001600631, 0.01748913226723347, 0.9820820426984949, 0.9957040952079373, 0.9935579965055736, 0.993442829890702, 0.9972333644202395, 0.9871960065220651, 0.9954440174628115, 0.5850898997342776, 0.4146171471030606, 0.9994887016159409, 0.9884655788453824, 0.1661312324243992, 0.036467831507794944, 0.01620792511457553, 0.7800063961389474, 0.994725682501704, 0.05050579013483798, 0.9490879729504971, 0.14566992185854127, 0.2209237560290054, 0.10347402198438817, 0.5297332398213742, 0.9818996085617478, 0.997322814960539, 0.9987821394337005, 0.9992702185043733, 0.9920424519981873, 0.9963894845490505, 0.3787338860955827, 0.1974758549667144, 0.16154224528678085, 0.09380898102283534, 0.03148165803817186, 0.09921492230211738, 0.0368875993174539, 0.9964615125982909, 0.48667805165225453, 0.05699833037368746, 0.45625236947142833, 0.8982380866546256, 0.10024978645698945, 0.40975713709817607, 0.1914639003702787, 0.3756107090066614, 0.021951275201688002, 0.9956752138938001, 0.9979134650462006, 0.9945267479681668, 0.36906990011848534, 0.10605456899956477, 0.52390957085785, 0.9888792661194834, 0.556988978391138, 0.017633930538584065, 0.12161331405920045, 0.30342521857770516, 0.9971593486104832, 0.2454736866977489, 0.12541668709011625, 0.628155372947078, 0.9932049635712998, 0.9972675266335337, 0.998826607172695, 0.9987718112621956, 0.9995982534824241, 0.9959682830683927, 0.9945869841822457, 0.6015404422224401, 0.3979773267935535, 0.9983251574875343, 0.9944291957949655, 0.34130730239326595, 0.6571146339180696, 0.021502981303490723, 0.5710236146149203, 0.40676472965769955, 0.40906349893834665, 0.07074030432768401, 0.5182496208354241, 0.124030304774709, 0.02675163436317253, 0.8463244325803673, 0.9963343291915895, 0.2079334141937398, 0.0995236854260635, 0.2896850129365777, 0.18127528416890137, 0.22037387487199775, 0.049833301582681226, 0.9468327300709433, 0.9170293541218294, 0.08197521043997283, 0.9966446340817579, 0.9971319540851407, 0.9988556670826598, 0.990994519123782, 0.9952127697602537, 0.9907038039565064, 0.998338748544292, 0.9961780592226582, 0.33348565287499266, 0.46159697298934627, 0.20471396513118362, 0.9899756437781122, 0.9977421696550167, 0.05566459962125058, 0.2180196818498981, 0.7190010784411534, 0.9950354339012856, 0.9956345133022929, 0.047621953944238946, 0.07186849756828743, 0.8802802035485388, 0.9950054021649493, 0.9956336253133418, 0.12631599230134716, 0.8719878178222029, 0.8604917127166662, 0.1003087482252571, 0.038353344909657125, 0.9982928952535477, 0.9975149708388016, 0.6700225699431642, 0.3290345578218543, 0.12782769864758564, 0.3104386967155651, 0.08217494913059077, 0.4400925053438306, 0.0365221996135959, 0.04606249192562141, 0.250981526517809, 0.2728316829440653, 0.06023556636427416, 0.14114019961825022, 0.22854082532327546, 0.04590861123922009, 0.9070428644839849, 0.044517441201667965, 0.04608763140513672, 0.49256156064239864, 0.3514181894641675, 0.1094581245871997, 0.06733347919271225, 0.07410666940736378, 0.07291140054595469, 0.2769039528931066, 0.4820917741016676, 0.02629591495100005, 0.9921490106869025, 0.08988450864459516, 0.08988450864459516, 0.05169827948185865, 0.29256526343142736, 0.03642378781676405, 0.1298331791533041, 0.06109796666037841, 0.10868388300163467, 0.13923286633182388, 0.14940500474782292, 0.13359968488428078, 0.0685891239361263, 0.15954426654707637, 0.11540865636209077, 0.09244621052260502, 0.03578562987971807, 0.12107471442637946, 0.03190885330941528, 0.04681953242596447, 0.00984104821692247, 0.03638205704438004, 0.9871148566351148, 0.9942189345296594, 0.997514556429456, 0.9882082563634946, 0.9983094567454349, 0.9954862516098086, 0.9954962189317538, 0.9992510110384615, 0.9956118802329585, 0.9949543185587005, 0.9950850563602937, 0.030905395272812077, 0.9580672534571744, 0.10102239822736182, 0.8262326182017311, 0.046093869913625164, 0.02650397520033447, 0.9958893732440337, 0.027180974976564812, 0.24371256214942383, 0.2580665601707558, 0.3157879564693036, 0.09528611452458675, 0.004886467411517269, 0.05497275837956928, 0.18669711439591277, 0.07369281513334153, 0.13986065970729256, 0.13272491176304294, 0.028932214392139367, 0.008043934046245026, 0.07252514728791887, 0.35743610157104916, 0.994527762593579, 0.9929823242365435, 0.9925852025791548, 0.13280627501005926, 0.801580731310715, 0.06482211042157655, 0.9827883942146948, 0.28599551737740575, 0.16360719175913677, 0.13126623524860975, 0.15346100932446163, 0.017121682858514314, 0.05707227619504771, 0.19150919345449344, 0.9951257128551909, 0.9956899488150232, 0.2998563791042415, 0.6548702861373569, 0.045128886487260426, 0.3945205004088002, 0.5293821000383391, 0.07548223859862249, 0.8853129071587817, 0.11367456261668797, 0.033976652553869294, 0.912839398613955, 0.04983242374567497, 0.9972649685934929, 0.23546301927930222, 0.12323298205271892, 0.4951325171761028, 0.1463391661876037, 0.9963052085049197, 0.04551076538762295, 0.3268500423292921, 0.1134813890184884, 0.13830544286628274, 0.3759071011237428, 0.9987039742480346, 0.9955160471359298, 0.8299048485824416, 0.16992641899663435, 0.9965494746710097, 0.9993085976432137, 0.9992868686100335, 0.008207503995585626, 0.011162205433996451, 0.5726649121186611, 0.35007740375837887, 0.0577808281289228, 0.9946574223888521, 0.9984717611089469, 0.9972253164003846, 0.01596098327636657, 0.13082305935450456, 0.505906166349119, 0.16502516637529008, 0.05529340635026991, 0.04930803762163244, 0.03391708946227896, 0.02650663294110877, 0.01681603595188621, 0.9978964710045263, 0.9873131733399297, 0.7802660376357647, 0.21906726077304708, 0.11391042703457586, 0.8856134608885334, 0.9992032951890696, 0.33870935669081415, 0.6443625424880918, 0.016528085446768252, 0.9977147100818572, 0.014971123538373295, 0.04273008176577378, 0.21895268174870944, 0.6094494873746129, 0.01933770123706551, 0.09201003007958589, 0.002183288849346106, 0.9975581588229897, 0.2416149048910666, 0.7583358896085952, 0.9976510621773009, 0.9050720845850704, 0.09452111899100163, 0.99391662933218, 0.9958207542130796, 0.23969329262772066, 0.2532529654047458, 0.38133972056002907, 0.1136926409765951, 0.011890789973698936, 0.993473022862491, 0.991936894166034, 0.9976543626886598, 0.8474973150294279, 0.15109762887476852, 0.04395177196250095, 0.9541197163526247, 0.9934552232468961, 0.049776622798452345, 0.9457558331705946, 0.31897953934346124, 0.6301790899224479, 0.014522645693686042, 0.03578794831658346, 0.9987080790422249, 0.9948403244535133, 0.9958457299364453, 0.996160866632754, 0.9926423018313152, 0.03814312349401758, 0.8745673315414031, 0.08718428227204018, 0.9860915245556998, 0.9143161110349143, 0.08541084651321558, 0.9946458039406175, 0.9945973058875428, 0.39011488245196824, 0.6082712311915557, 0.9965111507363754, 0.07408577474086818, 0.26698835802841175, 0.4406705752275225, 0.1341931014174216, 0.032849352951139665, 0.007338685233765244, 0.04298372779776786, 0.999041645714433, 0.992389303258691, 0.11040345199972329, 0.8866777238727777, 0.9988281857848966, 0.9925900449352112, 0.13972746545705897, 0.38269305825818695, 0.2678851407807309, 0.05873893452334963, 0.15040727173403162, 0.09364347955596306, 0.23717180336136437, 0.5089129286148834, 0.04375863530652479, 0.047259326131046775, 0.013127590591957438, 0.05601105319235173, 0.9973168404337541, 0.996308021937112, 0.10237156741324321, 0.1224371377955123, 0.14547538527145087, 0.6296501669028698, 0.16260299979103673, 0.21107854198226128, 0.1958106546779386, 0.10000466184331366, 0.018321464765187236, 0.2400875278604744, 0.0328259577042938, 0.029008985878213125, 0.009924126747809753, 0.9919842267520227, 0.9982315873100429, 0.9904978316933438, 0.9917042394378096, 0.19093582045617263, 0.1932930528074834, 0.612880411340801, 0.9916808233375916, 0.9908257655336457, 0.9959029353976332, 0.030367425758049772, 0.29710832768686535, 0.6721870728606152, 0.9860019248117803, 0.012210550152467867, 0.9970051358075567, 0.7185167085859296, 0.24055718564073383, 0.04022431628746697, 0.9969358784510359, 0.9974486781635631, 0.18747677566546142, 0.025986879795212473, 0.6626654347779181, 0.030627394044357558, 0.09188218213307267, 0.9936449966679706, 0.19922192123243598, 0.7968876849297439, 0.9945403884730293, 0.8493729478584526, 0.046123735898051216, 0.08006384344567381, 0.02262673836508173, 0.9960974219348027, 0.3576718247195682, 0.6415638111561762, 0.9973568721673484, 0.9889748357433522, 0.4831906416454517, 0.08680071406804522, 0.4291813084475569, 0.9938529184236659, 0.9889879085484107, 0.5512158472087939, 0.08808443001588717, 0.36059563537753814, 0.9980382812034805, 0.995640783751103, 0.9934964383529549, 0.9975021590245566, 0.9965771589103385, 0.9945400488219449, 0.004593611097580715, 0.9952824044758216, 0.9961938515472224, 0.995034339560575, 0.08720905537156819, 0.6586578655694755, 0.03786708983239145, 0.04704699039781968, 0.16638569774838666, 0.17337655369998534, 0.825336313235414, 0.9898737324807034, 0.9975558054572298, 0.9946407002793778, 0.9883755366433626, 0.2147723334946788, 0.7845764835826022, 0.13613672926897588, 0.8621992853701805, 0.9976103617472966, 0.20556779593956806, 0.7922444270479982, 0.9547794136840512, 0.04364705891127091, 0.7683361831270228, 0.18848696627273404, 0.043164954108259705, 0.953938084955061, 0.04601292602717102, 0.989797401492148, 0.9993452650402943, 0.09861239463928324, 0.3241365466178648, 0.14193218831084475, 0.09121102285620239, 0.28908887435092306, 0.025687113835398286, 0.011537432485390756, 0.01785036724154796, 0.9880709009164348, 0.9959474590082652, 0.10661491495045053, 0.22368227254310208, 0.03867403777614382, 0.5895177650201382, 0.04076452630458403, 0.4849413563136591, 0.5145309983938146, 0.996376160858364, 0.9959938719293359, 0.20797276342177104, 0.11035289487685811, 0.6812169087590664, 0.5676675107092936, 0.02633580144412802, 0.40592984006027694, 0.991257615350473, 0.14727323174284734, 0.19329611666248717, 0.013388475612986124, 0.6451571686007688, 0.9913391520505196, 0.1320606066091991, 0.6907785576481184, 0.17608080881226545, 0.13117756054263152, 0.05045290790101212, 0.13445018159567013, 0.3665335579403259, 0.3168988053025734, 0.9969894454911797, 0.9897813444664499, 0.12434244739067636, 0.872578578180185, 0.022151465384117552, 0.3483676498538199, 0.5727508387807084, 0.02517936353014801, 0.03139452288252631, 0.9985584763105108, 0.9955624077796622, 0.9682419241442619, 0.0315731062220955, 0.9981201870003763, 0.9943729068279393, 0.9875456553736497, 0.47148209801144003, 0.5279271379142181, 0.9940379778963713, 0.9961601279116112, 0.9988459254119083, 0.9972317963915168, 0.9883027485368842, 0.9891846150981217, 0.02074518424313854, 0.2157499161286408, 0.6804420431749441, 0.08298073697255416, 0.9961594357864033, 0.9881620282998614, 0.9953725568931248, 0.9960644577448603, 0.9965047618087037, 0.8314605540821338, 0.095692870075669, 0.0727527984821867, 0.997183986649949, 0.9947494463710057, 0.9931936467887053, 0.9915151482396778, 0.9967489076046205, 0.05696816829706956, 0.03586884670556231, 0.9051608962756608, 0.21161851472239812, 0.788133114981162, 0.9900392212287723, 0.2385058637319224, 0.05133009079315647, 0.15184157090440706, 0.3624143154605187, 0.07210087171875933, 0.06255108738514882, 0.06111861973510724, 0.9934631232333332, 0.1800622551670239, 0.5465047393665813, 0.15479035970498548, 0.061284346495443225, 0.05749356217613746, 0.28047245375395036, 0.7171361542092025, 0.8511173411540764, 0.044795649534425074, 0.1020345350506349, 0.07259987973513667, 0.9230556137753091, 0.02442842586962826, 0.13392012039242635, 0.0946601502448095, 0.17339820148530774, 0.5734136751004705, 0.9981474773240885, 0.997571366711189, 0.9933726332335848, 0.9874683683816132, 0.90243834538818, 0.09734794712960793, 0.7369601309049343, 0.17708838635423557, 0.020773829937708405, 0.022136048294279446, 0.042569323642845096, 0.916785459483414, 0.08221173957324093, 0.5074662994309708, 0.4913562581791939, 0.1887142542076695, 0.4229544190470636, 0.2150319724084747, 0.0676028590750541, 0.034799257715756635, 0.07072107213202154, 0.9937613216225374, 0.4354669082294278, 0.5616634408183641, 0.9923562605113646, 0.9960830306112959, 0.9879664842273458, 0.40015113335519165, 0.2314827777258231, 0.22217693741523722, 0.07638543921605888, 0.0221013707376414, 0.02985623766312961, 0.017448450582348472, 0.10717809486010822, 0.715397344833115, 0.17687673323539332, 0.15856605911520164, 0.05841907441086376, 0.7789209921448501, 0.9937423095050539, 0.913237357140047, 0.04176734513495889, 0.045153886632387986, 0.9959500198833586, 0.9968283954824969, 0.9988920877533545, 0.9985241496479331, 0.9204202360923351, 0.07870796787509908, 0.12347972549254072, 0.38317475354635955, 0.2724306051225562, 0.10243833729201808, 0.008582671502844757, 0.07419857944394823, 0.005260347050130658, 0.013843018552975416, 0.016611622263570498, 0.03310679270631738, 0.11120486780839942, 0.1264849259805459, 0.7283494395389825, 0.9875080525836205, 0.997769716232259, 0.3388247858537526, 0.6606017837400208, 0.9912498309683693, 0.9964096217794026, 0.14091460119478752, 0.8579880959843917, 0.9935575185345006, 0.9970319441773026, 0.18015344081870502, 0.1908994355342067, 0.13148040593084437, 0.3287010148271109, 0.16814321143079133, 0.9957046404120875, 0.07201893756327807, 0.13274078688133606, 0.4058125918087654, 0.21058478557105573, 0.02771316960155553, 0.11367695046752715, 0.037421604812291544, 0.9338980293449365, 0.0646189740238671, 0.3251278981807691, 0.6744674483537231, 0.9826655552696435, 0.015461520974522362, 0.9983218636883636, 0.9880623739292144, 0.9967888016952458, 0.9976471720874233, 0.15525018427144344, 0.06500623479346153, 0.11701122262823076, 0.5529353853608552, 0.10859865106672398, 0.9895193665391485, 0.9377348103162525, 0.05887124369698446, 0.11067851202816986, 0.1909957979941375, 0.41342946127254115, 0.15137547462218562, 0.07084286081180523, 0.015503604797720292, 0.04694147008198644, 0.997862411458935, 0.5993344483744809, 0.25377532928313734, 0.08750282946267421, 0.05924849118216297, 0.13038436664304875, 0.8688973441174165, 0.34759383354146095, 0.6523681368640463, 0.13300959063563217, 0.5072231404090152, 0.22333699920162117, 0.12407611066756732, 0.011911306624086463, 0.9746046796087248, 0.02487795196493386, 0.9973627558169521, 0.9974702145079929, 0.07280081412049887, 0.1691332045223711, 0.10307320652414065, 0.042160740837460624, 0.05466189073694022, 0.17967338973173624, 0.006373135242871955, 0.08199283610541033, 0.08138003463974958, 0.18359531911196514, 0.025247420385223512, 0.4356504950292459, 0.5622681265894701, 0.10627732992257198, 0.03672410353345419, 0.3972880291346408, 0.06844037476689191, 0.35722537073450894, 0.03394197447788948, 0.09145740140939766, 0.15866192916569596, 0.7496174459648809, 0.994928469576554, 0.08456358714731238, 0.29482980383792695, 0.018284018842662134, 0.09713385010164259, 0.07313607537064853, 0.027997403852826393, 0.05485205652798641, 0.34853910918824693, 0.9920129913517666, 0.9962956958851169, 0.14824259247521634, 0.12746554391917936, 0.06876213688783674, 0.021271740188323594, 0.6269391953178783, 0.007090580062774531, 0.9964284667058414, 0.9984344352769599, 0.0890447888153995, 0.9097008154654327, 0.15411183550844543, 0.08580280571551285, 0.12412250535545064, 0.6356071918537506, 0.9959745064496078, 0.9954138846747214, 0.08520265329223545, 0.3178564736975176, 0.0859807597149956, 0.2824526314619312, 0.22798518186872135, 0.7732901731177848, 0.07958895047336793, 0.14640436568557805, 0.9415126216332919, 0.051045865028311, 0.9905782969532807, 0.9912740465151135, 0.994167628035886, 0.9989268173303495, 0.9905908467191344, 0.9952807434064891, 0.9974784676843989, 0.9899721777072804, 0.9941850067046732, 0.10959240812320062, 0.22387326151370393, 0.6663452836153962, 0.9968854379188046, 0.21870927806904855, 0.1025199740948665, 0.12374340732854062, 0.3985688817442529, 0.12770031860939512, 0.028417817380682296, 0.0669560162998624, 0.03741659734404075, 0.25600829761712096, 0.6380514494457475, 0.9968747328811486, 0.351550070976949, 0.6477189663890361, 0.9936148521782183, 0.9962682444847607, 0.9904612536648295, 0.9886137682108942, 0.9968649587270977, 0.1614391062103976, 0.835029859708953, 0.9923773293835554, 0.24328916436611664, 0.1282866420526481, 0.037954627826227244, 0.20419589770510257, 0.11576161486999309, 0.08919337539163402, 0.16965718638323576, 0.011386388347868173, 0.9888513180451542, 0.9994051666848655, 0.9976523235454413, 0.9941276088862288, 0.9951275283495286, 0.20765281823197912, 0.37748674154924516, 0.0664087756857827, 0.22099476259181158, 0.0538693542949627, 0.05096020853229246, 0.022470643132349432, 0.9924791632987104, 0.9953521783261658, 0.2560210260390775, 0.7392156385635337, 0.9900319507428835, 0.18685193893141294, 0.811174687265737, 0.12350486550906528, 0.12324040112896022, 0.13844710298500143, 0.0852897625838834, 0.17996801066149662, 0.009124021113624738, 0.1195378998074893, 0.008462860163362075, 0.021686079168615317, 0.012297593674885515, 0.1236370976991178, 0.017983577847144407, 0.01692572032672415, 0.0070083060727842185, 0.012826522435095645, 0.9869633267079743, 0.8523545192738606, 0.12000022217520191, 0.017647091496353223, 0.008823545748176611, 0.14623812420150345, 0.8535531330944894, 0.07051860491668711, 0.044034241984175666, 0.17517970180661188, 0.2779262664363551, 0.021378943572027315, 0.02265529841214835, 0.38833096010682455, 0.8121027146360607, 0.18740831876216785, 0.991413720769423, 0.06421979760935026, 0.41222167384380237, 0.3835831154504435, 0.03384556901033325, 0.05640928168388875, 0.04946660086125629, 0.9980535563419484, 0.988694961185279, 0.2364728453170974, 0.2074551152140836, 0.4270370430085312, 0.06669746919200183, 0.06193336424971598, 0.18434686639857306, 0.3303963204115271, 0.046086716599643265, 0.01492949974354641, 0.327150776989017, 0.09671719399080066, 0.9980529608048839, 0.999462346877986, 0.9942203248414351, 0.13160958181552185, 0.13930604858835938, 0.13571436409436852, 0.3989335277254122, 0.042843665035462275, 0.015392933545675069, 0.03232516044591765, 0.04720499620673688, 0.022832851426084686, 0.03386445380048515, 0.055912550045115764, 0.26296371193093504, 0.1161932680625062, 0.033780498985590775, 0.06959947635824305, 0.08998426022885818, 0.15405072382222, 0.02213205105952499, 0.08124792428430884, 0.11357236727914138, 0.13198027959613065, 0.06599013979806533, 0.8001304450515421, 0.9469671700357007, 0.052255254335752, 0.9943328031264554, 0.12183482572275668, 0.24885411211456684, 0.5728829039304091, 0.05573295219232487, 0.07582749871360343, 0.3238347313483214, 0.029076710033035903, 0.04275986769564103, 0.023375394340283764, 0.2793644689448547, 0.03135723631013676, 0.19384473355357268, 0.08038039403435882, 0.2687096643545301, 0.04816180634290094, 0.3182000722517179, 0.28432073261740143, 0.9931364163331609, 0.9985949767081415, 0.9984277209163201, 0.08413208150029829, 0.18994635067119814, 0.12723678992329063, 0.33626865908298237, 0.08932541986451424, 0.02700535949392291, 0.07764040854502836, 0.007530340628113119, 0.011555177860380475, 0.03998870540446277, 0.009477842514694098, 0.9886302211937001, 0.18153575139715428, 0.03980195618868088, 0.5970293428302132, 0.0660130005080561, 0.11455197146986205, 0.9972730876244359, 0.08612793339942923, 0.15652095588934734, 0.08198716737061051, 0.508486068338938, 0.10765991674928653, 0.058798877609225725, 0.9981887649811088, 0.9958653925442704, 0.3436973120979382, 0.6560411742469883, 0.9962988027973664, 0.09387932892967008, 0.9032713810530417, 0.9958664055403201, 0.9964770398080113, 0.1920311760978896, 0.805874422769776, 0.9922738385213278, 0.9930946135203935, 0.9908752127622803, 0.9897343063105004, 0.9949568055329864, 0.19562309663227748, 0.1732965475601154, 0.12598552690720044, 0.35563003164943924, 0.08026925975943995, 0.0691059852233589, 0.11600072150970184, 0.8679339698672335, 0.015535810916477925, 0.9333096026396858, 0.06447204491918881, 0.13277144716742723, 0.17416489834315454, 0.021868238356988014, 0.03358336604823159, 0.5178086439529662, 0.1194943024506845, 0.9981058479191226, 0.9908515141278282, 0.37113691413738265, 0.1435873962892169, 0.11255791658264884, 0.3723537564788167, 0.762500500778597, 0.23738864832446954, 0.9941096214083533, 0.9936836424365095, 0.2766144694774188, 0.1383072347387094, 0.5839638800078841, 0.9938500949355452, 0.991181520005204, 0.2924776257539228, 0.13352239436592128, 0.45425872792215544, 0.04344776324605375, 0.07594527721871183, 0.05487809292578057, 0.16352935073185618, 0.06629568272913089, 0.5911365043347504, 0.07808158188097637, 0.04603866856189645, 0.9620595595800698, 0.035631835540002585, 0.9954180121118501, 0.9950881966167902, 0.10742145706704513, 0.22189979817499106, 0.6704039838855737, 0.9996833643556903, 0.9957575318937414, 0.9888388237921183, 0.9963087620793635, 0.9953143824780348, 0.996034786361271, 0.991270270391013, 0.09786333289209254, 0.057192856884989145, 0.03660342840639305, 0.038382761731703824, 0.769942948909476, 0.054140274977114364, 0.6825920943193046, 0.04989397890047794, 0.21337637785098013, 0.5370336814116743, 0.11218854303463059, 0.34943972420622643, 0.08133162800360211, 0.9168292611315146, 0.16152322210104503, 0.8375819571393557, 0.3549841108880674, 0.18491702190683193, 0.18915985988557377, 0.2704809211447924, 0.9995601028362093, 0.115255112267158, 0.8836225273815447, 0.11436907150239328, 0.14345946251171282, 0.17693333709777914, 0.1099855879256465, 0.28253544144667886, 0.09285015212563635, 0.039052853683744046, 0.041045346218628945, 0.997207589504845, 0.15006504900304352, 0.03056880627839775, 0.8170208223499035, 0.9973162408667487, 0.9917347778690785, 0.07795096410161866, 0.43574028134501935, 0.05720142689471297, 0.07122138446694654, 0.07009978786116786, 0.26918318538688457, 0.018506343995348312, 0.6895263141703364, 0.31032582703331385, 0.9924134787149644, 0.9954827772032052, 0.9908475412190699, 0.9962666151710101, 0.9956969748528273, 0.9962310732439011, 0.9940599238473603, 0.9958693389132259, 0.241511602118284, 0.5398110674373537, 0.041122245766086196, 0.17689093020014857, 0.48540855675972494, 0.4297032416813408, 0.002136192023654849, 0.08248987660574879, 0.19475243433975825, 0.1989557242895372, 0.11629102194388442, 0.061648252596758005, 0.42733447822752707, 0.820469128110407, 0.10866332202652712, 0.07081429974762442, 0.10794270697474906, 0.8905273325416798, 0.9953868106968936, 0.04110065908420091, 0.8378592189213004, 0.12082603393427738, 0.9987183582270655, 0.11256502047953519, 0.07646658287747736, 0.5989235399997338, 0.19330131103037423, 0.01824329642254536, 0.9983509294694175, 0.0957679182872864, 0.5412705761427009, 0.028487925060142152, 0.18001944133749403, 0.08122089272466061, 0.07334125387823831, 0.15644693646825153, 0.6885921650802128, 0.03535099045196068, 0.11921557418373975, 0.9967846429874511, 0.9970872991230372, 0.0897208394265412, 0.029211436092362254, 0.027124904942907806, 0.8533912401268687, 0.05348969157528438, 0.05835239080940115, 0.8850112606092507, 0.07537864152631081, 0.5482083020095332, 0.11409585285573409, 0.19872550947845577, 0.038031950951911364, 0.01336257736148237, 0.00582471320885129, 0.006167343397607248, 0.9992261307827741, 0.9956868642361332, 0.7752112444102679, 0.036566568132559804, 0.07369569885177438, 0.11420020509091755, 0.9937196092176115, 0.004913323160532072, 0.9934025448316405, 0.28948028229307876, 0.13293509417359467, 0.33670047018485755, 0.039521244213771387, 0.19452664359765398, 0.00615915494240593, 0.9981796749127227, 0.9977325497368013, 0.021658267029680017, 0.3928568991772515, 0.18830659945249573, 0.23312717983336131, 0.051438384195490044, 0.006918613078925562, 0.02015422070817446, 0.009926705721936675, 0.03459306539462781, 0.040910059944951144, 0.010003732889811668, 0.1767326143866728, 0.8136369417046824, 0.9970072043710145, 0.9934396554087177, 0.9981217483951313, 0.9908549427343046, 0.5539098153536998, 0.15681192835093977, 0.28887976914840424, 0.21833860440977118, 0.7814820698095186, 0.9978124123413222, 0.1415300843730964, 0.31296089079684697, 0.04318993185094491, 0.005647914165123565, 0.44751414002479073, 0.049170076261075744, 0.9993251243301423, 0.9948193819021166, 0.16135190861221474, 0.11837329638593633, 0.2174426398227815, 0.010198314765557591, 0.1489682406826091, 0.07466623310497522, 0.04844199513639856, 0.1336707685342727, 0.08632144997989818, 0.9912011136982609, 0.9970979657325958, 0.988654308245688, 0.992887197730637, 0.9982568694693914, 0.1953484715621322, 0.8026274157661518, 0.992113052342581, 0.03811448902995903, 0.16833899321565238, 0.05081931870661204, 0.7416444323746194, 0.18303145024408096, 0.35853074204190344, 0.11599524007238053, 0.3419599934601348, 0.9936768626054203, 0.4601240390828179, 0.3194249527517083, 0.20449957292569684, 0.0012675593363163026, 0.014788192257023531, 0.14736938460031196, 0.2356196556109639, 0.5072248586243295, 0.013708779962819717, 0.09510466099206179, 0.9831858702838634, 0.04018415230233965, 0.5554868112382245, 0.025213585758330756, 0.034668680417704795, 0.056730567956244204, 0.288380387110908, 0.19303102474162429, 0.8053013063439638, 0.9971510526242859, 0.07891482208573816, 0.17498504027707157, 0.6716337575340541, 0.03516856201647026, 0.04031518084814884, 0.35381152433314744, 0.523051871146709, 0.02495017546274532, 0.09799707470909608, 0.9335948846209343, 0.06537207069555775, 0.9927165434012938, 0.05477368018006185, 0.9408185066222389, 0.8758469319838122, 0.08084740910619805, 0.04311861818997229, 0.9935520035237185, 0.15584963469986002, 0.11147578037559432, 0.21754011510188795, 0.514087336683566, 0.023324422145895977, 0.13735493041472074, 0.37319075433433563, 0.3624541155687645, 0.044427470754087574, 0.05923662767211677, 0.027275533475111257, 0.3282805278968748, 0.060071115391614076, 0.5584990187760877, 0.025327281084031882, 0.03730346503900404, 0.9450211143214357, 0.015987199302430304, 0.23169926873520377, 0.7646075868261725, 0.9954883767155406, 0.9955606952663401, 0.18655112286173572, 0.14605940627159153, 0.6652210582666546, 0.06649099691030448, 0.8060894830906776, 0.12660614480181265, 0.9970911372918568, 0.993296466644093, 0.3055607644605094, 0.6921886705125825, 0.655132947701867, 0.06988084775486582, 0.2628296329446898, 0.011840921425130041, 0.9974016386120099, 0.5236221674818943, 0.05666315502085688, 0.024576790129528285, 0.3945940193018708, 0.9956264842972372, 0.9928626813881977, 0.2044603262459296, 0.7954374587711832, 0.3034084738668131, 0.6651647311695518, 0.03111881783249365, 0.9957959601882961, 0.0566479699796334, 0.34975829949546383, 0.09183837557304203, 0.46906235748287356, 0.03218634657933716, 0.06920530043096064, 0.018592468772496887, 0.7643570495359832, 0.14667392031636434, 0.34049771195762546, 0.6584160000453818, 0.07588787302758378, 0.32758265190240327, 0.038576335455688414, 0.5571434678108442, 0.9935859477701193, 0.16853212819238136, 0.7230571951479587, 0.10601214515327215, 0.19212102479414978, 0.6226572972244131, 0.1450552315714866, 0.04012165979636863, 0.10386513569483338, 0.2926006157317485, 0.39747611266874955, 0.09699467924809343, 0.01596370762624871, 0.02303623632142219, 0.02485488655732394, 0.009497395676375815, 0.03576678797273445, 0.38686651939908234, 0.40865123602543846, 0.11868914575738837, 0.08563647225533084, 0.050531331251001364, 0.3498322932761633, 0.5986019240503239, 0.9968859940510673, 0.04352859506349923, 0.36051290390014695, 0.4424962087129952, 0.05928434419691306, 0.07023325461165826, 0.023767146997861543, 0.9989419710307593, 0.0545818288076298, 0.2061513688042018, 0.07431525922269597, 0.5983008157759421, 0.06633791501235006, 0.4215374764568204, 0.5776624677371243, 0.9970721763005981, 0.9963881030440114, 0.06771549679735371, 0.2438672958985779, 0.10134447662576923, 0.2898497785211052, 0.26171124437896165, 0.0356878969607675, 0.997912484078311, 0.07127974011977695, 0.13313744562602015, 0.2851189604791078, 0.07414731587172199, 0.10528099546426825, 0.050797056177312304, 0.09831688292383027, 0.08070177473331068, 0.10077480499692602, 0.9996830156056059, 0.1596148590748487, 0.8398064822482606, 0.34389861273012773, 0.0539190941565401, 0.01709629814719564, 0.034850146223129576, 0.06904274251752086, 0.4708057489766184, 0.010520798859812703, 0.21362440822491385, 0.7841578887280374, 0.9963675998186593, 0.9982512668512634, 0.9958219815924559, 0.9960712187978905, 0.9972935075617322, 0.998180474146213, 0.9777054711053847, 0.9899783512250727, 0.24847294238723105, 0.11169884566031488, 0.18008589402377298, 0.12005726268251532, 0.04863078994734798, 0.10410028473104176, 0.18692459886011878, 0.9869420849718514, 0.9982238609888203, 0.18197813419489633, 0.8174724562262883, 0.9975978088066533, 0.9946148252363107, 0.9962410984073184, 0.9984098349996438, 0.9992365844844364, 0.9955219486543667, 0.996004075327613, 0.44924698191792034, 0.1380498538185276, 0.14155959586476136, 0.270250137559999, 0.028166394943462347, 0.9657361615111161, 0.005895291964910724, 0.997154978991719, 0.9973807733230466, 0.9864777189658857, 0.9968720484188183, 0.043570703880128465, 0.6760060723219932, 0.20597060016060728, 0.05215281222015377, 0.021785351940064233, 0.8892523314622569, 0.10903638941635302, 0.9950350209214397, 0.9943096612922965, 0.6301004195240245, 0.3668084585086286, 0.9934575856951805, 0.2210133476425846, 0.2522560721784473, 0.08447107004140668, 0.07868538031254321, 0.363341314972626, 0.08856651110292334, 0.8007888712222652, 0.1088630032306766, 0.2607715146513754, 0.737535596993789, 0.09750450245362348, 0.07719106444245191, 0.8247255832535653, 0.9964910270091605, 0.9949856400699443, 0.8955312380973981, 0.037766694879647525, 0.003500327818113673, 0.008106022315631664, 0.02966067256401586, 0.021738878028284916, 0.0036845555980143927, 0.9659109326705048, 0.028919489002110922, 0.9971814926225251, 0.15633970269245032, 0.45052731528577084, 0.39000872069514486, 0.08469979012019982, 0.036825995704434705, 0.34861942600198187, 0.01411663168669997, 0.036825995704434705, 0.4646213124709512, 0.013502865091626058, 0.06076872741707136, 0.9375746515776724, 0.12743905500965688, 0.04708339470800131, 0.29034760069934146, 0.4359922349960922, 0.09134178573352254, 0.007219453855226868, 0.9933018045467196, 0.42152535070108477, 0.5778754399317159, 0.37498277293683724, 0.6232821766382565, 0.9952059361305099, 0.9972710886290925, 0.9984049968781472, 0.03885146553188526, 0.9608426959498505, 0.9920729056163063, 0.9932576891520802, 0.9982282069582002, 0.6105869544784367, 0.3872454136072681, 0.9962777269511147, 0.9982761876117053, 0.9953811593657763, 0.10030550881119979, 0.13483691348390792, 0.15785784993238, 0.4489082607452056, 0.1562134973289177, 0.9959728872930996, 0.819818002670171, 0.1795993047086715, 0.9923570748872589, 0.7206176968055006, 0.03761668632249798, 0.2220122075112136, 0.019177134203626423, 0.22579739136632535, 0.22520474729449771, 0.07111728861931507, 0.07348786490662557, 0.35380851088109244, 0.029039559519553653, 0.02133518658579452, 0.03942168947834631, 0.6193822202723961, 0.2486052489625443, 0.05185195192647353, 0.04048714054532864, 0.9942068365204876, 0.9933477094001887, 0.9960462403221132, 0.24671993156788094, 0.15428883328596588, 0.5986691134874805, 0.5949384833297732, 0.16238659086054194, 0.016526068981382588, 0.04670410799086383, 0.17963118458024552, 0.9879809663713249, 0.9954864986913713, 0.26402230016846207, 0.5199153996623932, 0.009896418212472474, 0.08341266779083942, 0.04418043844853783, 0.04170633389541971, 0.03640468128159517, 0.9961203470326065, 0.10019347752473412, 0.13669427985037075, 0.26897906680234246, 0.37039740346552075, 0.023272323630439466, 0.007839098486042766, 0.06393764702678632, 0.019107802559729246, 0.009798873107553459, 0.08008204200750149, 0.7217520748017856, 0.19767086318307328, 0.9963512152400061, 0.9972745678485442, 0.999281692003587, 0.4886112390755129, 0.05076480405979355, 0.27957969294695123, 0.18103624977205787, 0.21736202680793937, 0.5785820133873169, 0.10500581005214463, 0.0976554033484945, 0.25026757543509637, 0.7493391732325692, 0.9915200965295317, 0.09457565838956779, 0.05525768804783736, 0.10980694419762552, 0.404868829735116, 0.010980694419762552, 0.24440900482697292, 0.07969858853053464, 0.9968561494002475, 0.9932747457972271, 0.9562852310497619, 0.04224553229537101, 0.9910394992772893, 0.06413498655132648, 0.2494138365884918, 0.684106523214149, 0.9940393998434146, 0.07727305055554191, 0.9199172685183561, 0.061571120689674484, 0.9384220648607212, 0.08273231124221812, 0.6335553308285651, 0.2830315910917989, 0.14194259785312896, 0.12951664652591902, 0.07646739278283042, 0.1538906279754462, 0.2738488504035114, 0.2078957241283202, 0.015771399761458773, 0.3854733957925531, 0.18553276886015344, 0.07128098204163932, 0.044108267256262636, 0.07203929036123123, 0.2416475845099546, 0.13659187887358726, 0.8628608933721732, 0.987190922105263, 0.26409857583463775, 0.7272420341917046, 0.00825308049483243, 0.39779692810733247, 0.5074450477315667, 0.026767040967092495, 0.06788508582618037, 0.9938269006720947, 0.9904680553966746, 0.07318601282198264, 0.926235882704017, 0.3126622374380857, 0.31139639842011774, 0.37468834931851563, 0.08906419971789725, 0.14208786446989138, 0.26421082827521775, 0.23296705515729454, 0.07934103380982986, 0.011408514665465733, 0.14856997507526964, 0.03228091081478372, 0.12911411338579867, 0.4197001769273013, 0.11579029824524942, 0.114521363469959, 0.0279165650563889, 0.00824807603938763, 0.021254657486114277, 0.06344673876452023, 0.015861684691130057, 0.029819967219324506, 0.05424696164366479, 0.05984217512554033, 0.056148213698037845, 0.7543069234960084, 0.04063357570252739, 0.0724016439790488, 0.015514637995510457, 0.40820402366320424, 0.5910252570099948, 0.6591170095705684, 0.09781716576296284, 0.22123748229609716, 0.021007713452448395, 0.9972803052293033, 0.9952348298021012, 0.17383652441356698, 0.36104508916663913, 0.43994012716971953, 0.024069672611109275, 0.9934581214002532, 0.1427478646721673, 0.71025766812493, 0.08704138089766299, 0.05918813901041083, 0.9906589644061707, 0.13307818429900198, 0.5595795211349471, 0.1591240674645559, 0.08424215336358841, 0.06389380714049943, 0.16155467645961072, 0.49052352541622735, 0.030971621911946096, 0.3164127860193412, 0.30834268334111203, 0.6913665303538329, 0.15949122241074518, 0.4858142674268723, 0.09476047523985696, 0.2599239796191851, 0.9927270829010024, 0.015477352601998947, 0.8063700705641451, 0.17798955492298787, 0.996031930853372, 0.9975865449959292, 0.9360055349704051, 0.06281916342083255, 0.14778740585675543, 0.8502574129161383, 0.01756901413805644, 0.06441971850620694, 0.915540847860941, 0.9936954077927371, 0.7937550786377134, 0.20410844879255488, 0.9941067568989246, 0.9946714725029304, 0.1068957902157091, 0.13013400547999368, 0.7622134606685345, 0.6998709908552548, 0.2853778590904587, 0.014566851276079098, 0.08929932960418334, 0.8787434030198893, 0.03134976464827713, 0.9983758576090039, 0.9970918543309465, 0.1326137042777837, 0.11109305928533636, 0.3024523080019629, 0.45309682294909437, 0.1448661963554325, 0.8539481048320231, 0.9950376675227431, 0.17912704856793402, 0.16798517473356492, 0.5056696586367515, 0.05399523473578872, 0.09256325954706637, 0.9881893390880949, 0.09685422481105146, 0.26414788584832216, 0.0717342788039071, 0.09400557114013819, 0.09426453965567576, 0.033147969988809055, 0.32837207770163973, 0.017350890541017242, 0.14750121380936887, 0.7764885326964633, 0.0748041870033228, 0.9996499193488709, 0.07207820893651684, 0.20015105952619552, 0.09173590228283961, 0.635598751531103, 0.995122925349052, 0.9907611812242728, 0.9953085096347053, 0.9963428001819428, 0.13082404458204738, 0.8647150263837765, 0.9320141125211375, 0.06713966883382323, 0.6822519043178387, 0.045191899644985045, 0.27115139786991027, 0.13879168680896192, 0.8115605503485865, 0.048736012161925565, 0.9994810347255074, 0.9934357112690859, 0.9911360794631086, 0.995490726902341, 0.03375792947581358, 0.4219741184476698, 0.41494121647354193, 0.1287021061265393, 0.9886781885675221, 0.9922906288801174, 0.5917137499215719, 0.24256067195366562, 0.051197927298178555, 0.10004578580234236, 0.0028536549641607722, 0.011414619856643089, 0.6913074568968661, 0.2602638056845224, 0.04795872374411424, 0.995598798397994, 0.10793890633996114, 0.8896782583172556, 0.08895504967483481, 0.16308425773719715, 0.2005195078086901, 0.369904748231188, 0.0478133392002237, 0.1297261141091341, 0.19276856080041763, 0.288637417241267, 0.517485655196843, 0.9629999100696058, 0.03521303327758495, 0.13361291577431916, 0.11251613959942668, 0.7524516835711659, 0.145966784999649, 0.06016951442733622, 0.2449122087246019, 0.21817020231245246, 0.33070947929691463, 0.7712946840210597, 0.22711592736480185, 0.05920997359908121, 0.20268029424300874, 0.20353428424684164, 0.3470046048907692, 0.07088117031813086, 0.07088117031813086, 0.045261470203143805, 0.9862033474251565, 0.7752016629420394, 0.17450940957500735, 0.04867269246649865, 0.17187491666703755, 0.15089018846931787, 0.06695127567843905, 0.17387346220967753, 0.4356829282955138, 0.9912291214470649, 0.9928668577061582, 0.9935421450556999, 0.997625106469646, 0.12851741308792533, 0.11727824768479878, 0.256057507445144, 0.025898946363726395, 0.4241563291266889, 0.04691129907391951, 0.9954272056200079, 0.9973669022165322, 0.9924582390877421, 0.9075013033366861, 0.09127168280685061, 0.9966258778222792, 0.14225234717579824, 0.8352431393808336, 0.022186145889803395, 0.9974545270934945, 0.20563606182375527, 0.41422182125563817, 0.22312355478622625, 0.016434029530996836, 0.12156967999211761, 0.008427707451793248, 0.010534634314741562, 0.4377385662188077, 0.2926740413672261, 0.11325212905079617, 0.13064290542189222, 0.025025751363284547, 0.9949850091691682, 0.9947388718394173, 0.20679128706492603, 0.1974972966350417, 0.2242175191209591, 0.3705978683916371, 0.9962093361393269, 0.836887304046684, 0.159854878301052, 0.08218023010456059, 0.9150879676507828, 0.997501347159482, 0.9781685380112161, 0.3493094302886307, 0.1656146160167628, 0.18321267565173177, 0.013258812053743747, 0.0764189712915776, 0.16826637842751155, 0.04363354512232033, 0.7528554717015765, 0.12630141137098816, 0.0767714461274634, 0.043338719588084176, 0.1674686662272199, 0.14312729032210073, 0.03213061619475731, 0.18791542198752, 0.45956517708864997, 0.008762895325842901, 0.9266832128597056, 0.07215396008525951, 0.9916981195216028, 0.9979875760248373]}, \"tinfo\": {\"Term\": [\"deal\", \"fax\", \"gas\", \"know\", \"texas\", \"forwarded\", \"street\", \"energy\", \"power\", \"company\", \"thanks\", \"sara\", \"message\", \"smith\", \"jeff\", \"agreement\", \"let\", \"meeting\", \"houston\", \"price\", \"information\", \"get\", \"phone\", \"legal\", \"shackleton\", \"need\", \"just\", \"california\", \"email\", \"trading\", \"utility\", \"electricity\", \"commission\", \"plant\", \"billion\", \"generation\", \"generator\", \"edison\", \"iso\", \"kaminski\", \"turbine\", \"consumer\", \"dwr\", \"crisis\", \"higher\", \"transport\", \"berkeley\", \"equipment\", \"expense\", \"political\", \"legislative\", \"legislature\", \"deregulation\", \"regulator\", \"competitive\", \"volatility\", \"emergency\", \"grid\", \"design\", \"operator\", \"puc\", \"california\", \"state\", \"percent\", \"davis\", \"governor\", \"power\", \"news\", \"increase\", \"federal\", \"million\", \"said\", \"public\", \"market\", \"cost\", \"energy\", \"price\", \"rate\", \"ferc\", \"supply\", \"customer\", \"year\", \"company\", \"demand\", \"also\", \"plan\", \"last\", \"access\", \"employee\", \"site\", \"model\", \"interview\", \"feedback\", \"input\", \"lynn\", \"sitara\", \"designed\", \"informed\", \"joint\", \"function\", \"extremely\", \"initiative\", \"survey\", \"forum\", \"strategic\", \"contacted\", \"tool\", \"background\", \"audit\", \"monitor\", \"upcoming\", \"anticipate\", \"implementation\", \"significantly\", \"server\", \"employment\", \"facilitate\", \"identify\", \"web\", \"data\", \"process\", \"completed\", \"goal\", \"view\", \"project\", \"user\", \"information\", \"direct\", \"application\", \"area\", \"network\", \"provide\", \"system\", \"team\", \"involved\", \"program\", \"request\", \"question\", \"contact\", \"working\", \"issue\", \"also\", \"need\", \"review\", \"list\", \"like\", \"one\", \"forwarded\", \"may\", \"group\", \"risk\", \"company\", \"service\", \"business\", \"time\", \"use\", \"folk\", \"glad\", \"tonight\", \"iep\", \"wondering\", \"roger\", \"wine\", \"steffes\", \"king\", \"store\", \"finish\", \"laguna\", \"jeffs\", \"terry\", \"curt\", \"hydro\", \"mona\", \"favorite\", \"personally\", \"calpx\", \"arranged\", \"frame\", \"hull\", \"church\", \"accomplish\", \"informal\", \"allegheny\", \"laptop\", \"aint\", \"duane\", \"else\", \"let\", \"know\", \"anyone\", \"marie\", \"missed\", \"ill\", \"together\", \"talk\", \"leaving\", \"get\", \"anything\", \"want\", \"jeff\", \"wanted\", \"try\", \"sure\", \"yes\", \"someone\", \"tomorrow\", \"best\", \"idea\", \"call\", \"like\", \"give\", \"need\", \"thanks\", \"think\", \"make\", \"work\", \"dont\", \"just\", \"help\", \"also\", \"today\", \"time\", \"look\", \"going\", \"back\", \"send\", \"see\", \"group\", \"old\", \"buying\", \"whats\", \"anyway\", \"hpl\", \"girl\", \"wife\", \"knew\", \"birthday\", \"forget\", \"parking\", \"shell\", \"transco\", \"sitting\", \"hows\", \"worry\", \"cng\", \"dth\", \"fpl\", \"prayer\", \"garage\", \"apartment\", \"paribas\", \"accord\", \"pray\", \"kern\", \"totally\", \"rocky\", \"peace\", \"mountain\", \"guess\", \"youre\", \"havent\", \"cant\", \"fun\", \"picture\", \"thats\", \"woman\", \"night\", \"really\", \"wont\", \"got\", \"thing\", \"didnt\", \"going\", \"tell\", \"say\", \"just\", \"little\", \"weekend\", \"went\", \"good\", \"lot\", \"dont\", \"think\", \"guy\", \"always\", \"get\", \"see\", \"one\", \"back\", \"day\", \"hope\", \"now\", \"still\", \"people\", \"take\", \"last\", \"time\", \"like\", \"come\", \"want\", \"well\", \"said\", \"make\", \"work\", \"confidentiality\", \"equity\", \"signature\", \"marked\", \"tanya\", \"enclosed\", \"attaching\", \"annex\", \"worksheet\", \"incorporated\", \"attach\", \"threshold\", \"faxed\", \"spalding\", \"drafted\", \"warranty\", \"hansen\", \"overview\", \"draft\", \"brant\", \"redline\", \"curtailment\", \"epc\", \"blacklined\", \"amend\", \"nemec\", \"lender\", \"dash\", \"renewable\", \"velaw\", \"master\", \"isda\", \"version\", \"revised\", \"executed\", \"llc\", \"execute\", \"form\", \"doc\", \"confirmation\", \"attached\", \"agreement\", \"privileged\", \"guaranty\", \"copy\", \"letter\", \"document\", \"signed\", \"print\", \"comment\", \"proprietary\", \"sent\", \"review\", \"confirm\", \"change\", \"amendment\", \"send\", \"credit\", \"swap\", \"need\", \"ena\", \"note\", \"thanks\", \"forward\", \"also\", \"sara\", \"received\", \"call\", \"provision\", \"default\", \"tariff\", \"definition\", \"shipper\", \"damage\", \"gisb\", \"arbitration\", \"proceeding\", \"purchaser\", \"clause\", \"cameron\", \"mmbtu\", \"interconnection\", \"motion\", \"adjustment\", \"terminate\", \"gtc\", \"limitation\", \"waiver\", \"bcf\", \"representation\", \"majeure\", \"modified\", \"supervisor\", \"aquila\", \"ppa\", \"guideline\", \"insert\", \"modification\", \"bankruptcy\", \"obligation\", \"invoice\", \"termination\", \"party\", \"filing\", \"language\", \"liability\", \"payment\", \"agree\", \"transfer\", \"contract\", \"respect\", \"section\", \"event\", \"transaction\", \"entity\", \"capacity\", \"law\", \"cap\", \"amount\", \"term\", \"agreement\", \"whether\", \"issue\", \"right\", \"credit\", \"may\", \"facility\", \"part\", \"point\", \"purchase\", \"required\", \"upon\", \"change\", \"however\", \"make\", \"derivative\", \"ceo\", \"broadband\", \"metal\", \"budget\", \"commissioner\", \"brazil\", \"european\", \"india\", \"egm\", \"guarantor\", \"cal\", \"bandwidth\", \"advisor\", \"treasury\", \"collins\", \"merrill\", \"argentina\", \"launch\", \"becoming\", \"actively\", \"port\", \"blank\", \"pam\", \"appointed\", \"toronto\", \"deutsche\", \"inspection\", \"usage\", \"disclosed\", \"managing\", \"london\", \"chairman\", \"capital\", \"steel\", \"origination\", \"global\", \"investment\", \"management\", \"bank\", \"corporate\", \"business\", \"america\", \"risk\", \"international\", \"mark\", \"director\", \"asset\", \"group\", \"president\", \"vice\", \"role\", \"europe\", \"technology\", \"market\", \"service\", \"trading\", \"office\", \"operation\", \"new\", \"development\", \"continue\", \"team\", \"financial\", \"legal\", \"support\", \"vince\", \"god\", \"game\", \"sue\", \"image\", \"false\", \"mom\", \"kid\", \"dog\", \"football\", \"gift\", \"luck\", \"wood\", \"feeling\", \"microsoft\", \"food\", \"shes\", \"drink\", \"catch\", \"hell\", \"perfect\", \"christmas\", \"pst\", \"father\", \"proper\", \"ralph\", \"sister\", \"wharton\", \"temporary\", \"coach\", \"man\", \"sound\", \"play\", \"love\", \"wouldnt\", \"enjoy\", \"live\", \"friend\", \"aol\", \"break\", \"forwarded\", \"season\", \"tree\", \"ever\", \"year\", \"school\", \"top\", \"team\", \"life\", \"one\", \"enough\", \"first\", \"brown\", \"way\", \"home\", \"best\", \"name\", \"texas\", \"good\", \"natural\", \"oil\", \"curve\", \"emission\", \"coal\", \"reliant\", \"japan\", \"liquid\", \"core\", \"northern\", \"ownership\", \"ontario\", \"koch\", \"capability\", \"chapter\", \"wire\", \"expects\", \"alliance\", \"pulp\", \"singapore\", \"illinois\", \"hyvl\", \"expertise\", \"framework\", \"export\", \"ecc\", \"historical\", \"nat\", \"heating\", \"freight\", \"paso\", \"gas\", \"transportation\", \"fuel\", \"marketing\", \"pipeline\", \"mexico\", \"trading\", \"company\", \"pacific\", \"canada\", \"product\", \"energy\", \"trade\", \"physical\", \"venture\", \"financial\", \"corporation\", \"power\", \"online\", \"central\", \"customer\", \"service\", \"trader\", \"weather\", \"new\", \"electric\", \"north\", \"group\", \"market\", \"debra\", \"ken\", \"mann\", \"org\", \"gore\", \"chair\", \"mara\", \"randy\", \"gov\", \"ann\", \"stacy\", \"phil\", \"bailey\", \"paula\", \"harris\", \"cindy\", \"keith\", \"dennis\", \"melissa\", \"transmitted\", \"katie\", \"edward\", \"neil\", \"alex\", \"curtis\", \"hertzberg\", \"barry\", \"carlos\", \"stinson\", \"denne\", \"karen\", \"robert\", \"steven\", \"richard\", \"dasovich\", \"bob\", \"frank\", \"harry\", \"joe\", \"bruce\", \"jim\", \"jeff\", \"michael\", \"susan\", \"bill\", \"scott\", \"kay\", \"david\", \"john\", \"kevin\", \"steve\", \"paul\", \"james\", \"lay\", \"elizabeth\", \"mary\", \"mike\", \"rick\", \"committee\", \"mark\", \"mail\", \"attend\", \"session\", \"earnings\", \"serum\", \"invitation\", \"club\", \"oct\", \"alamo\", \"crenshaw\", \"conference\", \"palo\", \"petroleum\", \"liz\", \"antonio\", \"alto\", \"register\", \"gen\", \"interconnect\", \"paulo\", \"attendee\", \"rsvp\", \"incurred\", \"baylor\", \"mon\", \"flagstaff\", \"hyatt\", \"convenient\", \"faculty\", \"liquidation\", \"penn\", \"edu\", \"thursday\", \"agenda\", \"tuesday\", \"lunch\", \"meeting\", \"room\", \"scheduled\", \"wednesday\", \"sunday\", \"friday\", \"monday\", \"center\", \"march\", \"schedule\", \"april\", \"next\", \"december\", \"week\", \"call\", \"october\", \"afternoon\", \"event\", \"available\", \"office\", \"discus\", \"time\", \"plan\", \"meet\", \"forwarded\", \"date\", \"houston\", \"may\", \"buyer\", \"certificate\", \"quantity\", \"equal\", \"maximum\", \"floating\", \"determination\", \"premium\", \"offset\", \"exceed\", \"deposit\", \"employer\", \"guaranteed\", \"awaiting\", \"calculate\", \"dlcp\", \"permitted\", \"interruptible\", \"kindly\", \"thereof\", \"contamination\", \"indirectly\", \"expiration\", \"issuer\", \"rex\", \"surety\", \"oneok\", \"mkt\", \"soil\", \"gleason\", \"shall\", \"transwestern\", \"spread\", \"option\", \"total\", \"addressee\", \"period\", \"per\", \"value\", \"price\", \"stock\", \"seller\", \"delivery\", \"day\", \"account\", \"month\", \"unit\", \"share\", \"date\", \"amount\", \"volume\", \"rate\", \"pay\", \"sell\", \"transaction\", \"term\", \"fund\", \"approval\", \"may\", \"contract\", \"number\", \"offer\", \"product\", \"recipient\", \"error\", \"notify\", \"sender\", \"notified\", \"dissemination\", \"hereby\", \"copying\", \"disclosure\", \"llp\", \"enron_development\", \"disclose\", \"hotmail\", \"pge\", \"unauthorized\", \"destroy\", \"residential\", \"intended\", \"burton\", \"multipart\", \"ship\", \"brobeck\", \"reliance\", \"strictly\", \"harrison\", \"fear\", \"defendant\", \"juan\", \"joannie\", \"llgm\", \"confidential\", \"contain\", \"bass\", \"attachment\", \"delete\", \"campbell\", \"message\", \"communication\", \"email\", \"immediately\", \"reply\", \"distribution\", \"received\", \"information\", \"use\", \"may\", \"authorized\", \"copy\", \"thank\", \"notice\", \"entity\", \"individual\", \"fax\", \"student\", \"producer\", \"administration\", \"yahoo\", \"haas\", \"flight\", \"professor\", \"child\", \"sandra\", \"shirley\", \"jack\", \"dad\", \"airline\", \"seminar\", \"terminal\", \"southwest\", \"nov\", \"sun\", \"award\", \"arizona\", \"rac\", \"bringing\", \"graduate\", \"kristin\", \"continental\", \"suit\", \"congress\", \"men\", \"vega\", \"freeman\", \"consultant\", \"city\", \"travel\", \"university\", \"rice\", \"class\", \"school\", \"invite\", \"austin\", \"reservation\", \"evening\", \"san\", \"york\", \"dinner\", \"new\", \"houston\", \"thank\", \"finance\", \"research\", \"offer\", \"special\", \"shackleton\", \"perlingiere\", \"dperlin\", \"clair\", \"cdt\", \"donna\", \"janette\", \"margaret\", \"esa\", \"nda\", \"kaufman\", \"elbertson\", \"zimin\", \"lou\", \"clint\", \"dealbench\", \"lsu\", \"reschedule\", \"newpower\", \"westlb\", \"alos\", \"hastings\", \"waco\", \"denton\", \"accrual\", \"fraser\", \"emailed\", \"shmuel\", \"bother\", \"yair\", \"smith\", \"street\", \"texas\", \"carol\", \"fax\", \"sara\", \"phone\", \"department\", \"houston\", \"legal\", \"sheila\", \"reminder\", \"kay\", \"cook\", \"cheryl\", \"suite\", \"regard\", \"mary\", \"thanks\", \"call\", \"credit\", \"counsel\", \"tax\", \"sherri\", \"loan\", \"story\", \"meter\", \"enw\", \"socal\", \"kent\", \"hou\", \"success\", \"prc\", \"operational\", \"election\", \"trial\", \"search\", \"mother\", \"stanley\", \"delta\", \"health\", \"eecc\", \"scenario\", \"escrow\", \"poor\", \"testimony\", \"dawn\", \"driving\", \"peaking\", \"contracting\", \"eel\", \"mou\", \"land\", \"chronicle\", \"judge\", \"property\", \"evidence\", \"corp\", \"wasnt\", \"court\", \"county\", \"bear\", \"income\", \"morgan\", \"cash\", \"measure\", \"million\", \"ena\", \"field\", \"case\", \"account\", \"lng\", \"var\", \"mar\", \"flat\", \"compressor\", \"brother\", \"funny\", \"enovate\", \"prompt\", \"thru\", \"variance\", \"criterion\", \"confusion\", \"visiting\", \"element\", \"ladwp\", \"injection\", \"sick\", \"wellhead\", \"flexible\", \"flag\", \"westinghouse\", \"intra\", \"australian\", \"spec\", \"approaching\", \"isdas\", \"btu\", \"apr\", \"dpr\", \"testing\", \"chris\", \"forgot\", \"hey\", \"daily\", \"ben\", \"gulf\", \"coverage\", \"book\", \"feb\", \"pool\", \"trust\", \"test\", \"storage\", \"spreadsheet\", \"index\", \"monthly\", \"report\", \"volume\", \"jan\", \"east\", \"gas\", \"position\", \"pricing\", \"file\", \"thanks\", \"forwarded\", \"price\", \"need\", \"month\", \"basis\", \"number\", \"delainey\", \"zone\", \"tagg\", \"samuel\", \"structuring\", \"bradley\", \"californian\", \"dominion\", \"dedicated\", \"soldano\", \"moran\", \"sap\", \"enronxgate\", \"bet\", \"evelyn\", \"phoenix\", \"nom\", \"negm\", \"pereira\", \"cdwr\", \"argentine\", \"ppm\", \"richter\", \"kerri\", \"lesli\", \"swerzbin\", \"ace\", \"shoot\", \"congestion\", \"entex\", \"deal\", \"desk\", \"stacey\", \"eol\", \"robin\", \"tom\", \"forwarded\", \"changed\", \"debbie\", \"thanks\", \"hunter\", \"west\", \"correct\", \"europe\", \"mike\", \"entered\", \"trader\", \"ticket\", \"contract\", \"counterparty\", \"name\", \"global\", \"number\", \"facility\", \"stephanie\", \"confirm\", \"show\", \"david\", \"change\", \"set\", \"regard\", \"broker\", \"nbsp\", \"contractor\", \"prentice\", \"louise\", \"neal\", \"rebook\", \"goldman\", \"kitchen\", \"max\", \"bryan\", \"trigger\", \"burn\", \"prebon\", \"completion\", \"luncheon\", \"calgary\", \"flynn\", \"executing\", \"advisory\", \"elli\", \"cftc\", \"kaye\", \"chante\", \"mieux\", \"bois\", \"chicken\", \"ranking\", \"bell\", \"camp\", \"brent\", \"alert\", \"ect\", \"nymex\", \"leg\", \"brokerage\", \"quote\", \"arnold\", \"jason\", \"john\", \"click\", \"text\", \"future\", \"closing\", \"member\", \"link\", \"martin\", \"board\", \"russell\", \"nelson\", \"clearing\", \"president\", \"exchange\", \"firm\", \"internet\", \"copy\", \"kate\", \"software\", \"happen\", \"ross\", \"boy\", \"christian\", \"pcb\", \"inform\", \"virus\", \"workshop\", \"swing\", \"chuck\", \"lady\", \"html\", \"surprise\", \"nam\", \"slow\", \"kaplan\", \"mistake\", \"angel\", \"invest\", \"manual\", \"reimbursement\", \"linux\", \"carefully\", \"carr\", \"norton\", \"belden\", \"paris\", \"digital\", \"www\", \"internet\", \"investor\", \"computer\", \"newsletter\", \"auction\", \"mws\", \"peak\", \"article\", \"hedge\", \"world\", \"buy\", \"series\", \"free\", \"study\", \"small\", \"pick\", \"fast\", \"speaker\", \"home\", \"today\"], \"Freq\": [6775.0, 6887.0, 7350.0, 10680.0, 5116.0, 7707.0, 4787.0, 7526.0, 7695.0, 6604.0, 7912.0, 4954.0, 6064.0, 4579.0, 7252.0, 7696.0, 7868.0, 5401.0, 5382.0, 6085.0, 5812.0, 9137.0, 3934.0, 4584.0, 3144.0, 9968.0, 6274.0, 5170.0, 3720.0, 3535.0, 3352.219248473042, 1976.0562096252165, 1802.6194275845883, 1800.8379706296673, 1387.3567364038472, 1181.8631701921668, 1060.8025395460443, 966.0742843969288, 917.6468076549947, 902.3474985524539, 734.2394269910249, 717.3721316239152, 689.533817656269, 616.7896953190599, 515.6507326791246, 451.13646867301486, 434.7765877030177, 418.5375963317892, 418.5253919584331, 376.0982536133128, 374.74135250650596, 345.88772006326803, 341.5712932648487, 333.01455721105106, 323.47138914935215, 315.4722222768486, 301.8560473930192, 297.29181237578337, 294.26635068541134, 288.2410779132595, 808.8459835493304, 5017.920472256634, 4860.654732379406, 648.3747418232624, 1819.912820836914, 1398.0504812474412, 5306.008840869743, 966.1701871965681, 976.2449098319946, 875.3954633230031, 1574.4237440847498, 3375.488311508422, 1377.9296002348228, 3499.984054703323, 1897.2790076718934, 3662.733739552273, 2954.3117876360243, 1858.0278840804235, 1065.4780644985847, 976.8913730493908, 1485.4821150815494, 1449.2056227558883, 1570.047527341964, 973.2752684261619, 1228.1239733910309, 1004.4623511982779, 999.0717914816955, 1780.2228311502388, 1694.28646841289, 1392.1128019864939, 1008.1322460215498, 554.4067172341988, 482.8752572718089, 388.0209048841967, 385.19541878618776, 374.6465773152912, 371.0827953250314, 363.7647848903398, 356.12430943170625, 336.9735490972115, 325.5917848460109, 318.4416158070288, 316.30366315010855, 302.29584902104995, 291.51580066468006, 275.46899330522564, 274.36122380810167, 264.9974829273001, 235.18037821327917, 226.75853018642647, 224.16642162617222, 216.3553943417346, 212.40519301562517, 211.55980652955475, 208.80693862462434, 194.755917417674, 193.79361689450664, 322.7139025893115, 628.9198857517966, 1353.0240905641126, 1691.932150871009, 558.4608847221007, 551.7461270848144, 765.6430164646275, 1831.3364758232563, 737.0972772215663, 3203.5620313947074, 969.0340363072917, 760.0790909944141, 825.9470070084847, 547.149537926965, 1599.662712551975, 1470.931941188781, 1308.618043282434, 533.6106229162932, 893.1356100947492, 1088.5164270033229, 1306.4054777660153, 1185.977289814482, 1032.368972113107, 1489.0190773433944, 1935.2474038572745, 2070.3432183234386, 1176.7967116562806, 1032.087943454473, 1513.4011726470317, 1462.5510411618454, 1438.643742497913, 1379.9640132349648, 1148.7390752515114, 1011.1811194100071, 1163.6220766299346, 1066.4697856690916, 1076.3946031190849, 1096.271389229593, 1020.1685812586434, 740.6038914550679, 384.86004045076197, 380.08477708090874, 375.1749222193146, 346.2198733535269, 289.33715450349405, 256.72696729891493, 237.72117539153587, 201.987563681407, 196.99745464988186, 177.44909600138712, 169.60296299066252, 149.36257833849191, 145.35949461147328, 144.67920838387533, 136.3077231016803, 128.80299629751832, 126.60532228935365, 126.47065599276898, 120.69763868430942, 111.09015166875929, 110.83294175710394, 108.9602766290497, 105.923014697328, 105.62427503451138, 105.2176189427742, 102.671136883521, 102.0746960426184, 100.77769827806686, 97.89211897899837, 901.9002311639887, 7101.426573709405, 8879.644705807024, 945.7338115739983, 223.07734434637695, 166.22667163501535, 1822.1386183891582, 1020.5213662997397, 1424.2747642880122, 342.190218554917, 5232.730472618406, 1022.935681723014, 3524.627952458725, 4116.660870435488, 1181.7094659647987, 1057.2227882810994, 1743.7891008517242, 608.4085938016246, 1024.3660539860296, 1004.4508379873519, 1528.6224231734311, 819.1052653443857, 2901.5457257202374, 3390.91805688692, 1774.6983464794125, 3763.4988421953167, 3049.741556152112, 2467.389479318073, 2298.8364112776244, 1965.5943983335064, 1843.4182152007627, 2186.0845944873554, 1261.3517594977075, 2235.5440808548356, 1322.6991605967676, 2037.678120171789, 1384.2736415517786, 1455.0394287225222, 1381.1154845994872, 1350.4336998255612, 1448.0261039616037, 1213.8304197197838, 709.1683111189285, 585.7127503909047, 558.3801550672836, 441.8885347230834, 407.7746003592619, 308.52475840361916, 253.2140414274982, 225.8445042878328, 221.65833650897486, 205.0643498199953, 199.06049248584566, 196.7700013570007, 195.48041875352286, 175.84349201857376, 160.3446970165697, 158.6568187406277, 152.43966475159294, 149.23527286508494, 148.87165951880834, 147.60642133510146, 131.64635751011141, 125.53396524424083, 123.18449413022127, 121.90363115418272, 121.16948681117563, 118.44842193470883, 118.16444516617872, 115.57752992775194, 114.78280814230796, 109.30720325347465, 521.0795276648805, 654.7996570802103, 652.6604635624973, 1002.2620322680775, 403.2115991433306, 371.5864907116441, 776.9033365095586, 347.98709729880454, 1013.5444037519786, 1377.8202401602161, 639.7608003380436, 1267.59265487565, 1498.334128212959, 966.1424140836989, 2768.4701276145124, 1023.6075291114233, 1709.553977508763, 3594.2768914976305, 1087.5875584894495, 686.1618223975642, 653.1010865338843, 1954.0679087920842, 857.5668150388283, 2468.0826264722564, 3147.085340615042, 1215.0305494005352, 704.5745573794702, 3199.350182327475, 1966.9732363227938, 2590.083484678231, 1643.7264418621874, 2012.7898465654446, 1162.60555191187, 1555.0537078965826, 1389.2273728091138, 1285.887506014449, 1512.3885973834363, 1517.6192527544592, 1797.0212106887893, 1724.3296216318947, 1052.9383240088853, 1445.2887311190696, 1219.386030138691, 1354.4560776450396, 1193.3360069783903, 1058.5779997873515, 835.7991697300258, 705.9205080736898, 423.8067634878466, 361.8278052691013, 318.2169033745932, 305.1354116831028, 297.4158391295943, 278.6389004933971, 235.2368035126467, 234.33690289368008, 225.8150708527657, 225.44991530011714, 221.1616874578203, 215.28276495475222, 201.1927479409032, 174.82595568764228, 166.91847536837827, 166.74551612979022, 3030.6596014622914, 158.32861295996312, 156.86993327906038, 156.78186214279248, 155.11277694487535, 150.15456761238931, 147.13329249840461, 143.4921234645166, 143.00637677486554, 141.36282483059583, 139.15734130193002, 130.5331923349804, 2232.9593662315565, 2010.6300303784203, 1290.9033651044233, 913.9344269365629, 838.9248760493881, 808.7492768759543, 361.11137829498966, 2150.9882323669444, 1211.290968579262, 1020.9394345348811, 3269.4971024094093, 5804.00694184262, 594.3737052146931, 1004.4035736358891, 2767.4872538100562, 2163.8928306152047, 2237.946653073004, 857.9953272666007, 671.8099489263893, 1656.3704430820646, 364.34568183917423, 1425.140124329296, 1740.189022380774, 904.4788636643083, 2170.002894341388, 628.1812610428217, 1657.1866787287518, 1577.1003176696122, 827.8856041530327, 2203.479608048103, 1191.3427588949935, 986.2984876739561, 1467.5005973853101, 1034.0193530188865, 1294.7816530288674, 1012.829183615532, 941.9095977012529, 899.9624987529592, 995.8208393784772, 567.3295977306094, 436.24100456829615, 403.4258834985114, 348.9965979618293, 336.4037637177904, 318.9370555253123, 301.9437674689, 290.3934938353069, 251.50902717153537, 251.3416276280242, 250.0157019852545, 229.39291736710697, 226.1773084251414, 222.88476730242257, 209.30116234934596, 198.39008502046053, 195.330591097569, 194.26737040458863, 184.4790138720589, 173.19015165126876, 171.1376056307195, 161.74831877237355, 160.8128716973007, 157.25864958390557, 156.7335145570479, 155.23436877113375, 154.06400422017373, 151.57152745954065, 151.4837461787331, 508.2003677650271, 742.7172429933262, 525.4643251986544, 497.6260249986426, 2514.4387179330824, 652.1437173906501, 1485.8345512860808, 367.5194647011207, 1120.6399870334237, 795.9712287895866, 520.6518604426877, 2697.3725080763734, 782.7843009427055, 806.6090222203296, 956.0989617451226, 1455.742537837401, 916.1423534179781, 854.4152257815974, 864.6629354629462, 552.2211937149287, 892.7668587604794, 1142.8712955538174, 1833.5233078207355, 868.1973151219712, 1328.0976086073235, 978.8935994471705, 1131.7299717424642, 1465.8647880528918, 698.6912762476572, 668.9273038246658, 709.3726428264195, 656.3344057302874, 591.6068598243128, 589.9460439267624, 713.302492235657, 628.803116831787, 643.7942370690215, 833.4232484910954, 661.2314000300858, 402.0765821957508, 396.4711713033651, 367.7980337969984, 289.29411432389526, 284.33142781165424, 278.5198396982429, 245.70370729320936, 240.72038367872472, 228.59018855126763, 219.11219007021742, 216.95745140712302, 192.43543753048405, 188.2445580426452, 169.09390723665268, 157.63923086555536, 157.55941007601515, 150.0387580000242, 148.05974044468823, 136.21804978158798, 134.1685448059218, 120.4861164225394, 119.88618297378905, 119.65755502795452, 118.83538452042805, 117.65020164556086, 116.69409600194227, 110.36647485434123, 108.5035592586312, 571.7795930200496, 994.3794859608572, 832.8222973964716, 734.5267434328024, 166.93501070220722, 356.23001891153, 1211.263604860854, 715.7610104731403, 1559.8854224703996, 926.550719999306, 672.1555560835602, 2752.395937651774, 871.914608401998, 1720.1249266820164, 574.3945194670089, 1920.3377651871572, 782.5685593814098, 675.2757962907358, 1828.3136509996443, 827.4128580506657, 467.91994076209295, 460.38754357991576, 525.5508009406109, 551.3350522587523, 1481.6095484576833, 1266.5270511031517, 1089.8927819655955, 958.2801667195988, 613.8049327590489, 1361.265487373127, 653.4663996413356, 620.6705392485784, 749.1269319955476, 695.3210573677577, 794.7513885203157, 596.5850894746023, 2142.162077404975, 867.7419677787082, 828.1243785123268, 525.9581675898232, 505.34158970692033, 391.93694895341645, 296.80066484428716, 292.1756449455016, 246.43613030260295, 242.27712381883967, 241.34435365578452, 240.9182756340724, 235.65214124202942, 226.61538352288122, 214.91885577284503, 213.99307309154898, 211.93933266737076, 210.92502750803942, 206.08791864402002, 202.76059258397297, 193.0025339142978, 186.03203010533707, 181.83826771830607, 174.92301040580324, 174.56108823242752, 172.18570729271408, 171.69884709652342, 170.15484768334449, 166.4695794860626, 166.06456116230515, 607.118654927046, 734.0189906515521, 597.7428697546635, 929.9732655807312, 266.98742784559425, 223.62645564805536, 279.9645207774925, 525.7099917596499, 391.426213163253, 278.7085592896721, 1078.3373240080894, 265.92757818512473, 245.19602225991267, 337.19610261768895, 698.2626042474441, 376.92396815368505, 328.72109230979873, 484.5889567239645, 305.15079723053935, 598.1972941814582, 307.8047856677494, 405.75027608249496, 278.4406257690323, 349.98802387003803, 301.38766342736267, 325.9703242372079, 304.8594888923502, 314.551093286298, 294.8701080310762, 1641.029357859331, 980.4315155706255, 591.4486097591176, 530.7001278921286, 369.8975678486157, 336.6411161618594, 315.3196615466582, 313.28348795652454, 305.09177506965557, 295.62992635619185, 233.87994257844247, 222.662419636825, 217.66827992798144, 206.81210530880267, 179.91855284087586, 176.39009194463745, 172.55025448562859, 169.70441435647288, 165.14846507413142, 153.88646252413272, 153.52598044145566, 148.66562940000318, 143.35214165992903, 140.09848162663138, 138.3475682274551, 137.19809988910424, 125.99327972667687, 123.43940370928242, 119.70450043112537, 116.55911426962606, 608.3907277595092, 6100.45012751213, 446.9825353093266, 918.8605740706475, 872.6080867764524, 1146.2461825541884, 377.59883676199473, 2444.239332437436, 3869.5592895180466, 491.39768222595814, 450.9961239784331, 1543.3541764309311, 3433.9899427609244, 1374.7537137360287, 643.089955950583, 271.1980587739709, 1210.2298563565232, 611.9015101692936, 2388.226722104153, 614.9641200464374, 417.4973256050288, 1041.236437384452, 1143.7308243188295, 585.7915703440176, 502.0548095789879, 903.9029493766149, 483.5262174978742, 441.9075354766601, 544.7493383922441, 511.4797565115783, 1466.6999292303153, 856.0345963201017, 552.9751363807126, 365.4015226949404, 340.8802731220717, 334.17718032360744, 315.7908141197306, 309.62892073704273, 302.75897095994947, 295.4626914027048, 293.0773165226703, 292.2080188041412, 272.8284617390109, 262.5446744509004, 262.0552964848025, 259.48111596247173, 248.00152609204758, 246.6511479852118, 210.116017272218, 203.85827804037748, 191.12642394182544, 188.86099606533784, 183.90475962460502, 181.4591691003049, 177.56961564769233, 175.38765320093734, 172.2401743163869, 171.58461632522722, 167.1717088024965, 166.05115125829937, 643.6616022892699, 1064.3658113598533, 540.4292106457194, 1299.609366071294, 986.2722106822788, 881.1272884989882, 506.53527216894753, 320.59317302241055, 816.4895006692261, 364.26224573823447, 771.4437694952578, 2943.697336375243, 762.5319271873508, 841.626070648414, 1331.473365845841, 880.9753924790357, 994.1776478043649, 943.2929692225183, 1344.3370003105956, 491.8003411175196, 757.4269938635556, 662.5639487871358, 563.573237852723, 427.03756675728806, 384.8866561754597, 510.75213416244213, 726.2023038046359, 475.2161964929511, 504.7775274037241, 703.4577515365755, 520.2765575444873, 807.7732879014841, 570.2413269181934, 505.3089268714526, 479.4554994059789, 334.85140012423153, 236.9532781972168, 209.24014862153658, 207.48974182306932, 188.47272893513136, 2173.8728994995067, 176.4193460344043, 171.6861988631192, 171.12575712171366, 164.5773203391237, 143.13956432441415, 142.30948686952192, 140.5371623630732, 131.5532848823667, 129.24000473804608, 128.07438859887495, 119.85880663392774, 119.51909782022531, 119.00341921666674, 110.1631875288614, 107.67693920676382, 105.93818413845031, 105.19319889563344, 103.09191748196875, 96.21824187756883, 95.90305973543511, 729.6091695546627, 1177.050145633833, 394.9000766617025, 925.2057744663912, 754.6759586663485, 4049.259514206506, 884.6387162109467, 739.7000630656964, 749.0445940906341, 387.79427949615126, 1305.972442148244, 1136.7170311711245, 505.9697965158002, 723.0693412906589, 1093.1478509826227, 637.7903214003999, 1216.6576215107978, 491.715517868888, 1483.8047714461213, 1712.8077464704186, 442.0959980294842, 456.0423837835412, 681.3932754105879, 710.893852360356, 856.1907392241909, 717.7577431081395, 1145.9464528189783, 765.4183572690645, 641.8232906365678, 1022.9106752880467, 632.0495022522535, 658.5746994591011, 669.101734549182, 659.1481674231325, 502.3826460052279, 366.890110995877, 323.9438127045455, 299.81692604794443, 284.34378255909974, 249.88895817572126, 223.3886180330313, 184.32769289868904, 182.72935138727382, 180.52235514023715, 163.36355027472257, 161.36477791016233, 133.71710469180184, 133.24220116922135, 132.81886511114857, 125.59289403798482, 124.32456795272546, 113.40978162929258, 111.49632157727913, 104.48706742733573, 98.1485767585987, 95.51785036314018, 94.19093891772715, 93.74573364054599, 92.59796911497382, 92.11411502110616, 90.85711729347503, 88.26233786310229, 86.16115272232682, 1952.1130316598485, 443.3714811321221, 434.2561566525552, 1652.723876897399, 816.4641491446167, 422.986964470956, 854.820152666749, 1605.4260114557503, 1067.4841826996922, 2615.001691402208, 839.4654796282958, 616.3653708096892, 678.7620375034177, 1935.5757908604603, 734.9770005168738, 1108.3204440453317, 779.1049658799083, 715.8060710793787, 1085.6991647259092, 767.5724285231598, 600.4595712344673, 969.2697470175134, 611.5320357990187, 543.9705771484025, 779.0567699708647, 689.9696385141303, 449.50426664741127, 495.7605457252366, 663.565600922292, 583.2754901370726, 528.9568448279539, 489.90028612472884, 497.9586951395212, 1218.874366783256, 1176.524183456538, 891.5309823347098, 733.8285535577199, 625.2704112286953, 612.5577332458338, 516.5470822180616, 444.78001576403545, 444.00710253043104, 364.20927496040395, 358.80177002798416, 300.47395032243503, 286.8232763120939, 282.37870235638775, 275.85612699236424, 243.56097455017255, 214.66541141829194, 2599.767721072008, 193.66224473020267, 193.66124847293392, 185.7847733203266, 182.45889966158634, 157.1758475443803, 150.249703051803, 148.14814856174488, 146.6958096508299, 144.59175207862768, 125.34165704184015, 121.10825583608616, 112.51064651458422, 1086.9745155920798, 792.5713403300231, 244.52979746069647, 852.7385312842282, 740.031441752402, 373.27086478271224, 3802.486184500196, 1723.865869285251, 1971.1752814927363, 714.4912495588356, 466.60013831049037, 663.4365776718219, 1346.5122916571793, 2096.244647953827, 1268.1631869425808, 1498.1449088110055, 412.12483350692014, 804.3911593496897, 573.1707934103223, 503.80544942066234, 499.2562845022071, 445.09167336212164, 495.44867379527386, 596.1078191871209, 590.8083785102488, 562.3212887584727, 475.2397892901136, 370.52987891089805, 363.66635601483847, 354.636343248115, 329.06639766405806, 299.3633816702135, 293.58587192334164, 290.22997514796236, 288.89704572713083, 270.40936600552266, 269.8933641989761, 267.8951653883181, 237.2325276945428, 230.38700922519715, 218.93545990927745, 211.62756129659368, 210.9856709961366, 193.632301387143, 187.54072784249036, 187.19450927429114, 184.02115741648313, 179.1867190329872, 176.8712845843711, 174.89294463025655, 170.41867969227414, 168.8465553150204, 166.86794929434632, 443.8959891329203, 975.0785975756753, 469.1975737618578, 784.4845597828452, 292.42182684091034, 571.9047707566795, 729.3783522891438, 342.9309021023116, 327.6501743837095, 266.85525208281695, 334.75778635997756, 577.7105907695633, 472.15197105973607, 407.67508184352283, 934.6927637863178, 782.5454607017936, 435.3079448700827, 365.8292104107512, 365.55034422030667, 339.53507831182395, 313.9174337508795, 3144.037147412164, 2369.790896635223, 2250.5977882364796, 2018.4952322021206, 206.04860406785315, 205.99271816776712, 136.53850407999622, 136.48069556218192, 119.52599695027155, 110.69591832603739, 110.42748765259857, 105.40208898340329, 104.91922721251854, 89.16607977323, 86.54735877368898, 84.1688865012519, 77.72877045907127, 73.28865506259407, 71.9912712856903, 70.5503241053435, 70.11636787204971, 70.02755790709263, 69.84183484859163, 66.64309032538674, 63.04291396012721, 61.108527459413786, 59.12784166248034, 57.33999826901774, 57.01352123147972, 55.26776163730851, 4423.300929594779, 4600.184097684094, 4800.573625313593, 2309.0302691197844, 6063.262283748595, 3940.7695608065087, 3029.0120930252283, 2313.0006193469217, 3389.3575731797296, 2628.9855662190034, 300.7375198559363, 189.0023450810352, 1113.1533739727486, 163.70608081502795, 177.2394784704334, 272.75819317130146, 366.87589393417244, 225.0667851099562, 348.6362689887982, 179.62835253809038, 148.33608954022856, 127.3292003623213, 1589.1919491828207, 607.1130778063537, 484.7665826890772, 421.2017527455775, 382.6502888073551, 364.08668002397155, 359.0740139440621, 345.0074186004922, 334.28742751315326, 316.2303702236435, 309.38511826600853, 294.5850211570238, 276.312943641703, 230.41321855560824, 221.47639349744216, 221.46992307501688, 207.09294081636017, 206.84864869241818, 189.0671276775247, 180.21681627419414, 171.77588490295702, 169.9749582296407, 167.50182213182248, 163.02714105114973, 156.65602643737515, 155.0768761252998, 142.93461564861434, 141.311143617472, 139.97380037933436, 139.38839214007396, 429.04418459943844, 219.4910414420218, 400.17128318271176, 408.60109382509086, 348.4125166752215, 572.5109536357795, 272.1514582440693, 546.8714499910348, 296.5194717324339, 277.9249765799792, 236.02564599483588, 268.8554623139762, 370.181416368938, 262.2115393644181, 298.25340045914237, 312.29108932204446, 241.2688021851877, 252.1227732858455, 239.68402497496015, 433.5327875779925, 265.350179282101, 229.79237530750518, 215.58961380766178, 192.77636912511815, 191.65539212036472, 185.7412001517033, 183.8506374341325, 157.56108550522558, 144.4372298193045, 130.2636665157451, 129.2781526736763, 128.23950554842924, 127.18720573829823, 109.32334310767213, 108.79839700011266, 104.73876451223174, 104.42741106459103, 101.46437632604733, 100.24466513057975, 98.33064741025036, 97.9185721343277, 91.54713260127303, 90.57433435144323, 87.63094428614062, 86.42557061378392, 85.93788808477555, 85.77961502795117, 84.654988820711, 82.82205134935613, 250.18689064562233, 1262.00524096218, 124.43679099088322, 256.5630973504578, 914.1212913039479, 1125.9133852712894, 132.54708912971708, 262.70256409920336, 1074.9864670410154, 213.78088592642732, 294.11721216146657, 327.8538305109818, 384.48271969889646, 492.28242433557966, 279.9632690070797, 399.70859506445134, 323.89713514016063, 908.0454593630839, 590.334747278202, 312.61251440002167, 341.6932537474568, 1248.8939186531907, 480.14994640910834, 304.9833952014543, 386.900500871486, 569.8081445445573, 559.3188240724561, 502.43356808205414, 507.7926104989908, 354.786265173394, 275.79280160505533, 279.49039933006884, 1034.8266806868046, 505.07406945258344, 234.97101542183543, 204.58979779336238, 192.35905703947859, 189.54485294340748, 182.41998189713576, 177.2160550056882, 173.62089432896374, 173.60171738867925, 173.60124735763353, 160.20592621952994, 156.91977566368496, 146.27205763154777, 142.85683375512878, 131.20941178239275, 129.17296885810256, 119.96508543988703, 114.58510013690817, 103.00064276324221, 101.65862297884922, 100.51405577920441, 98.69824049706303, 97.11630878299431, 91.21059669270073, 88.12628789046961, 83.12142163051035, 82.89596323017756, 72.05146469708565, 68.8317059298209, 6230.2742088023715, 735.4773323732311, 202.63310611955404, 585.587068523678, 231.41814085985484, 610.8303813109212, 2754.6367300960405, 430.9991179788444, 153.90880113015675, 1912.115879832535, 260.2845677339491, 435.8777392035268, 324.9269708497887, 347.9781396057635, 586.0366045690083, 247.06560811026034, 377.66838162452643, 296.3599895500737, 671.2318921610713, 352.80252146477187, 447.2206208428553, 339.878406492718, 390.05234030850517, 309.661386788473, 232.2482165836043, 267.91618450510424, 246.46783116892973, 248.78181447836096, 268.1312287425416, 246.13822516259938, 237.22106473499775, 540.5386521015209, 314.7952919026018, 246.52681103631755, 239.0453563909377, 229.5681454600681, 227.16550023185937, 220.53855037871708, 211.53962475224597, 207.87586070026458, 192.56436756888925, 190.77611982502947, 184.03973495413967, 180.41405445862216, 177.72744056385102, 162.98587735589982, 153.04612476643604, 148.82900476460065, 144.71003632449643, 137.5186329729079, 135.84632846371986, 135.77514412154557, 135.0059876210135, 127.82174954793737, 124.62993916713953, 124.62993916713953, 124.62993916713953, 123.78790082931842, 120.16156892167851, 118.6875209698289, 117.71870618691699, 440.40348353021614, 231.84467580561196, 824.5619505545453, 387.5650557859468, 177.73620986781785, 202.9022310121292, 243.55857869558463, 195.9903410112132, 320.55189196762865, 1162.0908341572142, 424.63090243267465, 290.91317914338265, 635.7417557949507, 268.6182922310584, 610.2186745793642, 316.24467598978373, 258.5381389299632, 374.07329165073696, 222.21889263594375, 205.4911571730859, 211.69059076548695, 271.41436360092615, 247.80447068534008, 237.06641794636195, 217.32111248268657, 208.1052345506777, 715.3974792651223, 478.3061598284857, 292.2689888137761, 273.8502351964991, 265.08564336733946, 226.72591400428993, 184.14113324796506, 178.15182974468087, 176.21383036996033, 172.96587066296271, 171.83072365552982, 162.53500995417116, 156.38584545040607, 151.499473803298, 150.05540759669128, 149.19538368193275, 140.61656742384878, 138.67045633371526, 127.25881871795558, 119.39167453097286, 117.42693975652665, 115.44029490951444, 115.37060938974211, 108.89046680147798, 107.86109437536604, 100.49268788690375, 97.16000909967903, 95.32396914135413, 94.02586570920168, 92.75432509221152, 411.94607314279136, 1033.394539170536, 512.7652224171219, 464.76432764268804, 285.5360098610181, 329.9118993997856, 149.65318189888626, 265.75551028772236, 316.7561442354518, 236.926912350089, 318.50713051763944, 402.56461996483506, 184.5661312658572, 302.1163318484288, 215.1469528080623, 230.64094095669435, 190.4597223313515, 155.4911712926703, 163.26740344192027, 168.77969772789305, 171.43429909203547], \"logprob\": [30.0, 29.0, 28.0, 27.0, 26.0, 25.0, 24.0, 23.0, 22.0, 21.0, 20.0, 19.0, 18.0, 17.0, 16.0, 15.0, 14.0, 13.0, 12.0, 11.0, 10.0, 9.0, 8.0, 7.0, 6.0, 5.0, 4.0, 3.0, 2.0, 1.0, -4.4896, -5.0181, -5.11, -5.111, -5.3718, -5.5321, -5.6402, -5.7337, -5.7852, -5.802, -6.0081, -6.0314, -6.0709, -6.1824, -6.3615, -6.4952, -6.5321, -6.5702, -6.5702, -6.6771, -6.6807, -6.7609, -6.7734, -6.7988, -6.8279, -6.8529, -6.897, -6.9123, -6.9225, -6.9432, -5.9114, -4.0862, -4.118, -6.1325, -5.1004, -5.3641, -4.0304, -5.7336, -5.7233, -5.8323, -5.2453, -4.4827, -5.3786, -4.4465, -5.0588, -4.401, -4.6159, -5.0797, -5.6358, -5.7226, -5.3035, -5.3282, -5.2481, -5.7263, -5.4937, -5.6948, -5.7001, -4.9417, -4.9912, -5.1876, -5.5103, -6.1083, -6.2464, -6.4651, -6.4724, -6.5002, -6.5098, -6.5297, -6.5509, -6.6062, -6.6405, -6.6627, -6.6695, -6.7148, -6.7511, -6.8077, -6.8117, -6.8465, -6.9658, -7.0023, -7.0138, -7.0493, -7.0677, -7.0717, -7.0848, -7.1544, -7.1594, -6.6494, -5.9822, -5.2161, -4.9926, -6.101, -6.1131, -5.7855, -4.9134, -5.8235, -4.3542, -5.5499, -5.7928, -5.7097, -6.1215, -5.0486, -5.1325, -5.2495, -6.1465, -5.6314, -5.4336, -5.2512, -5.3479, -5.4866, -5.1203, -4.8582, -4.7907, -5.3556, -5.4868, -5.1041, -5.1382, -5.1547, -5.1964, -5.3798, -5.5073, -5.3669, -5.4541, -5.4448, -5.4265, -5.4985, -5.7067, -6.3613, -6.3738, -6.3868, -6.4671, -6.6466, -6.7661, -6.8431, -7.006, -7.031, -7.1355, -7.1807, -7.3078, -7.335, -7.3396, -7.3992, -7.4559, -7.4731, -7.4741, -7.5209, -7.6038, -7.6061, -7.6232, -7.6514, -7.6543, -7.6581, -7.6826, -7.6885, -7.7012, -7.7303, -5.5097, -3.4461, -3.2226, -5.4622, -6.9066, -7.2008, -4.8064, -5.3861, -5.0527, -6.4788, -3.7515, -5.3837, -4.1466, -3.9914, -5.2394, -5.3508, -4.8503, -5.9033, -5.3823, -5.402, -4.982, -5.6059, -4.3412, -4.1853, -4.8328, -4.0811, -4.2913, -4.5032, -4.574, -4.7306, -4.7948, -4.6243, -5.1742, -4.6019, -5.1267, -4.6946, -5.0812, -5.0314, -5.0835, -5.106, -5.0362, -5.2126, -5.5478, -5.7391, -5.7869, -6.0209, -6.1012, -6.3801, -6.5777, -6.6921, -6.7108, -6.7886, -6.8183, -6.8299, -6.8365, -6.9423, -7.0346, -7.0452, -7.0852, -7.1064, -7.1089, -7.1174, -7.2318, -7.2794, -7.2983, -7.3087, -7.3147, -7.3375, -7.3399, -7.362, -7.3689, -7.4178, -5.856, -5.6276, -5.6309, -5.2019, -6.1125, -6.1942, -5.4566, -6.2598, -5.1907, -4.8837, -5.6508, -4.9671, -4.7998, -5.2386, -4.1859, -5.1809, -4.668, -3.9248, -5.1202, -5.5808, -5.6302, -4.5343, -5.3578, -4.3007, -4.0577, -5.0094, -5.5543, -4.0412, -4.5277, -4.2525, -4.7072, -4.5047, -5.0535, -4.7627, -4.8754, -4.9527, -4.7905, -4.787, -4.6181, -4.6593, -5.1526, -4.8359, -5.0058, -4.9008, -5.0274, -5.1473, -5.2801, -5.449, -5.9592, -6.1174, -6.2458, -6.2878, -6.3134, -6.3786, -6.5479, -6.5518, -6.5888, -6.5904, -6.6096, -6.6366, -6.7043, -6.8447, -6.891, -6.8921, -3.992, -6.9439, -6.9531, -6.9537, -6.9644, -6.9969, -7.0172, -7.0422, -7.0456, -7.0572, -7.0729, -7.1369, -4.2974, -4.4023, -4.8454, -5.1908, -5.2764, -5.313, -6.1193, -4.3348, -4.9091, -5.08, -3.9161, -3.3422, -5.621, -5.0964, -4.0828, -4.3289, -4.2952, -5.2539, -5.4986, -4.5961, -6.1104, -4.7465, -4.5468, -5.2012, -4.326, -5.5657, -4.5956, -4.6452, -5.2897, -4.3107, -4.9257, -5.1146, -4.7172, -5.0673, -4.8424, -5.088, -5.1606, -5.2062, -5.024, -5.5866, -5.8494, -5.9276, -6.0725, -6.1093, -6.1626, -6.2173, -6.2563, -6.4001, -6.4008, -6.4061, -6.4921, -6.5063, -6.5209, -6.5838, -6.6373, -6.6529, -6.6583, -6.71, -6.7732, -6.7851, -6.8415, -6.8473, -6.8697, -6.873, -6.8826, -6.8902, -6.9065, -6.9071, -5.6967, -5.3173, -5.6633, -5.7177, -4.0978, -5.4473, -4.6238, -6.0208, -4.9059, -5.248, -5.6725, -4.0275, -5.2647, -5.2347, -5.0647, -4.6443, -5.1074, -5.1772, -5.1652, -5.6136, -5.1332, -4.8863, -4.4136, -5.1612, -4.7361, -5.0412, -4.8961, -4.6374, -5.3784, -5.4219, -5.3632, -5.4409, -5.5447, -5.5475, -5.3577, -5.4838, -5.4602, -4.8603, -5.0918, -5.5892, -5.6033, -5.6783, -5.9184, -5.9357, -5.9564, -6.0817, -6.1022, -6.1539, -6.1963, -6.2062, -6.3261, -6.3481, -6.4554, -6.5256, -6.5261, -6.575, -6.5883, -6.6716, -6.6868, -6.7943, -6.7993, -6.8012, -6.8081, -6.8182, -6.8263, -6.8821, -6.8991, -5.2371, -4.6838, -4.861, -4.9866, -6.4683, -5.7103, -4.4865, -5.0125, -4.2335, -4.7544, -5.0754, -3.6656, -4.8152, -4.1357, -5.2326, -4.0256, -4.9233, -5.0707, -4.0747, -4.8676, -5.4376, -5.4538, -5.3214, -5.2735, -4.285, -4.4418, -4.592, -4.7207, -5.1662, -4.3697, -5.1036, -5.1551, -4.967, -5.0415, -4.9078, -5.1946, -3.7828, -4.6865, -4.7332, -5.1871, -5.2271, -5.4813, -5.7593, -5.775, -5.9453, -5.9623, -5.9661, -5.9679, -5.99, -6.0291, -6.0821, -6.0864, -6.0961, -6.1009, -6.1241, -6.1403, -6.1897, -6.2264, -6.2492, -6.288, -6.2901, -6.3038, -6.3066, -6.3157, -6.3375, -6.34, -5.0436, -4.8538, -5.0592, -4.6172, -5.8652, -6.0424, -5.8177, -5.1876, -5.4826, -5.8222, -4.4692, -5.8691, -5.9503, -5.6317, -4.9038, -5.5203, -5.6572, -5.2691, -5.7316, -5.0584, -5.7229, -5.4466, -5.8232, -5.5945, -5.744, -5.6656, -5.7325, -5.7012, -5.7658, -3.9773, -4.4924, -4.9978, -5.1062, -5.4671, -5.5614, -5.6268, -5.6333, -5.6598, -5.6913, -5.9256, -5.9747, -5.9974, -6.0486, -6.1879, -6.2077, -6.2297, -6.2463, -6.2735, -6.3442, -6.3465, -6.3787, -6.4151, -6.438, -6.4506, -6.4589, -6.5441, -6.5646, -6.5953, -6.622, -4.9696, -2.6643, -5.2779, -4.5572, -4.6089, -4.3361, -5.4465, -3.5789, -3.1195, -5.1831, -5.2689, -4.0387, -3.2389, -4.1543, -4.9141, -5.7775, -4.2818, -4.9638, -3.6021, -4.9588, -5.3461, -4.4322, -4.3383, -5.0074, -5.1617, -4.5736, -5.1993, -5.2893, -5.08, -5.1431, -4.0866, -4.6251, -5.0621, -5.4764, -5.5458, -5.5657, -5.6223, -5.642, -5.6644, -5.6888, -5.6969, -5.6999, -5.7685, -5.807, -5.8088, -5.8187, -5.8639, -5.8694, -6.0297, -6.0599, -6.1244, -6.1364, -6.163, -6.1763, -6.198, -6.2104, -6.2285, -6.2323, -6.2584, -6.2651, -4.9102, -4.4072, -5.085, -4.2076, -4.4834, -4.5962, -5.1498, -5.6072, -4.6724, -5.4795, -4.7291, -3.39, -4.7407, -4.642, -4.1833, -4.5963, -4.4755, -4.528, -4.1737, -5.1793, -4.7474, -4.8813, -5.0431, -5.3205, -5.4244, -5.1415, -4.7895, -5.2136, -5.1533, -4.8214, -5.123, -4.6386, -4.9868, -5.1077, -5.1602, -5.5192, -5.865, -5.9894, -5.9978, -6.0939, -3.6486, -6.16, -6.1872, -6.1905, -6.2295, -6.3691, -6.3749, -6.3874, -6.4535, -6.4712, -6.4803, -6.5466, -6.5494, -6.5537, -6.6309, -6.6537, -6.67, -6.6771, -6.6973, -6.7663, -6.7695, -4.7404, -4.2621, -5.3543, -4.5029, -4.7066, -3.0266, -4.5477, -4.7266, -4.7141, -5.3724, -4.1582, -4.297, -5.1064, -4.7494, -4.3361, -4.8749, -4.229, -5.135, -4.0305, -3.887, -5.2414, -5.2103, -4.8087, -4.7664, -4.5804, -4.7568, -4.2889, -4.6925, -4.8686, -4.4025, -4.8839, -4.8428, -4.8269, -4.817, -5.0886, -5.4029, -5.5274, -5.6048, -5.6578, -5.787, -5.8991, -6.0913, -6.1, -6.1121, -6.212, -6.2243, -6.4123, -6.4158, -6.419, -6.4749, -6.4851, -6.577, -6.594, -6.6589, -6.7215, -6.7487, -6.7627, -6.7674, -6.7797, -6.7849, -6.7987, -6.8277, -6.8518, -3.7313, -5.2136, -5.2343, -3.8978, -4.603, -5.2606, -4.5571, -3.9268, -4.3349, -3.439, -4.5752, -4.8841, -4.7877, -3.7398, -4.7081, -4.2974, -4.6498, -4.7346, -4.318, -4.6647, -4.9103, -4.4314, -4.892, -5.0091, -4.6499, -4.7713, -5.1998, -5.1019, -4.8103, -4.9393, -5.0371, -5.1138, -5.0975, -4.015, -4.0504, -4.3278, -4.5224, -4.6825, -4.7031, -4.8736, -5.0231, -5.0249, -5.223, -5.238, -5.4154, -5.4619, -5.4775, -5.5008, -5.6254, -5.7516, -3.2575, -5.8546, -5.8546, -5.8961, -5.9142, -6.0634, -6.1084, -6.1225, -6.1324, -6.1468, -6.2897, -6.324, -6.3977, -4.1296, -4.4454, -5.6214, -4.3723, -4.514, -5.1984, -2.8773, -3.6684, -3.5343, -4.5492, -4.9753, -4.6233, -3.9154, -3.4728, -3.9754, -3.8087, -5.0994, -4.4306, -4.7695, -4.8985, -4.9076, -5.0224, -4.9153, -4.679, -4.6879, -4.7374, -4.9056, -5.1545, -5.1732, -5.1983, -5.2732, -5.3678, -5.3873, -5.3988, -5.4034, -5.4695, -5.4714, -5.4788, -5.6004, -5.6297, -5.6806, -5.7146, -5.7176, -5.8035, -5.8354, -5.8373, -5.8544, -5.881, -5.894, -5.9053, -5.9312, -5.9404, -5.9522, -4.9738, -4.1869, -4.9184, -4.4044, -5.3912, -4.7205, -4.4772, -5.2319, -5.2775, -5.4827, -5.256, -4.7104, -4.9121, -5.059, -4.2292, -4.4069, -4.9934, -5.1673, -5.168, -5.2418, -5.3203, -3.0127, -3.2954, -3.347, -3.4559, -5.7379, -5.7382, -6.1494, -6.1498, -6.2825, -6.3592, -6.3616, -6.4082, -6.4128, -6.5755, -6.6053, -6.6332, -6.7128, -6.7716, -6.7894, -6.8097, -6.8158, -6.8171, -6.8198, -6.8666, -6.9222, -6.9533, -6.9863, -7.017, -7.0227, -7.0538, -2.6714, -2.6321, -2.5895, -3.3214, -2.356, -2.7869, -3.05, -3.3197, -2.9376, -3.1916, -5.3598, -5.8242, -4.051, -5.9679, -5.8885, -5.4574, -5.161, -5.6496, -5.212, -5.8751, -6.0665, -6.2192, -3.5909, -4.5532, -4.7782, -4.9188, -5.0148, -5.0645, -5.0784, -5.1183, -5.1499, -5.2054, -5.2273, -5.2763, -5.3404, -5.522, -5.5616, -5.5616, -5.6287, -5.6299, -5.7198, -5.7677, -5.8157, -5.8262, -5.8409, -5.868, -5.9078, -5.918, -5.9995, -6.0109, -6.0204, -6.0246, -4.9003, -5.5706, -4.97, -4.9492, -5.1085, -4.6119, -5.3555, -4.6577, -5.2698, -5.3345, -5.498, -5.3677, -5.0479, -5.3927, -5.264, -5.218, -5.476, -5.432, -5.4826, -4.6036, -5.0946, -5.2384, -5.3022, -5.4141, -5.4199, -5.4513, -5.4615, -5.6158, -5.7028, -5.806, -5.8136, -5.8217, -5.8299, -5.9813, -5.9861, -6.0241, -6.0271, -6.0559, -6.068, -6.0873, -6.0915, -6.1588, -6.1694, -6.2025, -6.2163, -6.222, -6.2238, -6.237, -6.2589, -5.1534, -3.5351, -5.8518, -5.1282, -3.8576, -3.6493, -5.7887, -5.1046, -3.6955, -5.3107, -4.9916, -4.883, -4.7237, -4.4766, -5.0409, -4.6849, -4.8952, -3.8643, -4.2949, -4.9306, -4.8417, -3.5456, -4.5015, -4.9553, -4.7174, -4.3303, -4.3489, -4.4561, -4.4455, -4.8041, -5.056, -5.0426, -3.7194, -4.4366, -5.2019, -5.3403, -5.402, -5.4167, -5.455, -5.484, -5.5045, -5.5046, -5.5046, -5.5849, -5.6056, -5.6759, -5.6995, -5.7846, -5.8002, -5.8741, -5.92, -6.0266, -6.0397, -6.0511, -6.0693, -6.0854, -6.1482, -6.1826, -6.241, -6.2438, -6.384, -6.4297, -1.9242, -4.0608, -5.35, -4.2887, -5.2171, -4.2465, -2.7403, -4.5952, -5.625, -3.1054, -5.0996, -4.584, -4.8777, -4.8092, -4.288, -5.1517, -4.7273, -4.9698, -4.1522, -4.7954, -4.5583, -4.8328, -4.6951, -4.9259, -5.2135, -5.0707, -5.1541, -5.1448, -5.0699, -5.1555, -5.1924, -4.3018, -4.8424, -5.0869, -5.1177, -5.1582, -5.1687, -5.1983, -5.2399, -5.2574, -5.3339, -5.3433, -5.3792, -5.3991, -5.4141, -5.5007, -5.5636, -5.5916, -5.6196, -5.6706, -5.6828, -5.6834, -5.689, -5.7437, -5.769, -5.769, -5.769, -5.7758, -5.8055, -5.8179, -5.8261, -4.5067, -5.1483, -3.8795, -4.6345, -5.4141, -5.2816, -5.099, -5.3163, -4.8243, -3.5364, -4.5431, -4.9213, -4.1396, -5.0011, -4.1805, -4.8378, -5.0393, -4.6699, -5.1907, -5.269, -5.2392, -4.9907, -5.0817, -5.126, -5.213, -5.2563, -3.9612, -4.3638, -4.8564, -4.9215, -4.954, -5.1103, -5.3183, -5.3514, -5.3623, -5.3809, -5.3875, -5.4431, -5.4817, -5.5135, -5.523, -5.5288, -5.588, -5.6019, -5.6878, -5.7516, -5.7682, -5.7853, -5.7859, -5.8437, -5.8532, -5.924, -5.9577, -5.9768, -5.9905, -6.0041, -4.5131, -3.5934, -4.2942, -4.3925, -4.8797, -4.7352, -5.5257, -4.9515, -4.7759, -5.0663, -4.7704, -4.5362, -5.316, -4.8232, -5.1627, -5.0932, -5.2846, -5.4875, -5.4387, -5.4054, -5.3898], \"loglift\": [30.0, 29.0, 28.0, 27.0, 26.0, 25.0, 24.0, 23.0, 22.0, 21.0, 20.0, 19.0, 18.0, 17.0, 16.0, 15.0, 14.0, 13.0, 12.0, 11.0, 10.0, 9.0, 8.0, 7.0, 6.0, 5.0, 4.0, 3.0, 2.0, 1.0, 2.0088, 2.0086, 2.0085, 2.0085, 2.0083, 2.0082, 2.0081, 2.008, 2.008, 2.008, 2.0077, 2.0077, 2.0077, 2.0075, 2.0072, 2.0069, 2.0068, 2.0068, 2.0068, 2.0065, 2.0065, 2.0063, 2.0062, 2.0062, 2.0061, 2.006, 2.0059, 2.0058, 2.0058, 2.0057, 2.0025, 1.979, 1.8986, 1.9709, 1.8984, 1.9093, 1.6373, 1.8495, 1.846, 1.8592, 1.7522, 1.5863, 1.7544, 1.4971, 1.5949, 1.2888, 1.2864, 1.4183, 1.609, 1.6813, 1.1735, 0.9574, 0.5725, 1.6278, 0.0872, 0.9738, 0.5757, 2.1893, 2.1893, 2.1891, 2.1889, 2.1881, 2.1878, 2.1874, 2.1874, 2.1873, 2.1873, 2.1872, 2.1871, 2.187, 2.1869, 2.1868, 2.1868, 2.1867, 2.1866, 2.1864, 2.1864, 2.1862, 2.1858, 2.1856, 2.1856, 2.1854, 2.1853, 2.1853, 2.1853, 2.1849, 2.1849, 2.1748, 2.152, 2.0763, 2.0129, 2.0797, 2.0679, 1.9806, 1.8169, 1.937, 1.594, 1.8446, 1.911, 1.8681, 1.9808, 1.5885, 1.5357, 1.4733, 1.9256, 1.5761, 1.4131, 1.2558, 1.3041, 1.364, 1.0632, 0.7227, 0.6181, 1.1507, 1.274, 0.5226, 0.5285, 0.5113, 0.4127, 0.7612, 1.0761, 0.4537, 0.7791, 0.6479, 0.2388, 0.8587, 2.3006, 2.2994, 2.2993, 2.2993, 2.2991, 2.2986, 2.2981, 2.2978, 2.2971, 2.297, 2.2965, 2.2962, 2.2955, 2.2953, 2.2953, 2.2949, 2.2945, 2.2944, 2.2943, 2.294, 2.2933, 2.2933, 2.2931, 2.2929, 2.2929, 2.2928, 2.2926, 2.2926, 2.2924, 2.2922, 2.2495, 2.1992, 2.1172, 2.1798, 2.2379, 2.2429, 1.9714, 2.0194, 1.976, 2.1412, 1.7443, 1.9753, 1.777, 1.7355, 1.9324, 1.9452, 1.8227, 2.0186, 1.9106, 1.8854, 1.7736, 1.9048, 1.5352, 1.4413, 1.6203, 1.3278, 1.3485, 1.3802, 1.3999, 1.4203, 1.4362, 1.2474, 1.4827, 0.979, 1.4334, 0.9707, 1.3428, 1.2193, 1.3062, 1.2819, 1.0729, 0.9283, 2.5027, 2.5024, 2.5024, 2.5019, 2.5017, 2.501, 2.5003, 2.4999, 2.4998, 2.4994, 2.4993, 2.4993, 2.4992, 2.4987, 2.4982, 2.4981, 2.4979, 2.4977, 2.4977, 2.4977, 2.4969, 2.4965, 2.4964, 2.4963, 2.4963, 2.4961, 2.4961, 2.4959, 2.4958, 2.4954, 2.4572, 2.4276, 2.414, 2.3609, 2.4134, 2.4161, 2.3564, 2.407, 2.2955, 2.2574, 2.3237, 2.2271, 2.1858, 2.241, 2.0647, 2.2151, 2.0961, 1.9468, 2.1688, 2.2446, 2.2496, 2.0089, 2.1866, 1.9302, 1.8257, 2.0423, 2.2127, 1.4546, 1.5814, 1.4143, 1.6825, 1.4963, 1.8282, 1.5851, 1.6741, 1.7149, 1.5111, 1.4888, 1.0472, 0.9673, 1.7832, 1.0878, 1.446, 1.1682, 0.9465, 1.0036, 2.6063, 2.6061, 2.6052, 2.6049, 2.6045, 2.6044, 2.6043, 2.6041, 2.6035, 2.6034, 2.6033, 2.6033, 2.6032, 2.6031, 2.6028, 2.6021, 2.6018, 2.6018, 2.6017, 2.6015, 2.6015, 2.6014, 2.6014, 2.6012, 2.6011, 2.6009, 2.6009, 2.6008, 2.6007, 2.6002, 2.5817, 2.5601, 2.537, 2.5387, 2.5208, 2.5164, 2.5532, 2.4166, 2.4568, 2.4667, 2.3785, 2.3253, 2.4922, 2.4424, 2.2775, 2.3022, 2.2893, 2.4059, 2.4093, 2.147, 2.4863, 2.0939, 1.9595, 2.1562, 1.7975, 2.2723, 1.7923, 1.7772, 2.088, 1.0981, 1.6368, 1.7569, 0.9226, 1.4548, 0.7385, 1.0199, 1.4457, 0.6701, 2.6875, 2.6868, 2.6863, 2.6861, 2.6857, 2.6856, 2.6855, 2.6853, 2.6852, 2.6847, 2.6847, 2.6846, 2.6843, 2.6842, 2.6842, 2.6839, 2.6836, 2.6836, 2.6835, 2.6833, 2.683, 2.6829, 2.6826, 2.6825, 2.6824, 2.6824, 2.6823, 2.6823, 2.6822, 2.6822, 2.6575, 2.6336, 2.643, 2.643, 2.547, 2.5911, 2.4502, 2.6002, 2.417, 2.4052, 2.4725, 1.9346, 2.2901, 2.2142, 2.1282, 1.9663, 2.1034, 2.0921, 2.0838, 2.2746, 1.9833, 1.7841, 1.254, 1.831, 1.4475, 1.6735, 1.5263, 0.9717, 1.9149, 1.6545, 1.425, 1.6004, 2.009, 2.0065, 0.7658, 1.2614, 0.5137, 3.029, 3.0287, 3.0278, 3.0277, 3.0276, 3.0269, 3.0268, 3.0267, 3.0263, 3.0262, 3.026, 3.0258, 3.0258, 3.0252, 3.0251, 3.0245, 3.0241, 3.0241, 3.0238, 3.0237, 3.0232, 3.0231, 3.0223, 3.0223, 3.0222, 3.0222, 3.0221, 3.022, 3.0216, 3.0214, 3.0123, 2.9476, 2.8774, 2.8669, 2.9951, 2.929, 2.7822, 2.7872, 2.6362, 2.6879, 2.7391, 2.4271, 2.6306, 2.4477, 2.6133, 2.147, 2.4467, 2.5049, 2.0662, 2.4141, 2.6476, 2.6233, 2.521, 2.4836, 1.6586, 1.7914, 1.8535, 1.8853, 2.3535, 1.3154, 2.1944, 2.1665, 1.7558, 1.7465, 1.2777, 1.9904, 3.1632, 3.1625, 3.1625, 3.1618, 3.1618, 3.1612, 3.1604, 3.1604, 3.1598, 3.1597, 3.1597, 3.1597, 3.1596, 3.1595, 3.1592, 3.1592, 3.1592, 3.1591, 3.159, 3.159, 3.1587, 3.1585, 3.1584, 3.1582, 3.1582, 3.1581, 3.1581, 3.1581, 3.158, 3.1579, 3.0954, 3.0463, 3.0395, 2.749, 2.9855, 3.0547, 2.9137, 2.527, 2.632, 2.8349, 1.1968, 2.8391, 2.9335, 2.5069, 1.3818, 2.0861, 2.3417, 1.4537, 2.4535, 0.6083, 2.1838, 1.0517, 2.4967, 1.1213, 1.8477, 1.0901, 1.007, 0.3747, 0.7773, 3.2351, 3.2347, 3.234, 3.2338, 3.2331, 3.2328, 3.2326, 3.2326, 3.2325, 3.2324, 3.2316, 3.2314, 3.2313, 3.2311, 3.2304, 3.2303, 3.2302, 3.2301, 3.2299, 3.2295, 3.2295, 3.2293, 3.229, 3.2289, 3.2288, 3.2287, 3.2281, 3.228, 3.2277, 3.2275, 3.1673, 3.0493, 3.1695, 3.1137, 3.0947, 3.0586, 3.1399, 2.8666, 2.7011, 3.0206, 3.0268, 2.7232, 2.4509, 2.6549, 2.8539, 3.091, 2.5062, 2.7517, 2.0656, 2.7198, 2.9141, 2.0447, 1.8949, 2.523, 2.577, 1.1114, 2.3543, 2.2772, 1.0609, 0.8005, 3.238, 3.2375, 3.2369, 3.236, 3.2358, 3.2358, 3.2356, 3.2355, 3.2355, 3.2354, 3.2354, 3.2354, 3.2351, 3.235, 3.235, 3.235, 3.2348, 3.2348, 3.2341, 3.234, 3.2336, 3.2336, 3.2335, 3.2334, 3.2333, 3.2332, 3.2331, 3.2331, 3.2329, 3.2329, 3.2058, 3.1824, 3.175, 3.1058, 3.0685, 2.9503, 3.0165, 3.1033, 2.8693, 3.0427, 2.8009, 2.3369, 2.7848, 2.7251, 2.5365, 2.6537, 2.4869, 2.4954, 2.2352, 2.8532, 2.4727, 2.5798, 2.7094, 2.9062, 2.9899, 2.5593, 1.9747, 2.5737, 2.3404, 1.3513, 2.1266, 3.2819, 3.2815, 3.2812, 3.2811, 3.2803, 3.2791, 3.2786, 3.2785, 3.2781, 3.2778, 3.2777, 3.2776, 3.2776, 3.2774, 3.2765, 3.2765, 3.2764, 3.2759, 3.2758, 3.2757, 3.2752, 3.2752, 3.2752, 3.2745, 3.2743, 3.2742, 3.2741, 3.2739, 3.2733, 3.2732, 3.2645, 3.2065, 3.2169, 3.1541, 3.1295, 2.995, 3.0671, 3.014, 2.9988, 3.0839, 2.8598, 2.8769, 2.9026, 2.6907, 2.5262, 2.6485, 2.3369, 2.7476, 2.1765, 1.9893, 2.7263, 2.7044, 2.3842, 2.2756, 2.0257, 2.1264, 1.3764, 1.9761, 2.2535, 1.2636, 1.7576, 1.1823, 0.7821, 3.3066, 3.3061, 3.3055, 3.3051, 3.3049, 3.3047, 3.3043, 3.3038, 3.3029, 3.3029, 3.3028, 3.3023, 3.3022, 3.301, 3.301, 3.3009, 3.3005, 3.3005, 3.2997, 3.2996, 3.299, 3.2985, 3.2982, 3.2981, 3.298, 3.2979, 3.2978, 3.2977, 3.2974, 3.2971, 3.1335, 3.1466, 3.0865, 2.8863, 2.9665, 3.0597, 2.9079, 2.7826, 2.8553, 2.4634, 2.7602, 2.7955, 2.6739, 2.2611, 2.6223, 2.3884, 2.5165, 2.5544, 2.3235, 2.4518, 2.446, 2.0666, 2.3193, 2.4131, 1.9607, 1.8991, 2.604, 2.2146, 0.7987, 1.0228, 1.4375, 2.0326, 1.6644, 3.4945, 3.4945, 3.4942, 3.494, 3.4938, 3.4937, 3.4934, 3.4931, 3.4931, 3.4927, 3.4926, 3.4921, 3.492, 3.4919, 3.4918, 3.4914, 3.4909, 3.4905, 3.4904, 3.4904, 3.4902, 3.4901, 3.4893, 3.489, 3.4889, 3.4888, 3.4887, 3.4877, 3.4875, 3.4869, 3.4473, 3.4177, 3.4534, 3.3807, 3.2778, 3.3633, 3.0285, 3.1005, 2.86, 3.0845, 3.1955, 3.0503, 2.6909, 2.4754, 2.3818, 1.8004, 2.9526, 1.9297, 2.2004, 2.3776, 2.3032, 2.6496, 0.8633, 3.545, 3.545, 3.5449, 3.5446, 3.544, 3.544, 3.5439, 3.5437, 3.5434, 3.5433, 3.5433, 3.5433, 3.5431, 3.5431, 3.543, 3.5426, 3.5425, 3.5422, 3.5421, 3.5421, 3.5417, 3.5415, 3.5415, 3.5414, 3.5413, 3.5412, 3.5412, 3.541, 3.541, 3.5409, 3.4912, 3.4162, 3.4588, 3.3893, 3.487, 3.3808, 3.1292, 3.3135, 3.3035, 3.3295, 3.126, 2.6162, 2.7694, 2.8198, 1.4558, 1.6182, 1.9766, 2.5003, 2.3019, 1.9045, 2.5339, 3.5497, 3.5496, 3.5496, 3.5495, 3.5454, 3.5454, 3.543, 3.543, 3.542, 3.5414, 3.5414, 3.5409, 3.5409, 3.5393, 3.539, 3.5387, 3.5377, 3.537, 3.5368, 3.5365, 3.5364, 3.5364, 3.5364, 3.5357, 3.5349, 3.5344, 3.5339, 3.5334, 3.5333, 3.5328, 3.5152, 3.5101, 3.4864, 3.4856, 3.4225, 3.3211, 3.2886, 3.3078, 3.0875, 2.9939, 3.306, 3.3302, 2.9113, 3.3385, 3.1722, 2.7482, 1.5373, 2.0512, 0.4279, 0.0012, 0.3558, 1.3194, 3.6535, 3.6525, 3.6521, 3.6518, 3.6516, 3.6515, 3.6515, 3.6514, 3.6513, 3.6511, 3.651, 3.6509, 3.6507, 3.65, 3.6498, 3.6498, 3.6495, 3.6495, 3.6491, 3.6488, 3.6486, 3.6485, 3.6484, 3.6483, 3.6481, 3.648, 3.6475, 3.6474, 3.6473, 3.6473, 3.5546, 3.6033, 3.5182, 3.4946, 3.4884, 3.3866, 3.5378, 3.2237, 3.3993, 3.3282, 3.4272, 3.2193, 2.61, 3.0791, 1.7336, 1.3446, 2.8344, 1.6026, 1.8478, 3.9382, 3.9368, 3.9363, 3.936, 3.9355, 3.9355, 3.9353, 3.9353, 3.9344, 3.9339, 3.9331, 3.9331, 3.933, 3.933, 3.9318, 3.9317, 3.9314, 3.9314, 3.9311, 3.931, 3.9308, 3.9308, 3.9301, 3.93, 3.9296, 3.9295, 3.9294, 3.9294, 3.9293, 3.929, 3.8577, 3.7278, 3.9011, 3.8184, 3.6714, 3.6279, 3.8812, 3.7807, 3.5671, 3.8024, 3.7387, 3.6684, 3.562, 3.4682, 3.6358, 3.4958, 3.4907, 2.8674, 3.0613, 3.2747, 3.2024, 2.1679, 2.6283, 3.0902, 2.4641, 1.3095, 1.3171, 1.4462, 0.9633, 1.8817, 2.5814, 1.4319, 3.9537, 3.9528, 3.9506, 3.95, 3.9498, 3.9497, 3.9495, 3.9493, 3.9492, 3.9492, 3.9492, 3.9488, 3.9487, 3.9482, 3.9481, 3.9475, 3.9474, 3.9468, 3.9464, 3.9455, 3.9454, 3.9453, 3.9451, 3.945, 3.9444, 3.944, 3.9434, 3.9433, 3.9416, 3.941, 3.8708, 3.5823, 3.7601, 3.489, 3.6881, 3.4285, 2.9257, 3.3316, 3.7502, 2.5344, 3.4662, 3.1235, 3.1127, 3.0332, 2.4762, 3.3085, 2.8031, 2.9742, 1.8099, 2.6499, 2.1812, 2.4359, 1.7795, 2.3674, 3.0141, 2.2867, 2.2795, 1.8786, 1.0536, 1.6603, 1.5059, 4.0199, 4.0186, 4.0178, 4.0177, 4.0175, 4.0175, 4.0174, 4.0172, 4.0171, 4.0167, 4.0167, 4.0165, 4.0164, 4.0163, 4.0159, 4.0155, 4.0153, 4.0151, 4.0148, 4.0147, 4.0147, 4.0147, 4.0143, 4.0141, 4.0141, 4.0141, 4.014, 4.0138, 4.0137, 4.0136, 3.8621, 3.9301, 3.7299, 3.7975, 3.9401, 3.8858, 3.8136, 3.8716, 3.6364, 2.8725, 3.3377, 3.5649, 3.0428, 3.5918, 2.968, 3.4456, 3.5927, 2.8573, 3.6547, 3.7219, 3.5656, 2.2909, 2.5084, 2.0503, 2.2708, 1.104, 4.0806, 4.08, 4.0787, 4.0785, 4.0784, 4.0778, 4.0768, 4.0766, 4.0766, 4.0765, 4.0765, 4.0761, 4.0759, 4.0757, 4.0757, 4.0756, 4.0752, 4.0751, 4.0745, 4.074, 4.0739, 4.0738, 4.0738, 4.0733, 4.0732, 4.0726, 4.0722, 4.0721, 4.0719, 4.0718, 3.9931, 3.8904, 3.9332, 3.863, 3.922, 3.786, 3.8994, 3.5431, 3.4257, 3.5845, 3.0878, 2.6096, 3.5308, 2.4295, 3.1339, 2.772, 3.033, 3.7552, 3.0807, 2.1862, 1.1703], \"Category\": [\"Default\", \"Default\", \"Default\", \"Default\", \"Default\", \"Default\", \"Default\", \"Default\", \"Default\", \"Default\", \"Default\", \"Default\", \"Default\", \"Default\", \"Default\", \"Default\", \"Default\", \"Default\", \"Default\", \"Default\", \"Default\", \"Default\", \"Default\", \"Default\", \"Default\", \"Default\", \"Default\", \"Default\", \"Default\", \"Default\", \"Topic1\", \"Topic1\", \"Topic1\", \"Topic1\", \"Topic1\", \"Topic1\", \"Topic1\", \"Topic1\", \"Topic1\", \"Topic1\", \"Topic1\", \"Topic1\", \"Topic1\", \"Topic1\", \"Topic1\", \"Topic1\", \"Topic1\", \"Topic1\", \"Topic1\", \"Topic1\", \"Topic1\", \"Topic1\", \"Topic1\", \"Topic1\", \"Topic1\", \"Topic1\", \"Topic1\", \"Topic1\", \"Topic1\", \"Topic1\", \"Topic1\", \"Topic1\", \"Topic1\", \"Topic1\", \"Topic1\", \"Topic1\", \"Topic1\", \"Topic1\", \"Topic1\", \"Topic1\", \"Topic1\", \"Topic1\", \"Topic1\", \"Topic1\", \"Topic1\", \"Topic1\", \"Topic1\", \"Topic1\", \"Topic1\", \"Topic1\", \"Topic1\", \"Topic1\", \"Topic1\", \"Topic1\", \"Topic1\", \"Topic1\", \"Topic1\", \"Topic2\", \"Topic2\", \"Topic2\", \"Topic2\", \"Topic2\", \"Topic2\", \"Topic2\", \"Topic2\", \"Topic2\", \"Topic2\", \"Topic2\", \"Topic2\", \"Topic2\", \"Topic2\", \"Topic2\", \"Topic2\", \"Topic2\", \"Topic2\", \"Topic2\", \"Topic2\", \"Topic2\", \"Topic2\", \"Topic2\", \"Topic2\", \"Topic2\", \"Topic2\", \"Topic2\", \"Topic2\", \"Topic2\", \"Topic2\", \"Topic2\", \"Topic2\", \"Topic2\", \"Topic2\", \"Topic2\", \"Topic2\", \"Topic2\", \"Topic2\", \"Topic2\", \"Topic2\", \"Topic2\", \"Topic2\", \"Topic2\", \"Topic2\", \"Topic2\", \"Topic2\", \"Topic2\", \"Topic2\", \"Topic2\", \"Topic2\", \"Topic2\", \"Topic2\", \"Topic2\", \"Topic2\", \"Topic2\", \"Topic2\", \"Topic2\", \"Topic2\", \"Topic2\", \"Topic2\", \"Topic2\", \"Topic2\", \"Topic2\", \"Topic2\", \"Topic2\", \"Topic2\", \"Topic2\", \"Topic2\", \"Topic2\", \"Topic3\", \"Topic3\", \"Topic3\", \"Topic3\", \"Topic3\", \"Topic3\", \"Topic3\", \"Topic3\", \"Topic3\", \"Topic3\", \"Topic3\", \"Topic3\", \"Topic3\", \"Topic3\", \"Topic3\", \"Topic3\", \"Topic3\", \"Topic3\", \"Topic3\", \"Topic3\", \"Topic3\", \"Topic3\", \"Topic3\", \"Topic3\", \"Topic3\", \"Topic3\", \"Topic3\", \"Topic3\", \"Topic3\", \"Topic3\", \"Topic3\", \"Topic3\", \"Topic3\", \"Topic3\", \"Topic3\", \"Topic3\", \"Topic3\", \"Topic3\", \"Topic3\", \"Topic3\", \"Topic3\", \"Topic3\", \"Topic3\", \"Topic3\", \"Topic3\", \"Topic3\", \"Topic3\", \"Topic3\", \"Topic3\", \"Topic3\", \"Topic3\", \"Topic3\", \"Topic3\", \"Topic3\", \"Topic3\", \"Topic3\", \"Topic3\", \"Topic3\", \"Topic3\", \"Topic3\", \"Topic3\", \"Topic3\", \"Topic3\", \"Topic3\", \"Topic3\", \"Topic3\", \"Topic3\", \"Topic3\", \"Topic3\", \"Topic3\", \"Topic3\", \"Topic3\", \"Topic4\", \"Topic4\", \"Topic4\", \"Topic4\", \"Topic4\", \"Topic4\", \"Topic4\", \"Topic4\", \"Topic4\", \"Topic4\", \"Topic4\", \"Topic4\", \"Topic4\", \"Topic4\", \"Topic4\", \"Topic4\", \"Topic4\", \"Topic4\", \"Topic4\", \"Topic4\", \"Topic4\", \"Topic4\", \"Topic4\", \"Topic4\", \"Topic4\", \"Topic4\", \"Topic4\", \"Topic4\", \"Topic4\", \"Topic4\", \"Topic4\", \"Topic4\", \"Topic4\", \"Topic4\", \"Topic4\", \"Topic4\", \"Topic4\", \"Topic4\", \"Topic4\", \"Topic4\", \"Topic4\", \"Topic4\", \"Topic4\", \"Topic4\", \"Topic4\", \"Topic4\", \"Topic4\", \"Topic4\", \"Topic4\", \"Topic4\", \"Topic4\", \"Topic4\", \"Topic4\", \"Topic4\", \"Topic4\", \"Topic4\", \"Topic4\", \"Topic4\", \"Topic4\", \"Topic4\", \"Topic4\", \"Topic4\", \"Topic4\", \"Topic4\", \"Topic4\", \"Topic4\", \"Topic4\", \"Topic4\", \"Topic4\", \"Topic4\", \"Topic4\", \"Topic4\", \"Topic4\", \"Topic4\", \"Topic4\", \"Topic4\", \"Topic5\", \"Topic5\", \"Topic5\", \"Topic5\", \"Topic5\", \"Topic5\", \"Topic5\", \"Topic5\", \"Topic5\", \"Topic5\", \"Topic5\", \"Topic5\", \"Topic5\", \"Topic5\", \"Topic5\", \"Topic5\", \"Topic5\", \"Topic5\", \"Topic5\", \"Topic5\", \"Topic5\", \"Topic5\", \"Topic5\", \"Topic5\", \"Topic5\", \"Topic5\", \"Topic5\", \"Topic5\", \"Topic5\", \"Topic5\", \"Topic5\", \"Topic5\", \"Topic5\", \"Topic5\", \"Topic5\", \"Topic5\", \"Topic5\", \"Topic5\", \"Topic5\", \"Topic5\", \"Topic5\", \"Topic5\", \"Topic5\", \"Topic5\", \"Topic5\", \"Topic5\", \"Topic5\", \"Topic5\", \"Topic5\", \"Topic5\", \"Topic5\", \"Topic5\", \"Topic5\", \"Topic5\", \"Topic5\", \"Topic5\", \"Topic5\", \"Topic5\", \"Topic5\", \"Topic5\", \"Topic5\", \"Topic5\", \"Topic5\", \"Topic5\", \"Topic5\", \"Topic5\", \"Topic5\", \"Topic5\", \"Topic6\", \"Topic6\", \"Topic6\", \"Topic6\", \"Topic6\", \"Topic6\", \"Topic6\", \"Topic6\", \"Topic6\", \"Topic6\", \"Topic6\", \"Topic6\", \"Topic6\", \"Topic6\", \"Topic6\", \"Topic6\", \"Topic6\", \"Topic6\", \"Topic6\", \"Topic6\", \"Topic6\", \"Topic6\", \"Topic6\", \"Topic6\", \"Topic6\", \"Topic6\", \"Topic6\", \"Topic6\", \"Topic6\", \"Topic6\", \"Topic6\", \"Topic6\", \"Topic6\", \"Topic6\", \"Topic6\", \"Topic6\", \"Topic6\", \"Topic6\", \"Topic6\", \"Topic6\", \"Topic6\", \"Topic6\", \"Topic6\", \"Topic6\", \"Topic6\", \"Topic6\", \"Topic6\", \"Topic6\", \"Topic6\", \"Topic6\", \"Topic6\", \"Topic6\", \"Topic6\", \"Topic6\", \"Topic6\", \"Topic6\", \"Topic6\", \"Topic6\", \"Topic6\", \"Topic6\", \"Topic6\", \"Topic6\", \"Topic6\", \"Topic6\", \"Topic6\", \"Topic6\", \"Topic6\", \"Topic7\", \"Topic7\", \"Topic7\", \"Topic7\", \"Topic7\", \"Topic7\", \"Topic7\", \"Topic7\", \"Topic7\", \"Topic7\", \"Topic7\", \"Topic7\", \"Topic7\", \"Topic7\", \"Topic7\", \"Topic7\", \"Topic7\", \"Topic7\", \"Topic7\", \"Topic7\", \"Topic7\", \"Topic7\", \"Topic7\", \"Topic7\", \"Topic7\", \"Topic7\", \"Topic7\", \"Topic7\", \"Topic7\", \"Topic7\", \"Topic7\", \"Topic7\", \"Topic7\", \"Topic7\", \"Topic7\", \"Topic7\", \"Topic7\", \"Topic7\", \"Topic7\", \"Topic7\", \"Topic7\", \"Topic7\", \"Topic7\", \"Topic7\", \"Topic7\", \"Topic7\", \"Topic7\", \"Topic7\", \"Topic7\", \"Topic7\", \"Topic7\", \"Topic7\", \"Topic7\", \"Topic7\", \"Topic7\", \"Topic7\", \"Topic7\", \"Topic7\", \"Topic7\", \"Topic7\", \"Topic7\", \"Topic7\", \"Topic7\", \"Topic7\", \"Topic7\", \"Topic7\", \"Topic8\", \"Topic8\", \"Topic8\", \"Topic8\", \"Topic8\", \"Topic8\", \"Topic8\", \"Topic8\", \"Topic8\", \"Topic8\", \"Topic8\", \"Topic8\", \"Topic8\", \"Topic8\", \"Topic8\", \"Topic8\", \"Topic8\", \"Topic8\", \"Topic8\", \"Topic8\", \"Topic8\", \"Topic8\", \"Topic8\", \"Topic8\", \"Topic8\", \"Topic8\", \"Topic8\", \"Topic8\", \"Topic8\", \"Topic8\", \"Topic8\", \"Topic8\", \"Topic8\", \"Topic8\", \"Topic8\", \"Topic8\", \"Topic8\", \"Topic8\", \"Topic8\", \"Topic8\", \"Topic8\", \"Topic8\", \"Topic8\", \"Topic8\", \"Topic8\", \"Topic8\", \"Topic8\", \"Topic8\", \"Topic8\", \"Topic8\", \"Topic8\", \"Topic8\", \"Topic8\", \"Topic8\", \"Topic8\", \"Topic8\", \"Topic8\", \"Topic8\", \"Topic8\", \"Topic9\", \"Topic9\", \"Topic9\", \"Topic9\", \"Topic9\", \"Topic9\", \"Topic9\", \"Topic9\", \"Topic9\", \"Topic9\", \"Topic9\", \"Topic9\", \"Topic9\", \"Topic9\", \"Topic9\", \"Topic9\", \"Topic9\", \"Topic9\", \"Topic9\", \"Topic9\", \"Topic9\", \"Topic9\", \"Topic9\", \"Topic9\", \"Topic9\", \"Topic9\", \"Topic9\", \"Topic9\", \"Topic9\", \"Topic9\", \"Topic9\", \"Topic9\", \"Topic9\", \"Topic9\", \"Topic9\", \"Topic9\", \"Topic9\", \"Topic9\", \"Topic9\", \"Topic9\", \"Topic9\", \"Topic9\", \"Topic9\", \"Topic9\", \"Topic9\", \"Topic9\", \"Topic9\", \"Topic9\", \"Topic9\", \"Topic9\", \"Topic9\", \"Topic9\", \"Topic9\", \"Topic9\", \"Topic9\", \"Topic9\", \"Topic9\", \"Topic9\", \"Topic9\", \"Topic9\", \"Topic10\", \"Topic10\", \"Topic10\", \"Topic10\", \"Topic10\", \"Topic10\", \"Topic10\", \"Topic10\", \"Topic10\", \"Topic10\", \"Topic10\", \"Topic10\", \"Topic10\", \"Topic10\", \"Topic10\", \"Topic10\", \"Topic10\", \"Topic10\", \"Topic10\", \"Topic10\", \"Topic10\", \"Topic10\", \"Topic10\", \"Topic10\", \"Topic10\", \"Topic10\", \"Topic10\", \"Topic10\", \"Topic10\", \"Topic10\", \"Topic10\", \"Topic10\", \"Topic10\", \"Topic10\", \"Topic10\", \"Topic10\", \"Topic10\", \"Topic10\", \"Topic10\", \"Topic10\", \"Topic10\", \"Topic10\", \"Topic10\", \"Topic10\", \"Topic10\", \"Topic10\", \"Topic10\", \"Topic10\", \"Topic10\", \"Topic10\", \"Topic10\", \"Topic10\", \"Topic10\", \"Topic10\", \"Topic10\", \"Topic10\", \"Topic10\", \"Topic10\", \"Topic10\", \"Topic10\", \"Topic10\", \"Topic11\", \"Topic11\", \"Topic11\", \"Topic11\", \"Topic11\", \"Topic11\", \"Topic11\", \"Topic11\", \"Topic11\", \"Topic11\", \"Topic11\", \"Topic11\", \"Topic11\", \"Topic11\", \"Topic11\", \"Topic11\", \"Topic11\", \"Topic11\", \"Topic11\", \"Topic11\", \"Topic11\", \"Topic11\", \"Topic11\", \"Topic11\", \"Topic11\", \"Topic11\", \"Topic11\", \"Topic11\", \"Topic11\", \"Topic11\", \"Topic11\", \"Topic11\", \"Topic11\", \"Topic11\", \"Topic11\", \"Topic11\", \"Topic11\", \"Topic11\", \"Topic11\", \"Topic11\", \"Topic11\", \"Topic11\", \"Topic11\", \"Topic11\", \"Topic11\", \"Topic11\", \"Topic11\", \"Topic11\", \"Topic11\", \"Topic11\", \"Topic11\", \"Topic11\", \"Topic11\", \"Topic11\", \"Topic11\", \"Topic11\", \"Topic11\", \"Topic11\", \"Topic11\", \"Topic11\", \"Topic11\", \"Topic11\", \"Topic11\", \"Topic12\", \"Topic12\", \"Topic12\", \"Topic12\", \"Topic12\", \"Topic12\", \"Topic12\", \"Topic12\", \"Topic12\", \"Topic12\", \"Topic12\", \"Topic12\", \"Topic12\", \"Topic12\", \"Topic12\", \"Topic12\", \"Topic12\", \"Topic12\", \"Topic12\", \"Topic12\", \"Topic12\", \"Topic12\", \"Topic12\", \"Topic12\", \"Topic12\", \"Topic12\", \"Topic12\", \"Topic12\", \"Topic12\", \"Topic12\", \"Topic12\", \"Topic12\", \"Topic12\", \"Topic12\", \"Topic12\", \"Topic12\", \"Topic12\", \"Topic12\", \"Topic12\", \"Topic12\", \"Topic12\", \"Topic12\", \"Topic12\", \"Topic12\", \"Topic12\", \"Topic12\", \"Topic12\", \"Topic12\", \"Topic12\", \"Topic12\", \"Topic12\", \"Topic12\", \"Topic12\", \"Topic12\", \"Topic12\", \"Topic12\", \"Topic12\", \"Topic12\", \"Topic12\", \"Topic12\", \"Topic12\", \"Topic12\", \"Topic12\", \"Topic13\", \"Topic13\", \"Topic13\", \"Topic13\", \"Topic13\", \"Topic13\", \"Topic13\", \"Topic13\", \"Topic13\", \"Topic13\", \"Topic13\", \"Topic13\", \"Topic13\", \"Topic13\", \"Topic13\", \"Topic13\", \"Topic13\", \"Topic13\", \"Topic13\", \"Topic13\", \"Topic13\", \"Topic13\", \"Topic13\", \"Topic13\", \"Topic13\", \"Topic13\", \"Topic13\", \"Topic13\", \"Topic13\", \"Topic13\", \"Topic13\", \"Topic13\", \"Topic13\", \"Topic13\", \"Topic13\", \"Topic13\", \"Topic13\", \"Topic13\", \"Topic13\", \"Topic13\", \"Topic13\", \"Topic13\", \"Topic13\", \"Topic13\", \"Topic13\", \"Topic13\", \"Topic13\", \"Topic13\", \"Topic13\", \"Topic13\", \"Topic13\", \"Topic13\", \"Topic13\", \"Topic14\", \"Topic14\", \"Topic14\", \"Topic14\", \"Topic14\", \"Topic14\", \"Topic14\", \"Topic14\", \"Topic14\", \"Topic14\", \"Topic14\", \"Topic14\", \"Topic14\", \"Topic14\", \"Topic14\", \"Topic14\", \"Topic14\", \"Topic14\", \"Topic14\", \"Topic14\", \"Topic14\", \"Topic14\", \"Topic14\", \"Topic14\", \"Topic14\", \"Topic14\", \"Topic14\", \"Topic14\", \"Topic14\", \"Topic14\", \"Topic14\", \"Topic14\", \"Topic14\", \"Topic14\", \"Topic14\", \"Topic14\", \"Topic14\", \"Topic14\", \"Topic14\", \"Topic14\", \"Topic14\", \"Topic14\", \"Topic14\", \"Topic14\", \"Topic14\", \"Topic14\", \"Topic14\", \"Topic14\", \"Topic14\", \"Topic14\", \"Topic14\", \"Topic15\", \"Topic15\", \"Topic15\", \"Topic15\", \"Topic15\", \"Topic15\", \"Topic15\", \"Topic15\", \"Topic15\", \"Topic15\", \"Topic15\", \"Topic15\", \"Topic15\", \"Topic15\", \"Topic15\", \"Topic15\", \"Topic15\", \"Topic15\", \"Topic15\", \"Topic15\", \"Topic15\", \"Topic15\", \"Topic15\", \"Topic15\", \"Topic15\", \"Topic15\", \"Topic15\", \"Topic15\", \"Topic15\", \"Topic15\", \"Topic15\", \"Topic15\", \"Topic15\", \"Topic15\", \"Topic15\", \"Topic15\", \"Topic15\", \"Topic15\", \"Topic15\", \"Topic15\", \"Topic15\", \"Topic15\", \"Topic15\", \"Topic15\", \"Topic15\", \"Topic15\", \"Topic15\", \"Topic15\", \"Topic15\", \"Topic15\", \"Topic15\", \"Topic15\", \"Topic16\", \"Topic16\", \"Topic16\", \"Topic16\", \"Topic16\", \"Topic16\", \"Topic16\", \"Topic16\", \"Topic16\", \"Topic16\", \"Topic16\", \"Topic16\", \"Topic16\", \"Topic16\", \"Topic16\", \"Topic16\", \"Topic16\", \"Topic16\", \"Topic16\", \"Topic16\", \"Topic16\", \"Topic16\", \"Topic16\", \"Topic16\", \"Topic16\", \"Topic16\", \"Topic16\", \"Topic16\", \"Topic16\", \"Topic16\", \"Topic16\", \"Topic16\", \"Topic16\", \"Topic16\", \"Topic16\", \"Topic16\", \"Topic16\", \"Topic16\", \"Topic16\", \"Topic16\", \"Topic16\", \"Topic16\", \"Topic16\", \"Topic16\", \"Topic16\", \"Topic16\", \"Topic16\", \"Topic16\", \"Topic16\", \"Topic17\", \"Topic17\", \"Topic17\", \"Topic17\", \"Topic17\", \"Topic17\", \"Topic17\", \"Topic17\", \"Topic17\", \"Topic17\", \"Topic17\", \"Topic17\", \"Topic17\", \"Topic17\", \"Topic17\", \"Topic17\", \"Topic17\", \"Topic17\", \"Topic17\", \"Topic17\", \"Topic17\", \"Topic17\", \"Topic17\", \"Topic17\", \"Topic17\", \"Topic17\", \"Topic17\", \"Topic17\", \"Topic17\", \"Topic17\", \"Topic17\", \"Topic17\", \"Topic17\", \"Topic17\", \"Topic17\", \"Topic17\", \"Topic17\", \"Topic17\", \"Topic17\", \"Topic17\", \"Topic17\", \"Topic17\", \"Topic17\", \"Topic17\", \"Topic17\", \"Topic17\", \"Topic17\", \"Topic17\", \"Topic17\", \"Topic17\", \"Topic17\", \"Topic17\", \"Topic17\", \"Topic17\", \"Topic17\", \"Topic17\", \"Topic17\", \"Topic17\", \"Topic17\", \"Topic17\", \"Topic17\", \"Topic17\", \"Topic18\", \"Topic18\", \"Topic18\", \"Topic18\", \"Topic18\", \"Topic18\", \"Topic18\", \"Topic18\", \"Topic18\", \"Topic18\", \"Topic18\", \"Topic18\", \"Topic18\", \"Topic18\", \"Topic18\", \"Topic18\", \"Topic18\", \"Topic18\", \"Topic18\", \"Topic18\", \"Topic18\", \"Topic18\", \"Topic18\", \"Topic18\", \"Topic18\", \"Topic18\", \"Topic18\", \"Topic18\", \"Topic18\", \"Topic18\", \"Topic18\", \"Topic18\", \"Topic18\", \"Topic18\", \"Topic18\", \"Topic18\", \"Topic18\", \"Topic18\", \"Topic18\", \"Topic18\", \"Topic18\", \"Topic18\", \"Topic18\", \"Topic18\", \"Topic18\", \"Topic18\", \"Topic18\", \"Topic18\", \"Topic18\", \"Topic18\", \"Topic18\", \"Topic18\", \"Topic18\", \"Topic18\", \"Topic18\", \"Topic18\", \"Topic18\", \"Topic18\", \"Topic18\", \"Topic18\", \"Topic18\", \"Topic19\", \"Topic19\", \"Topic19\", \"Topic19\", \"Topic19\", \"Topic19\", \"Topic19\", \"Topic19\", \"Topic19\", \"Topic19\", \"Topic19\", \"Topic19\", \"Topic19\", \"Topic19\", \"Topic19\", \"Topic19\", \"Topic19\", \"Topic19\", \"Topic19\", \"Topic19\", \"Topic19\", \"Topic19\", \"Topic19\", \"Topic19\", \"Topic19\", \"Topic19\", \"Topic19\", \"Topic19\", \"Topic19\", \"Topic19\", \"Topic19\", \"Topic19\", \"Topic19\", \"Topic19\", \"Topic19\", \"Topic19\", \"Topic19\", \"Topic19\", \"Topic19\", \"Topic19\", \"Topic19\", \"Topic19\", \"Topic19\", \"Topic19\", \"Topic19\", \"Topic19\", \"Topic19\", \"Topic19\", \"Topic19\", \"Topic19\", \"Topic19\", \"Topic19\", \"Topic19\", \"Topic19\", \"Topic19\", \"Topic19\", \"Topic20\", \"Topic20\", \"Topic20\", \"Topic20\", \"Topic20\", \"Topic20\", \"Topic20\", \"Topic20\", \"Topic20\", \"Topic20\", \"Topic20\", \"Topic20\", \"Topic20\", \"Topic20\", \"Topic20\", \"Topic20\", \"Topic20\", \"Topic20\", \"Topic20\", \"Topic20\", \"Topic20\", \"Topic20\", \"Topic20\", \"Topic20\", \"Topic20\", \"Topic20\", \"Topic20\", \"Topic20\", \"Topic20\", \"Topic20\", \"Topic20\", \"Topic20\", \"Topic20\", \"Topic20\", \"Topic20\", \"Topic20\", \"Topic20\", \"Topic20\", \"Topic20\", \"Topic20\", \"Topic20\", \"Topic20\", \"Topic20\", \"Topic20\", \"Topic20\", \"Topic20\", \"Topic20\", \"Topic20\", \"Topic20\", \"Topic20\", \"Topic20\"], \"Total\": [6775.0, 6887.0, 7350.0, 10680.0, 5116.0, 7707.0, 4787.0, 7526.0, 7695.0, 6604.0, 7912.0, 4954.0, 6064.0, 4579.0, 7252.0, 7696.0, 7868.0, 5401.0, 5382.0, 6085.0, 5812.0, 9137.0, 3934.0, 4584.0, 3144.0, 9968.0, 6274.0, 5170.0, 3720.0, 3535.0, 3353.173881295713, 1977.0108424490113, 1803.5740604091409, 1801.7926034559994, 1388.3113692263703, 1182.8178030166546, 1061.7571723681378, 967.0289172200656, 918.6014404771164, 903.3021314212098, 735.1940598381917, 718.326764446211, 690.4884504771433, 617.74432814172, 516.6053655109043, 452.09110153128654, 435.73122056264117, 419.49222917282157, 419.48002480054595, 377.05288643731603, 375.6959853320766, 346.8423528841841, 342.525926086008, 333.9691900337351, 324.42602198109205, 316.4268551051023, 302.81068022288173, 298.2464451995643, 295.2209835199973, 289.19571074179805, 814.1129474509944, 5170.685326146486, 5428.063023605344, 673.5549722959419, 2032.9223032763643, 1544.6283492887885, 7695.1377938119385, 1133.331235015867, 1149.0829822880698, 1016.8604613721724, 2035.4584277902804, 5151.626111675686, 1777.5799950480543, 5839.81115968342, 2870.613283218258, 7526.536254438117, 6085.595234906864, 3354.336660045592, 1589.4986941862876, 1355.781303083511, 3425.6995829140874, 4148.184601837707, 6604.082062045308, 1425.0112369313176, 8392.456156970256, 2828.2956031138488, 4188.576265457622, 1781.1735154449482, 1695.2371527047428, 1393.063486279591, 1009.0829303130521, 555.3574015301069, 483.825941561296, 388.97158917372144, 386.14610318998496, 375.5972616196572, 372.0334796284683, 364.715469191294, 357.07499373236794, 337.9242333913452, 326.5424691522296, 319.39230010438763, 317.25434744656854, 303.2465333134925, 292.466484956543, 276.41967760331, 275.3119080996029, 265.94816722119214, 236.1310625084727, 227.7092144849737, 225.1171059259223, 217.3060786471848, 213.35587731122087, 212.51049082956456, 209.75762291971915, 195.70660170932433, 194.74430118585715, 327.585567403084, 653.1672468739231, 1515.6048544667149, 2019.4323363516376, 623.4613928049615, 623.2967591145012, 943.860565512928, 2659.048552762302, 949.1447316558122, 5812.605018930748, 1368.6222033535148, 1004.5352016924212, 1139.425241557016, 674.3307065507646, 2918.598631459938, 2829.3064620805485, 2679.0214700683528, 695.0082681602906, 1649.8218069858076, 2366.753108945891, 3324.3656983881842, 2875.581623361043, 2357.5715727184643, 4593.743024465029, 8392.456156970256, 9968.562033612767, 3326.6299118389984, 2579.0255580357225, 8017.412390772708, 7702.174823734778, 7707.671351301308, 8159.24941466753, 4793.6260018112725, 3079.683118815969, 6604.082062045308, 4371.229836588418, 5030.408440916421, 7713.5370011296345, 3861.4732679923845, 741.5554168215684, 385.81156581548197, 381.03630243918946, 376.1264476298375, 347.1713987158776, 290.28867991085616, 257.67849266789113, 238.67270076791624, 202.93908908892007, 197.94898005327582, 178.40062137184026, 170.55448840023584, 150.31410371290713, 146.31102000045462, 145.63073383667196, 137.2592485286777, 129.75452167357014, 127.55684772193155, 127.42218141961702, 121.64916408903193, 112.04167705061161, 111.78446714582012, 109.9118019922869, 106.87454007219371, 106.57580051154274, 106.16914432666219, 103.62266226789444, 103.02622139899087, 101.72922364811758, 98.84364439957274, 950.3860819096554, 7868.681596132238, 10680.00154234955, 1068.4595768314155, 237.80710446783235, 176.31202831039164, 2535.779583450148, 1353.5604250693357, 1972.976662922753, 401.8247349258136, 9137.979103066957, 1417.8907379300858, 5957.27241502706, 7252.484812554904, 1709.803631087316, 1510.2783424532672, 2815.708851366466, 807.5919254804917, 1514.7792925627027, 1523.2500230181158, 2592.4061851964516, 1218.4108160762382, 6245.930513469085, 8017.412390772708, 3508.5557719316207, 9968.562033612767, 7912.348902131218, 6201.656739124845, 5665.176602216862, 4746.249229556348, 4381.125079123732, 6274.97989815437, 2861.5479927356923, 8392.456156970256, 3152.2502794397546, 7713.5370011296345, 3611.928988511903, 4295.718353385128, 3737.8631268427225, 3744.6648522015626, 4948.725061219635, 4793.6260018112725, 710.1165013220045, 586.6609406080352, 559.3283452685218, 442.8367249191711, 408.7227905695178, 309.47294859577295, 254.16223162437822, 226.79269448727894, 222.6065267046046, 206.01254002328722, 200.00868268185582, 197.71819159500404, 196.42860898904877, 176.7916822305091, 161.29288721039006, 159.60500893936887, 153.3878549661786, 150.18346307477208, 149.81984978622455, 148.5546115329737, 132.59454770192815, 126.48215543935488, 124.13268433379288, 122.85182138584155, 122.11767700521314, 119.39661219670903, 119.11263536663454, 116.52572015227742, 115.73099836686485, 110.25539346600297, 546.0530697255272, 706.8219116419488, 714.1950055554303, 1156.5043807365114, 441.4796300553094, 405.74621226736616, 900.4927746387746, 383.47052364605895, 1248.6105288472265, 1763.3162080556485, 766.2439472109073, 1672.0822756449797, 2059.8369312700092, 1256.8467233762108, 4295.718353385128, 1366.5373926503446, 2570.7917450664077, 6274.97989815437, 1520.8331535725845, 889.4136238870657, 842.3614540785934, 3206.1721938883616, 1178.0059864439265, 4381.125079123732, 6201.656739124845, 1928.0233499171202, 942.906593138639, 9137.979103066957, 4948.725061219635, 7702.174823734778, 3737.8631268427225, 5514.151178449797, 2285.2632240359, 3897.8924856632098, 3185.8365551222482, 2830.9857817864026, 4082.102049996546, 4188.576265457622, 7713.5370011296345, 8017.412390772708, 2165.0153610959965, 5957.27241502706, 3512.92168120858, 5151.626111675686, 5665.176602216862, 4746.249229556348, 836.7468291395031, 706.8681675224635, 424.75442290068503, 362.77546467627155, 319.1645627926479, 306.0830710909317, 298.36349854021023, 279.586559894146, 236.1844629159082, 235.28456230849773, 226.76273025884475, 226.39757471632072, 222.1093468629864, 216.23042435348177, 202.14040735767185, 175.77361511644085, 167.86613479076314, 167.69317558150985, 3048.322717949042, 159.27627237077888, 157.81759267678575, 157.7295216089523, 156.06043635007762, 151.10222700915853, 148.08095191550947, 144.43978287033875, 143.95403619537254, 142.31048424820597, 140.10500080791468, 131.48085174708746, 2291.185386978117, 2108.1032739087423, 1385.172158507118, 979.0113624831071, 914.9107345679765, 885.8595125078069, 381.27114593192334, 2603.383057765963, 1408.2370637472231, 1175.2305425980053, 4110.682639427546, 7696.057194227065, 667.0205150297268, 1184.6645201054564, 3849.4817464070898, 2936.3867993004765, 3076.3931826921958, 1049.5766474638176, 819.043614167006, 2625.153848455478, 411.29420178158944, 2381.7450393275894, 3326.6299118389984, 1420.3753693490623, 4878.004749458281, 878.3458477160342, 3744.6648522015626, 3617.8882220534033, 1391.7405298205283, 9968.562033612767, 3144.688246087973, 2308.93318540589, 7912.348902131218, 3274.349064988838, 8392.456156970256, 4954.506424789424, 3009.9607577212664, 6245.930513469085, 996.7713706803816, 568.2801290356211, 437.19153586819954, 404.37641479978686, 349.94712925913336, 337.3542950175366, 319.88758684092807, 302.89429876468404, 291.3440251403012, 252.45955846780188, 252.29215892830965, 250.966233339093, 230.3434486721528, 227.12783972843155, 223.83529861009345, 210.25169365912774, 199.34061631767378, 196.2811223984191, 195.2179017022434, 185.42954518038664, 174.1406829724808, 172.08813693380972, 162.6988500655715, 161.7634030062259, 158.20918092193446, 157.68404587531813, 156.1849000687729, 155.01453552852027, 152.52205876983717, 152.43427748208694, 524.1770345179385, 784.610093686763, 549.8652280051456, 520.7651272134785, 2896.533707955414, 718.8193915961422, 1885.468294319188, 401.4025268325688, 1470.162968883739, 1056.5909590560332, 646.1053293254087, 5732.341057977079, 1165.8139443062453, 1296.0580460508882, 1674.1864531201484, 2997.0301360471385, 1644.5567785665432, 1551.0642948630293, 1582.7859077719365, 835.2515527733487, 1807.1043552614096, 2823.1365717825292, 7696.057194227065, 2046.415296424215, 4593.743024465029, 2701.031545644748, 3617.8882220534033, 8159.24941466753, 1514.3080238876112, 1881.1684629026602, 2509.4196903923826, 1948.3192275907381, 1167.135225993445, 1166.7696289917749, 4878.004749458281, 2619.8778653989057, 5665.176602216862, 834.371473790004, 662.179625328017, 403.02480749047476, 397.41939660672534, 368.7462591092953, 290.2423396503865, 285.2796531124358, 279.46806499613206, 246.65193258800065, 241.66860897209344, 229.53841386795452, 220.06041539674342, 217.9056766993595, 193.3836628413552, 189.19278334756342, 170.04213255931916, 158.5874561664462, 158.507635374686, 150.98698330322395, 149.00796575765781, 137.16627509420775, 135.11677011864325, 121.43434174837157, 120.83440828927199, 120.6057803302354, 119.78360983377196, 118.59842693661652, 117.64232133094, 111.31470017831647, 109.45178460602112, 582.0902105834402, 1079.9414887052565, 970.2860659895953, 864.7416282181871, 172.89378797927705, 394.12297064584516, 1552.0347440334265, 912.594265801261, 2312.9359375426243, 1304.6332291487324, 899.2060800476414, 5030.408440916421, 1300.1527670625321, 3079.683118815969, 871.4691344401083, 4644.081227521173, 1402.5509219767225, 1141.7996229777223, 4793.6260018112725, 1532.0174962807246, 685.9636404649362, 691.4994561335858, 874.4216732239153, 952.3282564111566, 5839.81115968342, 4371.229836588418, 3535.027937712274, 3010.684420090756, 1207.5060424088756, 7562.455099644995, 1507.290869439475, 1472.1053167599619, 2679.0214700683528, 2509.8955530919825, 4584.822640547177, 1687.3534175684063, 2143.1122008115626, 868.692091168251, 829.0745019047665, 526.9082910395892, 506.2917131032474, 392.8870723541128, 297.75078823452907, 293.1257683359541, 247.38625369810794, 243.227247207252, 242.29447704838347, 241.86839903213573, 236.60226465429537, 227.56550692078105, 215.86897918343266, 214.9431964893058, 212.8894560662167, 211.87515089912856, 207.03804204596716, 203.7107159814443, 193.95265731839905, 186.98215349888102, 182.78839114707614, 175.87313379772687, 175.51121166011924, 173.1358307105592, 172.64897049015025, 171.10497108350594, 167.4197029198145, 167.0146845540057, 649.9638942655952, 825.4125111969455, 676.759568106604, 1407.8072795001726, 319.0393720981887, 249.37708980283807, 359.4716316849893, 993.611230832901, 666.089733957778, 387.19816626742397, 7707.671351301308, 367.88237747301383, 308.65944243214494, 650.2657917178063, 4148.184601837707, 1107.2027410478377, 747.8290332745183, 2679.0214700683528, 620.7308748447217, 7702.174823734778, 819.9979196933325, 3353.301322439805, 542.4883058316763, 2697.9918608026533, 1123.615886729508, 2592.4061851964516, 2634.72482085303, 5116.034862961747, 3206.1721938883616, 1641.9767024452892, 981.3788601566577, 592.3959543523674, 531.6474724919207, 370.8449124355647, 337.58846075271924, 316.26700613108665, 314.23083255209355, 306.0391196670124, 296.5772709481593, 234.82728718474456, 223.609764233385, 218.6156245171701, 207.7594499025523, 180.86589743603335, 177.33743654723193, 173.4975990802801, 170.65175894077385, 166.09580965787018, 154.83380711061804, 154.47332504400748, 149.6129740199118, 144.29948626399852, 141.04582622854036, 139.294912817412, 138.14544448029704, 126.94062432212317, 124.38674829615124, 120.65184501270726, 117.50645885221844, 651.4451349052764, 7350.24022382734, 477.56127853894947, 1038.0510580709024, 1004.7216807720258, 1368.224315521317, 415.5212280496889, 3535.027937712274, 6604.082062045308, 609.276068487745, 555.7311091677551, 2576.288786379453, 7526.536254438117, 2457.202145659665, 941.9974320699001, 313.39804644463896, 2509.8955530919825, 992.758230852143, 7695.1377938119385, 1030.1001238642593, 575.8277569266003, 3425.6995829140874, 4371.229836588418, 1194.6419888888252, 970.0751991068187, 7562.455099644995, 1167.3419765239305, 1152.2926380139472, 4793.6260018112725, 5839.81115968342, 1467.6543622157244, 856.9890292609434, 553.9295693243723, 366.35595563817617, 341.8347060609909, 335.1316132750847, 316.74524705845516, 310.58335368249965, 303.71340390168535, 296.4171243397153, 294.03174946733014, 293.16245175205046, 273.7828946868535, 263.499107382558, 263.009729428158, 260.4355489031336, 248.95595903834942, 247.60558092445658, 211.07045020972907, 204.81271099935375, 192.08085687822302, 189.8154290110962, 184.8591925617962, 182.41360204151206, 178.52404858342163, 176.34208614034395, 173.1946072604705, 172.53904926577886, 168.12614175830305, 167.00558419249052, 665.1230275627355, 1125.9007697029035, 575.9541377226155, 1484.277620354817, 1169.1389300942012, 1175.5365598636638, 632.5002338454076, 367.038635475036, 1181.275809686712, 443.101162547405, 1195.0576348274358, 7252.484812554904, 1200.4269457283954, 1406.4530489889855, 2686.962867422145, 1581.2803180869535, 2108.2454756869297, 1983.5290306876568, 3666.785675921145, 723.0593772605921, 1629.2838483325681, 1280.395775046625, 956.7141712527247, 595.4238919537668, 493.5856960991093, 1007.4461500079417, 2570.3424897914247, 923.9675170065018, 1239.3020340449834, 4644.081227521173, 1581.9847720078014, 808.7243341473644, 571.1923731733467, 506.2599731375921, 480.40654566975974, 335.8024463712, 237.90432445491734, 210.1911948824846, 208.4407880796383, 189.42377519292396, 2185.5111979584594, 177.3703922923864, 172.63724514579638, 172.0768033768923, 165.52836659894135, 144.09061058224918, 143.26053314264868, 141.48820864769232, 132.50433115501198, 130.19105099067136, 129.02543484982453, 120.8098528784932, 120.47014414203989, 119.95446546686598, 111.11423379064428, 108.62798549606396, 106.88923039093103, 106.14424514869167, 104.04296373081868, 97.16928816171153, 96.85410599614082, 743.3187536900259, 1270.7346173675674, 421.9472085916735, 1052.6394813561562, 879.9655887227307, 5401.421780930234, 1097.8929989345186, 968.133937469708, 995.4127505505948, 473.27577430145806, 1994.2880714640805, 1706.322574733279, 740.2839687868383, 1307.5668860081323, 2330.18058806799, 1203.0827065438957, 3133.924731793777, 840.0219065109671, 4487.32223568242, 6245.930513469085, 771.5363767491514, 813.4650573714955, 1674.1864531201484, 1947.0178444184926, 3010.684420090756, 2282.0129242231687, 7713.5370011296345, 2828.2956031138488, 1797.1847819205889, 7707.671351301308, 2905.789369726794, 5382.353850027311, 8159.24941466753, 660.0921018350049, 503.326580421948, 367.83404540306265, 324.88774711608596, 300.76086046135873, 285.2877169732293, 250.83289258460078, 224.33255244503957, 185.2716273151691, 183.6732858020494, 181.4662895518435, 164.30748469652974, 162.30871232525325, 134.66103912212773, 134.18613558815653, 133.7627995163392, 126.53682845900444, 125.26850236670691, 114.35371605445836, 112.44025599757713, 105.4310018643465, 99.09251121272399, 96.46178477304542, 95.13487333025908, 94.68966808786385, 93.54190353938846, 93.05804943825872, 91.80105170705946, 89.20627228382764, 87.10508714177806, 2324.3450024037284, 521.0186859537483, 541.9655736943176, 2519.6589252150716, 1148.8788317544368, 542.2209707338016, 1275.3504163930113, 2715.1089270087036, 1678.732057653808, 6085.595234906864, 1451.8699740884292, 1029.0645172537293, 1279.7443763433737, 5514.151178449797, 1459.1315034587333, 2779.9460789589766, 1719.279325177526, 1520.7970623900742, 2905.789369726794, 1807.1043552614096, 1421.888153252716, 3354.336660045592, 1643.5982969190666, 1331.208502612081, 2997.0301360471385, 2823.1365717825292, 908.8476001667033, 1479.5732171170446, 8159.24941466753, 5732.341057977079, 3433.933881482341, 1753.9811052232405, 2576.288786379453, 1219.823229018792, 1177.4730456956477, 892.4798445747703, 734.7774157918516, 626.2192734701836, 613.5065954802365, 517.4959444561331, 445.7288780041489, 444.9559647879676, 365.15813719753874, 359.75063226888045, 301.42281256805444, 287.7721385664937, 283.32756460115087, 276.8049892306034, 244.50983678600065, 215.61427371927903, 2612.3238874792764, 194.6111070075226, 194.61011072926033, 186.7336355973364, 183.4077618972893, 158.12470979466988, 151.1985652977947, 149.09701080334415, 147.6446719582585, 145.54061432462225, 126.29051931402316, 122.0571181413742, 113.45950875449962, 1140.4446252991709, 856.4927612160132, 254.99427666143882, 956.2165601562679, 919.8291693250451, 425.9376281195773, 6064.383960030229, 2558.2770701717886, 3720.7406517752597, 1077.4667917292018, 629.6817984660727, 1035.2326100286775, 3009.9607577212664, 5812.605018930748, 3861.4732679923845, 8159.24941466753, 709.1250815367335, 3849.4817464070898, 2092.3951265659675, 1540.574057743779, 1644.5567785665432, 1036.857829642355, 6887.579631530002, 597.057862967157, 591.7584223135228, 563.2713325582569, 476.18983307904875, 371.4799226975256, 364.61639979517753, 355.58638703193066, 330.01644145340754, 300.3134254820964, 294.53591571350955, 291.18001896282095, 289.84708951160985, 271.3594097831309, 270.84340798369044, 268.8452091720963, 238.18257148429723, 231.33705301858714, 219.88550370603778, 212.57760508924065, 211.9357147937904, 194.58234519216887, 188.4907716459772, 188.14455305536714, 184.97120121178196, 180.13676281917373, 177.82132837713996, 175.84298842732417, 171.36872347644308, 169.79659910877865, 167.81799308636855, 469.1739996984269, 1110.9011468383885, 512.265510704155, 918.0885765350081, 310.3680443620833, 675.0028330352077, 1107.2027410478377, 432.94719191406733, 417.8126665106957, 331.5529204989987, 509.8045039760422, 1464.7966561242295, 1027.0578005716725, 843.2406712772754, 7562.455099644995, 5382.353850027311, 2092.3951265659675, 1041.49418263769, 1269.157045202385, 1753.9811052232405, 864.2011988745531, 3144.996914942454, 2370.7506641640452, 2251.5575557652255, 2019.4549997366794, 207.00837165518124, 206.95248573443217, 137.49827161859878, 137.44046311661492, 120.48576449673915, 111.65568585743121, 111.38725526404163, 106.36185651714659, 105.8789947596676, 90.12584734590165, 87.50712631595395, 85.12865407209928, 78.68853800842562, 74.24842260896568, 72.95103885993079, 71.5100916592511, 71.07613542906911, 70.98732547320056, 70.80160239139262, 67.60285786335804, 64.00268151128176, 62.068295025749215, 60.08760924797713, 58.29976581347788, 57.97328882519743, 56.22752916570431, 4579.9258392470265, 4787.464190954404, 5116.034862961747, 2462.718446205779, 6887.579631530002, 4954.506424789424, 3934.0577172505887, 2946.82417365345, 5382.353850027311, 4584.822640547177, 383.85126812693863, 235.47663123317204, 2108.2454756869297, 202.2719412774195, 258.6137630082212, 608.1420723842531, 2745.551656687771, 1007.4461500079417, 7912.348902131218, 6245.930513469085, 3617.8882220534033, 1184.8485071171754, 1590.1422118662174, 608.063340520099, 485.71684537725486, 422.15201543517253, 383.6005514911533, 365.0369426985015, 360.02427663050497, 345.957681301762, 335.2376901980645, 317.1806329215523, 310.3353809482779, 295.53528385543694, 277.2632063262272, 231.3634812396564, 222.42665619012115, 222.42018576465546, 208.04320350336772, 207.79891138087706, 190.01739036269407, 181.1670789557077, 172.726147601037, 170.92522092451756, 168.452084821154, 163.97740373839957, 157.60628912041625, 156.02713882203764, 143.88487834201402, 142.2614063127639, 140.9240630539381, 140.33865482943705, 473.9488877227755, 230.92064800597967, 458.4114370928335, 479.2643523493355, 411.18983052276917, 748.0979607575678, 305.7285006767086, 841.0042464264689, 382.5686736856295, 384.98704424135406, 296.1521484935565, 415.3035713924608, 1051.5917713893216, 465.9698595920849, 2035.4584277902804, 3144.688246087973, 547.6121430691354, 1961.4375381859886, 1459.1315034587333, 434.48136722769084, 266.2987589267405, 230.7409549634159, 216.53819346071415, 193.72494878205205, 192.60397178676877, 186.68977981066286, 184.7992170864923, 158.50966516344005, 145.38580948209292, 131.21224616346032, 130.22673235471157, 129.1880852059903, 128.13578541989412, 110.27192279909423, 109.74697668720485, 105.68734415804431, 105.37599073299846, 102.41295597271834, 101.19324480043284, 99.27922707400353, 98.86715178114704, 92.49571224479227, 91.52291400267286, 88.57952394456905, 87.37415028575745, 86.8864677461797, 86.72819468035276, 85.60356849401707, 83.77063099504834, 271.76356891599266, 1560.9422577887144, 129.4272396353674, 289.8460095258634, 1196.218603370773, 1538.8876096209713, 140.62826295675575, 308.1940697633711, 1561.3599454675827, 245.41627259709526, 359.84395006531344, 430.32564619406287, 561.3160918212656, 789.3695960530399, 379.6426926934592, 623.4765631171609, 507.7960410268595, 2655.2813702338935, 1421.888153252716, 608.3209777002286, 714.729053563476, 7350.24022382734, 1783.172300714542, 713.726636954409, 1693.3517215253814, 7912.348902131218, 7707.671351301308, 6085.595234906864, 9968.562033612767, 2779.9460789589766, 1073.5018659890757, 3433.933881482341, 1035.7709346548454, 506.0183234058936, 235.9152693748837, 205.5340517439687, 193.3033110107667, 190.48910689677464, 183.36423595036908, 178.16030896888913, 174.56514835046445, 174.54597134706395, 174.54550131600635, 161.15018018029613, 157.86402962087584, 147.21631160817827, 143.80108770407037, 132.15366576899982, 130.1172228077344, 120.90933939726764, 115.52935410121756, 103.94489672493415, 102.60287695736164, 101.45830978990723, 99.64249445312163, 98.06056272961557, 92.1548506400688, 89.07054183767129, 84.06567559340549, 83.84021721009317, 72.99571868156004, 69.77595988109526, 6775.35454360828, 1067.2823837930646, 246.14247953744734, 932.8902135322027, 302.11575712825885, 1033.7967671484257, 7707.671351301308, 803.625001573501, 188.83041600636048, 7912.348902131218, 424.22631754732856, 1000.7277579264504, 754.1586152041582, 874.4216732239153, 2570.3424897914247, 471.45540707638156, 1194.6419888888252, 789.989869016119, 5732.341057977079, 1300.6443449460712, 2634.72482085303, 1552.0347440334265, 3433.933881482341, 1514.3080238876112, 594.8584933857047, 1420.3753693490623, 1316.038667463393, 1983.5290306876568, 4878.004749458281, 2441.086341050264, 2745.551656687771, 541.4846185233454, 315.74125831788564, 247.47277746740494, 239.9913228183291, 230.5141118819656, 228.11146665442112, 221.4845167955301, 212.4855911792726, 208.82182712444373, 193.5103340027083, 191.72208624634263, 184.9857013964557, 181.3600208915219, 178.67340698418604, 163.93184379483344, 153.99209119334662, 149.77497119827768, 145.65600274765129, 138.4645993977021, 136.7922948960871, 136.72111054573784, 135.95195404016465, 128.76771596884, 125.57590558508953, 125.57590558508953, 125.57590558508953, 124.73386725636766, 121.10753534604683, 119.63348739984123, 118.66467261804384, 516.5778393163401, 254.068422944783, 1103.9098016908074, 484.9209305802708, 192.83778500840026, 232.42886919325358, 299.8880550934501, 227.72713998503448, 471.2155495152744, 3666.785675921145, 841.4547793245544, 459.3126848438471, 1691.9073837624542, 412.8708207308071, 1750.162274244344, 562.6145072564747, 397.01509832319675, 1198.4739521281756, 320.72180527832626, 277.3209728062061, 333.9954176003759, 1532.0174962807246, 1125.3602549033938, 1702.1843063632305, 1251.6109898891038, 3849.4817464070898, 716.3465976464921, 479.2552782097577, 293.2181072048533, 274.7993535918853, 266.0347617490469, 227.67503238885396, 185.09025165587627, 179.1009481386068, 177.162948748002, 173.91498904641955, 172.7798420431665, 163.48412834303406, 157.33496384493998, 152.4485921810168, 151.00452598876402, 150.1445020842584, 141.5656858167184, 139.61957473866718, 128.2079371116989, 120.34079291513824, 118.37605815027099, 116.38941329450796, 116.31972777629532, 109.83958517461453, 108.81021276730465, 101.44180627157623, 98.10912749440263, 96.27308753726219, 94.97498409488317, 93.70344347347644, 450.22993915840453, 1251.6109898891038, 594.9900547409364, 578.5175377844619, 335.06994340601807, 443.5333603821708, 179.63429481705242, 455.50762488325256, 610.5479700137109, 389.6288166312511, 860.771275842553, 1755.0484906797387, 320.2562228505169, 1576.9477932231043, 555.2034767751855, 854.7636722246443, 543.7275353613461, 215.57686719476317, 444.37361303696787, 1123.615886729508, 3152.2502794397546]}, \"mdsDat\": {\"topics\": [1, 2, 3, 4, 5, 6, 7, 8, 9, 10, 11, 12, 13, 14, 15, 16, 17, 18, 19, 20], \"cluster\": [1, 1, 1, 1, 1, 1, 1, 1, 1, 1, 1, 1, 1, 1, 1, 1, 1, 1, 1, 1], \"Freq\": [13.411782874521103, 11.193744953190624, 10.007442035522377, 8.17521904857499, 7.372045690356967, 6.798781094694628, 4.830928120693898, 4.227153396223973, 3.933543281088875, 3.9217701417965163, 3.75111512695311, 3.658840267435262, 3.034030532722499, 2.8823171625384543, 2.87244575307353, 2.5884733232937247, 1.944050187584152, 1.9165319712163569, 1.7923501438594083, 1.687434894659589], \"y\": [-0.15952493263617332, -0.06916522640098491, 0.20613376289202853, 0.1432141832819569, 0.04971400493905946, -0.1539642138716089, -0.12705968160450312, 0.08364154985092304, -0.22777961321960166, 0.14744106451347241, 0.1032221787692371, -0.21725467717575578, 0.05516521962686093, 0.0022165065222029038, 0.1851190625675587, -0.037934561745382234, -0.0570524516748574, 0.0295096949624567, -0.027049820087526648, 0.07140795049063713], \"x\": [-0.10149357988147209, -0.20703930146824046, -0.24817303734930177, -0.2459833498979956, -0.1562305457079586, -0.1700105550290922, 0.024935978734134587, -0.013093201338702183, 0.09134729232279265, 0.1757101927743237, -0.05919196222938988, -0.03539121177969529, 0.05260218391554851, 0.10862044428611235, 0.16366975113327858, 0.164442890865482, 0.046305703972102194, 0.09605347447438631, 0.1492010249735854, 0.16371780723009993]}, \"lambda.step\": 0.01, \"plot.opts\": {\"ylab\": \"PC2\", \"xlab\": \"PC1\"}, \"R\": 30};\n",
       "\n",
       "function LDAvis_load_lib(url, callback){\n",
       "  var s = document.createElement('script');\n",
       "  s.src = url;\n",
       "  s.async = true;\n",
       "  s.onreadystatechange = s.onload = callback;\n",
       "  s.onerror = function(){console.warn(\"failed to load library \" + url);};\n",
       "  document.getElementsByTagName(\"head\")[0].appendChild(s);\n",
       "}\n",
       "\n",
       "if(typeof(LDAvis) !== \"undefined\"){\n",
       "   // already loaded: just create the visualization\n",
       "   !function(LDAvis){\n",
       "       new LDAvis(\"#\" + \"ldavis_el42371400156855885763630956781\", ldavis_el42371400156855885763630956781_data);\n",
       "   }(LDAvis);\n",
       "}else if(typeof define === \"function\" && define.amd){\n",
       "   // require.js is available: use it to load d3/LDAvis\n",
       "   require.config({paths: {d3: \"https://cdnjs.cloudflare.com/ajax/libs/d3/3.5.5/d3.min\"}});\n",
       "   require([\"d3\"], function(d3){\n",
       "      window.d3 = d3;\n",
       "      LDAvis_load_lib(\"https://cdn.rawgit.com/bmabey/pyLDAvis/files/ldavis.v1.0.0.js\", function(){\n",
       "        new LDAvis(\"#\" + \"ldavis_el42371400156855885763630956781\", ldavis_el42371400156855885763630956781_data);\n",
       "      });\n",
       "    });\n",
       "}else{\n",
       "    // require.js not available: dynamically load d3 & LDAvis\n",
       "    LDAvis_load_lib(\"https://cdnjs.cloudflare.com/ajax/libs/d3/3.5.5/d3.min.js\", function(){\n",
       "         LDAvis_load_lib(\"https://cdn.rawgit.com/bmabey/pyLDAvis/files/ldavis.v1.0.0.js\", function(){\n",
       "                 new LDAvis(\"#\" + \"ldavis_el42371400156855885763630956781\", ldavis_el42371400156855885763630956781_data);\n",
       "            })\n",
       "         });\n",
       "}\n",
       "</script>"
      ],
      "text/plain": [
       "<IPython.core.display.HTML object>"
      ]
     },
     "execution_count": 13,
     "metadata": {},
     "output_type": "execute_result"
    },
    {
     "name": "stdout",
     "output_type": "stream",
     "text": [
      "time: 47.8 s\n"
     ]
    }
   ],
   "source": [
    "import warnings\n",
    "warnings.filterwarnings('ignore')\n",
    "\n",
    "import pyLDAvis.gensim\n",
    "\n",
    "lda_visualise = pyLDAvis.gensim.prepare(ldamodel, corpus, dictionary)\n",
    "pyLDAvis.display(lda_visualise)"
   ]
  },
  {
   "cell_type": "markdown",
   "metadata": {
    "collapsed": true
   },
   "source": [
    "We use the colour pallate called Tableau_20 that contains 20 different colours. We assign these to seperate topics."
   ]
  },
  {
   "cell_type": "code",
   "execution_count": 14,
   "metadata": {
    "collapsed": false
   },
   "outputs": [
    {
     "name": "stdout",
     "output_type": "stream",
     "text": [
      "time: 48.5 ms\n"
     ]
    }
   ],
   "source": [
    "from palettable.tableau import Tableau_20\n",
    "\n",
    "topic_colour_gen = []\n",
    "for i in range(0,num_topics):\n",
    "    topic_colour_gen.append((i, Tableau_20.hex_colors[i]))\n",
    "    \n",
    "topic_colours = dict(topic_colour_gen)\n"
   ]
  },
  {
   "cell_type": "markdown",
   "metadata": {},
   "source": [
    "The function below runs through a document of the user's choice and matches topic words within the document, highlighting them. "
   ]
  },
  {
   "cell_type": "code",
   "execution_count": 15,
   "metadata": {
    "collapsed": false,
    "scrolled": true
   },
   "outputs": [
    {
     "name": "stdout",
     "output_type": "stream",
     "text": [
      "time: 70.2 ms\n"
     ]
    }
   ],
   "source": [
    "from nltk.stem.wordnet import WordNetLemmatizer\n",
    "wordnet_lemmatizer = WordNetLemmatizer()\n",
    "from collections import defaultdict\n",
    "import re\n",
    "\n",
    "doc = ''\n",
    "\n",
    "def match_words(word):\n",
    "    word_edit = word.lower()\n",
    "    try:\n",
    "        word_edit = tokenizer.tokenize(word_edit)[0]\n",
    "    except:\n",
    "        pass\n",
    "    return wordnet_lemmatizer.lemmatize(word_edit)\n",
    "    \n",
    "def build_html_colour(word, topic):\n",
    "    #return \" <font color=\" + str(topic_colours[topic]) + \"'>\" + word + \"</font> \"\n",
    "    return ' <span style=\"background-color: ' + str(topic_colours[topic])  +'\">' + word + '</span>'\n",
    "\n",
    "def read_doc(doc):\n",
    "    chdir('/home/peter/Topic_Modelling/LDA/text_files')\n",
    "    doc = open(str(doc),'r').read()\n",
    "    \n",
    "    # Variables so recalculation is not necessary\n",
    "    doc_split = doc.split()\n",
    "    \n",
    "    # Build dictionary of topic's distribution for a given document\n",
    "    num_topics_weight = 0\n",
    "    Topics = defaultdict(int)\n",
    "    for word in doc_split:\n",
    "        word_edit = match_words(word)\n",
    "        try:\n",
    "            word_topics = ldamodel.get_term_topics(word_edit)\n",
    "            if word_topics:\n",
    "                for topic in word_topics:\n",
    "                    Topics[topic[0]] += topic[1]\n",
    "                    num_topics_weight += topic[1]            \n",
    "        except:\n",
    "            pass\n",
    "    # Find topic info\n",
    "    # Append Topic, number of words in document from given topic and doc percentage of topic\n",
    "    Topic_info = []\n",
    "    for topic in Topics:\n",
    "        Topic_info.append([topic, Topics[topic], round((Topics[topic]/num_topics_weight)*100)]) \n",
    "    \n",
    "    # Topic info for three most prevalent topics for a given document\n",
    "    Topic_info_top3 = []\n",
    "    Topic_info_copy = []\n",
    "    for i in Topic_info:\n",
    "        Topic_info_copy.append(i)\n",
    "    \n",
    "    for i in range(0,3):\n",
    "        max = Topic_info_copy[0]\n",
    "        for topic in Topic_info_copy:\n",
    "            if topic[2] > max[2]:\n",
    "                max = topic\n",
    "        Topic_info_top3.append(max)\n",
    "        Topic_info_copy.remove(max)\n",
    "        \n",
    "    \n",
    "    # Format the document according to topics\n",
    "    for word in doc_split:\n",
    "        word_edit = match_words(word)\n",
    "        try:\n",
    "            topic = ldamodel.get_term_topics(word_edit)[0][0]\n",
    "            if (topic == Topic_info_top3[0][0]) or (topic == Topic_info_top3[1][0]) or (topic == Topic_info_top3[2][0]):\n",
    "                doc = doc.replace( ' ' + word + '', build_html_colour(word,topic))\n",
    "                #doc = doc.replace( '' + word + ' ', build_html_colour(word,topic))\n",
    "        except:\n",
    "            pass\n",
    "    doc = re.sub(r'\\n','<br>',doc)\n",
    "    \n",
    "    Output = []\n",
    "    for item in Topic_info_top3:\n",
    "        colour = build_html_colour('Topic ' + str(item[0]), item[0])\n",
    "        topic_info = colour + ': ' + str(item[2]) + '% ' + str(Topic_words[item[0]])\n",
    "        Output.append(topic_info)\n",
    "    return Output, doc\n"
   ]
  },
  {
   "cell_type": "markdown",
   "metadata": {},
   "source": [
    "HTML is used to add colour to the printed text. See [here](https://jakevdp.github.io/blog/2013/06/01/ipython-notebook-javascript-python-communication/) for more information."
   ]
  },
  {
   "cell_type": "code",
   "execution_count": 16,
   "metadata": {
    "collapsed": false
   },
   "outputs": [
    {
     "data": {
      "text/html": [
       "\n",
       "<div style=\"background-color:white; border:solid black; width:1100px; padding:20px;\">\n",
       "<p> <span style=\"background-color: #D62728\">Topic 6</span>: 38.0% ['agreement', 'attached', 'draft', 'copy', 'document', 'master', 'need', 'change', 'letter', 'form']</p>\n",
       "<p> <span style=\"background-color: #C5B0D5\">Topic 9</span>: 15.0% ['gas', 'company', 'energy', 'trading', 'power', 'natural', 'product', 'trade', 'financial', 'pipeline']</p>\n",
       "<p> <span style=\"background-color: #17BECF\">Topic 18</span>: 10.0% ['know', 'let', 'get', 'jeff', 'need', 'want', 'like', 'thanks', 'call', 'think']</p>\n",
       "<p>Message-ID: <29005530.1075853655709.JavaMail.evans@thyme><br>Date: Fri, 30 Mar 2001 04:06:00 -0800 (PST)<br>From: stacy.dickson@enron.com<br>To: rudwell.johnson@enron.com<br>Subject: RE: <span style=\"background-color: #D62728\">Master</span> Firm Purchase/Sale Agreement<br>Mime-Version: 1.0<br>Content-Type: text/plain; charset=us-ascii<br>Content-Transfer-Encoding: 7bit<br>X-From: Stacy E Dickson<br>X-To: Rudwell Johnson<br>X-cc: <br>X-bcc: <br>X-Folder: \\Stacey_Dickson_Nov2001\\Notes Folders\\Sent<br>X-Origin: Dickson-S<br>X-FileName: sdickso.nsf<br><br>Rudwell, <br><br>NUI made <span style=\"background-color: #D62728\">changes</span> to Sections4.2 and 4.6.  Please <span style=\"background-color: #17BECF\">let</span> me <span style=\"background-color: #17BECF\">know</span> if they are <br>acceptable to you.<br><br>Stacy<br>----- Forwarded by Stacy E Dickson/HOU/ECT on 03/30/2001 11:55 AM -----<br><br>\tPaul Chymiy <pchymiy@NUI.com><br>\t03/30/2001 10:35 AM<br>\t\t <br>\t\t To: \"'Stacy.E.Dickson@enron.com'\" <Stacy.E.Dickson@enron.com><br>\t\t cc: Mark.Breese@enron.com, Brian Rose <brose@NUI.com>, Jennifer Forno <br><jforno@NUI.com>, Laura DiBenedetto <ldibenedetto@NUI.com>, Terri Sue Gross <br><tgross@NUI.com><br>\t\t Subject: RE: <span style=\"background-color: #D62728\">Master</span> Firm Purchase/Sale Agreement<br><br><br>Stacy -<br> <span style=\"background-color: #D62728\">Attached</span> please find NUI Utilities' <span style=\"background-color: #D62728\">comments</span> on the <span style=\"background-color: #D62728\">Master</span><br>Agreement.  <span style=\"background-color: #17BECF\">Also</span> <span style=\"background-color: #D62728\">attached</span> is NUI's <span style=\"background-color: #D62728\">form</span> of Guaranty that has been reviewed<br>by Enron and will replace Exhibit D (it <span style=\"background-color: #17BECF\">also</span> contains some <span style=\"background-color: #D62728\">comments</span> that I<br>have made in response to Enron's <span style=\"background-color: #D62728\">comments</span>).  I understand that a revised<br>Transaction Agreement will be forthcoming from Enron.  <span style=\"background-color: #17BECF\">Also</span>, please be<br>advised that we have not yet seen a <span style=\"background-color: #D62728\">draft</span> IDSA Confirmation between NUI<br>Energy Brokers and Enron.  It is our intention to execute all <span style=\"background-color: #D62728\">documents</span><br>simultaneously.  If you have any questions, please e-mail or call me at<br>908-719-4228.  Thank you.<br>  <<NUI Utilities - ENA K 3-30-01.doc>>  <<enron.nuicorp.guaranty<br>3-30-01.doc>><br>Paul<br><br>> ----------<br>> From:  Stacy.E.Dickson@enron.com[SMTP:Stacy.E.Dickson@enron.com]<br>> Sent:  Thursday, March 29, 2001 3:35 PM<br>> To:  jpuzio@nui.com; pchymiy@nui.com<br>> Cc:  Mark.Breese@enron.com<br>> Subject:  <span style=\"background-color: #D62728\">Master</span> Firm Purchase/Sale Agreement<br>><br>> <<File: Elizabethtown <span style=\"background-color: #C5B0D5\">Gas.doc>></span><br>> <span style=\"background-color: #D62728\">Attached</span> please find the above-referenced agreement for your <span style=\"background-color: #D62728\">review.</span><br>> Should you have any questions or <span style=\"background-color: #D62728\">comments</span>, please contact me at (713)<br>> 853-5705.<br>><br>> Sincerely,<br>><br>> Stacy Dickson<br>><br>> (See <span style=\"background-color: #D62728\">attached</span> file: Elizabethtown <span style=\"background-color: #C5B0D5\">Gas.doc)</span><br>><br><br> - NUI Utilities - ENA K 3-30-01.doc<br> - enron.nuicorp.guaranty 3-30-01.doc</p>\n",
       "</div>\n"
      ],
      "text/plain": [
       "<IPython.core.display.HTML object>"
      ]
     },
     "execution_count": 16,
     "metadata": {},
     "output_type": "execute_result"
    },
    {
     "name": "stdout",
     "output_type": "stream",
     "text": [
      "time: 82.3 ms\n"
     ]
    }
   ],
   "source": [
    "# Example from http://jakevdp.github.io/blog/2013/06/01/ipython-notebook-javascript-python-communication/ adapted for IPython 2.0\n",
    "\n",
    "#Input the document we want to read\n",
    "\n",
    "doc = 'dickson-s_50.'\n",
    "\n",
    "from IPython.display import HTML\n",
    "\n",
    "input_form = \"\"\"\n",
    "<div style=\"background-color:white; border:solid black; width:1100px; padding:20px;\">\n",
    "<p>\"\"\"+read_doc(doc)[0][0]+\"\"\"</p>\n",
    "<p>\"\"\"+read_doc(doc)[0][1]+\"\"\"</p>\n",
    "<p>\"\"\"+read_doc(doc)[0][2]+\"\"\"</p>\n",
    "<p>\"\"\"+read_doc(doc)[1]+\"\"\"</p>\n",
    "</div>\n",
    "\"\"\"\n",
    "\n",
    "HTML(input_form) # + javascript)"
   ]
  },
  {
   "cell_type": "markdown",
   "metadata": {
    "collapsed": true
   },
   "source": [
    "We now also have a method to see which topics are prevalent for a given person.\n",
    "\n",
    "Below, we create two functions, namely, get_person_topics and get_topic_persons.\n",
    "\n",
    "get_person_topics takes in a specific person as a string and returns a dictionary with a ratio value (out of 1) for each of the 20 topics. This indicates the prevalance of each of the topics as a percentage for a given person.\n",
    "\n",
    "get_topic_persons takes in a topic as an integer and returns a dictionary with a ratio value (out of 1) for all the employees. This indicates which employees fall under a specific topic. "
   ]
  },
  {
   "cell_type": "code",
   "execution_count": 17,
   "metadata": {
    "collapsed": false
   },
   "outputs": [
    {
     "name": "stdout",
     "output_type": "stream",
     "text": [
      "time: 18.7 ms\n"
     ]
    }
   ],
   "source": [
    "from collections import defaultdict\n",
    "\n",
    "def get_person_topics(person):\n",
    "    person_topics = defaultdict(int)\n",
    "    total = 0\n",
    "    for word in docs_name_dict[person]:\n",
    "        try:\n",
    "            term_topics = ldamodel.get_term_topics(word)\n",
    "            if term_topics:\n",
    "                for topic_tuple in term_topics:\n",
    "                    person_topics[topic_tuple[0]] += topic_tuple[1]\n",
    "                    total += topic_tuple[1]\n",
    "        except:\n",
    "            pass\n",
    "        \n",
    "    #scale the values\n",
    "    for person in person_topics:\n",
    "        person_topics[person] = person_topics[person]/total\n",
    "    return person_topics\n",
    "\n",
    "def get_topic_persons(topic):\n",
    "    specific_topic_persons = defaultdict(int)\n",
    "    \n",
    "    total = 0\n",
    "    for person in docs_name_dict:\n",
    "        person_topics = get_person_topics(person)\n",
    "        person_value = person_topics[topic]\n",
    "        specific_topic_persons[person] += person_value\n",
    "        total += person_value\n",
    "    \n",
    "    \n",
    "    #Scale the numbers in the dictionary to a percentage\n",
    "    for person in docs_name_dict:\n",
    "        specific_topic_persons[person] = specific_topic_persons[person]/total\n",
    "        \n",
    "    return specific_topic_persons\n",
    "                "
   ]
  },
  {
   "cell_type": "markdown",
   "metadata": {},
   "source": [
    "We now see which person falls under a given topic the 'most' as well as which topic falls under a given person the 'most'."
   ]
  },
  {
   "cell_type": "code",
   "execution_count": null,
   "metadata": {
    "collapsed": false
   },
   "outputs": [],
   "source": [
    "# Finding top person for a given topic\n",
    "\n",
    "topic_person = get_topic_persons(10)\n",
    "maximum_person = max(topic_person.keys(), key=(lambda key: topic_person[key]))\n",
    "print(maximum_person, '{0:.2%}'.format(topic_person[maximum_person]))"
   ]
  },
  {
   "cell_type": "code",
   "execution_count": null,
   "metadata": {
    "collapsed": false
   },
   "outputs": [],
   "source": [
    "# Finding top topic for a given person\n",
    "\n",
    "person_topic = get_person_topics('allen-p')\n",
    "maximum_topic = max(person_topic.keys(), key=(lambda key: person_topic[key]))\n",
    "print(maximum_topic, '{0:.2%}'.format(person_topic[maximum_topic]))"
   ]
  },
  {
   "cell_type": "markdown",
   "metadata": {
    "collapsed": true
   },
   "source": [
    "We now make use of matplotlib to plot the above data. "
   ]
  },
  {
   "cell_type": "code",
   "execution_count": 104,
   "metadata": {
    "collapsed": false
   },
   "outputs": [
    {
     "name": "stdout",
     "output_type": "stream",
     "text": [
      "time: 4.86 ms\n"
     ]
    }
   ],
   "source": [
    "def get_tot_words_person(person):\n",
    "    n = 0\n",
    "    for word in docs_name_dict[person]:\n",
    "        n += docs_name_dict[person][word]\n",
    "    return n"
   ]
  },
  {
   "cell_type": "markdown",
   "metadata": {},
   "source": [
    "We make a datastructure to export as a csv.\n",
    "The data fields are,\n",
    "\n",
    "$\n",
    "\\begin{array}{|c|c|c|c|c|c|}\\hline\n",
    "\\text{Person Name} & \\text{id} & \\text{Top Topic} & \\text{Top Topic} & \\text{Second Topic} & \\text{Second Topic} &\\ldots  \\\\\\hline\n",
    "\\text{Dickson, S} & \\text{dickson-s} & \\ldots & \\ldots & \\ldots & \\ldots & \\ldots \\\\ \\hline\n",
    "\\vdots & \\vdots & \\vdots & \\vdots & \\vdots & \\vdots & \\vdots\n",
    "\\end{array}\n",
    "$"
   ]
  },
  {
   "cell_type": "code",
   "execution_count": 108,
   "metadata": {
    "collapsed": false
   },
   "outputs": [
    {
     "name": "stdout",
     "output_type": "stream",
     "text": [
      "time: 84.2 ms\n"
     ]
    }
   ],
   "source": [
    "Data = []\n",
    "list_of_names = []\n",
    "list_of_names_dup = []\n",
    "for name in docs_name_dict:\n",
    "    list_of_names.append(name.capitalize().replace('-',', '))\n",
    "    list_of_names_dup.append(name)\n",
    "list_of_names.sort()\n",
    "list_of_names_dup.sort()\n",
    "\n",
    "for i in range(0,len(list_of_names)):\n",
    "    name = list_of_names[i][0:-1]\n",
    "    first_name = list_of_names[i][-1].capitalize()\n",
    "    list_of_names[i] = name + first_name\n",
    "    Data.append([name+first_name,list_of_names_dup[i],get_tot_words_person(list_of_names_dup[i])])"
   ]
  },
  {
   "cell_type": "code",
   "execution_count": 109,
   "metadata": {
    "collapsed": false
   },
   "outputs": [
    {
     "name": "stdout",
     "output_type": "stream",
     "text": [
      "time: 4.48 s\n"
     ]
    }
   ],
   "source": [
    "for data in Data:\n",
    "    name = data[1]\n",
    "    person_topics = get_person_topics(name)\n",
    "    person_topics = [(v, k) for k, v in person_topics.items()]\n",
    "    person_topics.sort()\n",
    "    person_topics.reverse()\n",
    "    for tuples in person_topics:\n",
    "        data.append(tuples[1])\n",
    "        data.append(tuples[0])\n",
    "    L = range(0,20)\n",
    "    for num in L:\n",
    "        if num not in data:\n",
    "            data.append(num)\n",
    "            data.append(0)\n",
    "    "
   ]
  },
  {
   "cell_type": "code",
   "execution_count": 110,
   "metadata": {
    "collapsed": false
   },
   "outputs": [
    {
     "name": "stdout",
     "output_type": "stream",
     "text": [
      "time: 11.4 ms\n"
     ]
    }
   ],
   "source": [
    "Data = [['Employee', 'id', 'tot_words', 'A', 'Ap', 'B', 'Bp', 'C', 'Cp'\n",
    "         , 'D', 'Dp', 'E', 'Ep', 'F', 'Fp', 'G', 'Gp', 'H', 'Hp',\n",
    "         'I', 'Ip', 'J', 'Jp', 'K', 'Kp', 'L', 'Lp', 'M', 'Mp', 'N', \n",
    "         'Np', 'O', 'Op', 'P', 'Pp', 'Q', 'Qp', 'R', 'Rp', 'S', 'Sp', 'T', 'Tp']] + Data"
   ]
  },
  {
   "cell_type": "code",
   "execution_count": 111,
   "metadata": {
    "collapsed": false
   },
   "outputs": [
    {
     "name": "stdout",
     "output_type": "stream",
     "text": [
      "time: 14.3 ms\n"
     ]
    }
   ],
   "source": [
    "import csv\n",
    "\n",
    "with open(\"bubbles_data.csv\", \"w\") as f:\n",
    "    writer = csv.writer(f)\n",
    "    writer.writerows(Data)"
   ]
  },
  {
   "cell_type": "code",
   "execution_count": null,
   "metadata": {
    "collapsed": true
   },
   "outputs": [],
   "source": []
  }
 ],
 "metadata": {
  "kernelspec": {
   "display_name": "Python 3",
   "language": "python",
   "name": "python3"
  },
  "language_info": {
   "codemirror_mode": {
    "name": "ipython",
    "version": 3
   },
   "file_extension": ".py",
   "mimetype": "text/x-python",
   "name": "python",
   "nbconvert_exporter": "python",
   "pygments_lexer": "ipython3",
   "version": "3.5.1"
  }
 },
 "nbformat": 4,
 "nbformat_minor": 0
}
