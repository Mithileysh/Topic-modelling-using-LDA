{
 "cells": [
  {
   "cell_type": "markdown",
   "metadata": {},
   "source": [
    "# LDA analysis of 'sent' subset of Enron emails"
   ]
  },
  {
   "cell_type": "markdown",
   "metadata": {},
   "source": [
    "The full Enron corpus was downloaded, and an attempt was made to filter through the Inboxes of each of the 150 employees. A clear problem emereged, namely, that the emails were vastly inconsistent. The following [PDF](http://www.colorado.edu/ics/sites/default/files/attached-files/01-11_0.pdf) was found that shed light on analysing the Corpus. The observation was made that the 'Sent' directory would contain much 'cleaner' data, since a person would be less likely to forward junk-mail. In addition to making this useful observation, the writer pointed to a 'filtered' verison of the sent mails in the corpus. Thus, rather than doing the work of filtering through the corpus, the project will progress directly to LDA techniques. Once a rustic model is set up, one can revisit the regural expressions to see if generalisations are possible. \n",
    "\n",
    "** Second link [here](https://rstudio-pubs-static.s3.amazonaws.com/79360_850b2a69980c4488b1db95987a24867a.html)"
   ]
  },
  {
   "cell_type": "code",
   "execution_count": 2,
   "metadata": {
    "collapsed": false
   },
   "outputs": [],
   "source": [
    "from os import listdir, chdir\n",
    "import re\n",
    "\n",
    "from nltk.tokenize import RegexpTokenizer\n",
    "tokenizer = RegexpTokenizer(r'\\w+')"
   ]
  },
  {
   "cell_type": "markdown",
   "metadata": {},
   "source": [
    "Let us first import the data into a list "
   ]
  },
  {
   "cell_type": "code",
   "execution_count": 3,
   "metadata": {
    "collapsed": false
   },
   "outputs": [],
   "source": [
    "docs = []\n",
    "chdir('/home/peter/Downloads/enronsent')\n",
    "for file in listdir():\n",
    "    if file.startswith('enron'):\n",
    "        text = open(file).read()\n",
    "        \n",
    "        text = re.sub(r'[\\w\\.-]+@[\\w\\.-]+','',text) # Remove emails\n",
    "        text = re.sub(r'[\\*\\\\\\/\\_\\=\\\"-\\$(...)(~~~)(---)]+', '' ,text) # Remove misc \n",
    "        text = re.sub(r'(\\d+th)|(\\d+)', \"\",text) # Remove arbitrary numbers\n",
    "        text = re.sub(r'\\(.\\)','',text) # Remove possibile multiplicity in words\n",
    "        text = re.sub('\\\\\\'', \"\",text) # NO IDEA HOW TO FILTER THIS OUT!\n",
    "        text = re.sub(r'\\s+',' ',text) # Remove newline and whitespace \n",
    "        text = re.sub(r'( . )|( .\\: )',' ', text) # Remove single characters\n",
    "        docs.append(text)\n"
   ]
  },
  {
   "cell_type": "code",
   "execution_count": 6,
   "metadata": {
    "collapsed": false
   },
   "outputs": [
    {
     "name": "stdout",
     "output_type": "stream",
     "text": [
      "45\n"
     ]
    },
    {
     "data": {
      "text/plain": [
       "'because MG is by no means credit risk by any definition The only other document relating to the metal that would like to have is evidence that Aluminum of Siberia did pay Unimetal for the metal in question Could you lay hands on that? will attempt to send you draft of the proposed letter to the Bad Guys later this evening in the hope that we can discuss on Tuesday Regards Mark Pleased to recap CURRENT situation as follows: On Friday July Judge Garbis District of Maryland ordered that the attachment of our metal be vacated ie released but that ANY proceeds from any sales be paid to: Bank of America Light Street Baltimore MD Account name: Miles and Stockbridge PC Account number: Escrow We intend to challenge this condition immediately hopefully Tuesday Wednesday July Judge Garbis appears to be on our side but since this was Friday afternoon judgement he has allowed Base Metals little more time to try and prove we were involved in some fraud The Judge told their lawyers that he could see NO indication of any such evidence and that they had to put up or shut up MTS The information contained in this email message and any files transmitted with it are confidential and may be legally privileged It is intended only for the addressee and others authorized to receive it If you are not the intended recipient or the person responsible for delivering the message to the intended recipient you are advised that you have received the email in error and that any disclosure copying distribution or action taken in reliance on the contents of the email and its attachments is strictly prohibited and may be unlawful Please advise the sender immediately if you are not the intended recipient This email including any attachments is intended for the receipt and use by the intended addressees and may contain confidential and privileged information If you are not an intended recipient of this email you are hereby notified that any unauthorized use or distribution of this email is strictly prohibited Martin Stanley AM Many thanks MTS Mr Martin Stanley MG Metals London Tel: Mobile: Email: Dear Martin In reference to our phone discussion please find below full details of our attorney who has been working on this problem Mr Scott Markowitz Markowitz Rabbach Jericho Quadrangle Suite Jericho NY Tel: Fax: Email: He has done an excellent job so far and we hope to have some results later this week Regards Bruce Markowitz NOVARCO LTD Martin Stanley AM FYI MTS Martin: Sorry was unable to catch up with you on Monday; tried your office and cell phone but called too late in the day think we should keep pushing here Im inclined to send Ely and company letter suggesting that they now have enough documentation to show them that MG does indeed own the metal and that they should voluntarily release the escrow arrangement would combine that with representation that both MG Corp and MG Ltd are quite solvent and more than able to cover MM loss n the extremely unlikely event that Base Metals could ever prove to court that MG owed that amount to them would couple this with request that e have an all parties conference call no later than Wednesday to discuss our respective positions If we can not achieve result satisfactory to us then feel we should go back to the court probably no earlier than Monday so as not to make it look to Judge Garbis that we are being excessively aggressive Our easiest argument to the court at this early stage is probably one base on our solvency ie Judge there is no need for you to escrow MGs money because MG is by no means credit risk by any definition The only other document relating to the metal that would like to have is evidence that Aluminum of Siberia did pay Unimetal for the metal in question Could you lay hands on that? will attempt to send you draft of the proposed letter to the Bad Guys later this evening in the hope that we can discuss on Tuesday Regards Mark Pleased to recap CURRENT situation as follows: On Friday July Judge Garbis District of Maryland ordered that the attachment of our metal be vacated ie released but that ANY proceeds from any sales be paid to: Bank of America Light Street Baltimore MD Account name: Miles and Stockbridge PC Account number: Escrow We intend to challenge this condition immediately hopefully Tuesday Wednesday July Judge Garbis appears to be on our side but since this was Friday afternoon judgement he has allowed Base Metals little more time to try and prove we were involved in some fraud The Judge told their lawyers that he could see NO indication of any such evidence and that they had to put up or shut up MTS The information contained in this email message and any files transmitted with it are confidential and may be legally privileged It is intended only for the addressee and others authorized to receive it If you are not the intended recipient or the person responsible for delivering the message to the intended recipient you are advised that you have received the email in error and that any disclosure copying distribution or action taken in reliance on the contents of the email and its attachments is strictly prohibited and may be unlawful Please advise the sender immediately if you are not the intended recipient This email including any attachments is intended for the receipt and use by the intended addressees and may contain confidential and privileged information If you are not an intended recipient of this email you are hereby notified that any unauthorized use or distribution of this email is strictly prohibited Martin Stanley AM Mark Thanks your email and proposed draft letter to EgorovPirginsky and Afanasiev We are in agreement to all your suggestions but would ask your views on th following: Do you think it would be advisable to return to the court say on this Thursday July and ask Judge Garbis what he considers reasonable tim for the Plaintiff to react ??? We are all determined to keep the pressure on Base and must ensure we ke ep them on the back foot whilst we agree with the content of your draft we eel it could be harder hitting lets discuss In regard to proof of payment by ALS to Unimetal we have the following situation ALS can show they made number of large payments to Unimetal nd can supply spreadsheet showing details of their account with Unimetal It may be harder to show specific payments against specific invoices but am pushing ALS for such evidence In your draft letter plse note MG Metal is part of MG plc publically traded company with market cap of million Lets discuss on your opening MTS Martin: Sorry was unable to catch up with you on Monday; tried your office and cell phone but called too late in the day think we should keep pushing here Im inclined to send Ely and company letter suggesting that they now have enough documentation to show them that MG does indeed own the metal and that they should voluntarily release the escrow arrangement would combine that with representation that both MG Corp and MG Ltd are quite solvent and more than able to cover MM loss n the extremely unlikely event that Base Metals could ever prove to court that MG owed that amount to them would couple this with request that e have an all parties conference call no later than Wednesday to discuss our respective positions If we can not achieve result satisfactory to us then feel we should go back to the court probably no earlier than Monday so as not to make it look to Judge Garbis that we are being excessively aggressive Our easiest argument to the court at this early stage is probably one base on our solvency ie Judge there is no need for you to escrow MGs money because MG is by no means credit risk by any definition The only other document relating to the metal that would like to have is evidence that Aluminum of Siberia did pay Unimetal for the metal in question Could you lay hands on that? will attempt to send you draft of the proposed letter to the Bad Guys later this evening in the hope that we can discuss on Tuesday Regards Mark Pleased to recap CURRENT situation as follows: On Friday July Judge Garbis District of Maryland ordered that the attachment of our metal be vacated ie released but that ANY proceeds from any sales be paid to: Bank of America Light Street Baltimore MD Account name: Miles and Stockbridge PC Account number: Escrow We intend to challenge this condition immediately hopefully Tuesday Wednesday July Judge Garbis appears to be on our side but since this was Friday afternoon judgement he has allowed Base Metals little more time to try and prove we were involved in some fraud The Judge told their lawyers that he could see NO indication of any such evidence and that they had to put up or shut up MTS The information contained in this email message and any files transmitted with it are confidential and may be legally privileged It is intended only for the addressee and others authorized to receive it If you are not the intended recipient or the person responsible for delivering the message to the intended recipient you are advised that you have received the email in error and that any disclosure copying distribution or action taken in reliance on the contents of the email and its attachments is strictly prohibited and may be unlawful Please advise the sender immediately if you are not the intended recipient This email including any attachments is intended for the receipt and use by the intended addressees and may contain confidential and privileged information If you are not an intended recipient of this email you are hereby notified that any unauthorized use or distribution of this email is strictly prohibited Gentlemen Would conference call among the people on our side to plan our going forward strategy be in order? If you think call would be helpful am EDT call tomorrow would work on this end If you would like can set up the call Let me know your thoughts Thank you Regards Mark Mark Gately Miles Stockbridge PC Light Street Baltimore MD This email including any attachments is intended for the receipt and use by the intended addressees and may contain confidential and privileged information If you are not an intended recipient of this email you are hereby notified that any unauthorized use or distribution of this email is strictly prohibited Martin Stanley AM Mark Good idea Confirm we will be available for conference call at hrs EDT hrs London Time MTS Gentlemen Would conference call among the people on our side to plan our going forward strategy be in order? If you think call would be helpful am EDT call tomorrow would work on this end If you would like can set up the call Let me know your thoughts Thank you Regards Mark Mark Gately Miles Stockbridge PC Light Street Baltimore MD This email including any attachments is intended for the receipt and use by the intended addressees and may contain confidential and privileged information If you are not an intended recipient of this email you are hereby notified that any unauthorized use or distribution of this email is strictly prohibited Martin Stanley AM Mark Further my email of July In regard to proof of payment by ALS to Unimetal we have just faxed copies of ALS instructions to their bank Credit Agricole Bank and copies of the actu al payments from Credit Agricole Bank ALS have confirmed these payments include cover for all of the Aluminium shipped per MVSalvador MTS Martin Ill place the call Looking forward to talking to you Mark Mark Good idea Confirm we will be available for conference call at hrs EDT hrs London Time MTS Gentlemen Would conference call among the people on our side to plan our going forward strategy be in order? If you think call would be helpful am EDT call tomorrow would work on this end If you would like can set up the call Let me know your thoughts Thank you Regards Mark Mark Gately Miles Stockbridge PC Light Street Baltimore MD This email including any attachments is intended for the receipt and use by the intended addressees and may contain confidential and privileged information If you are not an intended recipient of this email you are hereby notified that any unauthorized use or distribution of this email is strictly prohibited This email including any attachments is intended for the receipt and use by the intended addressees and may contain confidential and privileged information If you are not an intended recipient of this email you are hereby notified that any unauthorized use or distribution of this email is strictly prohibited Bob PM To update everyone Rukert Terminals did not release the material because hey hadnt received release from the line Atlantic RORO who hadnt receive the original bills of lading and customs release from our customs broker who wa holding the bills because they werent aware the Order of Attachment had be en vacated After little bit of coercion and sweet talk the complete cargo should be released and available for shipment this afternoon Regards Bob Klide eSafe Protect Gateway tm has scanned this mail for viruses vandals and suspicious attachments and has found it to be CLEAN File: L!DOC bytes Encoding: Base Result: Clean Attached are instructions for the conference call scheduled for at am EST This email including any attachments is intended for the receipt and use by the intended addressees and may contain confidential and privileged information If you are not an intended recipient of this email you are hereby notified that any unauthorized use or distribution of this email is strictly prohibited <<L!DOC>> L!DOC Dear Arthur and Martin: received late this evening rather outrageous letter from Ely Goldin in which he takes the position that our documents raise more questions than they answer He also indicates that he sees no purpose in having conference call unless it is to discuss our responses to his discovery requests served upon us earlier today which incidentally are completely void and of no effect under the US Federal Rules of Civil Procedure in my considered judgement will separately attempt to email to you Goldins letter but in the event technology fails me will also fax it to you first thing Friday morning believe we should go forward with the conference call among ourselves to agree upon the next actions on our part As we suspected the Base Metal people are plainly going to be anything but reasonable and unfortunately we will almost certainly be forced to seek our relief from the Court rathe than through business like discussions with them believe you already have dial in instructions for the am EDT conference call If not let me know and Ill get them to you look forward to speaking to you in the am Mark Mark Gately Miles Stockbridge PC Light Street Baltimore MD This email including any attachments is intended for the receipt and use by the intended addressees and may contain confidential and privileged information If you are not an intended recipient of this email you are hereby notified that any unauthorized use or distribution of this email is strictly prohibited Martin Stanley AM Dear Arthur and Martin: received late this evening rather outrageous letter from Ely Goldin in which he takes the position that our documents raise more questions than they answer He also indicates that he sees no purpose in having conference call unless it is to discuss our responses to his discovery requests served upon us earlier today which incidentally are completely void and of no effect under the US Federal Rules of Civil Procedure in my considered judgement will separately attempt to email to you Goldins letter but in the event technology fails me will also fax it to you first thing Friday morning believe we should go forward with the conference call among ourselves to agree upon the next actions on our part As we suspected the Base Metal people are plainly going to be anything but reasonable and unfortunately we will almost certainly be forced to seek our relief from the Court rathe than through business like discussions with them believe you already have dial in instructions for the am EDT conference call If not let me know and Ill get them to you look forward to speaking to you in the am Mark Mark Gately Miles Stockbridge PC Light Street Baltimore MD This email including any attachments is intended for the receipt and use by the intended addressees and may contain confidential and privileged information If you are not an intended recipient of this email you are hereby notified that any unauthorized use or distribution of this email is strictly prohibited Martin Stanley AM Mark All your faxes well received Sadly it looks as tho this case is going to get somewhat messy Could you please send any future faxes to: This will enable all the Aluminium team to read your messages Thanks MTS Dear Arthur and Martin: received late this evening rather outrageous letter from Ely Goldin in which he takes the position that our documents raise more questions than they answer He also indicates that he sees no purpose in having conference call unless it is to discuss our responses to his discovery requests served upon us earlier today which incidentally are completely void and of no effect under the US Federal Rules of Civil Procedure in my considered judgement will separately attempt to email to you Goldins letter but in the event technology fails me will also fax it to you first thing Friday morning believe we should go forward with the conference call among ourselves to agree upon the next actions on our part As we suspected the Base Metal people are plainly going to be anything but reasonable and unfortunately we will almost certainly be forced to seek our relief from the Court rathe than through business like discussions with them believe you already have dial in instructions for the am EDT conference call If not let me know and Ill get them to you look forward to speaking to you in the am Mark Mark Gately Miles Stockbridge PC Light Street Baltimore MD This email including any attachments is intended for the receipt and use by the intended addressees and may contain confidential and privileged information If you are not an intended recipient of this email you are hereby notified that any unauthorized use or distribution of this email is strictly prohibited Martin Stanley PM Fax on PM You have just received new inbound fax containing total of pages Your fax was received at PM Your entry number in Fax Sr was F:Embedded image moved to file: picpcx F:Embedded image moved to file: picpcx F: F:Embedded image moved to file: picpcx F: F: Martin Stanley AM Fax on PM You have just received new inbound fax containing total of pages Your fax was received at PM Your entry number in Fax Sr was F:Embedded image moved to file: picpcx F:Embedded image moved to file: picpcx F: F:Embedded image moved to file: picpcx F: F: Martin Stanley AM Mark You will note this message is only sent to your good offices Plse refer to your letter dated July to Ely Goldin know you have been using GM as an analogy for our case but didnt know that Base are after them aswell !!! Please refer to your first bullet point an the second last paragraph !!! Good luck on Monday Tuesday You owe me drink MTS Martin Thanks We were checking your proofreading skills They are superb look forward to buying you the drink owe you Perhaps after your deposition Rock roll Mark Mark You will note this message is only sent to your good offices Plse refer to your letter dated July to Ely Goldin know you have been using GM as an analogy for our case but didnt know that Base are after them aswell !!! Please refer to your first bullet point an the second last paragraph !!! Good luck on Monday Tuesday You owe me drink MTS This email including any attachments is intended for the receipt and use by the intended addressees and may contain confidential and privileged information If you are not an intended recipient of this email you are hereby notified that any unauthorized use or distribution of this email is strictly prohibited Arthur and Martin: Weve taken quick look at the papers in the South Carolina case It turns out that Base Metal dismissed in that case because they had seized the wrong metal As they told the Court: Upon seizure of the cargo by the Marshals service inspection of the seized cargo and associated transfer documents Plaintiff is satisfied that the cargo seized was fabricated at the Krasnoyarsk Plant which is not Defendants plant Mark Mark Gately Miles Stockbridge PC Light Street Baltimore MD This email including any attachments is intended for the receipt and use by the intended addressees and may contain confidential and privileged information If you are not an intended recipient of this email you are hereby notified that any unauthorized use or distribution of this email is strictly prohibited Dear Arthur and Martin: Scott Haiber who as you know has done virtually all of the brief writing in this matter was called about an hour ago and told that very unfortunately his mother fell down the steps while visiting her sister in London and fractured her neck Scott and his father are leaving for London this evening to be with her We will obviously continue to work from this end on our Court filing but wanted to let you know our situation here in that Scotts absence will slow us down bit Mark Mark Gately Miles Stockbridge PC Light Street Baltimore MD This email including any attachments is intended for the receipt and use by the intended addressees and may contain confidential and privileged information If you are not an intended recipient of this email you are hereby notified that any unauthorized use or distribution of this email is strictly prohibited Martin Stanley AM Gentlemen Very sorry to hear the news Can we offer any assistance here in London ??? Locating Doctors or Hospitals for example ??? Plse do NOT hesitate to call MTS Dear Arthur and Martin: Scott Haiber who as you know has done virtually all of the brief writing in this matter was called about an hour ago and told that very unfortunately his mother fell down the steps while visiting her sister in London and fractured her neck Scott and his father are leaving for London this evening to be with her We will obviously continue to work from this end on our Court filing but wanted to let you know our situation here in that Scotts absence will slow us down bit Mark Mark Gately Miles Stockbridge PC Light Street Baltimore MD This email including any attachments is intended for the receipt and use by the intended addressees and may contain confidential and privileged information If you are not an intended recipient of this email you are hereby notified that any unauthorized use or distribution of this email is strictly prohibited The information contained in this email message and any files transmitted with it are confidential and may be legally privileged It is intended only for the addressee and others authorized to receive it If you are not the intended recipient or the person responsible for delivering the message to the inten ded recipient you are advised that you have received the email in error and th at any disclosure copying distribution or action taken in reliance on the contents of the email and its attachments is strictly prohibited and may be unlawful Please advise the sender immediately if you are not the intended recipient picpcx picpcx picpcx picpcx picpcx picpcx picpcx picpcx picpcx picpcx picpcx picpcx picpcx picpcx picpcx picpcx picpcx picpcx picpcx picpcx picpcx picpcx picpcx picpcx picpcx picpcx picpcx picpcx picpcx picpcx picpcx picpcx picpcx picpcx picpcx picpcx picpcx ATTFEE ccTtif acTtif abdTtif deaaTtif Mitch PM Stuart Fyi Talked to Pete few minutes ago We filed warranty claim with Westinghouse We will be running all units tomorrow and well have Westinghouse engineer there to work on the problem Pete has since called all the people below back to explain what we are doing to verify whether there is problem or not Mitch Pete PM Well it continues We have received complaints from the vibrations resulting from operation of Units and have personally been to each individuals residence since this morning to monitor for the vibrations and to listen to the individuals In all every person just feels little frustrated by the problem have not ran across anyone that has been unfriendly Below will list the individual complaints and my findings visiting their residence Karen Ellis Most likely the cause of most of the complaints they are the closest to the facility and have the most vibration from the units While was at their residence could feel the windows rattle and at some points feel the walls vibrate There is definite vibration present at this residence Mr Mrs King They called and complained but were unavailable to visit their residence they live in the same vacinity as Karen Ellis Lynda Stout Very next house after Karen Ellis stopped and visited with her and Richard Black this morning they are complaining about the vibrations but while was there could not determine if there were any vibrations occuring Cannot eliminate the possibility Richard Black Same as above he seems like he may cause little bit of trouble While was visiting he said that he has rental property the trailer park that he could not rent due to the vibrations could not determine if Vibrations were present or not Clint Fuqua something like that Lives in the OPPOSITE DIRECTION from all other complaints He stopped by this morning to complain and pick up his dog went to his house and visited could not feel vibrations from his residence believe if the wind direction were to change he would experience some noise and vibration In all everyone is just wanting to know if this will be permanent or just temporary have explained to everyone that this will be temporary till we can obtain the proper information to find solution The vibrations seem to be getting worse as we run believe that Westinghouse has problem in the exhaust transition that they need to investigate spoke with Curt Smith this morning and expressed the severity of this problem and recommended that they get someone up here tomorrow we are trying to environmental testing out here tomorrow should know this afternoon if this is possible We are also experienceing cracking in the exhaust area on the units Westinhouse is investigating as we speak believe they are associated Will keep you updated on the testing Weare going to dispatch tomorrow thats why want to get everyone out here if possible Peter Send it out yourself Randal Maffett AM spoke Steve Hamilton PresCEO about cosigning the letter and although he agrees with the content etc hes bit reluctant His concern is that if JB somehow pulls together the money to take us out he will be ostracized What are your thoughts? Is it still ok for me to send it as member of and on behalf of the BOD? RANDY Not that am aware of will check with our corporate Sec Becky? Tetrault Charles <> PM Has Enron Corp been served with the Wright complaint yet? EOG got theirs on August If served we need to join the joint motion for an extension of time through October by mid day Tuesday Charles Tetrault Vinson Elkins LLP Pennsylvania Ave W Washington DC [voice] [fax] attunk did not get the attached message Sharon: have forwarded your message to Richard Sanders who is in charge of our litigation have not been involved with the ICE matter for while now but Richard will be able to respond to your questions Thanks Teresa It looks good By the way we have had dealings with Carter Mathes before Gerald Nemec PM Any comments you may have would be appreciated need to get this out by tommorrow Thanks Gerald Nemec PM Attached is letter to Wildhorse concerning curtailment of the Dakota Production Please review and provide comments asap have been told that ExxonMobil is going to file lawsuit against ECT Kinder Morgan and Enron Liquids Holding Have you recieved anything have not followed this Should ? Dan Lyons AM FYI Tiehen Thomas <> PM We have changed the letter slightly: <<TIVTPSWPCWarrantydocdoc>> TIVTPSWPCWarrantydocdoc will check with our outside counsel concering whether new petition has been filed am fairly certain there is no new filing However the Plaintiffs discovery is clearly leading to claims or allegations that Kevin McConville an ECTENA officer through his board position and involvement at NSM Management Co acted improperly wouldnt close your file yet James Studdert AM Richard Bonnie White advises me that you are handling this matter with outside counsel As you are aware the underwriters denied coverage on this matter back in December They have now inquired if any Amended Complaint has been filed that names Director andor Officer of Enron and if no Enron or an Enron subsidiary securities are involved If nothing has changed they will go on and close their file Please advise if there is anything new to report Set up meeting with the accounting people wknowledge of these figures asap Linda Guinn PM Below is the figure from accounting Lets discuss Linda Guinn Lisa King PM Linda Attached is schedule detailing the gainloss calculation for Ice Drilling Apparently PriceWaterhouseCoopers acted as receiver and sold Ice Drilling in August We received total cash proceeds of between August and September but the value of the asset on the books was loss of We also wrote off receivable of In summary we lost total of am assuming that we are trying to recover the total amount lost of Let me know if you need further information Lisa received telephone call from Schultes attorney requesting that we make Barth McConville and the two analysts who went to Thailand available for depositions Schultes attys names are Bill Redmond and Joel Levin They have discovery deadline in Oct tried to talk them out of it but they insisted instead suggested telephone interview with limited depositions to follow Please call me Tues about this have called you several times this morning but your phone rolls over to messaging system that wont let me leave message Thats ok tod'"
      ]
     },
     "execution_count": 6,
     "metadata": {},
     "output_type": "execute_result"
    }
   ],
   "source": [
    "# TESTING docs DATA\n",
    "print(len(docs))\n",
    "docs[0][0:30000]\n"
   ]
  },
  {
   "cell_type": "code",
   "execution_count": 7,
   "metadata": {
    "collapsed": true
   },
   "outputs": [],
   "source": [
    "# We now employ the techniques as outline in the second link at the top - see **\n",
    "from stop_words import get_stop_words\n",
    "from nltk.stem.porter import PorterStemmer\n",
    "\n",
    "texts = []\n",
    "\n",
    "for doc in docs:\n",
    "    # Tokenization\n",
    "    raw = doc.lower()\n",
    "    tokens = tokenizer.tokenize(raw)\n",
    "    \n",
    "    # Removing stop words\n",
    "\n",
    "    # create English stop words list\n",
    "    en_stop = get_stop_words('en')\n",
    "\n",
    "    # remove stop words from tokens\n",
    "    stopped_tokens = [i for i in tokens if not i in en_stop]\n",
    "    \n",
    "    # Stemming \n",
    "\n",
    "    # Create p_stemmer of class PorterStemmer\n",
    "    p_stemmer = PorterStemmer()\n",
    "\n",
    "    # stem token\n",
    "    stemmed_tokens = [p_stemmer.stem(i) for i in stopped_tokens]\n",
    "    \n",
    "    texts.append(stemmed_tokens)"
   ]
  },
  {
   "cell_type": "code",
   "execution_count": 8,
   "metadata": {
    "collapsed": false
   },
   "outputs": [],
   "source": [
    "# Constructing a document-term matrix\n",
    "\n",
    "from gensim import corpora, models\n",
    "\n",
    "dictionary = corpora.Dictionary(texts)\n",
    "\n",
    "corpus = [dictionary.doc2bow(text) for text in texts]\n"
   ]
  },
  {
   "cell_type": "code",
   "execution_count": null,
   "metadata": {
    "collapsed": false
   },
   "outputs": [],
   "source": [
    "ldamodel = models.ldamodel.LdaModel(corpus, num_topics=5, id2word = dictionary, passes=150)\n"
   ]
  },
  {
   "cell_type": "code",
   "execution_count": 124,
   "metadata": {
    "collapsed": true
   },
   "outputs": [],
   "source": [
    "# Save the LDA model\n",
    "\n",
    "with open('lda_model.pkl', 'wb') as f:\n",
    "    pickle.dump(ldamodel, f, pickle.HIGHEST_PROTOCOL)\n"
   ]
  },
  {
   "cell_type": "code",
   "execution_count": null,
   "metadata": {
    "collapsed": false
   },
   "outputs": [],
   "source": [
    "List = ldamodel.print_topics(num_topics=5, num_words=9)\n",
    "for i in List:\n",
    "    print(i)"
   ]
  },
  {
   "cell_type": "code",
   "execution_count": null,
   "metadata": {
    "collapsed": true
   },
   "outputs": [],
   "source": []
  }
 ],
 "metadata": {
  "kernelspec": {
   "display_name": "Python 3",
   "language": "python",
   "name": "python3"
  },
  "language_info": {
   "codemirror_mode": {
    "name": "ipython",
    "version": 3
   },
   "file_extension": ".py",
   "mimetype": "text/x-python",
   "name": "python",
   "nbconvert_exporter": "python",
   "pygments_lexer": "ipython3",
   "version": "3.5.1"
  }
 },
 "nbformat": 4,
 "nbformat_minor": 0
}
